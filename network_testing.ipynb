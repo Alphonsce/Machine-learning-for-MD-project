{
 "cells": [
  {
   "cell_type": "markdown",
   "metadata": {},
   "source": [
    "# Создал этот ноутбук для проверки простеньких сеток на синтетических датасетах / кусках датасетов"
   ]
  },
  {
   "cell_type": "markdown",
   "metadata": {},
   "source": [
    "- Векторы V все почти что коллинеарны, когда их много - стоит уже посмотреть на $p_i$ и $r_{cut_{i}}$\n",
    "\n",
    "- надо сделать нормализацию X и таргетов, причем для таргетов реализовать обратную функцию"
   ]
  },
  {
   "cell_type": "code",
   "execution_count": 156,
   "metadata": {},
   "outputs": [],
   "source": [
    "import torch\n",
    "from sklearn.model_selection import train_test_split\n",
    "from sklearn.preprocessing import Normalizer\n",
    "from torch.utils.data import DataLoader, TensorDataset\n",
    "import matplotlib.pyplot as plt\n",
    "import numpy as np\n",
    "\n",
    "import torch.nn as nn\n",
    "import torch.nn.functional as F\n",
    "from tqdm import tqdm\n",
    "import torch.optim as optim\n",
    "from torch.optim import lr_scheduler\n",
    "from torchmetrics import MeanAbsolutePercentageError\n",
    "\n",
    "import seaborn as sns\n",
    "sns.set_style(\"darkgrid\", {\"grid.color\": \".6\", \"grid.linestyle\": \":\"})\n",
    "\n",
    "from utility_funcs import *"
   ]
  },
  {
   "cell_type": "code",
   "execution_count": 157,
   "metadata": {},
   "outputs": [
    {
     "data": {
      "text/plain": [
       "'movements'"
      ]
     },
     "execution_count": 157,
     "metadata": {},
     "output_type": "execute_result"
    }
   ],
   "source": [
    "MODE"
   ]
  },
  {
   "cell_type": "code",
   "execution_count": 158,
   "metadata": {},
   "outputs": [],
   "source": [
    "path = './dataset_objects/' + MODE + '/2_dataset_K_3.pt'"
   ]
  },
  {
   "cell_type": "code",
   "execution_count": 159,
   "metadata": {},
   "outputs": [],
   "source": [
    "class CFG:\n",
    "    '''\n",
    "\n",
    "    All hyperparameters are here\n",
    "\n",
    "    '''\n",
    "\n",
    "    N = int(path.split(\"/\")[-1].split('_')[0])     # число атомов\n",
    "    K = int(path.split(\"/\")[-1].split('_')[-1].split('.')[0])     # можно называть это разрешением...чем число больше, тем больше размеры матрицы для атомов, фактически это число элементов в наборах p и r_cut\n",
    "\n",
    "    L = 2 * N ** (1 / 3) # размер одной клетки при моделировании\n",
    "\n",
    "    r_cut = np.random.uniform(low=5, high=10, size=K).copy()\n",
    "    p = np.random.uniform(low=1, high=3, size=K).copy()\n",
    "    N_neig= N - 1 if N != 2 else 1\n",
    "\n",
    "    # train_bs = 8\n",
    "    # val_bs = 16\n",
    "    batch_size = 256\n",
    "\n",
    "    # device = torch.device(\"cuda:0\" if torch.cuda.is_available() else \"cpu\")\n",
    "    device=\"cpu\"\n",
    "\n",
    "    f_threshold = 5    # Если сила по какой-то координате превышает это значение, то строчка исключается, совсем маленьких по модулю сил быть не должно, если что при генерации просто r_cut поменьше надо делать\n",
    "    coord_threshold = L     # Если вдруг очень большие расстояния, то надо выкидывать\n",
    "    f_min_threshold = 0.05\n",
    "    #\n",
    "    output_size = K     # Размерность аутпута модели"
   ]
  },
  {
   "cell_type": "code",
   "execution_count": 160,
   "metadata": {},
   "outputs": [],
   "source": [
    "def make_predictions_and_get_quality(model, X_matrices=None, Y_target=None, figsize=(30, 20), fontsize=20, criterion=nn.MSELoss(), data=None, same_axis=False, show_3D_quality=False):\n",
    "    '''\n",
    "\n",
    "    Строит предсказанную и тагрет зависимости\n",
    "\n",
    "    Можно подавать либо отлельно X_matrices, Y_target либо подать датасет из тьюплов: (X, f_k_dim, f_3d, A_pinv)\n",
    "\n",
    "    Будет подаваться 3 итерируемых объекта: набор(батч или кусок датасета) из \"матриц\", предсказания, таргеты\n",
    "\n",
    "    returns: Y_pred, Y_target    \n",
    "    '''\n",
    "\n",
    "    if data:\n",
    "        X_matrices, Y_target, pinv_As, Y_target_3D = list(map(lambda x: torch.stack(x), list(zip(*data))))\n",
    "        \n",
    "    Y_pred = model(X_matrices)\n",
    "    metric = criterion(Y_pred, Y_target)\n",
    "    names = ['predicted', 'target']\n",
    "    Ys = [Y_pred, Y_target]\n",
    "    metric = criterion(Y_pred, Y_target)\n",
    "\n",
    "    maper = MeanAbsolutePercentageError()\n",
    "    mape = maper(Y_pred, Y_target)\n",
    "\n",
    "    if show_3D_quality:\n",
    "        outputs_3D = torch.bmm(pinv_As, torch.unsqueeze(Y_pred.to(torch.float), 2)).to(CFG.device)    # используются для вычисления MSE метрики уже на 3D векторах силы\n",
    "        outputs_3D = torch.squeeze(outputs_3D, -1)\n",
    "        metric_3d = criterion(outputs_3D, Y_target_3D)\n",
    "        mape_3d = maper(outputs_3D, Y_target_3D)\n",
    "    \n",
    "    # print(\n",
    "    #     pinv_As[3] @ Y_target[3], Y_target_3D[3]\n",
    "    # )\n",
    "\n",
    "    if not show_3D_quality:\n",
    "        print(f'MSE: {metric:.5f}, mape: {mape:.4f} %')\n",
    "    else:\n",
    "        print(f'MSE: {metric:.5f}, mape: {mape:.4f} %, MSE_for_3D_after_pinv_A: {metric_3d:.5f}, mape_3d: {mape_3d:.4f} %')\n",
    "\n",
    "    return Ys"
   ]
  },
  {
   "cell_type": "code",
   "execution_count": 161,
   "metadata": {},
   "outputs": [],
   "source": [
    "def fit_epoch(model, train_loader, criterion, optimizer, scheduler, scaler, show_3D_quality):\n",
    "    '''\n",
    "\n",
    "    Функция обучения по всем батчам 1 раз (1 эпоха)\n",
    "\n",
    "    scaler: gradient scaler from torch.amp, попозже добавлю обучение с ним\n",
    "\n",
    "    В данной версии: (X, f_k_dim)\n",
    "\n",
    "    Лосс выводится для k-мерного предсказания, а mse считается по 3D вариантам, однако при K=1 3d и 1d MSE совпадают\n",
    "\n",
    "    '''\n",
    "    model.train()\n",
    "\n",
    "    running_loss = 0.0\n",
    "    running_MSE = 0\n",
    "    processed_size = 0\n",
    "\n",
    "    for inputs, labels, pinv_As, labels_3D in train_loader:\n",
    "        optimizer.zero_grad()\n",
    "\n",
    "        inputs = inputs.to(CFG.device)\n",
    "        labels = labels.to(CFG.device)\n",
    "\n",
    "        outputs = model(inputs)\n",
    "        loss = criterion(outputs, labels)\n",
    "\n",
    "        loss.backward()\n",
    "        optimizer.step()\n",
    "\n",
    "        if scheduler:\n",
    "            scheduler.step()\n",
    "\n",
    "        if show_3D_quality:\n",
    "            # print(pinv_As.size(), torch.unsqueeze(outputs.to(torch.float), 2).size())\n",
    "            outputs_3D = torch.bmm(pinv_As, torch.unsqueeze(outputs.to(torch.float), 2)).to(CFG.device)    # используются для вычисления MSE метрики уже на 3D векторах силы\n",
    "            outputs_3D = torch.squeeze(outputs_3D, -1)\n",
    "            running_MSE += F.mse_loss(input=outputs_3D, target=labels_3D, reduction='sum').item()\n",
    "\n",
    "        running_loss += loss.item() * inputs.size(0)    # при очень большом размере батча последние два батча будут например размера 128 вместо 256, поэтому просто умножать на батч сайз неправильно, могут быть другого размера\n",
    "        processed_size += inputs.size(0)\n",
    "\n",
    "    # print(labels)\n",
    "    train_loss = running_loss / processed_size\n",
    "    if show_3D_quality:\n",
    "        train_MSE = running_MSE / processed_size\n",
    "        return train_loss, train_MSE\n",
    "    \n",
    "    return train_loss"
   ]
  },
  {
   "cell_type": "code",
   "execution_count": 162,
   "metadata": {},
   "outputs": [],
   "source": [
    "def eval_epoch(model, val_loader, criterion, show_3D_quality):\n",
    "    '''\n",
    "\n",
    "    Одна эпоха по val выборке\n",
    "\n",
    "    '''\n",
    "\n",
    "    model.eval()\n",
    "    \n",
    "    running_loss = 0.0\n",
    "    running_MSE = 0\n",
    "    processed_size = 0\n",
    "\n",
    "    for inputs, labels, pinv_As, labels_3D in val_loader:\n",
    "\n",
    "        inputs = inputs.to(CFG.device)\n",
    "        labels = labels.to(CFG.device)\n",
    "\n",
    "        with torch.no_grad():\n",
    "            outputs = model(inputs)\n",
    "            loss = criterion(outputs, labels)\n",
    "\n",
    "        if show_3D_quality:\n",
    "            outputs_3D = torch.bmm(pinv_As, torch.unsqueeze(outputs.to(torch.float), 2)).to(CFG.device)    # используются для вычисления MSE метрики уже на 3D векторах силы\n",
    "            outputs_3D = torch.squeeze(outputs_3D, -1)\n",
    "            running_MSE += F.mse_loss(input=outputs_3D, target=labels_3D, reduction='sum').item()\n",
    "\n",
    "        running_loss += loss.item() * inputs.size(0)    # при очень большом размере батча последние два батча будут например размера 128 вместо 256, поэтому просто умножать на батч сайз неправильно, могут быть другого размера\n",
    "        processed_size += inputs.size(0)\n",
    "\n",
    "    # print(f' outputs:\\n{outputs}, \\n labels: \\n {labels}')\n",
    "    \n",
    "    val_loss = running_loss / processed_size\n",
    "    if show_3D_quality:\n",
    "        val_MSE = running_MSE / processed_size\n",
    "        return val_loss, val_MSE\n",
    "\n",
    "    return val_loss"
   ]
  },
  {
   "cell_type": "code",
   "execution_count": 163,
   "metadata": {},
   "outputs": [],
   "source": [
    "def train(train_loader, val_loader, model, optimizer, scheduler=None, epochs=10, scaler=None, criterion=nn.MSELoss(), show_3D_quality=False, print_step=1):\n",
    "    '''\n",
    "\n",
    "    Basic option: calculation loss on K-dimensional outputs, but MSE metric on 3D outputs, after the matrix is applied\n",
    "\n",
    "    loss_on_k_projections: calculate loss'\n",
    "    \n",
    "    '''\n",
    "\n",
    "    history = []\n",
    "    if show_3D_quality:\n",
    "        log_template = \"\\nEpoch {ep:03d} train_loss: {t_loss:0.6f} val_loss: {v_loss:0.6f} train_mse: {t_mse:0.6f} val_mse: {v_mse:0.6f}\"\n",
    "    else:\n",
    "        log_template = \"\\nEpoch {ep:03d} train_loss: {t_loss:0.6f} val_loss: {v_loss:0.6f}\"\n",
    "\n",
    "    with tqdm(desc=\"epoch\", total=epochs) as pbar_outer:\n",
    "        for epoch in range(epochs):\n",
    "            if show_3D_quality:\n",
    "                train_loss, train_mse = fit_epoch(model, train_loader, criterion, optimizer, scheduler, scaler, show_3D_quality)\n",
    "                val_loss, val_mse = eval_epoch(model, val_loader, criterion, show_3D_quality)\n",
    "            else:\n",
    "                train_loss = fit_epoch(model, train_loader, criterion, optimizer, scheduler, scaler, show_3D_quality)\n",
    "                val_loss = eval_epoch(model, val_loader, criterion, show_3D_quality)\n",
    "            history.append((train_loss, val_loss))\n",
    "            \n",
    "            pbar_outer.update(1)\n",
    "            if epoch % print_step == 0:\n",
    "                if show_3D_quality:\n",
    "                    tqdm.write(log_template.format(ep=epoch + 1, t_loss=train_loss, v_loss=val_loss, t_mse=train_mse, v_mse=val_mse))\n",
    "                else:\n",
    "                    tqdm.write(log_template.format(ep=epoch + 1, t_loss=train_loss, v_loss=val_loss))\n",
    "            \n",
    "    return history"
   ]
  },
  {
   "cell_type": "code",
   "execution_count": 164,
   "metadata": {},
   "outputs": [],
   "source": [
    "class SingleNet(nn.Module):\n",
    "    '''\n",
    "\n",
    "    Класс одиночной нейронной сети\n",
    "\n",
    "    '''\n",
    "    def __init__(self, output_size, activation=nn.ReLU(), flattened_size=CFG.K * CFG.K):\n",
    "        '''\n",
    "        \n",
    "        FC_type: тип полносвязных слоев: 'regular' / 'simple\n",
    "\n",
    "        convolution: сверточная часть сети\n",
    "\n",
    "        '''\n",
    "        super().__init__()\n",
    "\n",
    "        self.FC = nn.Sequential(\n",
    "        #     # nn.BatchNorm1d(flattened_size),\n",
    "\n",
    "            nn.Linear(flattened_size, 128),\n",
    "            activation,\n",
    "            # nn.Dropout(0.3),\n",
    "            nn.BatchNorm1d(128),\n",
    "\n",
    "            nn.Linear(128, 256),\n",
    "            activation,\n",
    "            # nn.Dropout(0.3),\n",
    "            nn.BatchNorm1d(256),\n",
    "\n",
    "            nn.Linear(256, 256),\n",
    "            activation,\n",
    "            # nn.Dropout(0.3),\n",
    "            nn.BatchNorm1d(256),\n",
    "            \n",
    "            nn.Linear(256, 512),\n",
    "            activation,\n",
    "            # nn.Dropout(0.3),\n",
    "            nn.BatchNorm1d(512),\n",
    "            nn.Linear(512, output_size),\n",
    "        )\n",
    "\n",
    "        # self.FC = nn.Sequential(\n",
    "        #     nn.Linear(flattened_size, 64),\n",
    "        #     activation,\n",
    "\n",
    "        #     nn.Linear(64, output_size)\n",
    "        # )\n",
    "\n",
    "        # self.FC = nn.Linear(flattened_size, output_size)\n",
    "\n",
    "    def forward(self, x):\n",
    "        # x - is batch of matrices KxK\n",
    "\n",
    "        # Здесь происходят какие-то там свертки, пуллинги и тп..\n",
    "\n",
    "        x = self.FC(x)\n",
    "\n",
    "        return x"
   ]
  },
  {
   "cell_type": "code",
   "execution_count": 165,
   "metadata": {},
   "outputs": [],
   "source": [
    "train_data, val_data, train_dataloader, val_dataloader, decoder = recieve_loaders(\n",
    "    batch_size=CFG.batch_size,\n",
    "\n",
    "    take_one_projection_for_data=0,\n",
    "    path=path,\n",
    "\n",
    "    cut_size=None,\n",
    "\n",
    "    # normalize_X=True,\n",
    "    scale_y=True\n",
    "\n",
    "    # even_for_train=True\n",
    "    )"
   ]
  },
  {
   "cell_type": "markdown",
   "metadata": {},
   "source": [
    "Сама частица, отступаем от нее вектор силы"
   ]
  },
  {
   "cell_type": "code",
   "execution_count": 166,
   "metadata": {},
   "outputs": [
    {
     "data": {
      "text/plain": [
       "SingleNet(\n",
       "  (FC): Sequential(\n",
       "    (0): Linear(in_features=12, out_features=128, bias=True)\n",
       "    (1): ReLU()\n",
       "    (2): BatchNorm1d(128, eps=1e-05, momentum=0.1, affine=True, track_running_stats=True)\n",
       "    (3): Linear(in_features=128, out_features=256, bias=True)\n",
       "    (4): ReLU()\n",
       "    (5): BatchNorm1d(256, eps=1e-05, momentum=0.1, affine=True, track_running_stats=True)\n",
       "    (6): Linear(in_features=256, out_features=256, bias=True)\n",
       "    (7): ReLU()\n",
       "    (8): BatchNorm1d(256, eps=1e-05, momentum=0.1, affine=True, track_running_stats=True)\n",
       "    (9): Linear(in_features=256, out_features=512, bias=True)\n",
       "    (10): ReLU()\n",
       "    (11): BatchNorm1d(512, eps=1e-05, momentum=0.1, affine=True, track_running_stats=True)\n",
       "    (12): Linear(in_features=512, out_features=1, bias=True)\n",
       "  )\n",
       ")"
      ]
     },
     "execution_count": 166,
     "metadata": {},
     "output_type": "execute_result"
    }
   ],
   "source": [
    "model = SingleNet(\n",
    "    flattened_size=len(train_data[0][0]),\n",
    "\n",
    "    output_size=len(train_data[0][1]),\n",
    "\n",
    "    # activation=nn.Sigmoid(),\n",
    "    # activation=nn.Tanh(),\n",
    "    activation=nn.ReLU(),\n",
    "\n",
    ").to(CFG.device)\n",
    "\n",
    "optimizer = optim.Adam(model.parameters(), lr=3e-3, betas=(0.9, 0.999), weight_decay=0.01)\n",
    "\n",
    "# scheduler.step нужно первый раз делать обязательно после optimizer.step, потому что иначе мы просто пропустим первый шаг scheduler\n",
    "exp_scheduler = lr_scheduler.StepLR(optimizer, step_size=5, gamma=0.95)\n",
    "\n",
    "model"
   ]
  },
  {
   "cell_type": "code",
   "execution_count": 167,
   "metadata": {},
   "outputs": [
    {
     "name": "stderr",
     "output_type": "stream",
     "text": [
      "epoch:   1%|          | 1/100 [00:00<00:25,  3.86it/s]"
     ]
    },
    {
     "name": "stdout",
     "output_type": "stream",
     "text": [
      "\n",
      "Epoch 001 train_loss: 1.234872 val_loss: 0.129937\n"
     ]
    },
    {
     "name": "stderr",
     "output_type": "stream",
     "text": [
      "epoch:  11%|█         | 11/100 [00:02<00:22,  3.91it/s]"
     ]
    },
    {
     "name": "stdout",
     "output_type": "stream",
     "text": [
      "\n",
      "Epoch 011 train_loss: 0.005854 val_loss: 0.004230\n"
     ]
    },
    {
     "name": "stderr",
     "output_type": "stream",
     "text": [
      "epoch:  21%|██        | 21/100 [00:05<00:19,  4.13it/s]"
     ]
    },
    {
     "name": "stdout",
     "output_type": "stream",
     "text": [
      "\n",
      "Epoch 021 train_loss: 0.005189 val_loss: 0.002763\n"
     ]
    },
    {
     "name": "stderr",
     "output_type": "stream",
     "text": [
      "epoch:  31%|███       | 31/100 [00:07<00:16,  4.15it/s]"
     ]
    },
    {
     "name": "stdout",
     "output_type": "stream",
     "text": [
      "\n",
      "Epoch 031 train_loss: 0.004926 val_loss: 0.002341\n"
     ]
    },
    {
     "name": "stderr",
     "output_type": "stream",
     "text": [
      "epoch:  41%|████      | 41/100 [00:10<00:14,  4.05it/s]"
     ]
    },
    {
     "name": "stdout",
     "output_type": "stream",
     "text": [
      "\n",
      "Epoch 041 train_loss: 0.004249 val_loss: 0.002117\n"
     ]
    },
    {
     "name": "stderr",
     "output_type": "stream",
     "text": [
      "epoch:  51%|█████     | 51/100 [00:12<00:11,  4.14it/s]"
     ]
    },
    {
     "name": "stdout",
     "output_type": "stream",
     "text": [
      "\n",
      "Epoch 051 train_loss: 0.003800 val_loss: 0.002416\n"
     ]
    },
    {
     "name": "stderr",
     "output_type": "stream",
     "text": [
      "epoch:  61%|██████    | 61/100 [00:15<00:09,  3.96it/s]"
     ]
    },
    {
     "name": "stdout",
     "output_type": "stream",
     "text": [
      "\n",
      "Epoch 061 train_loss: 0.004269 val_loss: 0.002189\n"
     ]
    },
    {
     "name": "stderr",
     "output_type": "stream",
     "text": [
      "epoch:  71%|███████   | 71/100 [00:17<00:06,  4.14it/s]"
     ]
    },
    {
     "name": "stdout",
     "output_type": "stream",
     "text": [
      "\n",
      "Epoch 071 train_loss: 0.004699 val_loss: 0.002270\n"
     ]
    },
    {
     "name": "stderr",
     "output_type": "stream",
     "text": [
      "epoch:  81%|████████  | 81/100 [00:20<00:04,  3.85it/s]"
     ]
    },
    {
     "name": "stdout",
     "output_type": "stream",
     "text": [
      "\n",
      "Epoch 081 train_loss: 0.004114 val_loss: 0.002211\n"
     ]
    },
    {
     "name": "stderr",
     "output_type": "stream",
     "text": [
      "epoch:  91%|█████████ | 91/100 [00:22<00:02,  4.11it/s]"
     ]
    },
    {
     "name": "stdout",
     "output_type": "stream",
     "text": [
      "\n",
      "Epoch 091 train_loss: 0.003437 val_loss: 0.002189\n"
     ]
    },
    {
     "name": "stderr",
     "output_type": "stream",
     "text": [
      "epoch: 100%|██████████| 100/100 [00:24<00:00,  4.04it/s]\n"
     ]
    }
   ],
   "source": [
    "history = train(\n",
    "    train_loader=train_dataloader, val_loader=val_dataloader, model=model, optimizer=optimizer,\n",
    "    \n",
    "    scheduler=exp_scheduler,\n",
    "    scaler=None,\n",
    "    \n",
    "    # criterion=MultiOutputMSELoss(),     # on K=1 it's the same as nn.MSELoss\n",
    "    criterion=nn.MSELoss(),\n",
    "    # criterion = GaussianNLLLossWithReadyVar(),\n",
    "    # criterion=MeanAbsolutePercentageError(),\n",
    "\n",
    "    show_3D_quality=False if len(train_data[0][1]) == 1 else True,    # ПОКА ЧИСТО ТЕСТЮ НА ОДНОЙ ПРОЕКЦИИ И ТАМ РАЗМЕРНОСТИ НЕ СОВПАДАЮТ\n",
    "    \n",
    "    epochs=100,\n",
    "\n",
    "    print_step=10\n",
    ")"
   ]
  },
  {
   "cell_type": "code",
   "execution_count": 168,
   "metadata": {},
   "outputs": [],
   "source": [
    "val_data = train_data"
   ]
  },
  {
   "cell_type": "code",
   "execution_count": 169,
   "metadata": {},
   "outputs": [
    {
     "name": "stdout",
     "output_type": "stream",
     "text": [
      "MSE: 0.00230, mape: 277.3304 %\n"
     ]
    }
   ],
   "source": [
    "Y_pred, Y_target = make_predictions_and_get_quality(\n",
    "    model=model, data=val_data, same_axis=True,\n",
    "    show_3D_quality=False if len(train_data[0][1]) == 1 else True\n",
    "    )\n",
    "\n",
    "Y_true = Y_target.squeeze().detach().numpy()\n",
    "Y_pred = Y_pred.squeeze().detach().numpy()"
   ]
  },
  {
   "cell_type": "code",
   "execution_count": 170,
   "metadata": {},
   "outputs": [
    {
     "data": {
      "text/plain": [
       "0.05477225575051661"
      ]
     },
     "execution_count": 170,
     "metadata": {},
     "output_type": "execute_result"
    }
   ],
   "source": [
    "np.sqrt(0.003)"
   ]
  },
  {
   "cell_type": "markdown",
   "metadata": {},
   "source": [
    "---\n",
    "Снизу пытаюсь как-то визуализировать предсказания:"
   ]
  },
  {
   "cell_type": "code",
   "execution_count": 171,
   "metadata": {},
   "outputs": [],
   "source": [
    "val_X = (torch.stack([elem[0] for elem in val_data]))"
   ]
  },
  {
   "cell_type": "code",
   "execution_count": 172,
   "metadata": {},
   "outputs": [],
   "source": [
    "x11_val = val_X[:, 0]\n",
    "x22_val = val_X[:, 4]\n",
    "x33_val = val_X[:, 8]"
   ]
  },
  {
   "cell_type": "code",
   "execution_count": 173,
   "metadata": {},
   "outputs": [
    {
     "data": {
      "image/png": "[encoded data removed]",
      "text/plain": [
       "<Figure size 1440x720 with 1 Axes>"
      ]
     },
     "metadata": {},
     "output_type": "display_data"
    }
   ],
   "source": [
    "# if MODE != \"movements\":\n",
    "plot_2d_result(\n",
    "    x11_val,\n",
    "    y_true=Y_true if len(train_data[0][1]) == 1 else [elem[0] for elem in Y_true],\n",
    "    y_pred=Y_pred if len(train_data[0][1]) == 1 else [elem[0] for elem in Y_pred],\n",
    "    figsize=(20, 10)\n",
    ")"
   ]
  },
  {
   "cell_type": "code",
   "execution_count": 174,
   "metadata": {},
   "outputs": [],
   "source": [
    "if len(train_data[0][1]) != 1:\n",
    "    plot_matrix(\n",
    "        X=[elem[:-3] for elem in val_X] if MODE == \"movements\" else val_X,\n",
    "        K=CFG.K,\n",
    "        Y_true=Y_true,\n",
    "        Y_pred=Y_pred,\n",
    "\n",
    "        figsize=(20, 20)\n",
    "    )"
   ]
  },
  {
   "cell_type": "markdown",
   "metadata": {},
   "source": [
    "Другой вариант:\n",
    "\n",
    "Обучиться предсказывать элементарное перемещение по радиус вектору + вектору скорости (пока без скоростей)"
   ]
  },
  {
   "cell_type": "markdown",
   "metadata": {},
   "source": [
    "Без скоростей - предсказание перемещения эквивалентно предсказанию силы:\n",
    "\n",
    "$$\n",
    "r(t+\\Delta t) = r(t) v(t)\\Delta t + \\dfrac{1}{2}a(t)(\\Delta t)^2\n",
    "$$\n",
    "\n",
    "$$\n",
    "r(t+\\Delta t) - r(t) = v(t)\\Delta t + \\dfrac{1}{2}a(t)(\\Delta t)^2\n",
    "$$"
   ]
  },
  {
   "cell_type": "markdown",
   "metadata": {},
   "source": [
    "Ща два важных момента:\n",
    "- эксопнента в формуле \n",
    "- пока матрица остается диагональной\n",
    "\n",
    "- ITEM: TIMESTEP - это шаг интегратора; "
   ]
  },
  {
   "cell_type": "markdown",
   "metadata": {},
   "source": [
    "Что ща: надо обучить предсказывать элементарное перемещение - если пока не сработает на только координатах, то это норм, так как нужны еще скорости, но вообще скорости, координаты и силы - все это связано весьма явно: ускорение по предположению явная функция только координат, а остальнлое интегрированием"
   ]
  },
  {
   "cell_type": "markdown",
   "metadata": {},
   "source": [
    "Короче: Имея координаты мы же можем предсказать силу, а из формулы верле это дает нам, что мы можем элементарное смещение за $\\Delta$, зная скорости и координаты предсказать, поэтому текущая задача: на координатах обучиться предсказывать уже не силу, а элементарное смещение - так как наша задача интегрировать уравнения движения, еще раз скажу, что без скорости оно может не получиться и получение элементарного смещения вообще говоря может быть надо делать 2 моделями: одна по "
   ]
  },
  {
   "cell_type": "markdown",
   "metadata": {},
   "source": [
    "- Добавить в выпрямленную матрицу X в конец 3 числа: vx, vy, vz\n",
    "- Для двух частиц \"невращающихся\" на матрице X из векторов V - которые по функции Леннарда Джонса на K = 3 на диагональной матрцие посчитаны\n",
    "\n",
    "**Обучаем на перемещения**"
   ]
  },
  {
   "cell_type": "code",
   "execution_count": 175,
   "metadata": {},
   "outputs": [
    {
     "data": {
      "text/plain": [
       "tensor(277.3304)"
      ]
     },
     "execution_count": 175,
     "metadata": {},
     "output_type": "execute_result"
    }
   ],
   "source": [
    "target = torch.tensor(Y_true)\n",
    "preds = torch.tensor(Y_pred)\n",
    "\n",
    "mean_abs_percentage_error = MeanAbsolutePercentageError()\n",
    "mean_abs_percentage_error(preds, target)"
   ]
  }
 ],
 "metadata": {
  "kernelspec": {
   "display_name": "Python 3.6.13 ('my_3_6_conda_env')",
   "language": "python",
   "name": "python3"
  },
  "language_info": {
   "codemirror_mode": {
    "name": "ipython",
    "version": 3
   },
   "file_extension": ".py",
   "mimetype": "text/x-python",
   "name": "python",
   "nbconvert_exporter": "python",
   "pygments_lexer": "ipython3",
   "version": "3.6.13"
  },
  "orig_nbformat": 4,
  "vscode": {
   "interpreter": {
    "hash": "6b5cc6bf18c7103cb99324f044582e9ca68eda52a25f7227b20ca62cd3e32898"
   }
  }
 },
 "nbformat": 4,
 "nbformat_minor": 2
}
