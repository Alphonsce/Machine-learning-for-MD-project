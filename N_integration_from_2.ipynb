{
 "cells": [
  {
   "cell_type": "code",
   "execution_count": 25,
   "metadata": {},
   "outputs": [],
   "source": [
    "import torch\n",
    "import matplotlib.pyplot as plt\n",
    "import numpy as np\n",
    "import pandas as pd\n",
    "import csv\n",
    "\n",
    "from numba import njit, jit\n",
    "from numpy.linalg import norm\n",
    "\n",
    "from tqdm import tqdm\n",
    "\n",
    "import torch.nn as nn\n",
    "import torch.nn.functional as F\n",
    "import torch.optim as optim\n",
    "from torch.utils.data import DataLoader, TensorDataset\n",
    "from torch.optim import lr_scheduler\n",
    "from torchmetrics import MeanAbsolutePercentageError\n",
    "\n",
    "import seaborn as sns\n",
    "sns.set_style(\"darkgrid\", {\"grid.color\": \".6\", \"grid.linestyle\": \":\"})\n",
    "\n",
    "from utility_funcs import *\n",
    "from LJ_modeling_realization.includes.constants import *\n",
    "\n",
    "import dill\n",
    "\n",
    "from sklearn.model_selection import train_test_split\n",
    "from sklearn.preprocessing import Normalizer\n",
    "from sklearn.gaussian_process import GaussianProcessRegressor\n",
    "from sklearn.gaussian_process.kernels import DotProduct, WhiteKernel, ConstantKernel, RBF\n",
    "from sklearn.metrics import mean_squared_error\n",
    "from sklearn.preprocessing import Normalizer"
   ]
  },
  {
   "cell_type": "code",
   "execution_count": 26,
   "metadata": {},
   "outputs": [],
   "source": [
    "N = CFG.N"
   ]
  },
  {
   "cell_type": "code",
   "execution_count": 27,
   "metadata": {},
   "outputs": [],
   "source": [
    "# dt = float(input(\"integrated dt:\"))"
   ]
  },
  {
   "cell_type": "code",
   "execution_count": 28,
   "metadata": {},
   "outputs": [],
   "source": [
    "model_type = \"gpr\""
   ]
  },
  {
   "cell_type": "code",
   "execution_count": 29,
   "metadata": {},
   "outputs": [],
   "source": [
    "class SklearnModel:\n",
    "    def __init__(self, model):\n",
    "        '''\n",
    "        model - sklearn model\n",
    "        '''\n",
    "        self.model = model\n",
    "\n",
    "    def __call__(self, X):\n",
    "        return self.model.predict(X)"
   ]
  },
  {
   "cell_type": "code",
   "execution_count": 30,
   "metadata": {},
   "outputs": [],
   "source": [
    "model_file_path = f'./trained_models/{model_type}_2_movements_K3.pickle'\n",
    "model_vel_file_path = f'./trained_models/{model_type}_2_velocities_K3.pickle'\n",
    "\n",
    "# Сетка предсказания сжатые будет выдавать и их надо будет возвращать к обычному скейлу\n",
    "descaler_path = f'./trained_models/descaler_{CFG.N}_K{CFG.K}.pickle'\n",
    "descaler_vel_path = f'./trained_models/descaler_vel_{CFG.N}_K{CFG.K}.pickle'"
   ]
  },
  {
   "cell_type": "code",
   "execution_count": 31,
   "metadata": {},
   "outputs": [],
   "source": [
    "with open(model_file_path, 'rb') as handle:\n",
    "    model = dill.load(handle)\n",
    "\n",
    "with open(model_vel_file_path, 'rb') as handle:\n",
    "    model_vel = dill.load(handle)\n",
    "\n",
    "if model_type == \"gpr\":\n",
    "    descaler = Descaler(1, 0)\n",
    "    descaler_vel = Descaler(1, 0)\n",
    "    model = SklearnModel(model)\n",
    "    model_vel = SklearnModel(model_vel)\n",
    "else:\n",
    "    with open(descaler_path, 'rb') as handle:\n",
    "        descaler = dill.load(handle)\n",
    "    "
   ]
  },
  {
   "cell_type": "code",
   "execution_count": 32,
   "metadata": {},
   "outputs": [],
   "source": [
    "def csv_row_to_state(coords_path, vels_path, row_number=0):\n",
    "    '''\n",
    "    This function will be mostly used to start integration and create header for csv to write into\n",
    "    '''\n",
    "\n",
    "    row_coords = np.array(pd.read_csv(\n",
    "        coords_path\n",
    "    ).iloc[row_number, :][1:]).reshape(CFG.N, 3)\n",
    "\n",
    "    row_vels = np.array(pd.read_csv(\n",
    "        vels_path\n",
    "    ).iloc[0, :][1:]).reshape(CFG.N, 3)\n",
    "    \n",
    "    state = {i: [row_coords[i], row_vels[i]] for i in range(CFG.N)}\n",
    "\n",
    "\n",
    "    return state"
   ]
  },
  {
   "cell_type": "code",
   "execution_count": 33,
   "metadata": {},
   "outputs": [],
   "source": [
    "n_state = csv_row_to_state(\n",
    "    f'./coords_and_movements/coords{CFG.N}.csv',\n",
    "    f'./coords_and_movements/velocities{CFG.N}.csv',\n",
    "\n",
    "    row_number=-1   # НАЧИНАЕМ ПРЕДСКАЗЫВАТЬ С КОНЦА ИЗВЕСТНОЙ ТРАЕКТОРИИ\n",
    ")"
   ]
  },
  {
   "cell_type": "code",
   "execution_count": 34,
   "metadata": {},
   "outputs": [],
   "source": [
    "def get_distances(n_state, atom_numb):\n",
    "    '''\n",
    "    Возвращает все расстояния от данного атома\n",
    "    '''\n",
    "    pass"
   ]
  },
  {
   "cell_type": "code",
   "execution_count": 35,
   "metadata": {},
   "outputs": [],
   "source": [
    "# @njit\n",
    "def get_closest_atom(state, atom_number):\n",
    "    other_atom_numbers = [i for i in range(CFG.N) if i != atom_number]\n",
    "    Rel_matrix = np.zeros([CFG.N - 1, 3])\n",
    "\n",
    "    for i, other_numb in enumerate(other_atom_numbers):\n",
    "        Rel_matrix[i] = state[atom_number][0] - state[other_numb][0]\n",
    "\n",
    "    # Getting the closest atom to atom_number:\n",
    "    dists = norm(Rel_matrix, axis=1)\n",
    "\n",
    "    return np.argmin(dists)"
   ]
  },
  {
   "cell_type": "code",
   "execution_count": 36,
   "metadata": {},
   "outputs": [],
   "source": [
    "def _get_relative_positions(state, atom_number):\n",
    "    '''\n",
    "    This function processes one row of csv into something that we can work with\n",
    "\n",
    "    Returns np.array matrix that consists of relative positions vectors for passed atom_number to every other atom\n",
    "    and then we can chose only closest N_neighbours in the next functions\n",
    "    \n",
    "    row: df.iloc[row] - typeof(row): pd.Series\n",
    "    \n",
    "    returns: Rel_matrix, f_vec\n",
    "    '''\n",
    "\n",
    "    other_atom_numbers = [i for i in range(CFG.N) if i != atom_number]\n",
    "    Rel_matrix = np.zeros([CFG.N - 1, 3])\n",
    "\n",
    "    for i, other_numb in enumerate(other_atom_numbers):\n",
    "        Rel_matrix[i] = state[atom_number][0] - state[other_numb][0]\n",
    "\n",
    "    return np.array(Rel_matrix)\n",
    "\n",
    "def create_V_i(i, normalized_m, norms, r_cut=CFG.r_cut, p=CFG.p):\n",
    "    '''\n",
    "    normalized_m: matrix of relative distances, where rows - normalized vectors\n",
    "    i: i-th component of r_cut and p, i in range 1..K (or in 0..K-1 in code)\n",
    "    '''\n",
    "    transf_vecs = make_matrix_transformed(normalized_m, norms[:, np.newaxis], r_cut[i], p[i])\n",
    "\n",
    "    return np.sum(transf_vecs, axis=0)\n",
    "\n",
    "# @njit(parallel=True)\n",
    "def create_V(normalized_m, norms, K=CFG.K):\n",
    "    '''\n",
    "    creates V\n",
    "    '''\n",
    "    V = []\n",
    "    for i in range(K):\n",
    "        V.append(\n",
    "            create_V_i(i, normalized_m, norms)\n",
    "        )\n",
    "\n",
    "    return np.stack(V)"
   ]
  },
  {
   "cell_type": "code",
   "execution_count": 37,
   "metadata": {},
   "outputs": [],
   "source": [
    "def make_step(n_state):\n",
    "    pass"
   ]
  },
  {
   "cell_type": "code",
   "execution_count": 38,
   "metadata": {},
   "outputs": [
    {
     "data": {
      "text/plain": [
       "[array([1.9533191 , 0.72123262, 0.26282041]),\n",
       " array([ 0.51596858, -0.16688677,  0.01485316])]"
      ]
     },
     "execution_count": 38,
     "metadata": {},
     "output_type": "execute_result"
    }
   ],
   "source": [
    "n_state[0]"
   ]
  },
  {
   "attachments": {},
   "cell_type": "markdown",
   "metadata": {},
   "source": [
    "**Короче: перемещения надо брать из unfolded координат, матрицы признаков надо брать из folded координат, а мб я и не прав**"
   ]
  },
  {
   "cell_type": "code",
   "execution_count": 51,
   "metadata": {},
   "outputs": [],
   "source": [
    "# ЗАПУСКАЮ ЦИКЛ, СЧИТАЮ ВСЕ РАССТОЯНИЯ, ЕСЛИ ОНО МИНИМАЛЬНОЕ - СТРОЮ state для текущий частицы с этой частицей - делаю предсказание для этой частицы, но пока не сдвигаю, так делаю для всех частиц и затем сдвигаю\n",
    "\n",
    "def n_integration_from_2(n_state, steps):\n",
    "    for atom_num in range(N):\n",
    "        state_2p = {}\n",
    "        other_atom_for_2p_state = get_closest_atom(n_state, atom_num)\n",
    "        state_2p = {0: n_state[atom_num], 1: n_state[other_atom_for_2p_state]}\n",
    "\n",
    "        print(state_2p)\n",
    "    return state_2p"
   ]
  },
  {
   "cell_type": "code",
   "execution_count": 52,
   "metadata": {},
   "outputs": [
    {
     "name": "stdout",
     "output_type": "stream",
     "text": [
      "{0: [array([1.9533191 , 0.72123262, 0.26282041]), array([ 0.51596858, -0.16688677,  0.01485316])], 1: [array([ 3.748383  , 10.76555622,  2.30140656]), array([1.66959643, 3.94339942, 0.8335923 ])]}\n",
      "{0: [array([ 0.78181899, -2.67334847, -2.47903861]), array([-0.8541372 , -0.44242995, -0.57602303])], 1: [array([1.9533191 , 0.72123262, 0.26282041]), array([ 0.51596858, -0.16688677,  0.01485316])]}\n",
      "{0: [array([ 5.1106208 , -2.79698332,  1.93020422]), array([ 0.77939097, -2.27582507,  0.06638178])], 1: [array([-4.01083052,  3.0175924 ,  1.12036337]), array([-2.36451652,  1.38732474, -1.31930425])]}\n",
      "{0: [array([8.84820201, 0.63445318, 2.44737825]), array([1.20623632, 0.16722855, 0.25292309])], 1: [array([-0.46768814,  5.02130211,  2.88672862]), array([-2.79751058,  1.25891468,  0.34888104])]}\n",
      "{0: [array([-1.29286337,  3.31618813,  2.44679096]), array([-1.25183726,  0.07842462,  0.36682924])], 1: [array([6.17393534, 5.17558735, 6.29582929]), array([ 0.85888468, -0.10291455,  1.10414305])]}\n",
      "{0: [array([-0.46768814,  5.02130211,  2.88672862]), array([-2.79751058,  1.25891468,  0.34888104])], 1: [array([6.17393534, 5.17558735, 6.29582929]), array([ 0.85888468, -0.10291455,  1.10414305])]}\n",
      "{0: [array([9.49337493, 1.18719613, 3.56020101]), array([ 1.78981563, -0.17762666,  1.4279455 ])], 1: [array([8.84820201, 0.63445318, 2.44737825]), array([1.20623632, 0.16722855, 0.25292309])]}\n",
      "{0: [array([ 5.79259942,  3.50640569, -0.13198041]), array([ 0.06679951,  0.65530953, -1.53590382])], 1: [array([ 6.00265524,  4.62262238, -2.51802144]), array([ 1.65786683,  1.15386615, -1.52535956])]}\n",
      "{0: [array([0.63236687, 3.27807997, 0.70304999]), array([ 0.12024453, -0.95834641,  0.10111169])], 1: [array([-1.29286337,  3.31618813,  2.44679096]), array([-1.25183726,  0.07842462,  0.36682924])]}\n",
      "{0: [array([4.3567658 , 6.0261877 , 3.92741916]), array([-0.39852473,  0.79225003,  1.86808523])], 1: [array([0.21048103, 6.49798323, 1.71307077]), array([-0.5907529 , -0.72295477, -1.87779797])]}\n",
      "{0: [array([4.56832712, 5.61182445, 2.4376573 ]), array([ 0.35256832, -0.89060716,  0.49427532])], 1: [array([4.37059017, 0.8701204 , 4.79014166]), array([-0.64201077, -1.68392578, -0.20772375])]}\n",
      "{0: [array([4.61259838, 3.17281231, 0.01480276]), array([-1.22381176,  0.05919115, -0.28825004])], 1: [array([ 5.79259942,  3.50640569, -0.13198041]), array([ 0.06679951,  0.65530953, -1.53590382])]}\n",
      "{0: [array([-4.90183281,  4.40862936, -2.45795234]), array([-2.13345976, -0.62982105, -1.38616516])], 1: [array([8.27115688, 6.90795879, 3.0051527 ]), array([ 0.54653783, -0.38633414,  0.69251665])]}\n",
      "{0: [array([ 3.748383  , 10.76555622,  2.30140656]), array([1.66959643, 3.94339942, 0.8335923 ])], 1: [array([ 6.60757494,  2.41269913, -0.21606566]), array([-0.04247116, -0.91988597, -1.07149655])]}\n",
      "{0: [array([4.47036069, 1.75697879, 0.02646089]), array([-0.03576826, -1.96208041, -0.68092367])], 1: [array([4.61259838, 3.17281231, 0.01480276]), array([-1.22381176,  0.05919115, -0.28825004])]}\n",
      "{0: [array([6.24214888, 6.75808438, 0.36476863]), array([-0.37141667,  0.17130526, -0.11597596])], 1: [array([ 6.60757494,  2.41269913, -0.21606566]), array([-0.04247116, -0.91988597, -1.07149655])]}\n",
      "{0: [array([5.3312688 , 3.77210896, 5.30670308]), array([1.33092868, 1.22287456, 0.67028194])], 1: [array([-3.1479652 ,  3.11319018,  4.10057107]), array([-2.03155773,  0.47433625, -0.7210275 ])]}\n",
      "{0: [array([3.34624549, 4.6127025 , 6.57370022]), array([1.30512948, 1.14915009, 2.53780004])], 1: [array([4.22032004, 4.66618212, 2.3191504 ]), array([-0.53413759,  0.44737127, -0.94245917])]}\n",
      "{0: [array([3.4347695 , 2.38624899, 2.33852819]), array([-0.993815  ,  0.27436255,  0.95891232])], 1: [array([4.37059017, 0.8701204 , 4.79014166]), array([-0.64201077, -1.68392578, -0.20772375])]}\n",
      "{0: [array([5.91983982, 2.55721563, 0.60163351]), array([0.82156958, 1.31741778, 0.05055222])], 1: [array([6.52363688, 3.55280561, 0.67174239]), array([ 1.20395947, -0.27617491, -0.77821539])]}\n",
      "{0: [array([-2.40827436,  1.92961242,  3.56418407]), array([-1.90839004,  0.40380392,  0.12827989])], 1: [array([6.07990587, 1.11901413, 5.22406263]), array([0.39916256, 1.14427433, 0.28057413])]}\n",
      "{0: [array([ 6.00265524,  4.62262238, -2.51802144]), array([ 1.65786683,  1.15386615, -1.52535956])], 1: [array([ 5.79259942,  3.50640569, -0.13198041]), array([ 0.06679951,  0.65530953, -1.53590382])]}\n",
      "{0: [array([6.52363688, 3.55280561, 0.67174239]), array([ 1.20395947, -0.27617491, -0.77821539])], 1: [array([ 5.79259942,  3.50640569, -0.13198041]), array([ 0.06679951,  0.65530953, -1.53590382])]}\n",
      "{0: [array([ 6.60757494,  2.41269913, -0.21606566]), array([-0.04247116, -0.91988597, -1.07149655])], 1: [array([5.91983982, 2.55721563, 0.60163351]), array([0.82156958, 1.31741778, 0.05055222])]}\n",
      "{0: [array([5.35350741, 6.77183456, 2.51045954]), array([ 1.08542078,  0.83959131, -0.59344109])], 1: [array([4.56832712, 5.61182445, 2.4376573 ]), array([ 0.35256832, -0.89060716,  0.49427532])]}\n",
      "{0: [array([3.37662918, 5.27869201, 2.12542983]), array([-0.10123667,  0.91338326, -0.09680716])], 1: [array([4.37059017, 0.8701204 , 4.79014166]), array([-0.64201077, -1.68392578, -0.20772375])]}\n",
      "{0: [array([4.79402369, 2.6259061 , 6.19860533]), array([ 0.14781964, -0.0687079 ,  2.51787381])], 1: [array([0.85111971, 1.60949451, 5.92622768]), array([-0.08510125,  0.30138206, -0.50161055])]}\n",
      "{0: [array([6.17393534, 5.17558735, 6.29582929]), array([ 0.85888468, -0.10291455,  1.10414305])], 1: [array([5.3312688 , 3.77210896, 5.30670308]), array([1.33092868, 1.22287456, 0.67028194])]}\n",
      "{0: [array([-1.99271237,  4.88917358,  3.2164504 ]), array([ 0.02430761, -1.57994922,  0.66106159])], 1: [array([-0.46768814,  5.02130211,  2.88672862]), array([-2.79751058,  1.25891468,  0.34888104])]}\n",
      "{0: [array([4.4515683 , 5.04494899, 4.24746168]), array([ 2.84605255, -0.67837266, -0.62723713])], 1: [array([6.1633317 , 3.36201783, 4.00325872]), array([ 0.47035648, -0.95600665,  0.14862486])]}\n",
      "{0: [array([5.66499334, 7.91158552, 8.82781529]), array([-0.3228229 ,  0.96189513,  3.25350267])], 1: [array([6.17393534, 5.17558735, 6.29582929]), array([ 0.85888468, -0.10291455,  1.10414305])]}\n",
      "{0: [array([8.27115688, 6.90795879, 3.0051527 ]), array([ 0.54653783, -0.38633414,  0.69251665])], 1: [array([5.22160223, 6.43835439, 4.05935001]), array([-0.89374645, -0.00586646,  0.50112633])]}\n",
      "{0: [array([-4.01083052,  3.0175924 ,  1.12036337]), array([-2.36451652,  1.38732474, -1.31930425])], 1: [array([-1.29286337,  3.31618813,  2.44679096]), array([-1.25183726,  0.07842462,  0.36682924])]}\n",
      "{0: [array([ 3.54204463, -0.7831083 ,  5.30722069]), array([ 1.14298777, -0.40117455, -0.02106275])], 1: [array([5.19961297, 2.78820094, 4.79181008]), array([1.27966724, 0.16412781, 0.81016342])]}\n",
      "{0: [array([7.60860432, 0.89267303, 1.20207904]), array([ 1.27971371, -0.36542344, -2.04854361])], 1: [array([8.84820201, 0.63445318, 2.44737825]), array([1.20623632, 0.16722855, 0.25292309])]}\n",
      "{0: [array([6.07990587, 1.11901413, 5.22406263]), array([0.39916256, 1.14427433, 0.28057413])], 1: [array([5.19961297, 2.78820094, 4.79181008]), array([1.27966724, 0.16412781, 0.81016342])]}\n",
      "{0: [array([-3.1479652 ,  3.11319018,  4.10057107]), array([-2.03155773,  0.47433625, -0.7210275 ])], 1: [array([-2.40827436,  1.92961242,  3.56418407]), array([-1.90839004,  0.40380392,  0.12827989])]}\n",
      "{0: [array([5.19961297, 2.78820094, 4.79181008]), array([1.27966724, 0.16412781, 0.81016342])], 1: [array([5.3312688 , 3.77210896, 5.30670308]), array([1.33092868, 1.22287456, 0.67028194])]}\n",
      "{0: [array([4.37059017, 0.8701204 , 4.79014166]), array([-0.64201077, -1.68392578, -0.20772375])], 1: [array([6.07990587, 1.11901413, 5.22406263]), array([0.39916256, 1.14427433, 0.28057413])]}\n",
      "{0: [array([4.22032004, 4.66618212, 2.3191504 ]), array([-0.53413759,  0.44737127, -0.94245917])], 1: [array([4.56832712, 5.61182445, 2.4376573 ]), array([ 0.35256832, -0.89060716,  0.49427532])]}\n",
      "{0: [array([3.00575699, 3.19928271, 4.64517272]), array([ 1.17830778, -1.11734529, -0.1359016 ])], 1: [array([3.00575699, 3.19928271, 4.64517272]), array([ 1.17830778, -1.11734529, -0.1359016 ])]}\n",
      "{0: [array([1.85507849, 3.75670995, 3.63450899]), array([-1.72629013,  1.12977361, -0.15448395])], 1: [array([3.00575699, 3.19928271, 4.64517272]), array([ 1.17830778, -1.11734529, -0.1359016 ])]}\n",
      "{0: [array([6.1633317 , 3.36201783, 4.00325872]), array([ 0.47035648, -0.95600665,  0.14862486])], 1: [array([5.19961297, 2.78820094, 4.79181008]), array([1.27966724, 0.16412781, 0.81016342])]}\n",
      "{0: [array([4.57969947, 4.02778832, 4.34046867]), array([-0.87129068, -0.62297702, -0.46557666])], 1: [array([4.4515683 , 5.04494899, 4.24746168]), array([ 2.84605255, -0.67837266, -0.62723713])]}\n",
      "{0: [array([-2.35740642,  3.70675732,  6.43025594]), array([-3.57370715, -2.42051497, -0.00695811])], 1: [array([-3.1479652 ,  3.11319018,  4.10057107]), array([-2.03155773,  0.47433625, -0.7210275 ])]}\n",
      "{0: [array([0.21048103, 6.49798323, 1.71307077]), array([-0.5907529 , -0.72295477, -1.87779797])], 1: [array([-0.46768814,  5.02130211,  2.88672862]), array([-2.79751058,  1.25891468,  0.34888104])]}\n",
      "{0: [array([5.22160223, 6.43835439, 4.05935001]), array([-0.89374645, -0.00586646,  0.50112633])], 1: [array([4.3567658 , 6.0261877 , 3.92741916]), array([-0.39852473,  0.79225003,  1.86808523])]}\n",
      "{0: [array([6.56908554, 6.46373225, 4.60926083]), array([ 0.08842801, -1.17805857, -0.09383817])], 1: [array([5.22160223, 6.43835439, 4.05935001]), array([-0.89374645, -0.00586646,  0.50112633])]}\n",
      "{0: [array([0.85111971, 1.60949451, 5.92622768]), array([-0.08510125,  0.30138206, -0.50161055])], 1: [array([3.00575699, 3.19928271, 4.64517272]), array([ 1.17830778, -1.11734529, -0.1359016 ])]}\n",
      "{0: [array([5.75719267, 2.78324052, 6.31194513]), array([ 1.58059218,  0.57925232, -2.31820471])], 1: [array([4.79402369, 2.6259061 , 6.19860533]), array([ 0.14781964, -0.0687079 ,  2.51787381])]}\n"
     ]
    }
   ],
   "source": [
    "a = n_integration_from_2(n_state, 1)"
   ]
  }
 ],
 "metadata": {
  "kernelspec": {
   "display_name": "my_3_6_conda_env",
   "language": "python",
   "name": "python3"
  },
  "language_info": {
   "codemirror_mode": {
    "name": "ipython",
    "version": 3
   },
   "file_extension": ".py",
   "mimetype": "text/x-python",
   "name": "python",
   "nbconvert_exporter": "python",
   "pygments_lexer": "ipython3",
   "version": "3.6.13"
  },
  "orig_nbformat": 4,
  "vscode": {
   "interpreter": {
    "hash": "6b5cc6bf18c7103cb99324f044582e9ca68eda52a25f7227b20ca62cd3e32898"
   }
  }
 },
 "nbformat": 4,
 "nbformat_minor": 2
}
