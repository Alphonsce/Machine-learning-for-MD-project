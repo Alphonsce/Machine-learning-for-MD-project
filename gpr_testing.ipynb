{
 "cells": [
  {
   "cell_type": "code",
   "execution_count": 22,
   "metadata": {},
   "outputs": [],
   "source": [
    "import torch\n",
    "from sklearn.model_selection import train_test_split\n",
    "from torch.utils.data import DataLoader, TensorDataset\n",
    "import matplotlib.pyplot as plt\n",
    "import numpy as np\n",
    "\n",
    "import torch.nn as nn\n",
    "import torch.nn.functional as F\n",
    "from tqdm import tqdm\n",
    "import torch.optim as optim\n",
    "from torch.optim import lr_scheduler\n",
    "\n",
    "from sklearn.gaussian_process import GaussianProcessRegressor\n",
    "from sklearn.gaussian_process.kernels import DotProduct, WhiteKernel"
   ]
  },
  {
   "cell_type": "code",
   "execution_count": 23,
   "metadata": {},
   "outputs": [],
   "source": [
    "def create_dataloaders(train_dataset, val_dataset, train_bs=64, val_bs=64, fold=None):\n",
    "    '''\n",
    "\n",
    "    Returns train_loader, val_loader\n",
    "\n",
    "    fold: will be used in cross validation, when I will implement it\n",
    "\n",
    "    '''\n",
    "    \n",
    "    train_loader = DataLoader(dataset=train_dataset, batch_size=train_bs, shuffle=True)\n",
    "\n",
    "    val_loader = DataLoader(dataset=val_dataset, batch_size=val_bs, shuffle=False)\n",
    "\n",
    "    return train_loader, val_loader"
   ]
  },
  {
   "cell_type": "code",
   "execution_count": 30,
   "metadata": {},
   "outputs": [],
   "source": [
    "def recieve_loaders(path=None):\n",
    "    '''\n",
    "    returns: (dataet, train_loader, val_loader), if u pass path -> returns loader from tensor dataset from\n",
    "    '''\n",
    "    if path:\n",
    "        N = int(path.split('_')[0])\n",
    "        print(N)\n",
    "        K = int(path.split('_')[-1].split('.')[0])\n",
    "\n",
    "        dataset = torch.load(str(N) + '_dataset_K_' + str(K) + '.pt')\n",
    "        dataset = [(elem[0], elem[1]) for elem in dataset]\n",
    "        train_data, val_data = train_test_split(dataset, test_size=0.33, random_state=42)\n",
    "        train_dataloader, val_dataloader = create_dataloaders(train_data, val_data)\n",
    "        return train_data, val_data, train_dataloader, val_dataloader\n",
    "    \n",
    "    X = []\n",
    "    Y = []\n",
    "\n",
    "    for _ in range(500):\n",
    "        # X = (torch.rand(1)).squeeze().unsqueeze(dim=0)\n",
    "        x = (torch.rand(K))\n",
    "        y = function(x)\n",
    "        X.append(x)\n",
    "        Y.append(y)\n",
    "\n",
    "    X_train, X_val, Y_train, Y_val = train_test_split(X, Y, random_state=42, train_size=0.8)\n",
    "\n",
    "    X_train = torch.stack(X_train)\n",
    "    X_val = torch.stack(X_val)\n",
    "    Y_train = torch.stack(Y_train)\n",
    "    Y_val = torch.stack(Y_val)\n",
    "\n",
    "    train_data = TensorDataset(X_train, Y_train)\n",
    "    val_data = TensorDataset(X_val, Y_val)\n",
    "\n",
    "    train_dataloader = DataLoader(train_data, batch_size=128)\n",
    "    val_dataloader = DataLoader(val_data, batch_size=128)\n",
    "\n",
    "    return train_data, val_data, train_dataloader, val_dataloader"
   ]
  },
  {
   "cell_type": "code",
   "execution_count": 34,
   "metadata": {},
   "outputs": [
    {
     "name": "stdout",
     "output_type": "stream",
     "text": [
      "2\n"
     ]
    }
   ],
   "source": [
    "path = '2_dataset_K_1.pt'\n",
    "\n",
    "data = torch.load(path)\n",
    "\n",
    "data, *_ = recieve_loaders(path=path)"
   ]
  }
 ],
 "metadata": {
  "kernelspec": {
   "display_name": "Python 3.9.7 64-bit",
   "language": "python",
   "name": "python3"
  },
  "language_info": {
   "codemirror_mode": {
    "name": "ipython",
    "version": 3
   },
   "file_extension": ".py",
   "mimetype": "text/x-python",
   "name": "python",
   "nbconvert_exporter": "python",
   "pygments_lexer": "ipython3",
   "version": "3.9.7"
  },
  "orig_nbformat": 4,
  "vscode": {
   "interpreter": {
    "hash": "aee8b7b246df8f9039afb4144a1f6fd8d2ca17a180786b69acc140d282b71a49"
   }
  }
 },
 "nbformat": 4,
 "nbformat_minor": 2
}
