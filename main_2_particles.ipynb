{
 "cells": [
  {
   "cell_type": "markdown",
   "metadata": {},
   "source": [
    "# <span style=\"color:green\"> Run on python 3.6</span>"
   ]
  },
  {
   "cell_type": "markdown",
   "metadata": {},
   "source": [
    "---"
   ]
  },
  {
   "cell_type": "markdown",
   "metadata": {},
   "source": [
    "Гиперпараметры:\n",
    "\n",
    "1)k: Количество элементов в массивах r_cut и p для каждого атома\n",
    "\n",
    "2)$r_{cut}(i)_j$, i=1..k, j=1..N: векторы r_cut для j атома тоже параметр\n",
    "\n",
    "3)$p_(i)_j$, i=1..k, j=1..N: векторы p для j атома тоже параметр\n",
    "\n",
    "4)N_neighbours for summation for IVs"
   ]
  },
  {
   "cell_type": "markdown",
   "metadata": {},
   "source": [
    "---\n",
    "\n",
    "- **Зачем предсказывать именно K-мерный вектор силы:** \n",
    "    - В системе из 3+ частиц гантелька из двух частиц может вращаться, тогда матрица признаков не изменяется у частиц из этой гантельки, а 3Д сила изменяется, но любое отображение может выдавать только 1 значение для 1 аргумента, то есть мы банально сможем выдавать только одну 3Д силу в таком случае,\n",
    "    однако если мы предсказываем К-мерный вектор, то он все равно будет только 1 выдаваться для частицы из этой вращающейся гантельки, но матрица А при этом будет разной в каждом состоянии и сможем получать разные 3Д векторы силы "
   ]
  },
  {
   "cell_type": "markdown",
   "metadata": {},
   "source": [
    "ПРОТЕСТИТЬ, ЧТОБЫ ОДИН ГПР ИЛИ ОДНА СЕТКА МОГЛИ ЗАФТИТИТЬ ЗАВИСИМОСТЬ ДЛЯ ОДНОЙ КОМПОНЕНТЫ"
   ]
  },
  {
   "cell_type": "markdown",
   "metadata": {},
   "source": [
    "- Матрица X - это не вектора V, на которые мы проектируем силы, X должна быть ранга 1"
   ]
  },
  {
   "cell_type": "code",
   "execution_count": 3,
   "metadata": {},
   "outputs": [],
   "source": [
    "import random\n",
    "import os\n",
    "import time\n",
    "\n",
    "from numba import jit, njit, vectorize\n",
    "import numpy as np\n",
    "import scipy\n",
    "from numpy.linalg import norm as norm\n",
    "import pandas as pd\n",
    "import seaborn as sns\n",
    "import matplotlib.pyplot as plt\n",
    "\n",
    "import torch\n",
    "import torch.nn as nn\n",
    "\n",
    "from tqdm import tqdm\n",
    "import gc\n",
    "import torchvision.transforms as transforms\n",
    "\n",
    "from itertools import islice\n",
    "from collections import defaultdict\n",
    "import csv\n",
    "\n",
    "from utility_funcs import *\n",
    "from LJ_modeling_realization.includes.constants import *"
   ]
  },
  {
   "attachments": {},
   "cell_type": "markdown",
   "metadata": {},
   "source": [
    "# ЭТОТ НОУТБУК СДЕЛАН ДЛЯ РЕШЕНИЯ ЗАДАЧИ ТОЛЬКО НА 2 ЧАСТИЦАХ"
   ]
  },
  {
   "attachments": {},
   "cell_type": "markdown",
   "metadata": {},
   "source": [
    "- Проблема с двумя частицами в том, что у них абсолютно одинаковые матрицы X, но разные перемещения, но почему у них одинаковые матрицы......\n",
    "- потестить если юзать только одну частицу для обучения"
   ]
  },
  {
   "cell_type": "code",
   "execution_count": 4,
   "metadata": {},
   "outputs": [],
   "source": [
    "if minus_vdt:\n",
    "    dt = float(input(\"dt: \"))"
   ]
  },
  {
   "cell_type": "code",
   "execution_count": 5,
   "metadata": {},
   "outputs": [],
   "source": [
    "CFG.N = 2\n",
    "CFG.N_neig = 1\n",
    "CFG.K = 3"
   ]
  },
  {
   "cell_type": "code",
   "execution_count": 6,
   "metadata": {},
   "outputs": [],
   "source": [
    "path = f'./dataset_objects/' + MODE + '/2_dataset_K_3.pt'        # ЗДЕСЬ БЫЛО МОДЕ ВМЕСТО movements\n",
    "path_vel = f'./dataset_objects/' + \"d_velocities\" + '/2_dataset_K_3.pt'        # ЗДЕСЬ БЫЛО МОДЕ ВМЕСТО movements"
   ]
  },
  {
   "cell_type": "code",
   "execution_count": 7,
   "metadata": {},
   "outputs": [
    {
     "data": {
      "text/plain": [
       "'movements'"
      ]
     },
     "execution_count": 7,
     "metadata": {},
     "output_type": "execute_result"
    }
   ],
   "source": [
    "MODE"
   ]
  },
  {
   "cell_type": "code",
   "execution_count": 8,
   "metadata": {},
   "outputs": [],
   "source": [
    "if CFG.N != N:\n",
    "    Exception(\"N != CFG.N\")"
   ]
  },
  {
   "cell_type": "code",
   "execution_count": 9,
   "metadata": {},
   "outputs": [],
   "source": [
    "naming_of_target_in_csv = naming_of_target_in_csv[MODE]"
   ]
  },
  {
   "cell_type": "code",
   "execution_count": 10,
   "metadata": {},
   "outputs": [],
   "source": [
    "def set_seed(seed=42):\n",
    "    '''\n",
    "    \n",
    "    Sets the seed of the entire notebook so results are the same every time we run.\n",
    "    This is for REPRODUCIBILITY.\n",
    "\n",
    "    '''\n",
    "    np.random.seed(seed)\n",
    "    random.seed(seed)\n",
    "    torch.manual_seed(seed)\n",
    "    torch.cuda.manual_seed(seed)\n",
    "    # When running on the CuDNN backend, two further options must be set\n",
    "    torch.backends.cudnn.deterministic = True\n",
    "    torch.backends.cudnn.benchmark = False\n",
    "    # Set a fixed value for the hash seed\n",
    "    os.environ['PYTHONHASHSEED'] = str(seed)\n",
    "    \n",
    "set_seed(25)"
   ]
  },
  {
   "cell_type": "markdown",
   "metadata": {},
   "source": [
    "---\n",
    "\n",
    "# Hyperparameters:"
   ]
  },
  {
   "cell_type": "code",
   "execution_count": 11,
   "metadata": {},
   "outputs": [
    {
     "data": {
      "text/plain": [
       "'p: [1.19963894 1.14761554 1.73197271 2.46938464 2.39132808 1.10774586\\n 1.12265551 2.43832445 2.67363768 2.74097728], r_cut: [5.602329   5.8376228  7.25402339 5.00968196 9.77672069 8.94977587\\n 9.6819025  9.32488578 7.86996471 5.78846377]'"
      ]
     },
     "execution_count": 11,
     "metadata": {},
     "output_type": "execute_result"
    }
   ],
   "source": [
    "f'p: {CFG.p}, r_cut: {CFG.r_cut}'"
   ]
  },
  {
   "cell_type": "markdown",
   "metadata": {},
   "source": [
    "---"
   ]
  },
  {
   "cell_type": "markdown",
   "metadata": {},
   "source": [
    "## Код для создания моих csv файлов из .xyz или .force"
   ]
  },
  {
   "cell_type": "markdown",
   "metadata": {},
   "source": [
    "Используя np.reshape() можно 1d array превращать в матрицу просто"
   ]
  },
  {
   "attachments": {},
   "cell_type": "markdown",
   "metadata": {},
   "source": [
    "**Create csv_from_force - функция, которая создает цсв-хи с которыми я работаю из LAMMPS-овского аутпута**"
   ]
  },
  {
   "cell_type": "code",
   "execution_count": 12,
   "metadata": {},
   "outputs": [
    {
     "name": "stdout",
     "output_type": "stream",
     "text": [
      "use_particles is not None - forces will be recalculated anyway\n",
      "NO FILE FOR 2 PARTICLES TO CREATE CSV FROM\n"
     ]
    }
   ],
   "source": [
    "# read_path = f'high_T1_{CFG.N}particle.force'\n",
    "read_path = None\n",
    "\n",
    "lines_read_coef = 1500\n",
    "\n",
    "# Создаем цсвшки для координат и силы:\n",
    "try:\n",
    "    create_csv_from_force(\n",
    "        write_folder=\"coords_and_forces\",\n",
    "\n",
    "        # read_path='high_T.force',\n",
    "        read_path=read_path,\n",
    "\n",
    "        use_particles=2,\n",
    "\n",
    "        recalculate_forces=True if MODE == \"forces\" else False,\n",
    "        # step = 1,\n",
    "        lines_read_coef=lines_read_coef,\n",
    "    )\n",
    "except:\n",
    "    print(\n",
    "        f\"NO FILE FOR {CFG.N} PARTICLES TO CREATE CSV FROM\"\n",
    "    )"
   ]
  },
  {
   "cell_type": "code",
   "execution_count": 13,
   "metadata": {},
   "outputs": [],
   "source": [
    "# velocity_path = read_path.split(\".\")[0] + \".velocity\" if MODE == \"movements\" else None\n",
    "velocity_path = None\n",
    "\n",
    "#Создаем цсвшки для скоростей:\n",
    "try:\n",
    "    if velocity_path:\n",
    "        create_csv_from_force(\n",
    "        write_folder=\"coords_and_forces\",        # СОХРАНЯЕМ ЦСВШКУ ДЛЯ СКОРОСТЕЙ ИМЕННО К СИЛАМ, ПОТОМУ ЧТО МЫ ДОЛЖНЫ ДРОПНУТЬ ПОСЛЕДНЮЮ СТРОЧКУ И ЕЩЕ СДЕЛАТЬ STEP - ЭТО ДЕЛАЕТСЯ КАК РАЗ ВНУТРИ ФУНКЦИИ СОЗДАНИЯ MOVEMENTS.CSV\n",
    "\n",
    "        # read_path='high_T.force',\n",
    "        read_path=velocity_path,\n",
    "\n",
    "        use_particles=CFG.N,\n",
    "        recalculate_forces=False if MODE==\"movements\" else True,      # СУПЕР ВАЖНО - ПОТОМУ ЧТО СКОРОСТИ ТАМ КАК СИЛЫ ВОСПРИНИМАЮТСЯ В КОДЕ...,\n",
    "\n",
    "        velocity_regime=True,\n",
    "        # step = 1,\n",
    "        lines_read_coef=lines_read_coef,\n",
    "        )\n",
    "\n",
    "except:\n",
    "    print(\n",
    "        f\"NO FILE FOR {CFG.N} PARTICLES TO CREATE CSV FROM\"\n",
    "    )"
   ]
  },
  {
   "cell_type": "markdown",
   "metadata": {},
   "source": [
    "---"
   ]
  },
  {
   "cell_type": "code",
   "execution_count": 14,
   "metadata": {},
   "outputs": [],
   "source": [
    "def create_df_with_coords(coords_file_path = None, forces_file_path = None):\n",
    "    '''\n",
    "    just makes df from .csvs with coords and forces\n",
    "    '''\n",
    "    coords = pd.read_csv(coords_file_path)\n",
    "    forces = pd.read_csv(forces_file_path)\n",
    "\n",
    "    # print(len(coords), len(forces))\n",
    "\n",
    "    # print(\n",
    "    #     pd.concat([coords, forces], axis=1).notna().sum()\n",
    "    # )\n",
    "\n",
    "    if CFG.N != int(coords.columns[-1][:-1]) + 1:\n",
    "        raise Exception('Constant N is not equal to amount of particles in .csv')\n",
    "\n",
    "    # return pd.merge(left=coords, right=forces, on='t').drop('t', axis='columns')\n",
    "    # return coords.join(forces.set_index(\"t\"), on=\"t\")\n",
    "    return pd.concat([coords, forces], axis=1)"
   ]
  },
  {
   "cell_type": "markdown",
   "metadata": {},
   "source": [
    "12 индекс - 1 отн 2\n",
    "\n",
    "$$\n",
    "\\vec{r_1} = \\vec{r_2} + \\vec{r}_{12}\n",
    "$$\n",
    "\n",
    "$$\n",
    "\\vec{r}_{12} = \\vec{r_1} - \\vec{r}_{2}\n",
    "$$"
   ]
  },
  {
   "cell_type": "code",
   "execution_count": 15,
   "metadata": {},
   "outputs": [],
   "source": [
    "def _get_relative_positions(row, atom_number, naming_of_target_in_csv=naming_of_target_in_csv):\n",
    "    '''\n",
    "    This function processes one row of csv into something that we can work with\n",
    "\n",
    "    Returns np.array matrix that consists of relative positions vectors for passed atom_number to every other atom\n",
    "    and then we can chose only closest N_neighbours in the next functions\n",
    "    \n",
    "    row: df.iloc[row] - typeof(row): pd.Series\n",
    "    \n",
    "    returns: Rel_matrix, f_vec\n",
    "    '''\n",
    "\n",
    "    s_coord = pd.Series(dtype=float)\n",
    "    other_atom_numbers = [i for i in range(CFG.N) if i != atom_number]\n",
    "\n",
    "    for other_numb in other_atom_numbers:\n",
    "        index = str(atom_number) + str(other_numb)\n",
    "        for axis in ['x', 'y', 'z']:\n",
    "            s_coord[index + axis] = row[str(atom_number) + axis] - row[str(other_numb) + axis]\n",
    "\n",
    "    # we need force vector only for atom_number:\n",
    "    force_vec = []\n",
    "    for f_axis in naming_of_target_in_csv:\n",
    "        force_vec.append(row[str(atom_number) + f_axis])\n",
    "\n",
    "    Rel_matrix = []\n",
    "    cur_vector = []\n",
    "\n",
    "    for (i, elem) in enumerate(s_coord.values):\n",
    "        if i % 3 == 0 and i != 0:\n",
    "            Rel_matrix.append(cur_vector)\n",
    "            cur_vector = []\n",
    "\n",
    "        cur_vector.append(elem)\n",
    "    Rel_matrix.append(cur_vector)\n",
    "\n",
    "    # print('rel_dists: ', Rel_matrix)\n",
    "\n",
    "    return np.array(Rel_matrix), np.array(force_vec)"
   ]
  },
  {
   "cell_type": "code",
   "execution_count": 16,
   "metadata": {},
   "outputs": [],
   "source": [
    "from sklearn.preprocessing import normalize"
   ]
  },
  {
   "cell_type": "code",
   "execution_count": 17,
   "metadata": {},
   "outputs": [],
   "source": [
    "def create_V_i(i, normalized_m, norms, r_cut=CFG.r_cut, p=CFG.p):\n",
    "    '''\n",
    "    normalized_m: matrix of relative distances, where rows - normalized vectors\n",
    "    i: i-th component of r_cut and p, i in range 1..K (or in 0..K-1 in code)\n",
    "    '''\n",
    "    transf_vecs = make_matrix_transformed(normalized_m, norms[:, np.newaxis], r_cut[i], p[i])\n",
    "\n",
    "    return np.sum(transf_vecs, axis=0)\n",
    "\n",
    "# @njit(parallel=True)\n",
    "def create_V(normalized_m, norms, K=CFG.K):\n",
    "    '''\n",
    "    creates V\n",
    "    '''\n",
    "    V = []\n",
    "    for i in range(K):\n",
    "        V.append(\n",
    "            create_V_i(i, normalized_m, norms)\n",
    "        )\n",
    "\n",
    "    return np.stack(V)"
   ]
  },
  {
   "cell_type": "code",
   "execution_count": 18,
   "metadata": {},
   "outputs": [],
   "source": [
    "def force(r):\n",
    "    '''\n",
    "    r is a vector from one particle to another\n",
    "    '''\n",
    "\n",
    "    d = norm(r)\n",
    "\n",
    "    f = 4 * (12 * pow(d, -13) - 6 * pow(d, -7)) * (r / d)\n",
    "\n",
    "    # f = -10 * r\n",
    "\n",
    "    return f\n",
    "\n",
    "\n",
    "# @njit(\n",
    "#     # parallel=True,\n",
    "#     # fastmath=True\n",
    "#     )\n",
    "def _calculate_matrix_for_atom(relative_distances, rel_vel=None, r_cut=CFG.r_cut, p=CFG.p, N_neig=CFG.N_neig, K=CFG.K, use_orthogonal=False, use_A_t=True):\n",
    "    '''\n",
    "\n",
    "    relative_distances: np.array matrix of relative distance vectors\n",
    "\n",
    "    '''\n",
    "    \n",
    "    # Only closest N_neig are counting:\n",
    "    indexlist = np.argsort(norm(relative_distances, axis=1))\n",
    "\n",
    "    relative_distances = relative_distances[indexlist[len(relative_distances) - N_neig:]]\n",
    "\n",
    "    norms = norm(relative_distances, axis=-1)\n",
    "\n",
    "    normalized_rel_distances = relative_distances / norms[:, np.newaxis]\n",
    "\n",
    "    # ------СТАНДАРТНЫЙ РЕЖИМ:-------------------\n",
    "    # V = create_V(normalized_rel_distances, norms)\n",
    "\n",
    "\n",
    "    # if use_orthogonal and CFG.K == 3:\n",
    "    #     diagonal_V_matr = [[0] * CFG.K for i in range(K)]\n",
    "    #     for i in range(K):\n",
    "    #         diagonal_V_matr[i][i] = V[i][i]\n",
    "    #     V = np.array(\n",
    "    #         diagonal_V_matr\n",
    "    #     )\n",
    "    # ----------------ДЛЯ 2 ЧАСТИЦ РЕЖИМ:----------------------------\n",
    "\n",
    "    cross_vec = np.cross(relative_distances.squeeze(), rel_vel)\n",
    "    cross_vec = cross_vec / norm(cross_vec)\n",
    "\n",
    "    r = relative_distances.squeeze()\n",
    "\n",
    "    V = np.vstack(\n",
    "        [r,\n",
    "        force(r),\n",
    "        rel_vel\n",
    "        # np.cross(relative_distances.squeeze(), rel_vel)\n",
    "        ]\n",
    "    )\n",
    "    # print(relative_distances.squeeze(), rel_vel, np.cross(relative_distances, rel_vel))\n",
    "\n",
    "    A = V / norm(V, axis=-1)[:, np.newaxis]\n",
    "\n",
    "    # print(V)\n",
    "    # print(get_pinv(A))\n",
    "\n",
    "    if use_A_t:\n",
    "        X = V @ A.T\n",
    "    else:\n",
    "        X = V\n",
    "\n",
    "    return X, A"
   ]
  },
  {
   "cell_type": "code",
   "execution_count": 19,
   "metadata": {},
   "outputs": [],
   "source": [
    "def get_matrix_for_atom(row=None, row_vels=None, atom_number=None, N_neig=CFG.N_neig, use_orthogonal=True, use_A_t=True, naming_of_target_in_csv=naming_of_target_in_csv):\n",
    "    '''\n",
    "\n",
    "    This function will create X matrix for passed atom with\n",
    "    arrays of r_cut and p of length k\n",
    "\n",
    "    It is a wrapper for _get_relative_positions and _calculate_matrix_for_atom, so I can speed up matrix calculations\n",
    "    with numba for _calculate_matrix_for_atom\n",
    "\n",
    "    atom_number: a number of atom that we are passing\n",
    "    row: one row from df_with_coords, i.e. df.iloc[index_of_row]\n",
    "\n",
    "    '''\n",
    "    # creating row of relative coordinates for concrete atom:\n",
    "    relative_distances, f_vec = _get_relative_positions(row=row, atom_number=atom_number, naming_of_target_in_csv=naming_of_target_in_csv)\n",
    "    rel_vel = None\n",
    "    if row_vels is not None:\n",
    "        vel0 = np.array(row_vels[[\"0v_x\", \"0v_y\", \"0v_z\"]])\n",
    "        vel1 = np.array(row_vels[[\"1v_x\", \"1v_y\", \"1v_z\"]])\n",
    "        if atom_number == 0:\n",
    "            rel_vel = vel0 - vel1\n",
    "        else:\n",
    "            rel_vel = vel1 - vel0\n",
    "\n",
    "    X, A = _calculate_matrix_for_atom(relative_distances=relative_distances, rel_vel=rel_vel, N_neig=N_neig, use_orthogonal=use_orthogonal, use_A_t=use_A_t)\n",
    "    \n",
    "    return X, f_vec, A\n",
    "\n",
    "# %timeit get_matrix_for_atom(row=df.iloc[0], atom_number=1)"
   ]
  },
  {
   "cell_type": "markdown",
   "metadata": {},
   "source": [
    "**У нас будет train и val выборки, все-таки выборку, для который известен таргет принято называть validation, на которой мы качество оцениваем, а test это все-таки выборка, для который неизвестны таргеты**"
   ]
  },
  {
   "cell_type": "code",
   "execution_count": 20,
   "metadata": {},
   "outputs": [],
   "source": [
    "def clean_df(df: pd.DataFrame, f_threshold = CFG.f_threshold, coord_threshold=CFG.coord_threshold, f_min_threshold=CFG.f_min_threshold,\n",
    "            naming_of_target_in_csv=naming_of_target_in_csv):\n",
    "    '''\n",
    "\n",
    "    Убирает строчки с аномально большими силами из df\n",
    "\n",
    "    Также убирает нижни силы, меньше f_min_threshold\n",
    "\n",
    "    '''\n",
    "\n",
    "    indexes_for_deletion = set()\n",
    "\n",
    "    for numb in range(CFG.N):\n",
    "        for coord in naming_of_target_in_csv:\n",
    "\n",
    "            indexes_for_deletion = indexes_for_deletion.union(\n",
    "                set(df[abs(df[str(numb) + coord]) > f_threshold].index)\n",
    "            )\n",
    "\n",
    "            indexes_for_deletion = indexes_for_deletion.union(\n",
    "                set(df[abs(df[str(numb) + coord]) < f_min_threshold].index)\n",
    "            )\n",
    "\n",
    "        for coord in ['x', 'y', 'z']:\n",
    "            indexes_for_deletion = indexes_for_deletion.union(\n",
    "                set(df[abs(df[str(numb) + coord]) > coord_threshold].index)\n",
    "            )\n",
    "\n",
    "    return df.drop(list(indexes_for_deletion))"
   ]
  },
  {
   "cell_type": "code",
   "execution_count": 21,
   "metadata": {},
   "outputs": [],
   "source": [
    "@njit\n",
    "def get_pinv(A):\n",
    "    '''\n",
    "\n",
    "    returns pseudoinverse matrix for input\n",
    "\n",
    "    '''\n",
    "    return np.linalg.pinv(A)\n",
    "\n",
    "def get_projections(vec_to_project, mat_of_directions):\n",
    "    '''\n",
    "\n",
    "    returns projection of vec_to_project on every vector from mat_of_directions\n",
    "\n",
    "    '''\n",
    "    return (mat_of_directions @ vec_to_project) / norm(mat_of_directions, axis=-1)\n",
    "\n",
    "def create_tensor_dataset(\n",
    "    coords_path = 'coords.csv', forces_path = 'forces.csv', step=1, transform=transforms.ToTensor(), length=None,\n",
    "    f_threshold=CFG.f_threshold,\n",
    "    coord_threshold=CFG.coord_threshold,\n",
    "    clean=True,\n",
    "    use_orthogonal=False,\n",
    "    use_A_t=True,\n",
    "    path_to_vel=None,\n",
    "    \n",
    "    use_vel=True,\n",
    "    \n",
    "    naming_of_target_in_csv=naming_of_target_in_csv,\n",
    "\n",
    "    atoms_to_use=range(CFG.N)\n",
    "    ):\n",
    "    '''\n",
    "\n",
    "    Примитивная версия датасета, просто все будет хранить в одном списке...\n",
    "\n",
    "    Эта функция - wrapper на все выше написанные функции, она по переданным путям к .csv\n",
    "    возвращает тензор из матриц для каждого атома в каждой строчке и тензор из векторов сил\n",
    "\n",
    "    ИНогда есть смысл делать побольше шаг между соседними строчками, поскольку если есть почти одинаковые матрицы, то\n",
    "    это по-сути линейная зависимость и модель тогда надо сильнее регулизировать\n",
    "\n",
    "    transform: преобразование к X части датасета, в основном для нормализации нужно, хотя о нормализации надо еще подумать и будет ли тогда наше МНК через матрицу A+ работать\n",
    "\n",
    "    step: через сколько строчек шагать при чтении csv в датасет, чтобы уж совсем одинаковых не было\n",
    "\n",
    "    use_A_t: Использовать ли X = VA^T или X=V (при k!= 3 матрица будет не квадратной)\n",
    "\n",
    "    Возвращает: list of (X, k_dim_f, A_pinv, F_3D)\n",
    "\n",
    "    '''\n",
    "\n",
    "    dataset = []\n",
    "\n",
    "    df = create_df_with_coords(coords_file_path=coords_path, forces_file_path=forces_path)\n",
    "    if length:\n",
    "        df = df.loc[range(length)]\n",
    "\n",
    "    # чистка df от больших сил\n",
    "    if clean:\n",
    "        df = clean_df(df, f_threshold=f_threshold, coord_threshold=coord_threshold)\n",
    "\n",
    "    if MODE == \"movements\" and use_vel:\n",
    "        if path_to_vel:\n",
    "            df_vels = pd.read_csv(path_to_vel, index_col=False)\n",
    "        else:\n",
    "            df_vels = pd.read_csv(\"./coords_and_movements/\" + f'velocities{CFG.N}.csv', index_col=False)\n",
    "\n",
    "    row_indexes = [idx for i, idx in enumerate(df.index) if i % step == 0]\n",
    "\n",
    "    for atom_number in atoms_to_use:\n",
    "        for index in tqdm(row_indexes, desc=f'Progress for atom {atom_number}'):\n",
    "            row = df.iloc[index]\n",
    "\n",
    "            row_vels = df_vels.iloc[index]\n",
    "            columns_to_get_vels_from = [str(atom_number) + elem for elem in [\"v_x\", \"v_y\", \"v_z\"]]\n",
    "            vel_vec = torch.tensor(row_vels[columns_to_get_vels_from])\n",
    "\n",
    "            x, F_3D, A = get_matrix_for_atom(row=row, row_vels=row_vels, atom_number=atom_number, use_orthogonal=use_orthogonal, use_A_t=use_A_t, naming_of_target_in_csv=naming_of_target_in_csv)\n",
    "            if transform:\n",
    "                x = transform(x)\n",
    "            else:\n",
    "                x = torch.tensor(x)\n",
    "            x = x.to(torch.float)\n",
    "            # print(x)\n",
    "\n",
    "            k_dim_f = get_projections(vec_to_project=F_3D, mat_of_directions=A)\n",
    "            flat_x = torch.flatten(x)\n",
    "\n",
    "            k_dim_v = get_projections(vec_to_project=vel_vec.numpy(), mat_of_directions=A)\n",
    "            flat_x = torch.cat([flat_x, torch.tensor(k_dim_v)])\n",
    "\n",
    "            dataset.append(\n",
    "                (flat_x.to(torch.float), torch.tensor(k_dim_f, dtype=torch.float), torch.tensor(get_pinv(A), dtype=torch.float), torch.tensor(F_3D, dtype=torch.float))\n",
    "                )\n",
    "            \n",
    "            # В дальнейшем для других моделей может иметь смысл хранить и возвращать тут (x, f, A), где A - соответствующая матрица для X\n",
    "\n",
    "    gc.collect()\n",
    "\n",
    "    return dataset"
   ]
  },
  {
   "cell_type": "code",
   "execution_count": 22,
   "metadata": {},
   "outputs": [],
   "source": [
    "folder = \"coords_and_\" + MODE   # MODE справа\n",
    "\n",
    "coords_file_path = folder + '/coords' + str(CFG.N) + '.csv'\n",
    "forces_file_path = folder + '/' + MODE + str(CFG.N) + '.csv'    # и здесь тоже MODE вместо forces\n",
    "velocities_file_path = folder + '/' + 'velocities' + str(CFG.N) + '.csv'\n",
    "d_velocities_file_path = folder + '/' + 'd_velocities' + str(CFG.N) + '.csv'"
   ]
  },
  {
   "cell_type": "markdown",
   "metadata": {},
   "source": [
    "**В файлах которые я пилю руками на своем коде - там запись в файлы не с начала движения может быть**"
   ]
  },
  {
   "cell_type": "code",
   "execution_count": 23,
   "metadata": {},
   "outputs": [],
   "source": [
    "dataset_step = 10\n",
    "dt *= dataset_step"
   ]
  },
  {
   "cell_type": "code",
   "execution_count": 24,
   "metadata": {},
   "outputs": [],
   "source": [
    "def create_movements_csv(N, step=1, coords_path_to_get_movements_from=None, convert_to_csv=True, create_d_velocity=False, path_to_get_velocities_from=None,\n",
    "        dt=None, minus_vdt=minus_vdt):\n",
    "    '''\n",
    "    N - number of particles in coordsN.csv file that will be used to calculate movements\n",
    "    step - step for parsing rows of dataframe\n",
    "\n",
    "    coords_path_to_get_movements_from if not passed, will be ./coords_and_forces/coords\" + str(N)\n",
    "\n",
    "    convert_to_csv: True by default, if False - will return dataframe object\n",
    "\n",
    "    create_d_velocity: this function is also used to create d_velocities, if True - will create d_velocitiesN.csv\n",
    "\n",
    "    path_to_get_velocities_from: default path for velocities, to sync rows we need to select rows with a step and drop last one and then save\n",
    "    '''\n",
    "    if coords_path_to_get_movements_from is None:\n",
    "        coord_rows = pd.read_csv(\"./coords_and_forces/coords\" + str(N) + \".csv\")[::step]\n",
    "    else:\n",
    "        coord_rows = pd.read_csv(coords_path_to_get_movements_from)[::step]\n",
    "    coord_rows[:-1].to_csv(\"./coords_and_movements/coords\" + str(N) + \".csv\", index=False)\n",
    "\n",
    "    if path_to_get_velocities_from is None:\n",
    "        vel_rows = pd.read_csv(\"./coords_and_forces/velocities\" + str(N) + \".csv\")[::step]\n",
    "    else:\n",
    "        vel_rows = pd.read_csv(path_to_get_velocities_from)[::step]\n",
    "    vel_rows[:-1].to_csv(\"./coords_and_movements/velocities\" + str(N) + \".csv\", index=False)\n",
    "\n",
    "    movements = defaultdict(list)\n",
    "\n",
    "    naming = [\"t\"]\n",
    "    for i in range(N):\n",
    "        naming.extend([str(i) + \"s_x\", str(i) + \"s_y\", str(i) + \"s_z\"])\n",
    "    \n",
    "    for row_numb in range(len(coord_rows) - 1):\n",
    "        cur_coords = coord_rows.iloc[row_numb].to_numpy()\n",
    "        next_coords = coord_rows.iloc[row_numb + 1].to_numpy()\n",
    "        delta = (next_coords - cur_coords)\n",
    "        # Если вычитать vdt:\n",
    "        if minus_vdt:\n",
    "            cur_vels = np.array(vel_rows.iloc[row_numb])\n",
    "            delta -= dt * cur_vels\n",
    "        for i in range(len(naming)):\n",
    "            movements[naming[i]].append(delta[i])\n",
    "\n",
    "\n",
    "    if create_d_velocity:\n",
    "        d_velocities = defaultdict(list)\n",
    "\n",
    "        naming = [\"t\"]\n",
    "        for i in range(N):\n",
    "            naming.extend([str(i) + \"dv_x\", str(i) + \"dv_y\", str(i) + \"dv_z\"])\n",
    "        \n",
    "        for row_numb in range(len(vel_rows) - 1):\n",
    "            cur_coords = vel_rows.iloc[row_numb].to_numpy()\n",
    "            next_coords = vel_rows.iloc[row_numb + 1].to_numpy()\n",
    "            delta = (next_coords - cur_coords)\n",
    "            for i in range(len(naming)):\n",
    "                d_velocities[naming[i]].append(delta[i])    \n",
    "\n",
    "        d_velocities = pd.DataFrame(d_velocities)\n",
    "        d_velocities.to_csv(\"./coords_and_movements/d_velocities\" + str(N) + \".csv\", index=False)\n",
    "    \n",
    "    movements = pd.DataFrame(movements)\n",
    "    if convert_to_csv:\n",
    "        movements.to_csv(\"./coords_and_movements/movements\" + str(N) + \".csv\", index=False)\n",
    "    else:\n",
    "        return movements"
   ]
  },
  {
   "cell_type": "code",
   "execution_count": 25,
   "metadata": {},
   "outputs": [],
   "source": [
    "# movements.csv are created based on coords.csv in forces and then coords.csv gets cut and saved in movements folder and we get syncronized by amount of rows csv files\n",
    "\n",
    "# So create movements.csv now does not cut velocity.csv\n",
    "if MODE == \"movements\":\n",
    "    create_movements_csv(\n",
    "        #TODO: make create_movements.csv also cut default velocity file and save its cut version into movements folder\n",
    "        N=CFG.N,\n",
    "        step=1,\n",
    "\n",
    "        coords_path_to_get_movements_from=f'./LJ_modeling_realization/coords{CFG.N}.csv',\n",
    "        path_to_get_velocities_from=f'./LJ_modeling_realization/velocities{CFG.N}.csv',\n",
    "\n",
    "        create_d_velocity=True,\n",
    "\n",
    "        minus_vdt=minus_vdt,\n",
    "\n",
    "        dt=dt\n",
    "    )"
   ]
  },
  {
   "attachments": {},
   "cell_type": "markdown",
   "metadata": {},
   "source": [
    "Трабла с тем, что делим на нуль, если по одной оси одинаковая координата и мы делаем use_orthogonal"
   ]
  },
  {
   "cell_type": "code",
   "execution_count": 26,
   "metadata": {},
   "outputs": [
    {
     "data": {
      "text/plain": [
       "(array([[ 1.22000759, -1.22000759,  0.20140528],\n",
       "        [-2.34736845,  2.34736845, -0.38751595],\n",
       "        [ 0.58087349, -0.58087349,  3.51862707]]),\n",
       " array([-0.00084324, -0.0003723 ,  0.00128742]),\n",
       " array([[-0.74685907,  0.1847334 , -0.63880757],\n",
       "        [ 0.74685907, -0.1847334 ,  0.63880757],\n",
       "        [ 0.5325629 ,  0.23512891, -0.81307512]]))"
      ]
     },
     "execution_count": 26,
     "metadata": {},
     "output_type": "execute_result"
    }
   ],
   "source": [
    "df = create_df_with_coords(coords_file_path, forces_file_path)\n",
    "df_vels = pd.read_csv(velocities_file_path)\n",
    "\n",
    "row = df.iloc[10]\n",
    "row_vels = df_vels.iloc[10]\n",
    "\n",
    "\n",
    "get_matrix_for_atom(row=row, row_vels=row_vels, atom_number=0, use_orthogonal=True)"
   ]
  },
  {
   "cell_type": "code",
   "execution_count": 27,
   "metadata": {},
   "outputs": [
    {
     "name": "stderr",
     "output_type": "stream",
     "text": [
      "Progress for atom 0: 100%|██████████| 250/250 [00:01<00:00, 140.88it/s]\n",
      "Progress for atom 1: 100%|██████████| 250/250 [00:00<00:00, 329.10it/s]\n"
     ]
    }
   ],
   "source": [
    "atoms_to_use = [0, 1]\n",
    "# ошибка при use_orthogonal, если частицы на одной оси стоят и там тогда вектор [0, 0, 0]\n",
    "\n",
    "dataset = create_tensor_dataset(\n",
    "    coords_path=coords_file_path,\n",
    "    forces_path=forces_file_path,\n",
    "\n",
    "    path_to_vel=velocities_file_path,\n",
    "    # use_vel=False,\n",
    "\n",
    "    step=dataset_step,\n",
    "\n",
    "    clean=False,\n",
    "    use_orthogonal=False,     # оно может сработать только для K=3, так как матрица V размера K x 3\n",
    "\n",
    "    use_A_t=True,\n",
    "    # use_A_t=False\n",
    "    atoms_to_use=atoms_to_use\n",
    ")"
   ]
  },
  {
   "cell_type": "code",
   "execution_count": 28,
   "metadata": {},
   "outputs": [],
   "source": [
    "dataset_folder = \"dataset_objects/\" + MODE + '/'\n",
    "torch.save(dataset, dataset_folder + str(CFG.N) + '_dataset_K_' + str(CFG.K) + '.pt')"
   ]
  },
  {
   "cell_type": "markdown",
   "metadata": {},
   "source": [
    "**Распределение для первого элемента матрицы:**"
   ]
  },
  {
   "cell_type": "code",
   "execution_count": 29,
   "metadata": {},
   "outputs": [
    {
     "data": {
      "image/png": "[encoded data removed]",
      "text/plain": [
       "<Figure size 720x504 with 1 Axes>"
      ]
     },
     "metadata": {
      "needs_background": "light"
     },
     "output_type": "display_data"
    }
   ],
   "source": [
    "plt.figure(figsize=(10, 7))\n",
    "sns.violinplot(\n",
    "    x=[elem[0][0].item() for elem in dataset], width=0.7\n",
    ")\n",
    "None"
   ]
  },
  {
   "cell_type": "code",
   "execution_count": 30,
   "metadata": {},
   "outputs": [],
   "source": [
    "from sklearn.preprocessing import MinMaxScaler"
   ]
  },
  {
   "cell_type": "code",
   "execution_count": 31,
   "metadata": {},
   "outputs": [],
   "source": [
    "dataset1 = dataset.copy()"
   ]
  },
  {
   "cell_type": "code",
   "execution_count": 32,
   "metadata": {},
   "outputs": [],
   "source": [
    "# dataset = dataset1[:1000]"
   ]
  },
  {
   "cell_type": "markdown",
   "metadata": {},
   "source": [
    "**Отрисовать Верле и отрисовать само трушное:**"
   ]
  },
  {
   "cell_type": "code",
   "execution_count": 33,
   "metadata": {},
   "outputs": [
    {
     "data": {
      "image/png": "[encoded data removed]",
      "text/plain": [
       "<Figure size 1080x1080 with 9 Axes>"
      ]
     },
     "metadata": {
      "needs_background": "light"
     },
     "output_type": "display_data"
    }
   ],
   "source": [
    "X = (torch.stack([elem[0] for elem in dataset]))\n",
    "x11 = X[:, 0]\n",
    "x22 = X[:, 4]\n",
    "x33 = X[:, 8]\n",
    "\n",
    "Y_true = torch.stack([elem[1] for elem in dataset])\n",
    "\n",
    "# plot_2d_result(\n",
    "#     x11,\n",
    "#     y_true=Y_true if len(dataset[0][1]) == 1 else Y_true[:, 0],\n",
    "#     figsize=(10, 7)\n",
    "# )\n",
    "\n",
    "plot_matrix(X=X[:, :CFG.K * CFG.K], Y_true=Y_true, K=CFG.K)"
   ]
  },
  {
   "cell_type": "markdown",
   "metadata": {},
   "source": [
    "$$\n",
    "X = V A^T\n",
    "$$\n",
    "Если все элементы матрицы V одинаковые, то матрица A имеет вид"
   ]
  },
  {
   "cell_type": "markdown",
   "metadata": {},
   "source": [
    "**У нас все-таки перемещения и у них проекции не равны будут в векторе перемещений даже если все V_i совпадают**"
   ]
  },
  {
   "cell_type": "markdown",
   "metadata": {},
   "source": [
    "Виды изменения матрицы X:\n",
    "\n",
    "- K=3:\n",
    "    - делать матрицу V вида: diag(V[0][0], V[1][1], V2][2]); позволяет избежать близости векторов внутри V за счет чего получаем более далекие значения а еще матрица pinv_a тогда не сингулярная - теряется симметрия относительно вращений (а может и нет кстати)\n",
    "\n",
    "    - делать X = V вместо AV^T - так мы обучаемся прямо на модельных \"силах\" и знак так не съедается (мб стоит попробовать sgn добавить чтобы знак не хавался) - теряется симметрия относительно вращений"
   ]
  },
  {
   "attachments": {},
   "cell_type": "markdown",
   "metadata": {},
   "source": [
    "# Для модели для предсказания скоростей по тем же фичам:"
   ]
  },
  {
   "cell_type": "code",
   "execution_count": 34,
   "metadata": {},
   "outputs": [],
   "source": [
    "def create_dataset_object_for_d_velocities(atoms_to_use, step=dataset_step, coords_path=coords_file_path, velocities_path=velocities_file_path, d_velocities_path=d_velocities_file_path, use_orthogonal=False):\n",
    "    '''\n",
    "    creates.pt for velocities: it will be a dataset object, which will be the same dataset as for movements/forces, but with dv instead of ds or f\n",
    "    '''\n",
    "\n",
    "    dataset = create_tensor_dataset(\n",
    "        step=step,\n",
    "\n",
    "        coords_path=coords_path,\n",
    "        forces_path=d_velocities_path,\n",
    "\n",
    "        path_to_vel=velocities_path,\n",
    "        # use_vel=False,\n",
    "\n",
    "        clean=False,\n",
    "        use_orthogonal=use_orthogonal,     # оно может сработать только для K=3, так как матрица V размера K x 3\n",
    "\n",
    "        use_A_t=True,\n",
    "        \n",
    "        atoms_to_use=atoms_to_use,\n",
    "\n",
    "        naming_of_target_in_csv=[\"dv_x\", \"dv_y\", \"dv_z\"]\n",
    "        # use_A_t=False\n",
    "    )\n",
    "    dataset_folder = \"dataset_objects/\" + \"d_velocities\" + '/'\n",
    "    torch.save(dataset, dataset_folder + str(CFG.N) + '_dataset_K_' + str(CFG.K) + '.pt')\n",
    "\n",
    "    return dataset"
   ]
  },
  {
   "attachments": {},
   "cell_type": "markdown",
   "metadata": {},
   "source": [
    "Делаем так: При создании movements у нас создаются файлы для скоростей и для координат внутри coords_and_movements"
   ]
  },
  {
   "cell_type": "code",
   "execution_count": 35,
   "metadata": {},
   "outputs": [
    {
     "name": "stderr",
     "output_type": "stream",
     "text": [
      "Progress for atom 0: 100%|██████████| 250/250 [00:00<00:00, 354.11it/s]\n",
      "Progress for atom 1: 100%|██████████| 250/250 [00:00<00:00, 372.18it/s]\n"
     ]
    }
   ],
   "source": [
    "vel_dataset = create_dataset_object_for_d_velocities(\n",
    "    atoms_to_use=atoms_to_use,\n",
    "\n",
    "    use_orthogonal=False\n",
    ")\n",
    "None"
   ]
  },
  {
   "cell_type": "code",
   "execution_count": 36,
   "metadata": {},
   "outputs": [
    {
     "data": {
      "text/plain": [
       "(tensor([ 1.2194, -1.2194,  0.1995, -2.3448,  2.3448, -0.3836,  0.5757, -0.5757,\n",
       "          3.5194,  0.2878, -0.2878,  1.7597]),\n",
       " tensor([-2.3450e-04,  2.3450e-04, -3.8390e-05]),\n",
       " tensor([[-0.4293,  0.4293,  0.6719],\n",
       "         [ 0.0748, -0.0748,  0.2108],\n",
       "         [-0.2588,  0.2588, -0.7291]]),\n",
       " tensor([ 1.7556e-04, -4.3188e-05,  1.4934e-04]))"
      ]
     },
     "execution_count": 36,
     "metadata": {},
     "output_type": "execute_result"
    }
   ],
   "source": [
    "vel_dataset[0]"
   ]
  },
  {
   "cell_type": "code",
   "execution_count": 37,
   "metadata": {},
   "outputs": [
    {
     "data": {
      "image/png": "[encoded data removed]",
      "text/plain": [
       "<Figure size 1080x1080 with 9 Axes>"
      ]
     },
     "metadata": {
      "needs_background": "light"
     },
     "output_type": "display_data"
    }
   ],
   "source": [
    "X_vel = (torch.stack([elem[0] for elem in vel_dataset]))\n",
    "x11 = X_vel[:, 0]\n",
    "x22 = X_vel[:, 4]\n",
    "x33 = X_vel[:, 8]\n",
    "\n",
    "Y_true = torch.stack([elem[1] for elem in vel_dataset])\n",
    "\n",
    "# plot_2d_result(\n",
    "#     x11,\n",
    "#     y_true=Y_true if len(dataset[0][1]) == 1 else Y_true[:, 0],\n",
    "#     figsize=(10, 7)\n",
    "# )\n",
    "\n",
    "plot_matrix(X=X_vel[:, :CFG.K * CFG.K], Y_true=Y_true, K=CFG.K)"
   ]
  },
  {
   "cell_type": "markdown",
   "metadata": {},
   "source": [
    "---\n",
    "---\n",
    "---"
   ]
  },
  {
   "cell_type": "markdown",
   "metadata": {},
   "source": [
    "---\n",
    "---\n",
    "---"
   ]
  }
 ],
 "metadata": {
  "kernelspec": {
   "display_name": "my_3_6_conda_env",
   "language": "python",
   "name": "python3"
  },
  "language_info": {
   "codemirror_mode": {
    "name": "ipython",
    "version": 3
   },
   "file_extension": ".py",
   "mimetype": "text/x-python",
   "name": "python",
   "nbconvert_exporter": "python",
   "pygments_lexer": "ipython3",
   "version": "3.6.13"
  },
  "orig_nbformat": 4,
  "vscode": {
   "interpreter": {
    "hash": "6b5cc6bf18c7103cb99324f044582e9ca68eda52a25f7227b20ca62cd3e32898"
   }
  }
 },
 "nbformat": 4,
 "nbformat_minor": 2
}
