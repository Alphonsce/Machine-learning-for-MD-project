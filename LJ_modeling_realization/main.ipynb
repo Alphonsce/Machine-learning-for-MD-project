{
 "cells": [
  {
   "cell_type": "code",
   "execution_count": 1,
   "metadata": {},
   "outputs": [],
   "source": [
    "import sys\n",
    "import os\n",
    "from tkinter import EXCEPTION\n",
    "sys.path.append('./includes')\n",
    "import numpy as np\n",
    "import matplotlib.pyplot as plt\n",
    "import random\n",
    "from numpy.linalg import norm\n",
    "from math import sqrt, pow, ceil\n",
    "from numba import njit\n",
    "\n",
    "from tqdm import tqdm\n",
    "\n",
    "# import ray\n",
    "# ray.init()\n",
    "\n",
    "from includes.constants import *\n",
    "from includes.calculations import *\n",
    "# from includes.gpu_calculations import *\n",
    "from includes.plotting import *"
   ]
  },
  {
   "cell_type": "code",
   "execution_count": 2,
   "metadata": {},
   "outputs": [],
   "source": [
    "!rm *.csv *.xyz"
   ]
  },
  {
   "cell_type": "code",
   "execution_count": 3,
   "metadata": {},
   "outputs": [],
   "source": [
    "def set_seed(seed=42):\n",
    "    '''\n",
    "    \n",
    "    Sets the seed of the entire notebook so results are the same every time we run.\n",
    "    This is for REPRODUCIBILITY.\n",
    "\n",
    "    '''\n",
    "    np.random.seed(seed)\n",
    "    random.seed(seed)\n",
    "    # Set a fixed value for the hash seed\n",
    "    os.environ['PYTHONHASHSEED'] = str(seed)\n",
    "    \n",
    "set_seed(30)"
   ]
  },
  {
   "cell_type": "code",
   "execution_count": 4,
   "metadata": {},
   "outputs": [],
   "source": [
    "np.random.seed(42)\n",
    "\n",
    "# Because temperature is an average kinetic energy of CHAOTIC movement, I'll need to substract\n",
    "# the speed of center of mass from the speed of every atom to calculate the temperature\n",
    "\n",
    "\n",
    "def main_cycle(spawn_on_grid=True, sigma_for_vel=False, verbose=1, bins_num=50, averaging_part=0.8, writing_step=1, device='CPU',\n",
    "    coords_path='coords.csv', forces_path='forces.csv', vel_path='velocities.csv',\n",
    "    boundary_conditions=True, boundary_conditions_teleportation=True, velocity_scaler=None):\n",
    "    '''\n",
    "\n",
    "    main cycle, all the movements and calculations will happen here\n",
    "    verbose: % of program finished to print\n",
    "    diffusion_step: once every diffusion_step all coordinates will be written for diffusion plotting\n",
    "    rho = 1 / rho_coef ** 3\n",
    "\n",
    "    boundary_conditions: овтечает за выбор частиц из других клеток при расчете сил, ЗСЭ при этом не будет выполняться, False ставим чтобы получить F(r), тогда частицы могут бешено разогнаться\n",
    "\n",
    "    boundary_conditions_teleportation: отвечает за 'телепортацию' частицы к противоположному краю клетки, чтобы все было норм с ЗСЭ надо оба включать\n",
    "\n",
    "    velocity_scaler: указываем температуру к которой скейлить\n",
    "    \n",
    "    '''\n",
    "    if str(N) not in coords_path.split('.')[0] or str(N) not in forces_path.split('.')[0]:\n",
    "        raise Exception('Writing into the wrong file (amount of particles)')\n",
    "\n",
    "    particles = initialize_system(on_grid=spawn_on_grid, sigma_for_velocity=sigma_for_vel, device=device)\n",
    "    total_pot = 0\n",
    "    total_kin = 0\n",
    "    #---\n",
    "    energies = np.array([])\n",
    "    kins = np.array([])\n",
    "    pots = np.array([])\n",
    "    #---\n",
    "    coord_writer, force_writer, vel_writer = create_coords_and_forces_writer(coords_path=coords_path, forces_path=forces_path, vel_path=vel_path)\n",
    "    steps_of_averaging = int(averaging_part * TIME_STEPS)\n",
    "    #---\n",
    "    for ts in range(TIME_STEPS):\n",
    "        write_first_rows_in_files()\n",
    "        total_pot = 0\n",
    "        total_kin = 0\n",
    "        #-----moving---------\n",
    "        for p in particles:\n",
    "            p.move(boundary_conditions_teleportation)\n",
    "            p.kin_energy = 0.5 * norm(p.vel) ** 2\n",
    "            write_into_the_files(p)\n",
    "            p.vel = p.vel + 0.5 * p.acc * dt # adding 1/2 * a(t) * dt\n",
    "            p.acc = np.zeros(3)\n",
    "            p.pot_energy = 0\n",
    "        for i in range(N):\n",
    "            for j in range(i + 1, N):\n",
    "                calculate_acceleration(particles[i], particles[j], boundary_conditions)\n",
    "        for p in particles:\n",
    "            total_kin += p.kin_energy\n",
    "            total_pot += p.pot_energy\n",
    "            p.vel += 0.5 * p.acc * dt   # adding 1/2 * a(t + dt)\n",
    "        #---\n",
    "\n",
    "        # energies = np.append(energies, total_kin + total_pot)\n",
    "        # kins = np.append(kins, total_kin)\n",
    "        # pots = np.append(pots, total_pot)      \n",
    "        T_current = (2 / 3) * (total_kin) / N\n",
    "\n",
    "        if velocity_scaler:\n",
    "            for p in particles:\n",
    "                p.vel *= sqrt(velocity_scaler / T_current)\n",
    "\n",
    "        # Starting things for a set conditions:\n",
    "        if (ts >= TIME_STEPS - steps_of_averaging) and (ts % writing_step == 0):\n",
    "\n",
    "            write_coords_and_forces(particles=particles, time=ts * dt, coord_writer=coord_writer, force_writer=force_writer, vel_writer=vel_writer)\n",
    "\n",
    "        #--------\n",
    "        if int((0.01 * TIME_STEPS)) % verbose == 0:\n",
    "            print(f'{ts} steps passed, Temp_current = {T_current}, K={total_kin}, U={total_pot}, E = {total_kin + total_pot}')\n",
    "            \n",
    "    return particles"
   ]
  },
  {
   "cell_type": "code",
   "execution_count": 5,
   "metadata": {},
   "outputs": [
    {
     "name": "stdout",
     "output_type": "stream",
     "text": [
      "[0. 0. 0.]\n",
      "[0. 0. 0.]\n"
     ]
    }
   ],
   "source": [
    "\n",
    "# ---------------------------------------- #\n",
    "\n",
    "particles = main_cycle(\n",
    "        spawn_on_grid=True,\n",
    "        \n",
    "        sigma_for_vel=0.0,\n",
    "        \n",
    "        bins_num=170, \n",
    "        \n",
    "        averaging_part=0.95,\n",
    "\n",
    "        \n",
    "        writing_step=1,\n",
    "\n",
    "        boundary_conditions=boundary_conditions,  # False, если хотим просто силы записывать - это boundary conditions на вычисление потенциальной энергии\n",
    "        boundary_conditions_teleportation=boundary_conditions_teleportation,     # Если скейлер ставить и здесь True, то никто очень сильно не разгонится\n",
    "        # velocity_scaler=0.5,\n",
    "\n",
    "        coords_path=f'coords{N}.csv',\n",
    "        forces_path=f'forces{N}.csv',\n",
    "        vel_path=f'velocities{N}.csv',\n",
    "        verbose=100\n",
    "        )\n",
    "\n",
    "        # False, True, 0.5 - типичная настройка для записи сил\n",
    "\n",
    "\n",
    "# Для каждой частицы мы берем разные 'копии' других частиц из соседних клеток, поскольку выбор оптимальных соседей для каждой частицы из главной клетки свой, \n",
    "# поэтому все что нам остается - отключить периодические условия, поскольку иначе в одной конфигурации мы можем определить силы только для одной частицы\n",
    "\n",
    "# Но их можно отключить хитро: поскольку нас волнует только зависимость F(\\vec {r}), то можно оставить телепортацию частиц при выходе из клетки, но отключить выбор частиц из других клеток при расчете сил"
   ]
  },
  {
   "attachments": {},
   "cell_type": "markdown",
   "metadata": {},
   "source": [
    "---"
   ]
  },
  {
   "cell_type": "code",
   "execution_count": 6,
   "metadata": {},
   "outputs": [],
   "source": [
    "@njit\n",
    "def pot_energy(r1, r2):\n",
    "    # Snaps particle back to the unfolded coordinate\n",
    "    r1 = r1 % L\n",
    "    r2 = r2 % L\n",
    "    r = r1 - r2\n",
    "    for i in range(3):\n",
    "        if np.abs(r[i]) > L / 2:   # Если расстояние между двумя частицами больше L/2, то мы точно найдем в соседних клетках ближе\n",
    "            r[i] = r[i] - L * np.sign(r[i])\n",
    "\n",
    "    d = norm(r)\n",
    "    return -4 * (pow(d, -6) - pow(d, -12))\n",
    "\n",
    "def plot_energy(N=N, path_coords=f\"coords{N}.csv\", path_vels=f\"velocities{N}.csv\"):\n",
    "    E = []\n",
    "    try:\n",
    "        coords = pd.read_csv(path_coords).drop(columns=[\"t\"])\n",
    "        vels = pd.read_csv(path_vels).drop(columns=[\"t\"])\n",
    "    except:\n",
    "        coords = pd.read_csv(path_coords)\n",
    "        vels = pd.read_csv(path_vels)\n",
    "    \n",
    "    for row_n in tqdm(range(len(vels))):  # TODO: ЗДЕСЬ СТОИТ vels ПОТОМУ ЧТО У МЕНЯ ПОКА БАГА И В КООРДС НА ОДНУ СТРОЧКУ БОЛЬШЕ ПОЧЕМУ-ТО...\n",
    "        V = 0\n",
    "        T = 0\n",
    "        for i in range(N):\n",
    "            r_i = np.array(coords.iloc[row_n, (3 * i):(3 * i) + 3])\n",
    "\n",
    "            for j in range(i + 1, N):\n",
    "                r_j = np.array(coords.iloc[row_n, (3 * j):(3 * j) + 3])\n",
    "                # print(r_i, r_j)\n",
    "                V += pot_energy(r_i, r_j)\n",
    "        \n",
    "\n",
    "        T = ((vels.iloc[row_n]) ** 2).sum() / 2\n",
    "        E.append(T + V)\n",
    "\n",
    "        # print(\n",
    "        #     f'{row_n}: K = {T}, V = {V}, E = {T + V}'\n",
    "        # )\n",
    "\n",
    "    plt.figure(figsize=(10, 10))\n",
    "    plt.plot(\n",
    "        [i for i in range(len(E))], E\n",
    "    )\n",
    "\n",
    "    avg_E = np.array(E).mean()\n",
    "\n",
    "    # print(E)\n",
    "\n",
    "    plt.ylim([-0.1 + avg_E, 0.1 + avg_E])\n",
    "    # plt.xlabel()"
   ]
  },
  {
   "cell_type": "code",
   "execution_count": 7,
   "metadata": {},
   "outputs": [
    {
     "name": "stderr",
     "output_type": "stream",
     "text": [
      "100%|██████████| 2375/2375 [00:01<00:00, 1722.00it/s]\n"
     ]
    },
    {
     "data": {
      "image/png": "[encoded data removed]",
      "text/plain": [
       "<Figure size 1000x1000 with 1 Axes>"
      ]
     },
     "metadata": {},
     "output_type": "display_data"
    }
   ],
   "source": [
    "plot_energy(\n",
    "    \n",
    ")"
   ]
  },
  {
   "cell_type": "code",
   "execution_count": 8,
   "metadata": {},
   "outputs": [],
   "source": [
    "r1 = particles[0].pos\n",
    "r2 = particles[1].pos "
   ]
  },
  {
   "cell_type": "code",
   "execution_count": 9,
   "metadata": {},
   "outputs": [
    {
     "data": {
      "text/plain": [
       "(array([2.43619206, 0.05127138, 0.02523206]),\n",
       " array([1.34019433, 2.48201823, 2.48049747]))"
      ]
     },
     "execution_count": 9,
     "metadata": {},
     "output_type": "execute_result"
    }
   ],
   "source": [
    "r1, r2"
   ]
  },
  {
   "cell_type": "code",
   "execution_count": 10,
   "metadata": {},
   "outputs": [
    {
     "data": {
      "text/plain": [
       "-0.9856699535711362"
      ]
     },
     "execution_count": 10,
     "metadata": {},
     "output_type": "execute_result"
    }
   ],
   "source": [
    "pot_energy(r1, r2)"
   ]
  }
 ],
 "metadata": {
  "kernelspec": {
   "display_name": "conda_3_9_env",
   "language": "python",
   "name": "python3"
  },
  "language_info": {
   "codemirror_mode": {
    "name": "ipython",
    "version": 3
   },
   "file_extension": ".py",
   "mimetype": "text/x-python",
   "name": "python",
   "nbconvert_exporter": "python",
   "pygments_lexer": "ipython3",
   "version": "3.9.7"
  },
  "orig_nbformat": 4,
  "vscode": {
   "interpreter": {
    "hash": "a43607cc1f5ec4fa49eb7c908447ce4abd26713d0f556564655617dd57208958"
   }
  }
 },
 "nbformat": 4,
 "nbformat_minor": 2
}
