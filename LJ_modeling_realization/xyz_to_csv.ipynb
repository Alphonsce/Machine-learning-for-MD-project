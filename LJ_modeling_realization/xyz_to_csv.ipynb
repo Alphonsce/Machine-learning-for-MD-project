{
 "cells": [
  {
   "attachments": {},
   "cell_type": "markdown",
   "metadata": {},
   "source": [
    "Здесь тот файл, что mdlj выдает будем приводить к моей csv-шке\n",
    "---"
   ]
  },
  {
   "cell_type": "code",
   "execution_count": 1,
   "metadata": {},
   "outputs": [],
   "source": [
    "import random\n",
    "import os\n",
    "import time\n",
    "\n",
    "from numba import jit, njit, vectorize\n",
    "import numpy as np\n",
    "import scipy\n",
    "from numpy.linalg import norm as norm\n",
    "import pandas as pd\n",
    "import seaborn as sns\n",
    "import matplotlib.pyplot as plt\n",
    "\n",
    "import torch\n",
    "import torch.nn as nn\n",
    "\n",
    "from tqdm import tqdm\n",
    "import gc\n",
    "\n",
    "from itertools import islice\n",
    "from collections import defaultdict\n",
    "import csv"
   ]
  },
  {
   "cell_type": "code",
   "execution_count": 2,
   "metadata": {},
   "outputs": [],
   "source": [
    "!rm *.csv *.xyz"
   ]
  },
  {
   "cell_type": "code",
   "execution_count": 3,
   "metadata": {},
   "outputs": [
    {
     "name": "stdout",
     "output_type": "stream",
     "text": [
      "# NVE MD Simulation of a Lennard - Jones fluid\n",
      "# L = 2.5198421 rho = 0.125 N = 2 r_cut = 1000000\n",
      "# Steps number = 5000 seed = 1677419772 dt = 0.0001\n",
      "# step time PE KE TE drift T\n",
      "0 0 -0.75 1.5 0.75 0 0.5\n",
      "1000 0.1 -0.40054895 1.1505481 0.74999919 -1.0823016e-06 0.38351605\n",
      "2000 0.2 -0.95103383 1.7010333 0.74999944 -7.4689507e-07 0.56701109\n",
      "3000 0.3 -0.73812498 1.4878275 0.74970249 -0.0003966839 0.49594249\n",
      "4000 0.4 -0.93538367 1.6850859 0.74970221 -0.00039705467 0.56169529\n",
      "5000 0.5 -0.66849315 1.4181954 0.7497023 -0.00039693259 0.47273182\n",
      "2.5198421\n"
     ]
    }
   ],
   "source": [
    "!./md -N 2 -ns 5000 -outf 1 -thermof 1000 -dt 0.0001 -T0 0.5"
   ]
  },
  {
   "cell_type": "code",
   "execution_count": 4,
   "metadata": {},
   "outputs": [
    {
     "data": {
      "text/plain": [
       "2.5198420997897464"
      ]
     },
     "execution_count": 4,
     "metadata": {},
     "output_type": "execute_result"
    }
   ],
   "source": [
    "N = 2\n",
    "L = 2 * N ** (1 / 3)\n",
    "L"
   ]
  },
  {
   "cell_type": "code",
   "execution_count": 5,
   "metadata": {},
   "outputs": [],
   "source": [
    "read_path = f'N{N}.xyz'"
   ]
  },
  {
   "cell_type": "code",
   "execution_count": 6,
   "metadata": {},
   "outputs": [],
   "source": [
    "# NUMPY VERSION:\n",
    "\n",
    "def csv_from_xyz(read_path=read_path, velocity_regime=None, skip_part=0.5):\n",
    "    '''\n",
    "\n",
    "    '''\n",
    "    # через решейп к (lines_read, 3) - удаляем с шагом строчки: x = np.delete(x, np.arange(0, x.size, use_particles))\n",
    "\n",
    "    with open(read_path, 'r+') as read_f:\n",
    "        all_vels = []\n",
    "        all_coords = []\n",
    "        lines_read = 0  # строчки с координатами прочитанные\n",
    "        for line in (read_f):\n",
    "            if line[0] != 'L' and len(line) > 5:    # ЗДЕСЬ 5 - ТИПО РАЗМЕР СТРОЧКИ ГДЕ КОЛ-ВО АТОМОВ ЗАПИСАНО - МОЖЕТ ОШИБКУ ВЫЗВАТЬ    \n",
    "                # if lines_read in actual_steps:\n",
    "                    # if lines_read % (N * step) == 0:    # делаем шаг\n",
    "\n",
    "                    line = line[2:]  # ЭТО ТОЖЕ МОЖЕТ ВЫЗВАТЬ ОШИБКУ - ЕСЛИ НЕТ НАЧАЛЬНОГО \"1\" ИЛИ \"C\"\n",
    "                    arr = list(map(lambda x: float(x.strip()), line.split(' ')))\n",
    "                    arr_coords = (arr[:3])\n",
    "                    arr_vels = (arr[3:])\n",
    "                    all_vels.extend(arr_vels)\n",
    "                    all_coords.extend(arr_coords)\n",
    "                    lines_read += 1\n",
    "\n",
    "    all_coords = np.reshape(all_coords, (lines_read // N, 3 * N))\n",
    "    all_vels = np.reshape(all_vels, (lines_read // N, 3 * N))\n",
    "\n",
    "    # CFG.N = N\n",
    "    coords_path = 'coords' + str(N) + '.csv'\n",
    "    velocities_path = 'velocities' + str(N) + '.csv'\n",
    "\n",
    "    fieldnames_vels = []\n",
    "    fieldnames_coords = []\n",
    "    for i in range(N):\n",
    "        fieldnames_coords.extend([str(i) + 'x', str(i) + 'y', str(i) + 'z'])\n",
    "\n",
    "        fieldnames_vels.extend([str(i) + \"v_x\", str(i) + \"v_y\", str(i) + \"v_z\"])\n",
    "\n",
    "    if not velocity_regime:\n",
    "        df_coords = pd.DataFrame(all_coords,\n",
    "                    index=np.arange(len(all_coords)),\n",
    "                    columns=fieldnames_coords)[int(skip_part * len(all_coords)):]     # на старте там паника какая-то происходит - откидываем стартовые точки\n",
    "        df_coords.index.name = 't'\n",
    "        df_coords.to_csv(coords_path)\n",
    "\n",
    "    df_vels = pd.DataFrame(all_vels,\n",
    "                index=np.arange(len(all_vels)),\n",
    "                columns=fieldnames_vels).iloc[int(skip_part * len(all_vels)):]\n",
    "    df_vels.index.name = 't'\n",
    "    df_vels.to_csv(velocities_path)"
   ]
  },
  {
   "cell_type": "code",
   "execution_count": 7,
   "metadata": {},
   "outputs": [],
   "source": [
    "csv_from_xyz(skip_part=0.5)"
   ]
  },
  {
   "cell_type": "code",
   "execution_count": 8,
   "metadata": {},
   "outputs": [],
   "source": [
    "@njit\n",
    "def pot_energy(r1, r2):\n",
    "    # Snaps particle back to the unfolded coordinate\n",
    "    r1 = r1 % L\n",
    "    r2 = r2 % L\n",
    "    r = r1 - r2\n",
    "    for i in range(3):\n",
    "        if np.abs(r[i]) > L / 2:   # Если расстояние между двумя частицами больше L/2, то мы точно найдем в соседних клетках ближе\n",
    "            r[i] = r[i] - L * np.sign(r[i])\n",
    "\n",
    "    d = norm(r)\n",
    "    return -4 * (pow(d, -6) - pow(d, -12))\n",
    "\n",
    "def plot_energy(N=N, path_coords=f\"coords{N}.csv\", path_vels=f\"velocities{N}.csv\"):\n",
    "    E = []\n",
    "    try:\n",
    "        coords = pd.read_csv(path_coords).drop(columns=[\"t\"])\n",
    "        vels = pd.read_csv(path_vels).drop(columns=[\"t\"])\n",
    "    except:\n",
    "        coords = pd.read_csv(path_coords)\n",
    "        vels = pd.read_csv(path_vels)\n",
    "    \n",
    "    for row_n in tqdm(range(len(vels))):  # TODO: ЗДЕСЬ СТОИТ vels ПОТОМУ ЧТО У МЕНЯ ПОКА БАГА И В КООРДС НА ОДНУ СТРОЧКУ БОЛЬШЕ ПОЧЕМУ-ТО...\n",
    "        V = 0\n",
    "        T = 0\n",
    "        for i in range(N):\n",
    "            r_i = np.array(coords.iloc[row_n, (3 * i):(3 * i) + 3])\n",
    "\n",
    "            for j in range(i + 1, N):\n",
    "                r_j = np.array(coords.iloc[row_n, (3 * j):(3 * j) + 3])\n",
    "                # print(r_i, r_j)\n",
    "                V += pot_energy(r_i, r_j)\n",
    "        \n",
    "\n",
    "        T = ((vels.iloc[row_n]) ** 2).sum() / 2\n",
    "        E.append(T + V)\n",
    "\n",
    "        # print(\n",
    "        #     f'{row_n}: K = {T}, V = {V}, E = {T + V}'\n",
    "        # )\n",
    "\n",
    "    plt.figure(figsize=(10, 10))\n",
    "    plt.plot(\n",
    "        [i for i in range(len(E))], E\n",
    "    )\n",
    "\n",
    "    avg_E = np.array(E).mean()\n",
    "\n",
    "    # print(E)\n",
    "\n",
    "    plt.ylim([-0.1 + avg_E, 0.1 + avg_E])\n",
    "    # plt.xlabel()"
   ]
  },
  {
   "cell_type": "code",
   "execution_count": 9,
   "metadata": {},
   "outputs": [
    {
     "name": "stderr",
     "output_type": "stream",
     "text": [
      "100%|██████████| 2501/2501 [00:01<00:00, 1522.99it/s]\n"
     ]
    },
    {
     "data": {
      "image/png": "[encoded data removed]",
      "text/plain": [
       "<Figure size 720x720 with 1 Axes>"
      ]
     },
     "metadata": {
      "needs_background": "light"
     },
     "output_type": "display_data"
    }
   ],
   "source": [
    "plot_energy()"
   ]
  }
 ],
 "metadata": {
  "kernelspec": {
   "display_name": "my_3_6_conda_env",
   "language": "python",
   "name": "python3"
  },
  "language_info": {
   "codemirror_mode": {
    "name": "ipython",
    "version": 3
   },
   "file_extension": ".py",
   "mimetype": "text/x-python",
   "name": "python",
   "nbconvert_exporter": "python",
   "pygments_lexer": "ipython3",
   "version": "3.6.13"
  },
  "orig_nbformat": 4,
  "vscode": {
   "interpreter": {
    "hash": "6b5cc6bf18c7103cb99324f044582e9ca68eda52a25f7227b20ca62cd3e32898"
   }
  }
 },
 "nbformat": 4,
 "nbformat_minor": 2
}
