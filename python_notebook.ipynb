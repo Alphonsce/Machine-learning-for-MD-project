{
 "cells": [
  {
   "cell_type": "markdown",
   "metadata": {},
   "source": [
    "# <span style=\"color:green\"> Run on python 3.6</span>"
   ]
  },
  {
   "cell_type": "markdown",
   "metadata": {},
   "source": [
    "---"
   ]
  },
  {
   "cell_type": "markdown",
   "metadata": {},
   "source": [
    "Гиперпараметры:\n",
    "\n",
    "1)k: Количество элементов в массивах r_cut и p для каждого атома\n",
    "\n",
    "2)$r_{cut}(i)_j$, i=1..k, j=1..N: векторы r_cut для j атома тоже параметр\n",
    "\n",
    "3)$p_(i)_j$, i=1..k, j=1..N: векторы p для j атома тоже параметр\n",
    "\n",
    "4)N_neighbours for summation for IVs"
   ]
  },
  {
   "cell_type": "markdown",
   "metadata": {},
   "source": [
    "---\n",
    "\n",
    "- **Зачем предсказывать именно K-мерный вектор силы:** \n",
    "    - В системе из 3+ частиц гантелька из двух частиц может вращаться, тогда матрица признаков не изменяется у частиц из этой гантельки, а 3Д сила изменяется, но любое отображение может выдавать только 1 значение для 1 аргумента, то есть мы банально сможем выдавать только одну 3Д силу в таком случае,\n",
    "    однако если мы предсказываем К-мерный вектор, то он все равно будет только 1 выдаваться для частицы из этой вращающейся гантельки, но матрица А при этом будет разной в каждом состоянии и сможем получать разные 3Д векторы силы "
   ]
  },
  {
   "cell_type": "markdown",
   "metadata": {},
   "source": [
    "ПРОТЕСТИТЬ, ЧТОБЫ ОДИН ГПР ИЛИ ОДНА СЕТКА МОГЛИ ЗАФТИТИТЬ ЗАВИСИМОСТЬ ДЛЯ ОДНОЙ КОМПОНЕНТЫ"
   ]
  },
  {
   "cell_type": "markdown",
   "metadata": {},
   "source": [
    "- Матрица X - это не вектора V, на которые мы проектируем силы, X должна быть ранга 1"
   ]
  },
  {
   "cell_type": "code",
   "execution_count": 1,
   "metadata": {},
   "outputs": [
    {
     "name": "stderr",
     "output_type": "stream",
     "text": [
      "/Users/avarlamov/opt/anaconda3/envs/my_3_6_conda_env/lib/python3.6/site-packages/tqdm/auto.py:22: TqdmWarning: IProgress not found. Please update jupyter and ipywidgets. See https://ipywidgets.readthedocs.io/en/stable/user_install.html\n",
      "  from .autonotebook import tqdm as notebook_tqdm\n"
     ]
    }
   ],
   "source": [
    "import random\n",
    "import os\n",
    "import time\n",
    "\n",
    "from numba import jit, njit, vectorize\n",
    "import numpy as np\n",
    "import scipy\n",
    "from numpy.linalg import norm as norm\n",
    "import pandas as pd\n",
    "import seaborn as sns\n",
    "import matplotlib.pyplot as plt\n",
    "\n",
    "import torch\n",
    "import torch.nn as nn\n",
    "\n",
    "from tqdm import tqdm\n",
    "import gc\n",
    "import torchvision.transforms as transforms\n",
    "\n",
    "from itertools import islice\n",
    "from collections import defaultdict\n",
    "import csv\n",
    "\n",
    "from utility_funcs import *"
   ]
  },
  {
   "attachments": {},
   "cell_type": "markdown",
   "metadata": {},
   "source": [
    "- Проблема с двумя частицами в том, что у них абсолютно одинаковые матрицы X, но разные перемещения, но почему у них одинаковые матрицы......\n",
    "- потестить если юзать только одну частицу для обучения"
   ]
  },
  {
   "cell_type": "code",
   "execution_count": 2,
   "metadata": {},
   "outputs": [
    {
     "data": {
      "text/plain": [
       "'movements'"
      ]
     },
     "execution_count": 2,
     "metadata": {},
     "output_type": "execute_result"
    }
   ],
   "source": [
    "MODE"
   ]
  },
  {
   "cell_type": "code",
   "execution_count": 3,
   "metadata": {},
   "outputs": [],
   "source": [
    "naming_of_target_in_csv = naming_of_target_in_csv[MODE]"
   ]
  },
  {
   "cell_type": "code",
   "execution_count": 4,
   "metadata": {},
   "outputs": [],
   "source": [
    "def create_movements_csv(N, step=1, coords_path_to_get_movements_from=None, convert_to_csv=True, create_d_velocity=False, path_to_get_velocities_from=None):\n",
    "    '''\n",
    "    N - number of particles in coordsN.csv file that will be used to calculate movements\n",
    "    step - step for parsing rows of dataframe\n",
    "\n",
    "    coords_path_to_get_movements_from if not passed, will be ./coords_and_forces/coords\" + str(N)\n",
    "\n",
    "    convert_to_csv: True by default, if False - will return dataframe object\n",
    "\n",
    "    create_d_velocity: this function is also used to create d_velocities, if True - will create d_velocitiesN.csv\n",
    "\n",
    "    path_to_get_velocities_from: default path for velocities, to sync rows we need to select rows with a step and drop last one and then save\n",
    "    '''\n",
    "    if coords_path_to_get_movements_from is None:\n",
    "        coord_rows = pd.read_csv(\"./coords_and_forces/coords\" + str(N) + \".csv\")[::step]\n",
    "    else:\n",
    "        coord_rows = pd.read_csv(coords_path_to_get_movements_from)[::step]\n",
    "    coord_rows[:-1].to_csv(\"./coords_and_movements/coords\" + str(N) + \".csv\", index=False)\n",
    "\n",
    "    if path_to_get_velocities_from is None:\n",
    "        vel_rows = pd.read_csv(\"./coords_and_forces/velocities\" + str(N) + \".csv\")[::step]\n",
    "    else:\n",
    "        vel_rows = pd.read_csv(path_to_get_velocities_from)[::step]\n",
    "    vel_rows[:-1].to_csv(\"./coords_and_movements/velocities\" + str(N) + \".csv\", index=False)\n",
    "\n",
    "    movements = defaultdict(list)\n",
    "\n",
    "    naming = [\"t\"]\n",
    "    for i in range(N):\n",
    "        naming.extend([str(i) + \"s_x\", str(i) + \"s_y\", str(i) + \"s_z\"])\n",
    "    \n",
    "    for row_numb in range(len(coord_rows) - 1):\n",
    "        cur_coords = coord_rows.iloc[row_numb].to_numpy()\n",
    "        next_coords = coord_rows.iloc[row_numb + 1].to_numpy()\n",
    "        delta = (next_coords - cur_coords)\n",
    "        for i in range(len(naming)):\n",
    "            movements[naming[i]].append(delta[i])\n",
    "\n",
    "\n",
    "    if create_d_velocity:\n",
    "        d_velocities = defaultdict(list)\n",
    "\n",
    "        naming = [\"t\"]\n",
    "        for i in range(N):\n",
    "            naming.extend([str(i) + \"dv_x\", str(i) + \"dv_y\", str(i) + \"dv_z\"])\n",
    "        \n",
    "        for row_numb in range(len(vel_rows) - 1):\n",
    "            cur_coords = vel_rows.iloc[row_numb].to_numpy()\n",
    "            next_coords = vel_rows.iloc[row_numb + 1].to_numpy()\n",
    "            delta = (next_coords - cur_coords)\n",
    "            for i in range(len(naming)):\n",
    "                d_velocities[naming[i]].append(delta[i])    \n",
    "\n",
    "        d_velocities = pd.DataFrame(d_velocities)\n",
    "        d_velocities.to_csv(\"./coords_and_movements/d_velocities\" + str(N) + \".csv\", index=False)\n",
    "    \n",
    "    movements = pd.DataFrame(movements)\n",
    "    if convert_to_csv:\n",
    "        movements.to_csv(\"./coords_and_movements/movements\" + str(N) + \".csv\", index=False)\n",
    "    else:\n",
    "        return movements"
   ]
  },
  {
   "cell_type": "code",
   "execution_count": 5,
   "metadata": {},
   "outputs": [],
   "source": [
    "def print_normed(V: np.array) -> None:\n",
    "    print(\n",
    "        V / norm(V, axis=-1)[:, np.newaxis]\n",
    "    )"
   ]
  },
  {
   "cell_type": "code",
   "execution_count": 6,
   "metadata": {},
   "outputs": [],
   "source": [
    "def set_seed(seed=42):\n",
    "    '''\n",
    "    \n",
    "    Sets the seed of the entire notebook so results are the same every time we run.\n",
    "    This is for REPRODUCIBILITY.\n",
    "\n",
    "    '''\n",
    "    np.random.seed(seed)\n",
    "    random.seed(seed)\n",
    "    torch.manual_seed(seed)\n",
    "    torch.cuda.manual_seed(seed)\n",
    "    # When running on the CuDNN backend, two further options must be set\n",
    "    torch.backends.cudnn.deterministic = True\n",
    "    torch.backends.cudnn.benchmark = False\n",
    "    # Set a fixed value for the hash seed\n",
    "    os.environ['PYTHONHASHSEED'] = str(seed)\n",
    "    \n",
    "set_seed(25)"
   ]
  },
  {
   "cell_type": "markdown",
   "metadata": {},
   "source": [
    "---\n",
    "\n",
    "# Hyperparameters:"
   ]
  },
  {
   "cell_type": "code",
   "execution_count": 7,
   "metadata": {},
   "outputs": [
    {
     "data": {
      "text/plain": [
       "'p: [1.43097655 2.58282356 1.66609327], r_cut: [6.16044607 5.04861718 6.73188738]'"
      ]
     },
     "execution_count": 7,
     "metadata": {},
     "output_type": "execute_result"
    }
   ],
   "source": [
    "f'p: {CFG.p}, r_cut: {CFG.r_cut}'"
   ]
  },
  {
   "cell_type": "code",
   "execution_count": 8,
   "metadata": {},
   "outputs": [],
   "source": [
    "# CFG.p = np.array([1., 2., 3.])\n",
    "# CFG.r_cut = np.array([3, 7, 10])"
   ]
  },
  {
   "cell_type": "markdown",
   "metadata": {},
   "source": [
    "---"
   ]
  },
  {
   "cell_type": "markdown",
   "metadata": {},
   "source": [
    "## Код для создания моих csv файлов из .xyz или .force"
   ]
  },
  {
   "cell_type": "code",
   "execution_count": 9,
   "metadata": {},
   "outputs": [],
   "source": [
    "def _force(r):\n",
    "    '''\n",
    "    r is a vector from one particle to another\n",
    "    '''\n",
    "    d = norm(r)\n",
    "    f = 4 * (12 * pow(d, -13) - 6 * pow(d, -7)) * (r / d)\n",
    "    return f\n",
    "\n",
    "calc_forces = np.vectorize(_force)"
   ]
  },
  {
   "cell_type": "markdown",
   "metadata": {},
   "source": [
    "Используя np.reshape() можно 1d array превращать в матрицу просто"
   ]
  },
  {
   "cell_type": "code",
   "execution_count": 10,
   "metadata": {},
   "outputs": [],
   "source": [
    "def get_rel_dists(row, atom_number, N):\n",
    "    '''\n",
    "    This function processes one row of csv into something that we can work with\n",
    "\n",
    "    Returns np.array matrix that consists of relative positions vectors for passed atom_number to every other atom\n",
    "    and then we can chose only closest N_neighbours in the next functions\n",
    "    \n",
    "    row: df.iloc[row] - typeof(row): pd.Series\n",
    "    \n",
    "    returns: Rel_matrix, f_vec\n",
    "    '''\n",
    "\n",
    "\n",
    "    s_coord = pd.Series(dtype=float)\n",
    "    other_atom_numbers = [i for i in range(N) if i != atom_number]\n",
    "\n",
    "    for other_numb in other_atom_numbers:\n",
    "        index = str(atom_number) + str(other_numb)\n",
    "        for axis in ['x', 'y', 'z']:\n",
    "            s_coord[index + axis] = row[str(atom_number) + axis] - row[str(other_numb) + axis]\n",
    "\n",
    "    Rel_matrix = []\n",
    "    cur_vector = []\n",
    "\n",
    "    for (i, elem) in enumerate(s_coord.values):\n",
    "        if i % 3 == 0 and i != 0:\n",
    "            Rel_matrix.append(cur_vector)\n",
    "            cur_vector = []\n",
    "\n",
    "        cur_vector.append(elem)\n",
    "    Rel_matrix.append(cur_vector)\n",
    "\n",
    "    # print('rel_dists: ', Rel_matrix)\n",
    "\n",
    "    return np.array(Rel_matrix)\n",
    "\n",
    "# Короче надо как-то научиться создавать список, в котором каждые N * step шагов будут выкинуты N подряд идущих чисел - это сразу решит проблему обрезания по частицам и шага по состояниям\n",
    "\n",
    "def generate_useful_indexes(N, step, length):\n",
    "    '''\n",
    "    Дает список из индексов для номеров строчек, которые надо использовать при большем цикле считывания\n",
    "    '''\n",
    "    sp = []\n",
    "    for i in range(0, length, step * N):\n",
    "        for j in range(0, N):\n",
    "            sp.append(i + j)\n",
    "    return sp\n",
    "\n",
    "def get_rows_for_use_particles(old_N, new_N, length):\n",
    "    '''\n",
    "    Дает список из индексов для номеров строчек, которые надо использовать при уменьшении числа частиц\n",
    "    '''\n",
    "    sp = []\n",
    "    for i in range(0, length, old_N):\n",
    "        for j in range(0, new_N):\n",
    "            sp.append(i + j)\n",
    "    return sp"
   ]
  },
  {
   "cell_type": "code",
   "execution_count": 11,
   "metadata": {},
   "outputs": [],
   "source": [
    "# NUMPY VERSION:\n",
    "\n",
    "def create_csv_from_force(write_folder, read_path, recalculate_forces=False, normalize_forces=False, use_particles=None, step=1, lines_read_coef=None, velocity_regime=None):\n",
    "    '''\n",
    "    создает .csv формат из .force\n",
    "    по-сути делает цсв-хи с которыми я работаю из LAMMPS-овского аутпута\n",
    "\n",
    "    use_particles - количество частиц, которое использовать, то есть сколько из записанных координат использовать (это нормально реализовать супер геморрой)\n",
    "    recalculate_forces - пересчитать силы\n",
    "    normalize_forces - нормализовать силы\n",
    "\n",
    "    step - шаг на количество позиций при чтении (оно в текущей версии очень долго работает с этим параметром)\n",
    "    lines_read_coef - N * lines_read_coef строчек с координатами считывается - то есть lines_read_coed - количество конфигураций, которое считывается\n",
    "    '''\n",
    "    # через решейп к (lines_read, 3) - удаляем с шагом строчки: x = np.delete(x, np.arange(0, x.size, use_particles))\n",
    "\n",
    "    if use_particles and not velocity_regime:\n",
    "        recalculate_forces = True\n",
    "        print(\"use_particles is not None - forces will be recalculated anyway\")\n",
    "    with open(read_path, 'r+') as f:\n",
    "        for i in range(3):\n",
    "            f.readline()\n",
    "\n",
    "        N = int(str(f.readline()).strip())\n",
    "\n",
    "    actual_steps = generate_useful_indexes(N, step, length=int(5e5))\n",
    "\n",
    "    with open(read_path, 'r+') as read_f:\n",
    "        all_forces = []\n",
    "        all_coords = []\n",
    "        lines_read = 0  # строчки с координатами прочитанные\n",
    "        for line in (read_f):\n",
    "            if line[0] == 'C':\n",
    "                # if lines_read in actual_steps:\n",
    "                    # if lines_read % (N * step) == 0:    # делаем шаг\n",
    "                    arr = list(map(lambda x: float(x.strip()), line.split(' ')[1:]))\n",
    "                    arr_coords = (arr[:3])\n",
    "                    if not recalculate_forces:\n",
    "                        arr_forces = (arr[3:])\n",
    "                        all_forces.extend(arr_forces)\n",
    "                    all_coords.extend(arr_coords)\n",
    "                    lines_read += 1\n",
    "\n",
    "            if lines_read_coef and lines_read >= lines_read_coef * N:\n",
    "                break\n",
    "    all_coords = np.reshape(all_coords, (lines_read // N, 3 * N))\n",
    "    if not recalculate_forces:\n",
    "        all_forces = np.reshape(all_forces, (lines_read // N, 3 * N))\n",
    "\n",
    "    if use_particles is not None and use_particles < N:\n",
    "        # Силы здесь не надо откидывать - если use_particles - их надо пересчитывать\n",
    "        coords_single_vecs = np.reshape(all_coords, (lines_read, 3))\n",
    "        length = len(coords_single_vecs)\n",
    "\n",
    "        new_rows_idxs = get_rows_for_use_particles(old_N=N, new_N=use_particles, length=length)\n",
    "        coords_single_vecs = coords_single_vecs[new_rows_idxs]\n",
    "\n",
    "        new_lines_read = len(coords_single_vecs)\n",
    "        all_coords = np.reshape(coords_single_vecs, (new_lines_read // use_particles, 3 * use_particles))\n",
    "        N = use_particles\n",
    "        lines_read = new_lines_read\n",
    "        CFG.N = use_particles\n",
    "\n",
    "    # CFG.N = N\n",
    "    coords_path = write_folder + '/coords' + str(N) + '.csv'\n",
    "    forces_path = write_folder + '/forces' + str(N) + '.csv'\n",
    "    if velocity_regime:\n",
    "        forces_path = write_folder + '/velocities' + str(N) + '.csv'\n",
    "\n",
    "    fieldnames_forces = []\n",
    "    fieldnames_coords = []\n",
    "    for i in range(N):\n",
    "        fieldnames_coords.extend([str(i) + 'x', str(i) + 'y', str(i) + 'z'])\n",
    "        if not velocity_regime:\n",
    "            fieldnames_forces.extend([str(i) + \"f_x\", str(i) + \"f_y\", str(i) + \"f_z\"])\n",
    "        else:\n",
    "            fieldnames_forces.extend([str(i) + \"v_x\", str(i) + \"v_y\", str(i) + \"v_z\"])\n",
    "\n",
    "    if not velocity_regime:\n",
    "        df_coords = pd.DataFrame(all_coords,\n",
    "                    index=np.arange(len(all_coords)),\n",
    "                    columns=fieldnames_coords)\n",
    "        df_coords.index.name = 't'\n",
    "        df_coords.to_csv(coords_path)\n",
    "\n",
    "    if recalculate_forces and not velocity_regime:\n",
    "        all_forces = []\n",
    "        for index in tqdm(range(len(df_coords)), desc='Progress for rows: Forces recalculation:'):\n",
    "            for atom_number in range(N):\n",
    "                Rel_dists_mat = get_rel_dists(df_coords.loc[index], atom_number, N=N)\n",
    "                f = np.sum(np.apply_along_axis(_force, -1, Rel_dists_mat), axis=0)\n",
    "                \n",
    "                all_forces.append(f)\n",
    "\n",
    "        all_forces  = np.vstack(all_forces)\n",
    "        all_forces = np.reshape(all_forces, (lines_read // N, 3 * N))        \n",
    "\n",
    "    if MODE == \"movements\" and velocity_regime:\n",
    "        all_forces = all_forces[:-1]    # потому что перемещения для всех строчек кроме последней определяются\n",
    "\n",
    "    df_forces = pd.DataFrame(all_forces,\n",
    "                index=np.arange(len(all_forces)),\n",
    "                columns=fieldnames_forces)\n",
    "    df_forces.index.name = 't'\n",
    "    df_forces.to_csv(forces_path)"
   ]
  },
  {
   "attachments": {},
   "cell_type": "markdown",
   "metadata": {},
   "source": [
    "**Create csv_from_force - функция, которая создает цсв-хи с которыми я работаю из LAMMPS-овского аутпута**"
   ]
  },
  {
   "cell_type": "code",
   "execution_count": 12,
   "metadata": {},
   "outputs": [
    {
     "name": "stdout",
     "output_type": "stream",
     "text": [
      "use_particles is not None - forces will be recalculated anyway\n"
     ]
    },
    {
     "name": "stderr",
     "output_type": "stream",
     "text": [
      "Progress for rows: Forces recalculation:: 100%|██████████| 1500/1500 [00:04<00:00, 361.14it/s]\n"
     ]
    }
   ],
   "source": [
    "read_path = \"high_T1_2particle.force\"\n",
    "lines_read_coef = 1500\n",
    "\n",
    "# Создаем цсвшки для координат и силы:\n",
    "\n",
    "create_csv_from_force(\n",
    "    write_folder=\"coords_and_forces\",\n",
    "\n",
    "    # read_path='high_T.force',\n",
    "    read_path=read_path,\n",
    "\n",
    "    use_particles=2,\n",
    "\n",
    "    recalculate_forces=True if MODE == \"forces\" else False,\n",
    "    # step = 1,\n",
    "    lines_read_coef=lines_read_coef,\n",
    ")"
   ]
  },
  {
   "cell_type": "code",
   "execution_count": 13,
   "metadata": {},
   "outputs": [],
   "source": [
    "velocity_path = read_path.split(\".\")[0] + \".velocity\" if MODE == \"movements\" else None\n",
    "\n",
    "#Создаем цсвшки для скоростей:\n",
    "if velocity_path:\n",
    "    create_csv_from_force(\n",
    "    write_folder=\"coords_and_forces\",        # СОХРАНЯЕМ ЦСВШКУ ДЛЯ СКОРОСТЕЙ ИМЕННО К СИЛАМ, ПОТОМУ ЧТО МЫ ДОЛЖНЫ ДРОПНУТЬ ПОСЛЕДНЮЮ СТРОЧКУ И ЕЩЕ СДЕЛАТЬ STEP - ЭТО ДЕЛАЕТСЯ КАК РАЗ ВНУТРИ ФУНКЦИИ СОЗДАНИЯ MOVEMENTS.CSV\n",
    "\n",
    "    # read_path='high_T.force',\n",
    "    read_path=velocity_path,\n",
    "\n",
    "    use_particles=CFG.N,\n",
    "    recalculate_forces=False if MODE==\"movements\" else True,      # СУПЕР ВАЖНО - ПОТОМУ ЧТО СКОРОСТИ ТАМ КАК СИЛЫ ВОСПРИНИМАЮТСЯ В КОДЕ...,\n",
    "\n",
    "    velocity_regime=True,\n",
    "    # step = 1,\n",
    "    lines_read_coef=lines_read_coef,\n",
    "    )"
   ]
  },
  {
   "cell_type": "markdown",
   "metadata": {},
   "source": [
    "---"
   ]
  },
  {
   "cell_type": "code",
   "execution_count": 14,
   "metadata": {},
   "outputs": [],
   "source": [
    "def create_df_with_coords(coords_file_path = None, forces_file_path = None):\n",
    "    '''\n",
    "    just makes df from .csvs with coords and forces\n",
    "    '''\n",
    "    coords = pd.read_csv(coords_file_path)\n",
    "    forces = pd.read_csv(forces_file_path)\n",
    "\n",
    "    # print(len(coords), len(forces))\n",
    "\n",
    "    # print(\n",
    "    #     pd.concat([coords, forces], axis=1).notna().sum()\n",
    "    # )\n",
    "\n",
    "    if CFG.N != int(coords.columns[-1][:-1]) + 1:\n",
    "        raise Exception('Constant N is not equal to amount of particles in .csv')\n",
    "\n",
    "    # return pd.merge(left=coords, right=forces, on='t').drop('t', axis='columns')\n",
    "    # return coords.join(forces.set_index(\"t\"), on=\"t\")\n",
    "    return pd.concat([coords, forces], axis=1)"
   ]
  },
  {
   "cell_type": "markdown",
   "metadata": {},
   "source": [
    "12 индекс - 1 отн 2\n",
    "\n",
    "$$\n",
    "\\vec{r_1} = \\vec{r_2} + \\vec{r}_{12}\n",
    "$$\n",
    "\n",
    "$$\n",
    "\\vec{r}_{12} = \\vec{r_1} - \\vec{r}_{2}\n",
    "$$"
   ]
  },
  {
   "cell_type": "code",
   "execution_count": 15,
   "metadata": {},
   "outputs": [],
   "source": [
    "def _get_relative_positions(row, atom_number, naming_of_target_in_csv=naming_of_target_in_csv):\n",
    "    '''\n",
    "    This function processes one row of csv into something that we can work with\n",
    "\n",
    "    Returns np.array matrix that consists of relative positions vectors for passed atom_number to every other atom\n",
    "    and then we can chose only closest N_neighbours in the next functions\n",
    "    \n",
    "    row: df.iloc[row] - typeof(row): pd.Series\n",
    "    \n",
    "    returns: Rel_matrix, f_vec\n",
    "    '''\n",
    "\n",
    "    s_coord = pd.Series(dtype=float)\n",
    "    other_atom_numbers = [i for i in range(CFG.N) if i != atom_number]\n",
    "\n",
    "    for other_numb in other_atom_numbers:\n",
    "        index = str(atom_number) + str(other_numb)\n",
    "        for axis in ['x', 'y', 'z']:\n",
    "            s_coord[index + axis] = row[str(atom_number) + axis] - row[str(other_numb) + axis]\n",
    "\n",
    "    # we need force vector only for atom_number:\n",
    "    force_vec = []\n",
    "    for f_axis in naming_of_target_in_csv:\n",
    "        force_vec.append(row[str(atom_number) + f_axis])\n",
    "\n",
    "    Rel_matrix = []\n",
    "    cur_vector = []\n",
    "\n",
    "    for (i, elem) in enumerate(s_coord.values):\n",
    "        if i % 3 == 0 and i != 0:\n",
    "            Rel_matrix.append(cur_vector)\n",
    "            cur_vector = []\n",
    "\n",
    "        cur_vector.append(elem)\n",
    "    Rel_matrix.append(cur_vector)\n",
    "\n",
    "    # print('rel_dists: ', Rel_matrix)\n",
    "\n",
    "    return np.array(Rel_matrix), np.array(force_vec)"
   ]
  },
  {
   "cell_type": "code",
   "execution_count": 16,
   "metadata": {},
   "outputs": [],
   "source": [
    "from sklearn.preprocessing import normalize"
   ]
  },
  {
   "cell_type": "code",
   "execution_count": 17,
   "metadata": {},
   "outputs": [],
   "source": [
    "# @njit(fastmath=True)\n",
    "def force(r):\n",
    "    '''\n",
    "    r is a vector from one particle to another\n",
    "    '''\n",
    "    d = norm(r)\n",
    "    f = 4 * (12 * pow(d, -13) - 6 * pow(d, -7)) * (r / d)\n",
    "    return f\n",
    "\n",
    "# def make_one_vec_transformed(vec, vec_norm, r_cut_i, p_i):\n",
    "#     '''\n",
    "#     vec: np.array - normalized vector\n",
    "#     norm: its norm\n",
    "#     r_cut_i: i-th component of\n",
    "#     '''\n",
    "    \n",
    "#     # return vec_norm * vec\n",
    "\n",
    "#     # return 4 * (12 * pow(vec_norm, -13) - 6 * pow(vec_norm, -7)) * (vec)    # явный вид Леннард-Джонса\n",
    "    \n",
    "#     # return vec / vec_norm\n",
    "\n",
    "#     return vec * np.exp(\n",
    "#         -np.power((vec_norm / r_cut_i), p_i)\n",
    "#         )\n",
    "    \n",
    "#     # return vec * (\n",
    "#     #     -np.power((vec_norm / r_cut_i), p_i)        # Если вектора V_i близкие, то псевдообратная считается немного нестабильно\n",
    "#     #     )\n",
    "\n",
    "#     # return (pow(vec_norm, -r_cut_i) - pow(vec_norm, -p_i)) * (vec)    # Леннард-Джонс но степени - параметры\n",
    "\n",
    "#     # Если мы хотим обучаться  на скоростях и на радиус-векторах, то можно взять - расстояние, на которое \n",
    "\n",
    "# make_matrix_transformed = np.vectorize(make_one_vec_transformed)\n",
    "\n",
    "def create_V_i(i, normalized_m, norms, r_cut=CFG.r_cut, p=CFG.p):\n",
    "    '''\n",
    "    normalized_m: matrix of relative distances, where rows - normalized vectors\n",
    "    i: i-th component of r_cut and p, i in range 1..K (or in 0..K-1 in code)\n",
    "    '''\n",
    "    transf_vecs = make_matrix_transformed(normalized_m, norms[:, np.newaxis], r_cut[i], p[i])\n",
    "\n",
    "    return np.sum(transf_vecs, axis=0)\n",
    "\n",
    "# @njit(parallel=True)\n",
    "def create_V(normalized_m, norms, K=CFG.K):\n",
    "    '''\n",
    "    creates V\n",
    "    '''\n",
    "    V = []\n",
    "    for i in range(K):\n",
    "        V.append(\n",
    "            create_V_i(i, normalized_m, norms)\n",
    "        )\n",
    "\n",
    "    return np.stack(V)"
   ]
  },
  {
   "cell_type": "code",
   "execution_count": 18,
   "metadata": {},
   "outputs": [],
   "source": [
    "# @njit(\n",
    "#     # parallel=True,\n",
    "#     # fastmath=True\n",
    "#     )\n",
    "def _calculate_matrix_for_atom(relative_distances, r_cut=CFG.r_cut, p=CFG.p, N_neig=CFG.N_neig, K=CFG.K, use_orthogonal=False, use_A_t=True):\n",
    "    '''\n",
    "\n",
    "    relative_distances: np.array matrix of relative distance vectors\n",
    "\n",
    "    '''\n",
    "    \n",
    "    # Only closest N_neig are counting:\n",
    "    indexlist = np.argsort(norm(relative_distances, axis=1))\n",
    "\n",
    "    relative_distances = relative_distances[indexlist[len(relative_distances) - N_neig:]]\n",
    "\n",
    "    norms = norm(relative_distances, axis=-1)\n",
    "\n",
    "    normalized_rel_distances = relative_distances / norms[:, np.newaxis]\n",
    "\n",
    "    V = create_V(normalized_rel_distances, norms)\n",
    "\n",
    "    if use_orthogonal and CFG.K == 3:\n",
    "        diagonal_V_matr = [[0] * CFG.K for i in range(K)]\n",
    "        for i in range(K):\n",
    "            diagonal_V_matr[i][i] = V[i][i]\n",
    "        V = np.array(\n",
    "            diagonal_V_matr\n",
    "        )\n",
    "\n",
    "    if np.inf in V / norm(V, axis=-1)[:, np.newaxis] or np.nan in V / norm(V, axis=-1)[:, np.newaxis]:\n",
    "        print(f'V:\\n {V}\\n norms:\\n {norm(V, axis=-1)[:, np.newaxis]}\\n normed_V:\\n {V / norm(V, axis=-1)[:, np.newaxis]}')\n",
    "        print(f'ABOUT RELATIVE DISTANCES:\\n rel_dists:\\n {relative_distances}\\n norms:\\n{norms}\\n normalized_rel_dists:\\n {normalized_rel_distances}')\n",
    "\n",
    "    A = V / norm(V, axis=-1)[:, np.newaxis]\n",
    "\n",
    "    # print(V, A)\n",
    "\n",
    "    if use_A_t:\n",
    "        X = V @ A.T\n",
    "    else:\n",
    "        X = V\n",
    "\n",
    "    return X, A"
   ]
  },
  {
   "cell_type": "code",
   "execution_count": 19,
   "metadata": {},
   "outputs": [],
   "source": [
    "def get_matrix_for_atom(row = None, atom_number = None, N_neig=CFG.N_neig, use_orthogonal=True, use_A_t=True, naming_of_target_in_csv=naming_of_target_in_csv):\n",
    "    '''\n",
    "\n",
    "    This function will create X matrix for passed atom with\n",
    "    arrays of r_cut and p of length k\n",
    "\n",
    "    It is a wrapper for _get_relative_positions and _calculate_matrix_for_atom, so I can speed up matrix calculations\n",
    "    with numba for _calculate_matrix_for_atom\n",
    "\n",
    "    atom_number: a number of atom that we are passing\n",
    "    row: one row from df_with_coords, i.e. df.iloc[index_of_row]\n",
    "\n",
    "    '''\n",
    "\n",
    "    # creating row of relative coordinates for concrete atom:\n",
    "    relative_distances, f_vec = _get_relative_positions(row=row, atom_number=atom_number, naming_of_target_in_csv=naming_of_target_in_csv)\n",
    "    X, A = _calculate_matrix_for_atom(relative_distances=relative_distances, N_neig=N_neig, use_orthogonal=use_orthogonal, use_A_t=use_A_t)\n",
    "    \n",
    "    return X, f_vec, A\n",
    "\n",
    "# %timeit get_matrix_for_atom(row=df.iloc[0], atom_number=1)"
   ]
  },
  {
   "cell_type": "markdown",
   "metadata": {},
   "source": [
    "**У нас будет train и val выборки, все-таки выборку, для который известен таргет принято называть validation, на которой мы качество оцениваем, а test это все-таки выборка, для который неизвестны таргеты**"
   ]
  },
  {
   "cell_type": "code",
   "execution_count": 20,
   "metadata": {},
   "outputs": [],
   "source": [
    "def clean_df(df: pd.DataFrame, f_threshold = CFG.f_threshold, coord_threshold=CFG.coord_threshold, f_min_threshold=CFG.f_min_threshold,\n",
    "            naming_of_target_in_csv=naming_of_target_in_csv):\n",
    "    '''\n",
    "\n",
    "    Убирает строчки с аномально большими силами из df\n",
    "\n",
    "    Также убирает нижни силы, меньше f_min_threshold\n",
    "\n",
    "    '''\n",
    "\n",
    "    indexes_for_deletion = set()\n",
    "\n",
    "    for numb in range(CFG.N):\n",
    "        for coord in naming_of_target_in_csv:\n",
    "\n",
    "            indexes_for_deletion = indexes_for_deletion.union(\n",
    "                set(df[abs(df[str(numb) + coord]) > f_threshold].index)\n",
    "            )\n",
    "\n",
    "            indexes_for_deletion = indexes_for_deletion.union(\n",
    "                set(df[abs(df[str(numb) + coord]) < f_min_threshold].index)\n",
    "            )\n",
    "\n",
    "        for coord in ['x', 'y', 'z']:\n",
    "            indexes_for_deletion = indexes_for_deletion.union(\n",
    "                set(df[abs(df[str(numb) + coord]) > coord_threshold].index)\n",
    "            )\n",
    "\n",
    "    return df.drop(list(indexes_for_deletion))"
   ]
  },
  {
   "cell_type": "code",
   "execution_count": 21,
   "metadata": {},
   "outputs": [],
   "source": [
    "@njit\n",
    "def get_pinv(A):\n",
    "    '''\n",
    "\n",
    "    returns pseudoinverse matrix for input\n",
    "\n",
    "    '''\n",
    "    return np.linalg.pinv(A)\n",
    "\n",
    "def get_projections(vec_to_project, mat_of_directions):\n",
    "    '''\n",
    "\n",
    "    returns projection of vec_to_project on every vector from mat_of_directions\n",
    "\n",
    "    '''\n",
    "    return (mat_of_directions @ vec_to_project) / norm(mat_of_directions, axis=-1)\n",
    "\n",
    "def create_tensor_dataset(\n",
    "    coords_path = 'coords.csv', forces_path = 'forces.csv', step=1, transform=transforms.ToTensor(), length=None,\n",
    "    f_threshold=CFG.f_threshold,\n",
    "    coord_threshold=CFG.coord_threshold,\n",
    "    clean=True,\n",
    "    use_orthogonal=False,\n",
    "    use_A_t=True,\n",
    "    path_to_vel=None,\n",
    "    \n",
    "    use_vel=True,\n",
    "    \n",
    "    naming_of_target_in_csv=naming_of_target_in_csv\n",
    "    ):\n",
    "    '''\n",
    "\n",
    "    Примитивная версия датасета, просто все будет хранить в одном списке...\n",
    "\n",
    "    Эта функция - wrapper на все выше написанные функции, она по переданным путям к .csv\n",
    "    возвращает тензор из матриц для каждого атома в каждой строчке и тензор из векторов сил\n",
    "\n",
    "    ИНогда есть смысл делать побольше шаг между соседними строчками, поскольку если есть почти одинаковые матрицы, то\n",
    "    это по-сути линейная зависимость и модель тогда надо сильнее регулизировать\n",
    "\n",
    "    transform: преобразование к X части датасета, в основном для нормализации нужно, хотя о нормализации надо еще подумать и будет ли тогда наше МНК через матрицу A+ работать\n",
    "\n",
    "    step: через сколько строчек шагать при чтении csv в датасет, чтобы уж совсем одинаковых не было\n",
    "\n",
    "    use_A_t: Использовать ли X = VA^T или X=V (при k!= 3 матрица будет не квадратной)\n",
    "\n",
    "    Возвращает: list of (X, k_dim_f, A_pinv, F_3D)\n",
    "\n",
    "    '''\n",
    "\n",
    "    dataset = []\n",
    "\n",
    "    df = create_df_with_coords(coords_file_path=coords_path, forces_file_path=forces_path)\n",
    "    if length:\n",
    "        df = df.loc[range(length)]\n",
    "\n",
    "    # чистка df от больших сил\n",
    "    if clean:\n",
    "        df = clean_df(df, f_threshold=f_threshold, coord_threshold=coord_threshold)\n",
    "\n",
    "    if MODE == \"movements\" and use_vel:\n",
    "        if path_to_vel:\n",
    "            df_vels = pd.read_csv(path_to_vel, index_col=False)\n",
    "        else:\n",
    "            df_vels = pd.read_csv(\"./coords_and_movements/\" + f'velocities{CFG.N}.csv', index_col=False)\n",
    "\n",
    "    row_indexes = [idx for i, idx in enumerate(df.index) if i % step == 0]\n",
    "\n",
    "    for atom_number in range(CFG.N):\n",
    "        for index in tqdm(row_indexes, desc=f'Progress for atom {atom_number}'):\n",
    "            row = df.iloc[index]\n",
    "            x, F_3D, A = get_matrix_for_atom(row=row, atom_number=atom_number, use_orthogonal=use_orthogonal, use_A_t=use_A_t, naming_of_target_in_csv=naming_of_target_in_csv)\n",
    "            if transform:\n",
    "                x = transform(x)\n",
    "            else:\n",
    "                x = torch.tensor(x)\n",
    "            x = x.to(torch.float)\n",
    "\n",
    "            k_dim_f = get_projections(vec_to_project=F_3D, mat_of_directions=A)\n",
    "            flat_x = torch.flatten(x)\n",
    "\n",
    "            if MODE == \"movements\" and use_vel:\n",
    "                row_vels = df_vels.iloc[index]\n",
    "                columns_to_get_vels_from = [str(atom_number) + elem for elem in [\"v_x\", \"v_y\", \"v_z\"]]\n",
    "                vel_vec = torch.tensor(row_vels[columns_to_get_vels_from])\n",
    "                flat_x = torch.cat([flat_x, vel_vec])\n",
    "\n",
    "            dataset.append(\n",
    "                (flat_x.to(torch.float), torch.tensor(k_dim_f, dtype=torch.float), torch.tensor(get_pinv(A), dtype=torch.float), torch.tensor(F_3D, dtype=torch.float))\n",
    "                )\n",
    "            \n",
    "            # В дальнейшем для других моделей может иметь смысл хранить и возвращать тут (x, f, A), где A - соответствующая матрица для X\n",
    "\n",
    "    gc.collect()\n",
    "\n",
    "    return dataset"
   ]
  },
  {
   "cell_type": "code",
   "execution_count": 22,
   "metadata": {},
   "outputs": [],
   "source": [
    "# все-таки у нас тут не картинки будут, поэтому я попробую сначала даже без нормализации, нормализовать надо 1 канал, если в терминах картинки рассуждать\n",
    "\n",
    "class my_normalizer():\n",
    "    def __init__(self, mean, std) -> None:\n",
    "        self.mean = mean\n",
    "        self.std = std\n",
    "    \n",
    "    def __call__(self, x):\n",
    "        return (x - self.mean) / self.std\n",
    "\n",
    "# Когда только начинаю работать с датасетом надо один раз на трейне посчитать std и mean, чтобы нормализовать можно было\n",
    "\n",
    "mean = 1.1201671361923218\n",
    "std = 0.3449265956878662"
   ]
  },
  {
   "cell_type": "code",
   "execution_count": 23,
   "metadata": {},
   "outputs": [],
   "source": [
    "folder = \"coords_and_\" + MODE   # MODE справа\n",
    "\n",
    "coords_file_path = folder + '/coords' + str(CFG.N) + '.csv'\n",
    "forces_file_path = folder + '/' + MODE + str(CFG.N) + '.csv'    # и здесь тоже MODE вместо forces\n",
    "velocities_file_path = folder + '/' + 'velocities' + str(CFG.N) + '.csv'\n",
    "d_velocities_file_path = folder + '/' + 'd_velocities' + str(CFG.N) + '.csv'"
   ]
  },
  {
   "cell_type": "code",
   "execution_count": 24,
   "metadata": {},
   "outputs": [
    {
     "data": {
      "text/plain": [
       "'coords_and_movements/coords3.csv'"
      ]
     },
     "execution_count": 24,
     "metadata": {},
     "output_type": "execute_result"
    }
   ],
   "source": [
    "coords_file_path"
   ]
  },
  {
   "cell_type": "markdown",
   "metadata": {},
   "source": [
    "**В файлах которые я пилю руками на своем коде - там запись в файлы не с начала движения может быть**"
   ]
  },
  {
   "cell_type": "code",
   "execution_count": 25,
   "metadata": {},
   "outputs": [],
   "source": [
    "movements_step = 1\n",
    "\n",
    "# movements.csv are created based on coords.csv in forces and then coords.csv gets cut and saved in movements folder and we get syncronized by amount of rows csv files\n",
    "\n",
    "# So create movements.csv now does not cut velocity.csv\n",
    "if MODE == \"movements\":\n",
    "    create_movements_csv(\n",
    "        #TODO: make create_movements.csv also cut default velocity file and save its cut version into movements folder\n",
    "        CFG.N,\n",
    "        step=movements_step,\n",
    "\n",
    "        coords_path_to_get_movements_from=f'./LJ_modeling_realization/coords{CFG.N}.csv',\n",
    "        path_to_get_velocities_from=f'./LJ_modeling_realization/velocities{CFG.N}.csv',\n",
    "\n",
    "        create_d_velocity=True\n",
    "    )"
   ]
  },
  {
   "cell_type": "code",
   "execution_count": 26,
   "metadata": {},
   "outputs": [
    {
     "name": "stderr",
     "output_type": "stream",
     "text": [
      "Progress for atom 0: 100%|██████████| 285/285 [00:02<00:00, 132.35it/s]\n",
      "Progress for atom 1: 100%|██████████| 285/285 [00:01<00:00, 266.57it/s]\n",
      "Progress for atom 2: 100%|██████████| 285/285 [00:01<00:00, 253.67it/s]\n"
     ]
    }
   ],
   "source": [
    "dataset_step = 10\n",
    "\n",
    "dataset = create_tensor_dataset(\n",
    "    coords_path=coords_file_path,\n",
    "    forces_path=forces_file_path,\n",
    "\n",
    "    path_to_vel=velocities_file_path,\n",
    "    # use_vel=False,\n",
    "\n",
    "    step=dataset_step,\n",
    "\n",
    "    clean=False,\n",
    "    use_orthogonal=True,     # оно может сработать только для K=3, так как матрица V размера K x 3\n",
    "\n",
    "    use_A_t=True\n",
    "    # use_A_t=False\n",
    ")"
   ]
  },
  {
   "cell_type": "code",
   "execution_count": 27,
   "metadata": {},
   "outputs": [],
   "source": [
    "dataset_folder = \"dataset_objects/\" + MODE + '/'\n",
    "torch.save(dataset, dataset_folder + str(CFG.N) + '_dataset_K_' + str(CFG.K) + '.pt')"
   ]
  },
  {
   "cell_type": "markdown",
   "metadata": {},
   "source": [
    "**Распределение для первого элемента матрицы:**"
   ]
  },
  {
   "cell_type": "code",
   "execution_count": 28,
   "metadata": {},
   "outputs": [
    {
     "data": {
      "image/png": "[encoded data removed]",
      "text/plain": [
       "<Figure size 720x504 with 1 Axes>"
      ]
     },
     "metadata": {
      "needs_background": "light"
     },
     "output_type": "display_data"
    }
   ],
   "source": [
    "plt.figure(figsize=(10, 7))\n",
    "sns.violinplot(\n",
    "    x=[elem[0][0].item() for elem in dataset], width=0.7\n",
    ")\n",
    "None"
   ]
  },
  {
   "cell_type": "code",
   "execution_count": 29,
   "metadata": {},
   "outputs": [],
   "source": [
    "from sklearn.preprocessing import MinMaxScaler"
   ]
  },
  {
   "cell_type": "code",
   "execution_count": 30,
   "metadata": {},
   "outputs": [],
   "source": [
    "dataset1 = dataset.copy()"
   ]
  },
  {
   "cell_type": "code",
   "execution_count": 31,
   "metadata": {},
   "outputs": [],
   "source": [
    "# dataset = dataset1[:1000]"
   ]
  },
  {
   "cell_type": "markdown",
   "metadata": {},
   "source": [
    "**Отрисовать Верле и отрисовать само трушное:**"
   ]
  },
  {
   "cell_type": "code",
   "execution_count": 32,
   "metadata": {},
   "outputs": [
    {
     "data": {
      "image/png": "[encoded data removed]",
      "text/plain": [
       "<Figure size 720x504 with 1 Axes>"
      ]
     },
     "metadata": {
      "needs_background": "light"
     },
     "output_type": "display_data"
    }
   ],
   "source": [
    "X = (torch.stack([elem[0] for elem in dataset]))\n",
    "x11 = X[:, 0]\n",
    "x22 = X[:, 4]\n",
    "x33 = X[:, 8]\n",
    "\n",
    "Y_true = torch.stack([elem[1] for elem in dataset])\n",
    "\n",
    "plot_2d_result(\n",
    "    x11,\n",
    "    y_true=Y_true if len(dataset[0][1]) == 1 else Y_true[:, 0],\n",
    "    figsize=(10, 7)\n",
    ")"
   ]
  },
  {
   "cell_type": "markdown",
   "metadata": {},
   "source": [
    "$$\n",
    "X = V A^T\n",
    "$$\n",
    "Если все элементы матрицы V одинаковые, то матрица A имеет вид"
   ]
  },
  {
   "cell_type": "markdown",
   "metadata": {},
   "source": [
    "**У нас все-таки перемещения и у них проекции не равны будут в векторе перемещений даже если все V_i совпадают**"
   ]
  },
  {
   "cell_type": "code",
   "execution_count": 33,
   "metadata": {},
   "outputs": [
    {
     "data": {
      "text/plain": [
       "[(tensor([ 0.8395,  0.0000,  0.0000,  0.0000,  0.8784,  0.0000,  0.0000,  0.0000,\n",
       "           0.0634,  0.1836,  0.2198, -0.0140]),\n",
       "  tensor([-1.8426e-04, -2.2059e-04, -1.4002e-05]),\n",
       "  tensor([[-1.,  0.,  0.],\n",
       "          [ 0., -1.,  0.],\n",
       "          [ 0.,  0.,  1.]]),\n",
       "  tensor([ 1.8426e-04,  2.2059e-04, -1.4002e-05])),\n",
       " (tensor([ 0.8385,  0.0000,  0.0000,  0.0000,  0.8771,  0.0000,  0.0000,  0.0000,\n",
       "           0.0633,  0.1967,  0.2356, -0.0149]),\n",
       "  tensor([-1.9734e-04, -2.3639e-04, -1.4991e-05]),\n",
       "  tensor([[-1.,  0.,  0.],\n",
       "          [ 0., -1.,  0.],\n",
       "          [ 0.,  0.,  1.]]),\n",
       "  tensor([ 1.9734e-04,  2.3639e-04, -1.4991e-05]))]"
      ]
     },
     "execution_count": 33,
     "metadata": {},
     "output_type": "execute_result"
    }
   ],
   "source": [
    "dataset[:2]"
   ]
  },
  {
   "cell_type": "code",
   "execution_count": 34,
   "metadata": {},
   "outputs": [
    {
     "data": {
      "image/png": "[encoded data removed]",
      "text/plain": [
       "<Figure size 1080x1080 with 9 Axes>"
      ]
     },
     "metadata": {
      "needs_background": "light"
     },
     "output_type": "display_data"
    }
   ],
   "source": [
    "plot_matrix(X=X[:, :CFG.K * CFG.K], Y_true=Y_true, K=CFG.K)"
   ]
  },
  {
   "cell_type": "markdown",
   "metadata": {},
   "source": [
    "Виды изменения матрицы X:\n",
    "\n",
    "- K=3:\n",
    "    - делать матрицу V вида: diag(V[0][0], V[1][1], V2][2]); позволяет избежать близости векторов внутри V за счет чего получаем более далекие значения а еще матрица pinv_a тогда не сингулярная - теряется симметрия относительно вращений (а может и нет кстати)\n",
    "\n",
    "    - делать X = V вместо AV^T - так мы обучаемся прямо на модельных \"силах\" и знак так не съедается (мб стоит попробовать sgn добавить чтобы знак не хавался) - теряется симметрия относительно вращений"
   ]
  },
  {
   "attachments": {},
   "cell_type": "markdown",
   "metadata": {},
   "source": [
    "# Для модели для предсказания скоростей по тем же фичам:"
   ]
  },
  {
   "cell_type": "code",
   "execution_count": 35,
   "metadata": {},
   "outputs": [],
   "source": [
    "def create_dataset_object_for_d_velocities(step=dataset_step, coords_path=coords_file_path, velocities_path=velocities_file_path, d_velocities_path=d_velocities_file_path):\n",
    "    '''\n",
    "    creates.pt for velocities: it will be a dataset object, which will be the same dataset as for movements/forces, but with dv instead of ds or f\n",
    "    '''\n",
    "\n",
    "    dataset = create_tensor_dataset(\n",
    "        step=step,\n",
    "\n",
    "        coords_path=coords_path,\n",
    "        forces_path=d_velocities_path,\n",
    "\n",
    "        path_to_vel=velocities_path,\n",
    "        # use_vel=False,\n",
    "\n",
    "        clean=False,\n",
    "        use_orthogonal=True,     # оно может сработать только для K=3, так как матрица V размера K x 3\n",
    "\n",
    "        use_A_t=True,\n",
    "\n",
    "        naming_of_target_in_csv=[\"dv_x\", \"dv_y\", \"dv_z\"]\n",
    "        # use_A_t=False\n",
    "    )\n",
    "    dataset_folder = \"dataset_objects/\" + \"d_velocities\" + '/'\n",
    "    torch.save(dataset, dataset_folder + str(CFG.N) + '_dataset_K_' + str(CFG.K) + '.pt')\n",
    "\n",
    "    return dataset"
   ]
  },
  {
   "attachments": {},
   "cell_type": "markdown",
   "metadata": {},
   "source": [
    "Делаем так: При создании movements у нас создаются файлы для скоростей и для координат внутри coords_and_movements"
   ]
  },
  {
   "cell_type": "code",
   "execution_count": 36,
   "metadata": {},
   "outputs": [
    {
     "name": "stderr",
     "output_type": "stream",
     "text": [
      "Progress for atom 0: 100%|██████████| 285/285 [00:00<00:00, 289.39it/s]\n",
      "Progress for atom 1: 100%|██████████| 285/285 [00:00<00:00, 308.21it/s]\n",
      "Progress for atom 2: 100%|██████████| 285/285 [00:00<00:00, 297.40it/s]\n"
     ]
    }
   ],
   "source": [
    "vel_dataset = create_dataset_object_for_d_velocities()\n",
    "None"
   ]
  },
  {
   "cell_type": "code",
   "execution_count": 37,
   "metadata": {},
   "outputs": [
    {
     "data": {
      "text/plain": [
       "(tensor([ 0.8395,  0.0000,  0.0000,  0.0000,  0.8784,  0.0000,  0.0000,  0.0000,\n",
       "          0.0634,  0.1836,  0.2198, -0.0140]),\n",
       " tensor([-1.3001e-03, -1.5679e-03, -9.8292e-05]),\n",
       " tensor([[-1.,  0.,  0.],\n",
       "         [ 0., -1.,  0.],\n",
       "         [ 0.,  0.,  1.]]),\n",
       " tensor([ 1.3001e-03,  1.5679e-03, -9.8292e-05]))"
      ]
     },
     "execution_count": 37,
     "metadata": {},
     "output_type": "execute_result"
    }
   ],
   "source": [
    "vel_dataset[0]"
   ]
  },
  {
   "cell_type": "code",
   "execution_count": 38,
   "metadata": {},
   "outputs": [
    {
     "ename": "Exception",
     "evalue": "STOPPED",
     "output_type": "error",
     "traceback": [
      "\u001b[0;31m---------------------------------------------------------------------------\u001b[0m",
      "\u001b[0;31mException\u001b[0m                                 Traceback (most recent call last)",
      "\u001b[0;32m<ipython-input-38-39141baedbe0>\u001b[0m in \u001b[0;36m<module>\u001b[0;34m\u001b[0m\n\u001b[0;32m----> 1\u001b[0;31m \u001b[0;32mraise\u001b[0m \u001b[0mException\u001b[0m\u001b[0;34m(\u001b[0m\u001b[0;34m\"STOPPED\"\u001b[0m\u001b[0;34m)\u001b[0m\u001b[0;34m\u001b[0m\u001b[0;34m\u001b[0m\u001b[0m\n\u001b[0m",
      "\u001b[0;31mException\u001b[0m: STOPPED"
     ]
    }
   ],
   "source": [
    "raise Exception(\"STOPPED\")"
   ]
  },
  {
   "cell_type": "markdown",
   "metadata": {},
   "source": [
    "---\n",
    "---\n",
    "---"
   ]
  },
  {
   "cell_type": "markdown",
   "metadata": {},
   "source": [
    "---\n",
    "---\n",
    "---"
   ]
  },
  {
   "cell_type": "code",
   "execution_count": null,
   "metadata": {},
   "outputs": [
    {
     "data": {
      "text/plain": [
       "(torch.Size([9]),\n",
       " tensor([0.0443, 0.0000, 0.0000, 0.0000, 0.1149, 0.0000, 0.0000, 0.0000, 0.2771]))"
      ]
     },
     "execution_count": 44,
     "metadata": {},
     "output_type": "execute_result"
    }
   ],
   "source": [
    "from sklearn.model_selection import train_test_split\n",
    "\n",
    "train_data, val_data = train_test_split(dataset, test_size=0.33, random_state=42)\n",
    "\n",
    "train_data[1][0].size(), train_data[1][0]"
   ]
  },
  {
   "cell_type": "code",
   "execution_count": null,
   "metadata": {},
   "outputs": [
    {
     "name": "stdout",
     "output_type": "stream",
     "text": [
      "mean = 0.043820273131132126, std = 0.07915274798870087\n"
     ]
    }
   ],
   "source": [
    "def get_mean_and_std_for_train_X(train_data):\n",
    "    train_X = torch.cat([row[0] for row in train_data])\n",
    "\n",
    "    print(\n",
    "        f'mean = {torch.mean(train_X)}, std = {torch.std(train_X)}'\n",
    "    )\n",
    "\n",
    "get_mean_and_std_for_train_X(train_data=train_data) # тупо проверка"
   ]
  },
  {
   "cell_type": "code",
   "execution_count": null,
   "metadata": {},
   "outputs": [
    {
     "data": {
      "text/plain": [
       "(tensor([ 0.2358, -0.1750, -0.0195]), tensor([ 0.2358, -0.1750, -0.0195]))"
      ]
     },
     "execution_count": 46,
     "metadata": {},
     "output_type": "execute_result"
    }
   ],
   "source": [
    "# Проверка того, что при домножении на псведообратную матрицу получаем нужный вектор силы\n",
    "t = dataset[0]\n",
    "pinvA = t[2]\n",
    "f = t[1]\n",
    "F_3d = t[3]\n",
    "\n",
    "F_3d, pinvA @ f"
   ]
  },
  {
   "cell_type": "markdown",
   "metadata": {},
   "source": [
    "Пока никакие параметры особо не надо настраивать, поэтому и кросс валидацию не буду делать пока что, затем ее можно сделать, передавая в функцию create_dataloaders еще один параметр - фолд, на котором трейн, предварительно поделив на фолды датасет"
   ]
  },
  {
   "cell_type": "markdown",
   "metadata": {},
   "source": [
    "Если просто брать в качестве трейна другие строчки из одной генерации, то можно не отследить переобучения, стоит пробовать тестить на датасете, который отдельно сгенерирован с таким же числом частиц, который модель еще вообще не видела"
   ]
  },
  {
   "cell_type": "code",
   "execution_count": null,
   "metadata": {},
   "outputs": [
    {
     "data": {
      "image/png": "[encoded data removed]",
      "text/plain": [
       "<Figure size 1440x720 with 4 Axes>"
      ]
     },
     "metadata": {
      "needs_background": "light"
     },
     "output_type": "display_data"
    }
   ],
   "source": [
    "def plot_target_distribution(data=dataset, figsize=(30, 20), fontsize=20):\n",
    "    '''\n",
    "    data: data in \n",
    "    '''\n",
    "    target_3D = torch.stack([elem[3] for elem in data])\n",
    "    x, y, z = list(map(lambda x: torch.stack(x), list(zip(*list(target_3D)))))\n",
    "    target_3D = np.array(target_3D)\n",
    "    target_norm = norm(target_3D, axis=-1)\n",
    "    data = {'x': x, 'y': y, 'z': z, 'norm': target_norm}\n",
    "\n",
    "    plt.figure(figsize=figsize)\n",
    "\n",
    "    for (i, key) in enumerate(data):\n",
    "        plt.subplot(2, 2, i + 1)\n",
    "        ax = plt.gca()\n",
    "        sns.histplot(data[key], label=f'{key}', stat='count', binwidth=0.05, ax=ax)\n",
    "        plt.legend(loc='best', fontsize=fontsize)\n",
    "    \n",
    "    plt.show()\n",
    "\n",
    "\n",
    "plot_target_distribution(figsize=(20, 10))"
   ]
  },
  {
   "cell_type": "markdown",
   "metadata": {},
   "source": [
    "**Код для выяснения mean и std у трейновой выборки и для проверки уже после нормализации: (по ненормализованному датасету делается)** "
   ]
  },
  {
   "cell_type": "markdown",
   "metadata": {},
   "source": [
    "## Когда молекул уже будет много как хранить данные:"
   ]
  },
  {
   "cell_type": "code",
   "execution_count": null,
   "metadata": {},
   "outputs": [],
   "source": [
    "# Эта клетка нужна будет, когда молекул будет много (N > 100, K порядка 100)\n",
    "\n",
    "def create_df_with_paths(df_coords: pd.DataFrame, first_folder = 'Atom_matrices'):\n",
    "    '''\n",
    "\n",
    "    Пока эта функция не нужна, но в будущем за счет нее как раз будет работать PathBasedDataset\n",
    "\n",
    "    gets df, returns df with paths to torch matrices for each atom for different times,\n",
    "    basically this function will call get_matrix_for_atom a lot of times\n",
    "\n",
    "    output: pd.DataFrame that orignated from this:\n",
    "    \n",
    "    | Index | 1_atom_X_path                     | ... | N_atom_X_path                     |\n",
    "    |-------|-----------------------------------|-----|-----------------------------------|\n",
    "    | 1     | ./atom_matrices/index1/atom1.tb   |     | ./atom_matrices/index1/atomN.tb   |\n",
    "    | ...   |                                   |     |                                   |\n",
    "    | 30k   | ./atom_matrices/index30k/atom1.tb |     | ./atom_matrices/index30k/atomN.tb |\n",
    "    \n",
    "    but eventually will look like this:\n",
    "\n",
    "    | Index   | atom_X_path                       |\n",
    "    |---------|-----------------------------------|\n",
    "    | 1       | ./atom_matrices/index1/atom1.tb   |\n",
    "    | ...     | ...                               |\n",
    "    | 30k * N | ./atom_matrices/index30k/atomN.tb |\n",
    "\n",
    "    '''\n",
    "    row_numbers = df_coords.index\n",
    "\n",
    "    df_paths = pd.DataFrame(\n",
    "        {\n",
    "            'path': []\n",
    "        }\n",
    "    )\n",
    "\n",
    "    pass\n",
    "\n",
    "class PathBasedDataset(torch.utils.data.Dataset):\n",
    "    '''\n",
    "\n",
    "    Это будет класс датасета из торча для большого числа молекул, если молекул будет очень много, то надо будет уже хранить все матрицы X не в оперативной памяти\n",
    "\n",
    "    При создании экземпляра будет передаваться pd.Dataframe, который\n",
    "    состоит из трех колонок - проекций вектора силы и еще одной колонки - путь к файлу, где лежит как-то заэнкоженная\n",
    "    матрица для данного атома, и так для каждого атома (я проверил, что запись и чтение при помощи torch.save и torch.load для тензоров очень быстрое)\n",
    "\n",
    "    '''\n",
    "    def __init__(self, df, transforms=None, mode='train'):\n",
    "        self.df = df    # it will be dataframe with coordinates and forces of all atoms\n",
    "        self.mode = mode\n",
    "        \n",
    "    def __len__(self):\n",
    "        return len(self.df)\n",
    "    \n",
    "    def __getitem__(self, index):\n",
    "        x = 1   # it will be a matrix KxK for each atom\n",
    "        y = 1   # it will be a force vector with shape: (3)\n",
    "\n",
    "        if self.mode == 'test':\n",
    "            return x\n",
    "        return x, y"
   ]
  },
  {
   "cell_type": "code",
   "execution_count": null,
   "metadata": {},
   "outputs": [],
   "source": [
    "from torch.utils.data import DataLoader\n",
    "from torch.utils.data import TensorDataset"
   ]
  },
  {
   "cell_type": "code",
   "execution_count": null,
   "metadata": {},
   "outputs": [],
   "source": [
    "def create_dataloaders(train_dataset, val_dataset, train_bs=CFG.batch_size, val_bs=CFG.batch_size, fold=None):\n",
    "    '''\n",
    "\n",
    "    Returns train_loader, val_loader\n",
    "\n",
    "    fold: will be used in cross validation, when I will implement it\n",
    "\n",
    "    '''\n",
    "    \n",
    "    train_loader = DataLoader(dataset=train_dataset, batch_size=train_bs, shuffle=True)\n",
    "\n",
    "    val_loader = DataLoader(dataset=val_dataset, batch_size=val_bs, shuffle=False)\n",
    "\n",
    "    return train_loader, val_loader"
   ]
  },
  {
   "cell_type": "code",
   "execution_count": null,
   "metadata": {},
   "outputs": [],
   "source": [
    "train_loader, val_loader = create_dataloaders(train_data, val_data)"
   ]
  },
  {
   "cell_type": "code",
   "execution_count": null,
   "metadata": {},
   "outputs": [],
   "source": [
    "# next(iter(train_loader))[0]  # [batch_of_flattened_X, batch_of_k_dim_f, batch_of_pinv_a, batch_of_3d_f]"
   ]
  },
  {
   "cell_type": "markdown",
   "metadata": {},
   "source": [
    "---\n",
    "\n",
    "# Обучение:"
   ]
  },
  {
   "cell_type": "markdown",
   "metadata": {},
   "source": [
    "## 1)Многомерный аутпут:"
   ]
  },
  {
   "cell_type": "code",
   "execution_count": null,
   "metadata": {},
   "outputs": [],
   "source": [
    "import torch.nn.functional as F\n",
    "import torch.cuda.amp as amp"
   ]
  },
  {
   "cell_type": "markdown",
   "metadata": {},
   "source": [
    "Вообще постоянный множитель - это не особо важно, но просто при оценке качества модели возникнут определенные трудности"
   ]
  },
  {
   "cell_type": "code",
   "execution_count": null,
   "metadata": {},
   "outputs": [],
   "source": [
    "class MultiOutputMSELoss(nn.MSELoss):\n",
    "    '''\n",
    "\n",
    "    Custom loss that calculates average over batch loss for multidim MSE - sum of MSE for components\n",
    "\n",
    "    Example:\n",
    "    |\n",
    "    |    Loss = MultiOutputMSELoss()\n",
    "    |\n",
    "    |    a = torch.ones((8, 3))      # it is batch of 8 vectors of size 3\n",
    "    |    b = torch.zeros((8, 3))\n",
    "    |\n",
    "    |    Loss(a, b, batch_size=8) -> 3\n",
    "\n",
    "    '''\n",
    "\n",
    "    def forward(self, input, target, batch_size=CFG.batch_size):\n",
    "        '''\n",
    "        оно при reduction='mean' делит на произведение всех размерностей\n",
    "        '''\n",
    "        # при очень большом размере батча последние батчи будут например размера 128 вместо 256, поэтому просто умножать на батч сайз неправильно, могут быть другого размера\n",
    "\n",
    "        return F.mse_loss(input, target, reduction='sum') / input.size(0)   # или эквивалентно делать reduction='mean' и умножать на input.size()[-1] - length of output"
   ]
  },
  {
   "cell_type": "code",
   "execution_count": null,
   "metadata": {},
   "outputs": [],
   "source": [
    "class GaussianNLLLossWithReadyVar(nn.GaussianNLLLoss):\n",
    "    '''\n",
    "\n",
    "    Custom GaussianNLLLoss that does not require passing var into forward\n",
    "\n",
    "    The targets are treated as samples from Gaussian distributions, so var is calculated on full train data, assuming it was taken from the same distribution\n",
    "\n",
    "    '''\n",
    "    def __init__(self, full=False, eps=1e-06, reduction='sum'):\n",
    "        super().__init__(full=full, eps=eps, reduction=reduction)\n",
    "        self.__var_vector = torch.std(torch.stack([elem[1] for elem in train_data]), dim=0)\n",
    "        # self.__var = torch.ones(200, 10, requires_grad=True)\n",
    "        self.reduction = reduction\n",
    "\n",
    "    def forward(self, input, target):\n",
    "        # неважно, что оно может делать mean еще по размерностям, это всего лишь домножение на константу\n",
    "        var = torch.stack([self.__var_vector] * input.size(0)).to(CFG.device)\n",
    "\n",
    "        return F.gaussian_nll_loss(input=input, target=target, var=var, reduction=self.reduction) / input.size(0)"
   ]
  },
  {
   "cell_type": "code",
   "execution_count": null,
   "metadata": {},
   "outputs": [],
   "source": [
    "class SingleNet(nn.Module):\n",
    "    '''\n",
    "\n",
    "    Класс одиночной нейронной сети\n",
    "\n",
    "    '''\n",
    "    def __init__(self, output_size, activation=nn.ReLU(), flattened_size=CFG.K * CFG.K):\n",
    "        '''\n",
    "        \n",
    "        FC_type: тип полносвязных слоев: 'regular' / 'simple\n",
    "\n",
    "        convolution: сверточная часть сети\n",
    "\n",
    "        '''\n",
    "        super().__init__()\n",
    "\n",
    "        self.FC = nn.Sequential(\n",
    "            nn.Linear(flattened_size, 8),\n",
    "            activation,\n",
    "            # nn.Dropout(0.3),\n",
    "            nn.BatchNorm1d(8),\n",
    "\n",
    "            nn.Linear(8, 32),\n",
    "            activation,\n",
    "            # nn.Dropout(0.3),\n",
    "            nn.BatchNorm1d(32),\n",
    "            \n",
    "            nn.Linear(32, 128),\n",
    "            activation,\n",
    "            # nn.Dropout(0.3),\n",
    "            nn.BatchNorm1d(128),\n",
    "            nn.Linear(128, output_size),\n",
    "        )\n",
    "\n",
    "        # self.FC = nn.Linear(flattened_size, output_size)\n",
    "\n",
    "    def forward(self, x):\n",
    "        # x - это батч векторов т.ч.: size: [KxK], сам батч: (bath_size, KxK)\n",
    "\n",
    "        # Здесь происходят какие-то там свертки, пуллинги и тп..\n",
    "\n",
    "        x = self.FC(x)\n",
    "\n",
    "        return x"
   ]
  },
  {
   "cell_type": "code",
   "execution_count": null,
   "metadata": {},
   "outputs": [],
   "source": [
    "def plot_k_dim_f_norm_from_x_norm(data_sample, figsize=(15, 10), fontsize=18):\n",
    "    '''\n",
    "\n",
    "    Функция строит зависимость таргета от X\n",
    "\n",
    "    data_sample - итерируемый объект из тьюплов вида: (x, f_k_dim, f_3d, pinv_A)\n",
    "\n",
    "    '''\n",
    "    plt.figure(figsize=figsize)\n",
    "    x = torch.stack([elem[0][0].squeeze() for elem in data_sample])\n",
    "\n",
    "    y = torch.stack([elem[1][0].squeeze() for elem in data_sample])\n",
    "\n",
    "    plt.scatter(x, y, label='y(x)')\n",
    "    plt.title('Зависимость $Y_{target}(X)$', fontsize=fontsize)\n",
    "    None\n",
    "\n",
    "if CFG.K == 1:\n",
    "    plot_k_dim_f_norm_from_x_norm(dataset)"
   ]
  },
  {
   "cell_type": "markdown",
   "metadata": {},
   "source": [
    "#### Функции уже для обучения:"
   ]
  },
  {
   "cell_type": "markdown",
   "metadata": {},
   "source": [
    "В качестве метрики буду использовать сумму MSE по компонентам, лоссы можно разные пробовать"
   ]
  },
  {
   "cell_type": "code",
   "execution_count": null,
   "metadata": {},
   "outputs": [
    {
     "name": "stderr",
     "output_type": "stream",
     "text": [
      "/Users/avarlamov/opt/anaconda3/envs/my_3_6_conda_env/lib/python3.6/site-packages/torch/cuda/amp/grad_scaler.py:115: UserWarning: torch.cuda.amp.GradScaler is enabled, but CUDA is not available.  Disabling.\n",
      "  warnings.warn(\"torch.cuda.amp.GradScaler is enabled, but CUDA is not available.  Disabling.\")\n"
     ]
    }
   ],
   "source": [
    "def fit_epoch(model, train_loader, criterion, optimizer, scheduler=None, scaler=amp.GradScaler()):\n",
    "    '''\n",
    "\n",
    "    Функция обучения по всем батчам 1 раз (1 эпоха)\n",
    "\n",
    "    scaler: gradient scaler from torch.amp, попозже добавлю обучение с ним\n",
    "\n",
    "    В данной версии: (X, f_k_dim, A_pinv, F_3D)\n",
    "\n",
    "    Лосс выводится для k-мерного предсказания, а mse считается по 3D вариантам, однако при K=1 3d и 1d MSE совпадают\n",
    "\n",
    "    '''\n",
    "    model.train()\n",
    "\n",
    "    running_loss = 0.0\n",
    "    running_MSE = 0\n",
    "    processed_data = 0\n",
    "\n",
    "    for inputs, labels, pinv_As, labels_3D in train_loader:\n",
    "        optimizer.zero_grad()\n",
    "\n",
    "        inputs = inputs.to(CFG.device)\n",
    "        labels = labels.to(CFG.device)\n",
    "        pinv_As = pinv_As.to(CFG.device).detach()   # здесь можно не делать detach и обучать матрицу A\n",
    "\n",
    "        with amp.autocast(enabled=True):\n",
    "            outputs = model(inputs)\n",
    "            loss = criterion(outputs, labels)\n",
    "        \n",
    "        outputs_3D = torch.bmm(pinv_As, torch.unsqueeze(outputs.to(torch.float), 2)).to(CFG.device)    # используются для вычисления MSE метрики уже на 3D векторах силы\n",
    "        outputs_3D = torch.squeeze(outputs_3D, -1)\n",
    "\n",
    "        if scaler:\n",
    "            scaler.scale(loss).backward()\n",
    "            scaler.step(optimizer)\n",
    "            scaler.update()\n",
    "        else:\n",
    "            loss.backward()\n",
    "            optimizer.step()\n",
    "\n",
    "        if scheduler:\n",
    "            scheduler.step()\n",
    "\n",
    "        running_loss += loss.item() * inputs.size(0)    # при очень большом размере батча последние два батча будут например размера 128 вместо 256, поэтому просто умножать на батч сайз неправильно, могут быть другого размера\n",
    "        running_MSE += F.mse_loss(input=outputs_3D, target=labels_3D, reduction='sum').item()\n",
    "        processed_data += inputs.size(0)\n",
    "\n",
    "    # print(labels)\n",
    "    train_loss = running_loss / processed_data\n",
    "    train_MSE = running_MSE / processed_data\n",
    "    \n",
    "    return train_loss, train_MSE"
   ]
  },
  {
   "cell_type": "code",
   "execution_count": null,
   "metadata": {},
   "outputs": [],
   "source": [
    "def eval_epoch(model, val_loader, criterion):\n",
    "    '''\n",
    "\n",
    "    Одна эпоха по val выборке\n",
    "\n",
    "    '''\n",
    "\n",
    "    model.eval()\n",
    "    \n",
    "    running_loss = 0.0\n",
    "    running_MSE = 0\n",
    "    processed_size = 0\n",
    "\n",
    "    for inputs, labels, pinv_As, labels_3D in val_loader:\n",
    "\n",
    "        inputs = inputs.to(CFG.device)\n",
    "        labels = labels.to(CFG.device)\n",
    "        pinv_As = pinv_As.to(CFG.device)\n",
    "\n",
    "        with torch.no_grad():\n",
    "            outputs = model(inputs)\n",
    "            loss = criterion(outputs, labels)\n",
    "            \n",
    "        outputs_3D = torch.bmm(pinv_As, torch.unsqueeze(outputs, 2)).to(CFG.device) \n",
    "        outputs_3D = torch.squeeze(outputs_3D, -1)\n",
    "\n",
    "        running_loss += loss.item() * inputs.size(0)\n",
    "        running_MSE += F.mse_loss(input=outputs_3D, target=labels_3D, reduction='sum')\n",
    "        processed_size += inputs.size(0)\n",
    "\n",
    "    # print(f' outputs:\\n{outputs}, \\n labels: \\n {labels}')\n",
    "    \n",
    "    val_loss = running_loss / processed_size\n",
    "    val_MSE = running_MSE.double().item() / processed_size\n",
    "\n",
    "    print(inputs.size(), outputs.size())\n",
    "\n",
    "    return val_loss, val_MSE"
   ]
  },
  {
   "cell_type": "code",
   "execution_count": null,
   "metadata": {},
   "outputs": [],
   "source": [
    "def train(train_loader, val_loader, model, optimizer, scheduler=None, epochs=10, scaler=None, criterion=MultiOutputMSELoss()):\n",
    "    '''\n",
    "\n",
    "    Basic option: calculation loss on K-dimensional outputs, but MSE metric on 3D outputs, after the matrix is applied\n",
    "\n",
    "    loss_on_k_projections: calculate loss'\n",
    "    \n",
    "    '''\n",
    "\n",
    "    history = []\n",
    "    log_template = \"\\nEpoch {ep:03d} train_loss: {t_loss:0.4f} val_loss {v_loss:0.4f} train_MSE {t_mse:0.4f} val_MSE {v_mse:0.4f}\"\n",
    "\n",
    "    with tqdm(desc=\"epoch\", total=epochs) as pbar_outer:\n",
    "\n",
    "        for epoch in range(epochs):\n",
    "            train_loss, train_MSE = fit_epoch(model, train_loader, criterion, optimizer, scheduler, scaler)\n",
    "\n",
    "            val_loss, val_MSE = eval_epoch(model, val_loader, criterion)\n",
    "            if epoch != 0:\n",
    "                if history[-1][-1] < val_MSE:\n",
    "                    torch.save(model.state_dict(), './model.pth')     # сохраняем модель напрямую в гугл диск \n",
    "            \n",
    "            history.append((train_loss, train_MSE, val_loss, val_MSE))\n",
    "            \n",
    "            pbar_outer.update(1)\n",
    "            tqdm.write(log_template.format(ep=epoch + 1, t_loss=train_loss, v_loss=val_loss, t_mse=train_MSE, v_mse=val_MSE))\n",
    "            \n",
    "    return history"
   ]
  },
  {
   "cell_type": "code",
   "execution_count": null,
   "metadata": {},
   "outputs": [],
   "source": [
    "import torch.optim as optim\n",
    "from torch.optim import lr_scheduler\n",
    "from collections import defaultdict"
   ]
  },
  {
   "cell_type": "code",
   "execution_count": null,
   "metadata": {},
   "outputs": [
    {
     "data": {
      "text/plain": [
       "Sequential(\n",
       "  (0): Linear(in_features=9, out_features=8, bias=True)\n",
       "  (1): ReLU()\n",
       "  (2): BatchNorm1d(8, eps=1e-05, momentum=0.1, affine=True, track_running_stats=True)\n",
       "  (3): Linear(in_features=8, out_features=256, bias=True)\n",
       "  (4): ReLU()\n",
       "  (5): BatchNorm1d(256, eps=1e-05, momentum=0.1, affine=True, track_running_stats=True)\n",
       "  (6): Linear(in_features=256, out_features=512, bias=True)\n",
       "  (7): ReLU()\n",
       "  (8): BatchNorm1d(512, eps=1e-05, momentum=0.1, affine=True, track_running_stats=True)\n",
       "  (9): Linear(in_features=512, out_features=3, bias=True)\n",
       ")"
      ]
     },
     "execution_count": 62,
     "metadata": {},
     "output_type": "execute_result"
    }
   ],
   "source": [
    "# model = SingleNet(\n",
    "#     output_size=CFG.output_size,\n",
    "\n",
    "#     # activation=nn.Tanh(),\n",
    "#     activation=nn.ReLU(),\n",
    "\n",
    "# ).to(CFG.device)\n",
    "\n",
    "model = nn.Sequential(\n",
    "    nn.Linear(CFG.K ** 2, 8),\n",
    "    nn.ReLU(),\n",
    "    # nn.Dropout(0.5),\n",
    "    nn.BatchNorm1d(8),\n",
    "\n",
    "    nn.Linear(8, 256),\n",
    "    nn.ReLU(),\n",
    "    # nn.Dropout(0.5),\n",
    "    nn.BatchNorm1d(256),\n",
    "\n",
    "    nn.Linear(256, 512),\n",
    "    nn.ReLU(),\n",
    "    # nn.Dropout(0.5),\n",
    "    nn.BatchNorm1d(512),\n",
    "\n",
    "    nn.Linear(512, CFG.K)\n",
    ")\n",
    "\n",
    "optimizer = optim.Adam(model.parameters(), lr=5e-4, betas=(0.9, 0.999), weight_decay=0.01)\n",
    "\n",
    "# scheduler.step нужно первый раз делать обязательно после optimizer.step, потому что иначе мы просто пропустим первый шаг scheduler\n",
    "exp_scheduler = lr_scheduler.StepLR(optimizer, step_size=5, gamma=0.9)\n",
    "\n",
    "model"
   ]
  },
  {
   "cell_type": "code",
   "execution_count": null,
   "metadata": {},
   "outputs": [
    {
     "name": "stderr",
     "output_type": "stream",
     "text": [
      "epoch:   0%|          | 0/2 [00:00<?, ?it/s]/Users/avarlamov/opt/anaconda3/envs/my_3_6_conda_env/lib/python3.6/site-packages/torch/autocast_mode.py:141: UserWarning: User provided device_type of 'cuda', but CUDA is not available. Disabling\n",
      "  warnings.warn('User provided device_type of \\'cuda\\', but CUDA is not available. Disabling')\n",
      "epoch: 100%|██████████| 2/2 [00:00<00:00, 16.17it/s]"
     ]
    },
    {
     "name": "stdout",
     "output_type": "stream",
     "text": [
      "torch.Size([8, 9]) torch.Size([8, 3])\n",
      "\n",
      "Epoch 001 train_loss: 0.3588 val_loss 0.0425 train_MSE 0.3588 val_MSE 0.0425\n",
      "torch.Size([8, 9]) torch.Size([8, 3])\n",
      "\n",
      "Epoch 002 train_loss: 0.1382 val_loss 0.0285 train_MSE 0.1382 val_MSE 0.0285\n"
     ]
    },
    {
     "name": "stderr",
     "output_type": "stream",
     "text": [
      "\n"
     ]
    }
   ],
   "source": [
    "history = train(\n",
    "    train_loader=train_loader, val_loader=val_loader, model=model, optimizer=optimizer,\n",
    "    \n",
    "    # scheduler=exp_scheduler,\n",
    "\n",
    "    scaler=None,\n",
    "\n",
    "    # criterion=MultiOutputMSELoss(),     # on K=1 it's the same as nn.MSELoss\n",
    "    # criterion=nn.MSELoss(),\n",
    "    # criterion = GaussianNLLLossWithReadyVar(),\n",
    "    \n",
    "    epochs=2\n",
    ")"
   ]
  },
  {
   "cell_type": "code",
   "execution_count": null,
   "metadata": {},
   "outputs": [],
   "source": [
    "def make_predictions_and_plot(model, X_matrices=None, Y_target=None, figsize=(30, 20), fontsize=20, criterion=MultiOutputMSELoss(), data=None, same_axis=False):\n",
    "    '''\n",
    "\n",
    "    Строит предсказанную и тагрет зависимости\n",
    "\n",
    "    Можно подавать либо отлельно X_matrices, Y_target либо подать датасет из тьюплов: (X, f_k_dim, f_3d, A_pinv)\n",
    "\n",
    "    Будет подаваться 3 итерируемых объекта: набор(батч или кусок датасета) из \"матриц\", предсказания, таргеты\n",
    "\n",
    "    '''\n",
    "    \n",
    "    if CFG.K != 1:\n",
    "        return\n",
    "\n",
    "    if data:\n",
    "        X_matrices, Y_target, _, _ = list(map(lambda x: torch.stack(x), list(zip(*data))))\n",
    "        \n",
    "    Y_pred = model(X_matrices).detach().numpy()\n",
    "    names = ['predicted', 'target']\n",
    "    Ys = [Y_pred, Y_target]\n",
    "    # metric = criterion(Y_pred, Y_target)\n",
    "    \n",
    "    plt.figure(figsize=figsize)\n",
    "    fig = plt.gcf()\n",
    "    # fig.suptitle(f'Metric: {metric}', fontsize=22)\n",
    "\n",
    "    for (i, name) in enumerate(names):\n",
    "        if not same_axis:\n",
    "            plt.subplot(1, 2, i + 1)\n",
    "\n",
    "        plt.scatter(X_matrices, Ys[i].squeeze(), label=f'Y(X) {name}')\n",
    "\n",
    "        plt.xlabel('X', fontsize=18)\n",
    "        plt.ylabel('Y', fontsize=18)\n",
    "        plt.legend(loc='best', fontsize=fontsize)\n",
    "        plt.title(f'{name}', fontsize=18)\n",
    "        plt.grid(alpha=0.4)\n",
    "\n",
    "    plt.show()"
   ]
  },
  {
   "cell_type": "code",
   "execution_count": null,
   "metadata": {},
   "outputs": [],
   "source": [
    "if CFG.K == 1:\n",
    "    make_predictions_and_plot(model=model, data=train_data, same_axis=True)"
   ]
  },
  {
   "cell_type": "code",
   "execution_count": null,
   "metadata": {},
   "outputs": [],
   "source": [
    "def plot_history(history, figsize=(40, 15)):\n",
    "    '''\n",
    "\n",
    "    history: [(train_loss, train_MSE, val_loss, val_MSE), ...]\n",
    "\n",
    "    '''\n",
    "\n",
    "    names = ['Losses', 'Metrics']\n",
    "    \n",
    "    figure = plt.figure(figsize=figsize)\n",
    "\n",
    "    train_loss, train_metric, val_loss, val_metric = list(zip(*history))\n",
    "\n",
    "    parameters = {'Losses': [train_loss, val_loss], 'Metrics': [train_metric, val_metric]}\n",
    "\n",
    "    for i, name in enumerate(names):\n",
    "\n",
    "        plt.subplot(1, 2, i + 1)\n",
    "        plt.plot(range(1, len(history) + 1), parameters[name][0], label='train_loss')\n",
    "        plt.plot(range(1, len(history) + 1), parameters[name][1], label='val_loss')\n",
    "        \n",
    "        plt.title(names[i], fontsize=18)\n",
    "        plt.xlabel('epoch', fontsize=16)\n",
    "        plt.ylabel('value', fontsize=16)     \n",
    "        plt.xticks(np.arange(1, len(history) + 1, 1))\n",
    "        # plt.yticks(np.arange(1, len(history) + 1, 1))\n",
    "        plt.legend(loc='best', fontsize=16)\n",
    "        plt.grid(alpha=0.4)\n",
    "    \n",
    "    plt.show()"
   ]
  },
  {
   "cell_type": "code",
   "execution_count": null,
   "metadata": {},
   "outputs": [
    {
     "data": {
      "image/png": "[encoded data removed]",
      "text/plain": [
       "<Figure size 2880x1080 with 2 Axes>"
      ]
     },
     "metadata": {
      "needs_background": "light"
     },
     "output_type": "display_data"
    }
   ],
   "source": [
    "plot_history(history=history)"
   ]
  },
  {
   "cell_type": "markdown",
   "metadata": {},
   "source": [
    "---"
   ]
  },
  {
   "cell_type": "markdown",
   "metadata": {},
   "source": [
    "# 3) GPR модель \n",
    "    - (потом можно сюда навалить и сетку в качестве ядра и вообще deep GP юзать, плюс еще feature extractor в виде сверток юзать сначала, если очень большая матрица, но сначала надо обычный сделать)\n",
    "        - стоить понимать, что при количестве точек < 10 000 на гпу медленнее обучать (раз в 10)\n",
    "\n",
    "## 3.1) Не стохастический подход"
   ]
  },
  {
   "cell_type": "markdown",
   "metadata": {},
   "source": [
    "https://docs.gpytorch.ai/en/stable/examples/01_Exact_GPs/Simple_GP_Regression.html - как обучать модели в gpytorch"
   ]
  },
  {
   "cell_type": "markdown",
   "metadata": {},
   "source": [
    "https://docs.gpytorch.ai/en/v1.3.1/examples/04_Variational_and_Approximate_GPs/SVGP_Regression_CUDA.html - как обучать GP по мини батчам, когда данных слишком много"
   ]
  },
  {
   "cell_type": "markdown",
   "metadata": {},
   "source": [
    "У авторов $C_{mn}$ - это матрица ковариации по всему датасету, а $d_{mn}$ - некоторое введенное расстояние между матрицами, чтобы мы могли использовать экспоненциальное ядро, короче нам надо какое-то ядро, которое две матрицы, а не два числа принимает"
   ]
  },
  {
   "cell_type": "markdown",
   "metadata": {},
   "source": [
    "- Весьма убедительно считать расстояние между матрицами просто как l2 метрику между точками в NxN мерном пространстве"
   ]
  },
  {
   "cell_type": "markdown",
   "metadata": {},
   "source": [
    "Короче надо GPR сделать, у которого точки - матрицы и прогнозируется векторная величина, то есть для матрицы $x_*$ из инпута мы должны получать: $\\mu_* = E[f(x_*)]$ - трехмерное мат ожидание для предсказания и $S$"
   ]
  },
  {
   "cell_type": "code",
   "execution_count": null,
   "metadata": {},
   "outputs": [],
   "source": [
    "import gpytorch"
   ]
  },
  {
   "cell_type": "markdown",
   "metadata": {},
   "source": [
    "- В предположении что компоненты силы независимы, можно использовать Batch Independent Multioutput GP, предсказывая [fx, fy, fz]\n",
    "\n",
    "- Если предсказывать k проекций на все V_i, то компоненты уже зависимые и надо это учитывать и использовать другую модель: MultitaskGPModel"
   ]
  },
  {
   "cell_type": "code",
   "execution_count": null,
   "metadata": {},
   "outputs": [],
   "source": [
    "class flattener(torch.nn.Module):\n",
    "    '''\n",
    "\n",
    "    Module that flattens the input\n",
    "\n",
    "    '''\n",
    "    def __init__(self):\n",
    "        super().__init__()    \n",
    "\n",
    "    def forward(self, x):\n",
    "        return x.view(x.size(0), -1)"
   ]
  },
  {
   "cell_type": "markdown",
   "metadata": {},
   "source": [
    "лосс делаем -mll: минус логарифм правдоподобия: $-log[p(output Y | test X)]$"
   ]
  },
  {
   "cell_type": "code",
   "execution_count": null,
   "metadata": {},
   "outputs": [],
   "source": [
    "# train_X = torch.stack([elem[0] for elem in train_data])\n",
    "# train_Y = torch.stack([elem[1] for elem in train_data])\n",
    "\n",
    "# val_X = torch.stack([elem[0] for elem in val_data])\n",
    "# val_Y = torch.stack([elem[1] for elem in val_data])\n",
    "\n",
    "cut_constant = 50\n",
    "\n",
    "train_X = (torch.stack([elem[0] for elem in train_data[:cut_constant]]))\n",
    "train_Y = torch.stack([elem[1] for elem in train_data[:cut_constant]])\n",
    "\n",
    "val_X = (torch.stack([elem[0] for elem in val_data[:cut_constant]]))\n",
    "val_Y = torch.stack([elem[1] for elem in val_data[:cut_constant]])\n",
    "\n",
    "val_Y_3D = torch.stack([elem[3] for elem in val_data[:cut_constant]])\n",
    "val_Y_pinv_As = torch.stack([elem[2] for elem in val_data[:cut_constant]])\n",
    "\n",
    "# Тут в любом случае надо выпрямлять, потому что там проблемы с размерностями внутри gpytorch, если какое матричное ядро имплементить, то лучше будет просто внутри функции обратно на матрицы перейти и уже на них считать число"
   ]
  },
  {
   "cell_type": "markdown",
   "metadata": {},
   "source": [
    "**Про свертки и когда они ожидаемо будут и не будут работать:**\n",
    "\n",
    "    - если мы используем обычный GP, то мы обязаны каждый шаг обучаться на всем train_X - так алгоритм работает, поэтому и сверточная сеть так же должна будет обучаться, по-сути с батч_сайз = дата_сайз, но оно так вычислительно неподъемно или просто не успеет за такое маленькое количество шагов обучиться\n",
    "\n",
    "    - Поэтому стоит использовать алгоритм Stochastic Variational GP Regression, который подразумевает совместимость с torch.DataLoader, когда данных будет очень много, там используется стохастический алгоритм, позволяющий на батче обновлять параметры"
   ]
  },
  {
   "cell_type": "code",
   "execution_count": null,
   "metadata": {},
   "outputs": [],
   "source": [
    "class IndependentOutputsMultitaskGPModel(gpytorch.models.ExactGP):\n",
    "    '''\n",
    "\n",
    "    Class for multi output GPregression with independent components of output,\n",
    "    formally we are training output_size GP models\n",
    "\n",
    "    feature_extractor: torch network that consists only of convolutions (fully convolutional net)\n",
    "\n",
    "    '''\n",
    "    def __init__(self, train_x, train_y, likelihood, output_size=CFG.K, feature_extractor=None):\n",
    "        super().__init__(train_x, train_y, likelihood)\n",
    "\n",
    "        self.output_size = output_size\n",
    "\n",
    "        self.mean_module = gpytorch.means.ConstantMean(batch_shape=torch.Size([output_size]))     # batch_shape позволяет нам для каждой модели отдельные параметры сделать\n",
    "        self.covar_module = gpytorch.kernels.ScaleKernel(\n",
    "            gpytorch.kernels.RBFKernel(batch_shape=torch.Size([output_size])),\n",
    "        )\n",
    "\n",
    "        self.feature_extractor = flattener()\n",
    "        if feature_extractor:\n",
    "            self.feature_extractor = feature_extractor\n",
    "\n",
    "        self.scale_to_bounds = gpytorch.utils.grid.ScaleToBounds(-1., 1.)\n",
    "\n",
    "    def forward(self, x):\n",
    "\n",
    "        convoluted_n_flattened_x = self.feature_extractor(x)   # flattening\n",
    "        convoluted_n_flattened_x = self.scale_to_bounds(convoluted_n_flattened_x)\n",
    "\n",
    "        mean_x = self.mean_module(convoluted_n_flattened_x)\n",
    "        covar_x = self.covar_module(convoluted_n_flattened_x)\n",
    "\n",
    "        # print(f'Сайз выпрямленного:  {convoluted_n_flattened_x.size()} \\n Сам выпрямленный: {convoluted_n_flattened_x}')\n",
    "\n",
    "        return gpytorch.distributions.MultitaskMultivariateNormal.from_batch_mvn(\n",
    "            gpytorch.distributions.MultivariateNormal(mean_x, covar_x)\n",
    "        )"
   ]
  },
  {
   "cell_type": "code",
   "execution_count": null,
   "metadata": {},
   "outputs": [],
   "source": [
    "class MinusLogLikelihoodLoss:\n",
    "    '''\n",
    "\n",
    "    Object for computing NLLLoss\n",
    "\n",
    "    '''\n",
    "    def __init__(self, likelihood, model):\n",
    "        self.mll = gpytorch.mlls.ExactMarginalLogLikelihood(likelihood, model)\n",
    "\n",
    "    def __call__(self, model_output, true_target):\n",
    "        '''\n",
    "\n",
    "        model_output: what model(train_x) returns, i.e. distribution object, mll uses likelihood by itself\n",
    "\n",
    "        returns -mll(output, target)\n",
    "\n",
    "        '''\n",
    "        return -self.mll(model_output, true_target)"
   ]
  },
  {
   "cell_type": "code",
   "execution_count": null,
   "metadata": {},
   "outputs": [],
   "source": [
    "class GPRMSELoss:\n",
    "    '''\n",
    "    \n",
    "    object for calculation of MSE loss\n",
    "\n",
    "    '''\n",
    "    def __init__(self, likelihood):\n",
    "        self.vanilla_MSE = MultiOutputMSELoss()\n",
    "        self.likelihood = likelihood    # самописанные объекты изменяемые, поэтому этот имеет тот же id, что и глобальный likelihood\n",
    "\n",
    "    def __call__(self, model_output, true_target):\n",
    "        '''\n",
    "\n",
    "        model_output: what model(train_x) returns, i.e. distribution object\n",
    "\n",
    "        '''\n",
    "        print(id(self.likelihood))\n",
    "        mean_of_output = self.likelihood(model_output).mean\n",
    "\n",
    "        return self.vanilla_MSE(mean_of_output, true_target)"
   ]
  },
  {
   "cell_type": "code",
   "execution_count": null,
   "metadata": {},
   "outputs": [],
   "source": [
    "def GP_train(likelihood, model, optimizer, loss_obj, training_iterations: int, train_X, train_Y, print_step=1, scheduler=None):\n",
    "    '''\n",
    "\n",
    "    loss_obj should be an object of a class, which has __call__ method\n",
    "\n",
    "    to have a clear perspective: on a stochastic network training I used around 2500 iterations\n",
    "\n",
    "    returns history: dict: {'loss': [losses], 'MSE': [MSEs]}\n",
    "\n",
    "    '''\n",
    "    model.train()\n",
    "    likelihood.train()\n",
    "\n",
    "    history = defaultdict(list)\n",
    "\n",
    "    # scaler = amp.GradScaler()\n",
    "    \n",
    "    # Здесь нам не надо running_loss и running_MSE, потому что подаем сразу весь датасета в типе non-stochastic GP\n",
    "\n",
    "    # Здесь реально обучаются параметры GPR, поскольку некоторая параметрическая часть у GPR все-таки присутствует\n",
    "    for i in range(training_iterations):\n",
    "        optimizer.zero_grad()\n",
    "\n",
    "        output = model(train_X)\n",
    "\n",
    "        loss = loss_obj(output, train_Y)\n",
    "        loss.backward()\n",
    "\n",
    "        predictions = likelihood(model(train_X))\n",
    "        mean = predictions.mean\n",
    "        lower, upper = predictions.confidence_region()\n",
    "\n",
    "        # train_MSE = F.mse_loss(input=mean, target=train_Y, reduction='mean').item()   оно неправильно вычисляется, потому что в режиме train, мы mean получаем не для распределения у предсказаний, а тот который выучиили по трейну,\n",
    "        # Короче говоря в режиме train мы не \\mu* для объектов при предсказания получаем, а \\mu, которое получаем из трейн датасета\n",
    "\n",
    "        if i % print_step == 0:\n",
    "            print(f'Iter: {i + 1}, train_MSE = TODO, train_loss = {loss}')\n",
    "\n",
    "        optimizer.step()\n",
    "\n",
    "        # history['MSE'].append(train_MSE)\n",
    "        history['loss'].append(loss.item())\n",
    "        # history['sigma'].append((lower, upper))\n",
    "\n",
    "        if scheduler:\n",
    "            # Так как здесь обучение не по мини-батчам, то каждую итерацию обновление\n",
    "            scheduler.step()\n",
    "\n",
    "    return history"
   ]
  },
  {
   "cell_type": "markdown",
   "metadata": {},
   "source": [
    "Можно еще в процессе обучения параметров периодически смотреть на качество на валидационной выборке"
   ]
  },
  {
   "cell_type": "code",
   "execution_count": null,
   "metadata": {},
   "outputs": [],
   "source": [
    "def GP_eval(likelihood, model, optimizer, loss_obj, val_X, val_Y, val_Y_pinv_As, val_Y_3D):\n",
    "    '''\n",
    "    \n",
    "    One go dataset evaluation function\n",
    "\n",
    "    Returns: mean, mean_3D, lower, upper\n",
    "\n",
    "    '''\n",
    "    model.eval()\n",
    "    likelihood.eval()\n",
    "\n",
    "    with torch.no_grad():\n",
    "        # output = model(val_X)\n",
    "        # loss = loss_obj(output, val_Y)\n",
    "        predictions = likelihood(model(val_X))\n",
    "\n",
    "    mean = predictions.mean\n",
    "    lower, upper = predictions.confidence_region()\n",
    "\n",
    "    mean_3D = torch.bmm(val_Y_pinv_As, torch.unsqueeze(mean.to(torch.float), 2)).to(torch.device(\"cpu\"))    # используются для вычисления MSE метрики уже на 3D векторах силы\n",
    "    mean_3D = torch.squeeze(mean_3D, -1)\n",
    "\n",
    "    val_MSE = F.mse_loss(input=mean, target=val_Y, reduction='sum').item() / mean.size(0)\n",
    "    val_MSE_for_3D = F.mse_loss(input=mean_3D, target=val_Y_3D, reduction='sum').item() / mean_3D.size(0)\n",
    "\n",
    "    # print(mean)\n",
    "\n",
    "    print(f'val_MSE = {val_MSE}, val_MSE_for_3D = {val_MSE_for_3D}, val_RMSE_for_3D = {np.sqrt(val_MSE_for_3D)}')\n",
    "\n",
    "    return mean, mean_3D, lower, upper"
   ]
  },
  {
   "cell_type": "code",
   "execution_count": null,
   "metadata": {},
   "outputs": [],
   "source": [
    "class FeatureExtractor(nn.Module):\n",
    "    '''\n",
    "\n",
    "    Класс одиночной нейронной сети\n",
    "\n",
    "    '''\n",
    "    def __init__(self, extracted_size=CFG.K * CFG.K):\n",
    "        super().__init__()\n",
    "\n",
    "        # self.FC = nn.Sequential(\n",
    "        #     nn.Linear(CFG.K * CFG.K, 1024),\n",
    "        #     nn.ReLU(),\n",
    "        #     # nn.Dropout(0.3),\n",
    "        #     nn.BatchNorm1d(1024),\n",
    "\n",
    "        #     nn.Linear(1024, 512),\n",
    "        #     nn.ReLU(),\n",
    "        #     # nn.Dropout(0.3),\n",
    "        #     nn.BatchNorm1d(512),\n",
    "        #     nn.Linear(512, 256),\n",
    "\n",
    "        #     nn.Linear(256, 128),\n",
    "        #     nn.ReLU(),\n",
    "        #     # nn.Dropout(0.3),\n",
    "        #     nn.BatchNorm1d(128),\n",
    "        #     nn.Linear(128, extracted_size)\n",
    "        # )\n",
    "\n",
    "        self.FC = nn.Sequential(\n",
    "            nn.Linear(CFG.K * CFG.K, 128),\n",
    "            nn.ReLU(),\n",
    "            # nn.Dropout(0.3),\n",
    "            nn.BatchNorm1d(128),\n",
    "            nn.Linear(128, extracted_size)\n",
    "        )\n",
    "\n",
    "        # self.FC = nn.Linear(flattened_size, output_size)\n",
    "\n",
    "    def forward(self, x):\n",
    "\n",
    "        x = self.FC(x)\n",
    "\n",
    "        return x"
   ]
  },
  {
   "cell_type": "code",
   "execution_count": null,
   "metadata": {},
   "outputs": [],
   "source": [
    "likelihood = gpytorch.likelihoods.MultitaskGaussianLikelihood(num_tasks=CFG.output_size)\n",
    "feat_extractor = FeatureExtractor(extracted_size=32)\n",
    "\n",
    "model = IndependentOutputsMultitaskGPModel(\n",
    "    train_X,\n",
    "    train_Y,\n",
    "    likelihood,\n",
    "    # feature_extractor=feat_extractor\n",
    "    )\n",
    "\n",
    "if likelihood.num_tasks != model.output_size:\n",
    "    raise Exception('Different output dimensions for model and likelihood')\n",
    "\n",
    "optimizer = torch.optim.Adam(model.parameters(), lr=0.1, weight_decay=0.1)\n",
    "\n",
    "NLL_loss = MinusLogLikelihoodLoss(likelihood=likelihood, model=model)\n",
    "MSE_loss = GPRMSELoss(likelihood=likelihood)\n",
    "\n",
    "exp_scheduler = lr_scheduler.StepLR(optimizer, step_size=8, gamma=0.1)"
   ]
  },
  {
   "cell_type": "markdown",
   "metadata": {},
   "source": [
    "**Одно и то же значение для mean выводится в состоянии model.train(), потому что мы выбрали ConstMean и это типо и есть наше среднее, которое мы вычисляем по трейновому датасету**"
   ]
  },
  {
   "cell_type": "code",
   "execution_count": null,
   "metadata": {},
   "outputs": [
    {
     "name": "stdout",
     "output_type": "stream",
     "text": [
      "Iter: 1, train_MSE = TODO, train_loss = 1.1750028133392334\n",
      "Iter: 6, train_MSE = TODO, train_loss = 0.9930670261383057\n",
      "Iter: 11, train_MSE = TODO, train_loss = 0.8539432883262634\n",
      "Iter: 16, train_MSE = TODO, train_loss = 0.7662761211395264\n",
      "Iter: 21, train_MSE = TODO, train_loss = 0.7480253577232361\n",
      "Iter: 26, train_MSE = TODO, train_loss = 0.7339661717414856\n",
      "Iter: 31, train_MSE = TODO, train_loss = 0.7312160134315491\n"
     ]
    }
   ],
   "source": [
    "train_history = GP_train(\n",
    "    likelihood=likelihood,\n",
    "    model=model,\n",
    "    optimizer=optimizer,\n",
    "    scheduler=None,\n",
    "    \n",
    "    loss_obj=NLL_loss,\n",
    "\n",
    "    training_iterations=35,\n",
    "\n",
    "    train_X=train_X,\n",
    "    train_Y=train_Y,\n",
    "\n",
    "    print_step=5\n",
    ")"
   ]
  },
  {
   "cell_type": "markdown",
   "metadata": {},
   "source": [
    "одинаковые аутпуты в eval будут, если у нас очень резко сетка становится широкой из низкоразмерных данных, если мы используем feature_extractor, то есть та же проблема, что была с сетками просто"
   ]
  },
  {
   "cell_type": "code",
   "execution_count": null,
   "metadata": {},
   "outputs": [
    {
     "name": "stdout",
     "output_type": "stream",
     "text": [
      "val_MSE = 0.0014121727645397186, val_MSE_for_3D = 0.0014121727645397186, val_RMSE_for_3D = 0.03757888721795416\n"
     ]
    }
   ],
   "source": [
    "mean, mean_3D, lower, upper = GP_eval(\n",
    "\n",
    "    likelihood=likelihood,\n",
    "    model=model,\n",
    "\n",
    "    optimizer=optimizer,\n",
    "    loss_obj=NLL_loss,\n",
    "\n",
    "    val_X=val_X,\n",
    "    val_Y=val_Y,\n",
    "\n",
    "    val_Y_pinv_As=val_Y_pinv_As,\n",
    "    val_Y_3D=val_Y_3D\n",
    ")"
   ]
  },
  {
   "cell_type": "code",
   "execution_count": null,
   "metadata": {},
   "outputs": [],
   "source": [
    "def make_predictions_and_plot_GPR(model, likelihood, X_matrices=None, Y_target=None, figsize=(30, 20), fontsize=20, criterion=nn.MSELoss(), data=None, same_axis=False):\n",
    "    '''\n",
    "\n",
    "    Строит предсказанную и тагрет зависимости\n",
    "\n",
    "    Можно подавать либо отлельно X_matrices, Y_target либо подать датасет из тьюплов: (X, f_k_dim, f_3d, A_pinv)\n",
    "\n",
    "    Будет подаваться 3 итерируемых объекта: набор(батч или кусок датасета) из \"матриц\", предсказания, таргеты\n",
    "\n",
    "    '''\n",
    "\n",
    "    if CFG.K != 1:\n",
    "        return\n",
    "        \n",
    "    if data:\n",
    "        X_matrices, Y_target, _, _ = list(map(lambda x: torch.stack(x), list(zip(*data))))\n",
    "        X_matrices = X_matrices.squeeze().detach()\n",
    "        Y_target = Y_target.squeeze().detach()\n",
    "\n",
    "    prediction_distr = likelihood(model(X_matrices))\n",
    "    lower, upper = prediction_distr.confidence_region()\n",
    "    Y_pred = prediction_distr.mean.squeeze().detach()\n",
    "    names = ['predicted', 'target']\n",
    "    Ys = [Y_pred, Y_target]\n",
    "\n",
    "    plt.figure(figsize=figsize)\n",
    "    fig = plt.gcf()\n",
    "    fig.suptitle(f'{criterion._get_name()}: {criterion(Y_pred, Y_target)}', fontsize=22)\n",
    "\n",
    "    for (i, name) in enumerate(names):\n",
    "        if not same_axis:\n",
    "            plt.subplot(1, 2, i + 1)\n",
    "        plt.scatter(X_matrices, Ys[i].squeeze(), label=f'Y(X) {name}')\n",
    "\n",
    "        plt.xlabel(f'X', fontsize=18)\n",
    "        plt.ylabel(f'Y', fontsize=18)\n",
    "        plt.legend(loc='best', fontsize=fontsize)\n",
    "        plt.title(f'{name}', fontsize=18)\n",
    "        plt.grid(alpha=0.4)\n",
    "\n",
    "    plt.show()"
   ]
  },
  {
   "cell_type": "code",
   "execution_count": null,
   "metadata": {},
   "outputs": [],
   "source": [
    "make_predictions_and_plot_GPR(model=model, likelihood=likelihood, data=val_data, same_axis=True)"
   ]
  },
  {
   "cell_type": "markdown",
   "metadata": {},
   "source": [
    "## 3.2) Stochastic Variational GP Regression (обучение GPR по мини батчам):"
   ]
  },
  {
   "cell_type": "code",
   "execution_count": null,
   "metadata": {},
   "outputs": [],
   "source": []
  },
  {
   "cell_type": "markdown",
   "metadata": {},
   "source": [
    "---"
   ]
  },
  {
   "cell_type": "markdown",
   "metadata": {},
   "source": [
    "# Пока мои выводы / результаты: "
   ]
  },
  {
   "cell_type": "markdown",
   "metadata": {},
   "source": [
    "Update:\n",
    "\n",
    "удаляю совсем маленькие силы из датасета - GPR стал обучаться совсем идеально, а вот сетка совсем нет..."
   ]
  }
 ],
 "metadata": {
  "kernelspec": {
   "display_name": "Python 3.6.13 ('my_3_6_conda_env')",
   "language": "python",
   "name": "python3"
  },
  "language_info": {
   "codemirror_mode": {
    "name": "ipython",
    "version": 3
   },
   "file_extension": ".py",
   "mimetype": "text/x-python",
   "name": "python",
   "nbconvert_exporter": "python",
   "pygments_lexer": "ipython3",
   "version": "3.6.13"
  },
  "orig_nbformat": 4,
  "vscode": {
   "interpreter": {
    "hash": "6b5cc6bf18c7103cb99324f044582e9ca68eda52a25f7227b20ca62cd3e32898"
   }
  }
 },
 "nbformat": 4,
 "nbformat_minor": 2
}
