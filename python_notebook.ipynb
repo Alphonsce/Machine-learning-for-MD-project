{
 "cells": [
  {
   "cell_type": "markdown",
   "metadata": {},
   "source": [
    "# Explanations:\n",
    "\n",
    "По-сути решается задача k-мерной регрессии:\n",
    "- Для данной частицы предсказывается k-мерный \"вектор\" (скорее набор из k чисел) $f$\n",
    "\n",
    "- +- Понятно, что просто из теоремы косинусов для Евклидова пространства мы получаем, что по МНК можно получить наш желаемый вектор $F$ в трехмерном $\\Epsilon$\n",
    "\n",
    "- Мы требуем всяких крутых симметрий от матрицы X, чтобы все было физично и для однокомпонентной системы круто работало (https://journals.aps.org/prl/supplemental/10.1103/PhysRevLett.114.096405/suppinfo.pdf) - здесь есть про многокомпонентную систему, если уж до того дойдет...\n",
    "\n",
    "\n",
    "- target forces, которые вычислены при помощи DFTB естественно в прямоугольных координатах будут получены, поэтому, чтобы оценивать качество модели нам необходимо приводить \n",
    "\n",
    "---"
   ]
  },
  {
   "cell_type": "markdown",
   "metadata": {},
   "source": [
    "Авторы используют multi output GPR, настраивая гиперпараметры $\\sigma_{cov}$ и $\\sigma_{err}$ (можно однозначно их выразить через гиперпараметры из того же sklearn: $l$ и $\\sigma$)\n",
    "\n",
    "GPR - непараметрический метод, суть в том, что мы делаем предположение о виде матрицы корреляции признаков для известных данных.\n",
    "\n",
    "---"
   ]
  },
  {
   "cell_type": "markdown",
   "metadata": {},
   "source": [
    "В дальнейшем буду переписывать на Julia, если что-то хотя бы примерно будет получаться"
   ]
  },
  {
   "cell_type": "markdown",
   "metadata": {},
   "source": [
    "---"
   ]
  },
  {
   "cell_type": "code",
   "execution_count": 81,
   "metadata": {},
   "outputs": [],
   "source": [
    "import random\n",
    "import os\n",
    "import time\n",
    "\n",
    "from numba import jit, njit, vectorize\n",
    "import numpy as np\n",
    "from numpy.linalg import norm as norm\n",
    "import pandas as pd\n",
    "\n",
    "import torch\n",
    "import torch.nn as nn"
   ]
  },
  {
   "cell_type": "code",
   "execution_count": 72,
   "metadata": {},
   "outputs": [],
   "source": [
    "def set_seed(seed = 42):\n",
    "    '''\n",
    "    Sets the seed of the entire notebook so results are the same every time we run.\n",
    "    This is for REPRODUCIBILITY.\n",
    "    '''\n",
    "    np.random.seed(seed)\n",
    "    random.seed(seed)\n",
    "    torch.manual_seed(seed)\n",
    "    torch.cuda.manual_seed(seed)\n",
    "    # When running on the CuDNN backend, two further options must be set\n",
    "    torch.backends.cudnn.deterministic = True\n",
    "    torch.backends.cudnn.benchmark = False\n",
    "    # Set a fixed value for the hash seed\n",
    "    os.environ['PYTHONHASHSEED'] = str(seed)\n",
    "    \n",
    "set_seed()"
   ]
  },
  {
   "cell_type": "code",
   "execution_count": 86,
   "metadata": {},
   "outputs": [],
   "source": [
    "N = 100"
   ]
  },
  {
   "cell_type": "code",
   "execution_count": 74,
   "metadata": {},
   "outputs": [],
   "source": [
    "def file_into_configuration(path = None):\n",
    "    '''\n",
    "    This function will receive .xyz file of the starting configuration\n",
    "    and then return np.array of shape: (particles, 3), this way r vector of i-th particle will be configuration[i]\n",
    "    '''\n",
    "    \n",
    "    configuration = np.zeros(N, 3)\n",
    "\n",
    "    return configuration"
   ]
  },
  {
   "cell_type": "code",
   "execution_count": null,
   "metadata": {},
   "outputs": [],
   "source": [
    "def configuration_into_file(configuration = None, path = None, format = None):\n",
    "    '''\n",
    "    This function will create a chosen format(json/csv/xyz) file for current configuration\n",
    "\n",
    "    configuration: np.array\n",
    "    '''\n",
    "\n",
    "    \n",
    "\n",
    "    return None"
   ]
  },
  {
   "cell_type": "code",
   "execution_count": 83,
   "metadata": {},
   "outputs": [
    {
     "name": "stdout",
     "output_type": "stream",
     "text": [
      "CPU times: user 64 ms, sys: 3.2 ms, total: 67.2 ms\n",
      "Wall time: 66.8 ms\n"
     ]
    }
   ],
   "source": [
    "@njit\n",
    "def create_feature_matrix(r_cut = None, p = None, N_neig = N - 1):\n",
    "    '''\n",
    "    This function will receive one system configuration\n",
    "    as an array of objects\n",
    "\n",
    "    positions: np.array of shape ()\n",
    "    r_cut: np.array of r_cut(i)\n",
    "    p: np.array of p(i)\n",
    "\n",
    "    TODO:can also add new dimensions that give us more information into X\n",
    "    '''\n",
    "    V = np.zeros(shape=(N, 3))\n",
    "    A = np.zeros(shape=(N, 3))\n",
    "\n",
    "    X = V @ A.T\n",
    "    \n",
    "    return X\n",
    "\n",
    "%time _ = create_feature_matrix()"
   ]
  },
  {
   "cell_type": "code",
   "execution_count": 26,
   "metadata": {},
   "outputs": [
    {
     "data": {
      "text/plain": [
       "array([[0., 0., 0., ..., 0., 0., 0.],\n",
       "       [0., 0., 0., ..., 0., 0., 0.],\n",
       "       [0., 0., 0., ..., 0., 0., 0.],\n",
       "       ...,\n",
       "       [0., 0., 0., ..., 0., 0., 0.],\n",
       "       [0., 0., 0., ..., 0., 0., 0.],\n",
       "       [0., 0., 0., ..., 0., 0., 0.]])"
      ]
     },
     "execution_count": 26,
     "metadata": {},
     "output_type": "execute_result"
    }
   ],
   "source": [
    "create_feature_matrix()"
   ]
  },
  {
   "cell_type": "code",
   "execution_count": 87,
   "metadata": {},
   "outputs": [],
   "source": [
    "def get_target_forces_with_DFTB():\n",
    "    '''\n",
    "    \n",
    "    '''\n",
    "    pass"
   ]
  }
 ],
 "metadata": {
  "interpreter": {
   "hash": "b1f3fbe8920da735554002e2c4451c18264ac8836341d5bf958934d377042186"
  },
  "kernelspec": {
   "display_name": "Python 3.8.13 ('myenv')",
   "language": "python",
   "name": "python3"
  },
  "language_info": {
   "codemirror_mode": {
    "name": "ipython",
    "version": 3
   },
   "file_extension": ".py",
   "mimetype": "text/x-python",
   "name": "python",
   "nbconvert_exporter": "python",
   "pygments_lexer": "ipython3",
   "version": "3.8.13"
  },
  "orig_nbformat": 4
 },
 "nbformat": 4,
 "nbformat_minor": 2
}
