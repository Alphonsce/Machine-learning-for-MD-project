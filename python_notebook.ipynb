{
 "cells": [
  {
   "cell_type": "markdown",
   "metadata": {},
   "source": [
    "# <span style=\"color:green\"> Run on python 3.6</span>"
   ]
  },
  {
   "cell_type": "markdown",
   "metadata": {},
   "source": [
    "# Explanations:"
   ]
  },
  {
   "cell_type": "markdown",
   "metadata": {},
   "source": [
    "Авторы используют multi output GPR, настраивая гиперпараметры $\\sigma_{cov}$ и $\\sigma_{err}$ (можно однозначно их выразить через гиперпараметры из того же sklearn: $l$ и $\\sigma$)\n",
    "\n",
    "GPR - непараметрический метод, суть в том, что мы делаем предположение о виде матрицы корреляции признаков для известных данных. (но можно добавлять некоторые параметры в ядро и их градиентными методами \"обучать\", потому что все что мы делаем - перемножаем матрицы и используем элементарные функции)\n",
    "\n",
    "---"
   ]
  },
  {
   "cell_type": "markdown",
   "metadata": {},
   "source": [
    "Моделирование в хотя бы немного более сложном случае буду писать на Julia"
   ]
  },
  {
   "cell_type": "markdown",
   "metadata": {},
   "source": [
    "---"
   ]
  },
  {
   "cell_type": "markdown",
   "metadata": {},
   "source": [
    "Гиперпараметры:\n",
    "\n",
    "1)k: Количество элементов в массивах r_cut и p для каждого атома\n",
    "\n",
    "2)$r_{cut}(i)_j$, i=1..k, j=1..N: векторы r_cut для j атома тоже параметр\n",
    "\n",
    "3)$p_(i)_j$, i=1..k, j=1..N: векторы p для j атома тоже параметр\n",
    "\n",
    "4)N_neighbours for summation for IVs"
   ]
  },
  {
   "cell_type": "markdown",
   "metadata": {},
   "source": [
    "В GPyTorch есть имплементация многоразмерного регрессора: https://docs.gpytorch.ai/en/stable/examples/03_Multitask_Exact_GPs/index.html#multi-output-vector-valued-functions"
   ]
  },
  {
   "cell_type": "markdown",
   "metadata": {},
   "source": [
    "---\n",
    "\n",
    "- **Зачем предсказывать именно K-мерный вектор силы:** \n",
    "    - В системе из 3+ частиц гантелька из двух частиц может вращаться, тогда матрица признаков не изменяется у частиц из этой гантельки, а 3Д сила изменяется, но любое отображение может выдавать только 1 значение для 1 аргумента, то есть мы банально сможем выдавать только одну 3Д силу в таком случае,\n",
    "    однако если мы предсказываем К-мерный вектор, то он все равно будет только 1 выдаваться для частицы из этой вращающейся гантельки, но матрица А при этом будет разной в каждом состоянии и сможем получать разные 3Д векторы силы "
   ]
  },
  {
   "cell_type": "markdown",
   "metadata": {},
   "source": [
    "---\n",
    "\n",
    "Пока что все размерности предполагаются в системе LJ, потому что пока пытаюсь это зафитить"
   ]
  },
  {
   "cell_type": "markdown",
   "metadata": {},
   "source": [
    "В данный момент при вычислении псевдообратной матрицы очень большая ошибка получается"
   ]
  },
  {
   "cell_type": "code",
   "execution_count": 91,
   "metadata": {},
   "outputs": [],
   "source": [
    "import random\n",
    "import os\n",
    "import time\n",
    "\n",
    "from numba import jit, njit, vectorize\n",
    "import numpy as np\n",
    "import scipy\n",
    "from numpy.linalg import norm as norm\n",
    "import pandas as pd\n",
    "import seaborn as sns\n",
    "import matplotlib.pyplot as plt\n",
    "\n",
    "import torch\n",
    "import torch.nn as nn"
   ]
  },
  {
   "cell_type": "code",
   "execution_count": 92,
   "metadata": {},
   "outputs": [],
   "source": [
    "def set_seed(seed=42):\n",
    "    '''\n",
    "    \n",
    "    Sets the seed of the entire notebook so results are the same every time we run.\n",
    "    This is for REPRODUCIBILITY.\n",
    "\n",
    "    '''\n",
    "    np.random.seed(seed)\n",
    "    random.seed(seed)\n",
    "    torch.manual_seed(seed)\n",
    "    torch.cuda.manual_seed(seed)\n",
    "    # When running on the CuDNN backend, two further options must be set\n",
    "    torch.backends.cudnn.deterministic = True\n",
    "    torch.backends.cudnn.benchmark = False\n",
    "    # Set a fixed value for the hash seed\n",
    "    os.environ['PYTHONHASHSEED'] = str(seed)\n",
    "    \n",
    "set_seed(25)"
   ]
  },
  {
   "cell_type": "markdown",
   "metadata": {},
   "source": [
    "---\n",
    "\n",
    "# Hyperparameters:"
   ]
  },
  {
   "cell_type": "code",
   "execution_count": 93,
   "metadata": {},
   "outputs": [],
   "source": [
    "class CFG:\n",
    "    '''\n",
    "\n",
    "    All hyperparameters are here\n",
    "\n",
    "    '''\n",
    "\n",
    "    N = 2     # число атомов\n",
    "    K = 5     # можно называть это разрешением...чем число больше, тем больше размеры матрицы для атомов, фактически это число элементов в наборах p и r_cut\n",
    "\n",
    "    L = L = 2 * N ** (1 / 3) # размер одной клетки при моделировании\n",
    "\n",
    "    r_cut = np.random.uniform(low=5, high=10, size=K).copy()\n",
    "    p = np.random.uniform(low=1, high=3, size=K).copy()\n",
    "    N_neig= N - 1 if N != 2 else 1\n",
    "\n",
    "    # train_bs = 8\n",
    "    # val_bs = 16\n",
    "    batch_size = 64\n",
    "\n",
    "    device = torch.device(\"cuda:0\" if torch.cuda.is_available() else \"cpu\")\n",
    "\n",
    "    f_threshold = 10    # Если сила по какой-то координате превышает это значение, то строчка исключается, совсем маленьких по модулю сил быть не должно, если что при генерации просто r_cut поменьше надо делать\n",
    "    coord_threshold = 2 * L     # Если вдруг очень большие расстояния, то надо выкидывать\n",
    "    #\n",
    "    output_size = K     # Размерность аутпута модели"
   ]
  },
  {
   "cell_type": "code",
   "execution_count": 94,
   "metadata": {},
   "outputs": [
    {
     "data": {
      "text/plain": [
       "'p: [1.23475109 2.36993749 1.87522212 2.11245865 1.73416064], r_cut: [9.35062068 7.91138464 6.3941947  5.92955616 7.05550064]'"
      ]
     },
     "execution_count": 94,
     "metadata": {},
     "output_type": "execute_result"
    }
   ],
   "source": [
    "f'p: {CFG.p}, r_cut: {CFG.r_cut}'"
   ]
  },
  {
   "cell_type": "markdown",
   "metadata": {},
   "source": [
    "---"
   ]
  },
  {
   "cell_type": "markdown",
   "metadata": {},
   "source": [
    "Имеется два .csv файла:\n",
    "\n",
    "1)\n",
    "| Id(time) | 1_x | 1_y | 1_z | ... | N_z |\n",
    "|------|-----|-----|-----|-----|-----|\n",
    "|      |     |     |     |     |     |\n",
    "|      |     |     |     |     |     |\n",
    "2)\n",
    "| Id(time) | f_1_x | f_1_y | f_1_z | ... | f_N_z |\n",
    "|------|-----|-----|-----|-----|-----|\n",
    "|      |     |     |     |     |     |\n",
    "|      |     |     |     |     |     |\n",
    "\n",
    "Одна строчка отсюда превращается в N матриц (на каждый атом) с N векторами сил\n",
    "\n",
    "В идеале сделать БДху из двух сущностей: сила и координата, где полями будут их проекции"
   ]
  },
  {
   "cell_type": "code",
   "execution_count": 95,
   "metadata": {},
   "outputs": [],
   "source": [
    "def create_df_with_coords(coords_file_path = None, forces_file_path = None):\n",
    "    '''\n",
    "    just makes df from .csvs with coords and forces\n",
    "    '''\n",
    "    coords = pd.read_csv(coords_file_path)\n",
    "\n",
    "    forces = pd.read_csv(forces_file_path)\n",
    "\n",
    "    if CFG.N != int(coords.columns[-1][:-1]) + 1:\n",
    "        raise Exception('Constant N is not equal to amount of particles in .csv')\n",
    "\n",
    "    return pd.merge(left=coords, right=forces, on='t').drop('t', axis='columns')"
   ]
  },
  {
   "cell_type": "markdown",
   "metadata": {},
   "source": [
    "12 индекс - 1 отн 2\n",
    "\n",
    "$$\n",
    "\\vec{r_1} = \\vec{r_2} + \\vec{r}_{12}\n",
    "$$\n",
    "\n",
    "$$\n",
    "\\vec{r}_{12} = \\vec{r_1} - \\vec{r}_{2}\n",
    "$$"
   ]
  },
  {
   "cell_type": "code",
   "execution_count": 96,
   "metadata": {},
   "outputs": [],
   "source": [
    "def _get_relative_positions(row, atom_number):\n",
    "    '''\n",
    "    This function processes one row of csv into something that we can work with\n",
    "\n",
    "    Returns np.array matrix that consists of relative positions vectors for passed atom_number to every other atom\n",
    "    and then we can chose only closest N_neighbours in the next functions\n",
    "    \n",
    "    row: df.iloc[row] - typeof(row): pd.Series\n",
    "    \n",
    "    returns: Rel_matrix, f_vec\n",
    "    '''\n",
    "\n",
    "    s_coord = pd.Series(dtype=float)\n",
    "    other_atom_numbers = [i for i in range(CFG.N) if i != atom_number]\n",
    "\n",
    "    for other_numb in other_atom_numbers:\n",
    "        index = str(atom_number) + str(other_numb)\n",
    "        for axis in ['x', 'y', 'z']:\n",
    "            s_coord[index + axis] = row[str(atom_number) + axis] - row[str(other_numb) + axis]\n",
    "\n",
    "    # we need force vector only for atom_number:\n",
    "    force_vec = []\n",
    "    for f_axis in ['f_x', 'f_y', 'f_z']:\n",
    "        force_vec.append(row[str(atom_number) + f_axis])\n",
    "\n",
    "    Rel_matrix = []\n",
    "    cur_vector = []\n",
    "\n",
    "    for (i, elem) in enumerate(s_coord.values):\n",
    "        if i % 3 == 0 and i != 0:\n",
    "            Rel_matrix.append(cur_vector)\n",
    "            cur_vector = []\n",
    "\n",
    "        cur_vector.append(elem)\n",
    "    Rel_matrix.append(cur_vector)\n",
    "\n",
    "    return np.array(Rel_matrix), np.array(force_vec)"
   ]
  },
  {
   "cell_type": "code",
   "execution_count": 97,
   "metadata": {},
   "outputs": [],
   "source": [
    "from sklearn.preprocessing import normalize"
   ]
  },
  {
   "cell_type": "code",
   "execution_count": 98,
   "metadata": {},
   "outputs": [],
   "source": [
    "@njit(fastmath=True)\n",
    "def make_one_vec_transformed(vec, vec_norm, r_cut_i, p_i):\n",
    "    '''\n",
    "    vec: np.array - normalized vector\n",
    "    norm: its norm\n",
    "    r_cut_i: i-th component of\n",
    "    '''\n",
    "    return vec * np.exp(\n",
    "        -np.power((vec_norm / r_cut_i), p_i)\n",
    "        )\n",
    "\n",
    "make_matrix_transformed = np.vectorize(make_one_vec_transformed)\n",
    "\n",
    "def create_V_i(i, normalized_m, norms, r_cut=CFG.r_cut, p=CFG.p):\n",
    "    '''\n",
    "    normalized_m: matrix of relative distances, where rows - normalized vectors\n",
    "    i: i-th component of r_cut and p, i in range 1..K (or in 0..K-1 in code)\n",
    "    '''\n",
    "    transf_vecs = make_matrix_transformed(normalized_m, norms[:, np.newaxis], r_cut[i], p[i])\n",
    "\n",
    "    return np.sum(transf_vecs, axis=0)\n",
    "\n",
    "# @njit(parallel=True)\n",
    "def create_V(normalized_m, norms, K=CFG.K):\n",
    "    '''\n",
    "    creates V\n",
    "    '''\n",
    "    V = []\n",
    "    for i in range(K):\n",
    "        V.append(\n",
    "            create_V_i(i, normalized_m, norms)\n",
    "        )\n",
    "\n",
    "    return np.stack(V)"
   ]
  },
  {
   "cell_type": "code",
   "execution_count": 99,
   "metadata": {},
   "outputs": [],
   "source": [
    "# @njit(\n",
    "#     # parallel=True,\n",
    "#     # fastmath=True\n",
    "#     )\n",
    "def _calculate_matrix_for_atom(relative_distances, r_cut=CFG.r_cut, p=CFG.p, N_neig=CFG.N_neig, K=CFG.K):\n",
    "    '''\n",
    "\n",
    "    relative_distances: np.array matrix of relative distance vectors\n",
    "\n",
    "    '''\n",
    "    \n",
    "    # Only closest N_neig are counting:\n",
    "    indexlist = np.argsort(norm(relative_distances, axis=1))\n",
    "\n",
    "    relative_distances = relative_distances[indexlist[len(relative_distances) - N_neig:]]\n",
    "\n",
    "    norms = norm(relative_distances, axis=-1)\n",
    "\n",
    "    normalized_rel_distances = relative_distances / norms[:, np.newaxis]\n",
    "\n",
    "    V = create_V(normalized_rel_distances, norms)\n",
    "\n",
    "    if np.inf in V / norm(V, axis=-1)[:, np.newaxis] or np.nan in V / norm(V, axis=-1)[:, np.newaxis]:\n",
    "        print(f'V:\\n {V}\\n norms:\\n {norm(V, axis=-1)[:, np.newaxis]}\\n normed_V:\\n {V / norm(V, axis=-1)[:, np.newaxis]}')\n",
    "        print(f'ABOUT RELATIVE DISTANCES:\\n rel_dists:\\n {relative_distances}\\n norms:\\n{norms}\\n normalized_rel_dists:\\n {normalized_rel_distances}')\n",
    "\n",
    "    A = V / norm(V, axis=-1)[:, np.newaxis]\n",
    "\n",
    "    X = V @ A.T\n",
    "\n",
    "    return X, A"
   ]
  },
  {
   "cell_type": "code",
   "execution_count": 100,
   "metadata": {},
   "outputs": [],
   "source": [
    "def get_matrix_for_atom(row = None, atom_number = None, N_neig=CFG.N_neig):\n",
    "    '''\n",
    "\n",
    "    This function will create X matrix for passed atom with\n",
    "    arrays of r_cut and p of length k\n",
    "\n",
    "    It is a wrapper for _get_relative_positions and _calculate_matrix_for_atom, so I can speed up matrix calculations\n",
    "    with numba for _calculate_matrix_for_atom\n",
    "\n",
    "    atom_number: a number of atom that we are passing\n",
    "    row: one row from df_with_coords, i.e. df.iloc[index_of_row]\n",
    "\n",
    "    '''\n",
    "\n",
    "    # creating row of relative coordinates for concrete atom:\n",
    "    relative_distances, f_vec = _get_relative_positions(row=row, atom_number=atom_number)\n",
    "    X, A = _calculate_matrix_for_atom(relative_distances=relative_distances, N_neig=N_neig)\n",
    "    \n",
    "    return X, f_vec, A\n",
    "\n",
    "# %timeit get_matrix_for_atom(row=df.iloc[0], atom_number=1)"
   ]
  },
  {
   "cell_type": "code",
   "execution_count": 101,
   "metadata": {},
   "outputs": [],
   "source": [
    "from tqdm import tqdm\n",
    "import gc\n",
    "import torchvision.transforms as transforms"
   ]
  },
  {
   "cell_type": "markdown",
   "metadata": {},
   "source": [
    "**У нас будет train и val выборки, все-таки выборку, для который известен таргет принято называть validation, на которой мы качество оцениваем, а test это все-таки выборка, для который неизвестны таргеты**"
   ]
  },
  {
   "cell_type": "code",
   "execution_count": 102,
   "metadata": {},
   "outputs": [],
   "source": [
    "def clean_df(df: pd.DataFrame, f_threshold = CFG.f_threshold, coord_threshold=CFG.coord_threshold):\n",
    "    '''\n",
    "\n",
    "    Убирает строчки с аномально большими силами из df\n",
    "\n",
    "    '''\n",
    "\n",
    "    indexes_for_deletion = set()\n",
    "\n",
    "    for numb in range(CFG.N):\n",
    "        for coord in ['f_x', 'f_y', 'f_z']:\n",
    "\n",
    "            indexes_for_deletion = indexes_for_deletion.union(\n",
    "                set(df[abs(df[str(numb) + coord]) > f_threshold].index)\n",
    "            )\n",
    "\n",
    "        for coord in ['x', 'y', 'z']:\n",
    "            indexes_for_deletion = indexes_for_deletion.union(\n",
    "                set(df[abs(df[str(numb) + coord]) > coord_threshold].index)\n",
    "            )\n",
    "\n",
    "    return df.drop(list(indexes_for_deletion))"
   ]
  },
  {
   "cell_type": "code",
   "execution_count": 103,
   "metadata": {},
   "outputs": [],
   "source": [
    "@njit\n",
    "def get_pinv(A):\n",
    "    '''\n",
    "\n",
    "    returns pseudoinverse matrix for input\n",
    "\n",
    "    '''\n",
    "    return np.linalg.pinv(A)\n",
    "\n",
    "def get_projections(vec_to_project, mat_of_directions):\n",
    "    '''\n",
    "\n",
    "    returns projection of vec_to_project on every vector from mat_of_directions\n",
    "\n",
    "    '''\n",
    "    return (mat_of_directions @ vec_to_project) / norm(mat_of_directions, axis=-1)\n",
    "\n",
    "def create_tensor_dataset(\n",
    "    coords_file_path = 'coords.csv', forces_file_path = 'forces.csv', step=1, transform=transforms.ToTensor(), length=None,\n",
    "    f_threshold=CFG.f_threshold,\n",
    "    coord_threshold=CFG.coord_threshold,\n",
    "    ):\n",
    "    '''\n",
    "\n",
    "    Примитивная версия датасета, просто все будет хранить в одном списке...\n",
    "\n",
    "    Эта функция - wrapper на все выше написанные функции, она по переданным путям к .csv\n",
    "    возвращает тензор из матриц для каждого атома в каждой строчке и тензор из векторов сил\n",
    "\n",
    "    ИНогда есть смысл делать побольше шаг между соседними строчками, поскольку если есть почти одинаковые матрицы, то\n",
    "    это по-сути линейная зависимость и модель тогда надо сильнее регулизировать\n",
    "\n",
    "    transform: преобразование к X части датасета, в основном для нормализации нужно, хотя о нормализации надо еще подумать и будет ли тогда наше МНК через матрицу A+ работать\n",
    "\n",
    "    step: через сколько строчек шагать при чтении csv в датасет, чтобы уж совсем одинаковых не было\n",
    "\n",
    "    Возвращает: list of (X, k_dim_f, A_pinv, F_3D)\n",
    "\n",
    "    '''\n",
    "\n",
    "    dataset = []\n",
    "\n",
    "    df = create_df_with_coords(coords_file_path=coords_file_path, forces_file_path=forces_file_path)\n",
    "    if length:\n",
    "        df = df.loc[range(length)]\n",
    "\n",
    "    # Сюда будет вставлена чистка df от больших сил\n",
    "    df = clean_df(df, f_threshold=f_threshold, coord_threshold=coord_threshold)\n",
    "\n",
    "    row_indexes = [i for i in range(0, len(df.index), step)]\n",
    "\n",
    "    for atom_number in range(CFG.N):\n",
    "        for index in tqdm(row_indexes, desc=f'Progress for atom {atom_number}'):\n",
    "            row = df.iloc[index]\n",
    "            x, F_3D, A = get_matrix_for_atom(row=row, atom_number=atom_number)\n",
    "            \n",
    "            if transform:\n",
    "                x = transform(x)\n",
    "            else:\n",
    "                x = torch.tensor(x)\n",
    "            x = x.to(torch.float)\n",
    "\n",
    "            k_dim_f = get_projections(vec_to_project=F_3D, mat_of_directions=A)\n",
    "\n",
    "            dataset.append(\n",
    "                (x, torch.tensor(k_dim_f, dtype=torch.float), torch.tensor(get_pinv(A), dtype=torch.float), torch.tensor(F_3D, dtype=torch.float))\n",
    "                )\n",
    "            \n",
    "            # В дальнейшем для других моделей может иметь смысл хранить и возвращать тут (x, f, A), где A - соответствующая матрица для X\n",
    "\n",
    "    gc.collect()\n",
    "\n",
    "    return dataset"
   ]
  },
  {
   "cell_type": "code",
   "execution_count": 104,
   "metadata": {},
   "outputs": [],
   "source": [
    "# Когда только начинаю работать с датасетом надо один раз на трейне посчитать std и mean, чтобы нормализовать можно было\n",
    "\n",
    "mean = 1.1201671361923218\n",
    "std = 0.3449265956878662"
   ]
  },
  {
   "cell_type": "code",
   "execution_count": 105,
   "metadata": {},
   "outputs": [],
   "source": [
    "# все-таки у нас тут не картинки будут, поэтому я попробую сначала даже без нормализации, нормализовать надо 1 канал, если в терминах картинки рассуждать\n",
    "\n",
    "transform = transforms.Compose([                                    \n",
    "    transforms.ToTensor(),\n",
    "    transforms.Normalize(mean=mean, std=std),                    \n",
    "])"
   ]
  },
  {
   "cell_type": "code",
   "execution_count": 106,
   "metadata": {},
   "outputs": [
    {
     "name": "stderr",
     "output_type": "stream",
     "text": [
      "Progress for atom 0: 100%|██████████| 468/468 [00:00<00:00, 469.32it/s]\n",
      "Progress for atom 1: 100%|██████████| 468/468 [00:00<00:00, 583.43it/s]\n"
     ]
    }
   ],
   "source": [
    "dataset = create_tensor_dataset(coords_file_path='coords2.csv', forces_file_path='forces2.csv', step=100)\n",
    "\n",
    "# Uncomment, when calculated and changed mean and std:\n",
    "\n",
    "# dataset = create_tensor_dataset('coords2.csv', 'forces2.csv', step=40, transform=transform)"
   ]
  },
  {
   "cell_type": "code",
   "execution_count": 107,
   "metadata": {},
   "outputs": [
    {
     "data": {
      "text/plain": [
       "(tensor([[[0.8131, 0.8131, 0.8131, 0.8131, 0.8131],\n",
       "          [0.9303, 0.9303, 0.9303, 0.9303, 0.9303],\n",
       "          [0.8300, 0.8300, 0.8300, 0.8300, 0.8300],\n",
       "          [0.8380, 0.8380, 0.8380, 0.8380, 0.8380],\n",
       "          [0.8367, 0.8367, 0.8367, 0.8367, 0.8367]]]),\n",
       " tensor([-0.0289, -0.0289, -0.0289, -0.0289, -0.0289]),\n",
       " tensor([[-0.0782, -0.0782, -0.0782, -0.0782, -0.0782],\n",
       "         [-0.0401, -0.0401, -0.0401, -0.0401, -0.0401],\n",
       "         [ 0.1796,  0.1796,  0.1796,  0.1796,  0.1796]]),\n",
       " tensor([ 0.0113,  0.0058, -0.0259]))"
      ]
     },
     "execution_count": 107,
     "metadata": {},
     "output_type": "execute_result"
    }
   ],
   "source": [
    "dataset[400]"
   ]
  },
  {
   "cell_type": "code",
   "execution_count": 108,
   "metadata": {},
   "outputs": [
    {
     "data": {
      "text/plain": [
       "(tensor([-0.0289, -0.0289, -0.0289, -0.0289, -0.0289]),\n",
       " tensor([ 0.0113,  0.0058, -0.0259]))"
      ]
     },
     "execution_count": 108,
     "metadata": {},
     "output_type": "execute_result"
    }
   ],
   "source": [
    "t = dataset[400]\n",
    "pinvA = t[2]\n",
    "f = t[1]\n",
    "F_3d = t[3]\n",
    "\n",
    "f, F_3d"
   ]
  },
  {
   "cell_type": "markdown",
   "metadata": {},
   "source": [
    "Пока никакие параметры особо не надо настраивать, поэтому и кросс валидацию не буду делать пока что, затем ее можно сделать, передавая в функцию create_dataloaders еще один параметр - фолд, на котором трейн, предварительно поделив на фолды датасет"
   ]
  },
  {
   "cell_type": "markdown",
   "metadata": {},
   "source": [
    "Если просто брать в качестве трейна другие строчки из одной генерации, то можно не отследить переобучения, стоит пробовать тестить на датасете, который отдельно сгенерирован с таким же числом частиц, который модель еще вообще не видела"
   ]
  },
  {
   "cell_type": "code",
   "execution_count": 109,
   "metadata": {},
   "outputs": [
    {
     "data": {
      "text/plain": [
       "(torch.Size([1, 5, 5]), tensor([[[0.8539, 0.8539, 0.8539, 0.8539, 0.8539],\n",
       "          [0.9579, 0.9579, 0.9579, 0.9579, 0.9579],\n",
       "          [0.8837, 0.8837, 0.8837, 0.8837, 0.8837],\n",
       "          [0.8947, 0.8947, 0.8947, 0.8947, 0.8947],\n",
       "          [0.8852, 0.8852, 0.8852, 0.8852, 0.8852]]]))"
      ]
     },
     "execution_count": 109,
     "metadata": {},
     "output_type": "execute_result"
    }
   ],
   "source": [
    "from sklearn.model_selection import train_test_split\n",
    "\n",
    "train_data, val_data = train_test_split(dataset, test_size=0.33, random_state=42)\n",
    "\n",
    "train_data[400][0].size(), train_data[400][0]"
   ]
  },
  {
   "cell_type": "markdown",
   "metadata": {},
   "source": [
    "**Код для выяснения mean и std у трейновой выборки и для проверки уже после нормализации: (по ненормализованному датасету делается)** "
   ]
  },
  {
   "cell_type": "code",
   "execution_count": 110,
   "metadata": {},
   "outputs": [
    {
     "name": "stdout",
     "output_type": "stream",
     "text": [
      "mean = 0.8781628012657166, std = 0.06477992236614227\n"
     ]
    }
   ],
   "source": [
    "def get_mean_and_std_for_train_X(train_data):\n",
    "    train_X = torch.cat([row[0] for row in train_data])\n",
    "\n",
    "    print(\n",
    "        f'mean = {torch.mean(train_X)}, std = {torch.std(train_X)}'\n",
    "    )\n",
    "\n",
    "get_mean_and_std_for_train_X(train_data=train_data) # тупо проверка"
   ]
  },
  {
   "cell_type": "markdown",
   "metadata": {},
   "source": [
    "## Когда молекул уже будет много как хранить данные:"
   ]
  },
  {
   "cell_type": "code",
   "execution_count": 111,
   "metadata": {},
   "outputs": [],
   "source": [
    "# Эта клетка нужна будет, когда молекул будет много (N > 100, K порядка 100)\n",
    "\n",
    "def create_df_with_paths(df_coords: pd.DataFrame, first_folder = 'Atom_matrices'):\n",
    "    '''\n",
    "\n",
    "    Пока эта функция не нужна, но в будущем за счет нее как раз будет работать PathBasedDataset\n",
    "\n",
    "    gets df, returns df with paths to torch matrices for each atom for different times,\n",
    "    basically this function will call get_matrix_for_atom a lot of times\n",
    "\n",
    "    output: pd.DataFrame that orignated from this:\n",
    "    \n",
    "    | Index | 1_atom_X_path                     | ... | N_atom_X_path                     |\n",
    "    |-------|-----------------------------------|-----|-----------------------------------|\n",
    "    | 1     | ./atom_matrices/index1/atom1.tb   |     | ./atom_matrices/index1/atomN.tb   |\n",
    "    | ...   |                                   |     |                                   |\n",
    "    | 30k   | ./atom_matrices/index30k/atom1.tb |     | ./atom_matrices/index30k/atomN.tb |\n",
    "    \n",
    "    but eventually will look like this:\n",
    "\n",
    "    | Index   | atom_X_path                       |\n",
    "    |---------|-----------------------------------|\n",
    "    | 1       | ./atom_matrices/index1/atom1.tb   |\n",
    "    | ...     | ...                               |\n",
    "    | 30k * N | ./atom_matrices/index30k/atomN.tb |\n",
    "\n",
    "    '''\n",
    "    row_numbers = df_coords.index\n",
    "\n",
    "    df_paths = pd.DataFrame(\n",
    "        {\n",
    "            'path': []\n",
    "        }\n",
    "    )\n",
    "\n",
    "    pass\n",
    "\n",
    "class PathBasedDataset(torch.utils.data.Dataset):\n",
    "    '''\n",
    "\n",
    "    Это будет класс датасета из торча для большого числа молекул, если молекул будет очень много, то надо будет уже хранить все матрицы X не в оперативной памяти\n",
    "\n",
    "    При создании экземпляра будет передаваться pd.Dataframe, который\n",
    "    состоит из трех колонок - проекций вектора силы и еще одной колонки - путь к файлу, где лежит как-то заэнкоженная\n",
    "    матрица для данного атома, и так для каждого атома (я проверил, что запись и чтение при помощи torch.save и torch.load для тензоров очень быстрое)\n",
    "\n",
    "    '''\n",
    "    def __init__(self, df, transforms=None, mode='train'):\n",
    "        self.df = df    # it will be dataframe with coordinates and forces of all atoms\n",
    "        self.mode = mode\n",
    "        \n",
    "    def __len__(self):\n",
    "        return len(self.df)\n",
    "    \n",
    "    def __getitem__(self, index):\n",
    "        x = 1   # it will be a matrix KxK for each atom\n",
    "        y = 1   # it will be a force vector with shape: (3)\n",
    "\n",
    "        if self.mode == 'test':\n",
    "            return x\n",
    "        return x, y"
   ]
  },
  {
   "cell_type": "code",
   "execution_count": 112,
   "metadata": {},
   "outputs": [],
   "source": [
    "from torch.utils.data import DataLoader\n",
    "from torch.utils.data import TensorDataset"
   ]
  },
  {
   "cell_type": "code",
   "execution_count": 113,
   "metadata": {},
   "outputs": [],
   "source": [
    "def create_dataloaders(train_dataset, val_dataset, train_bs=CFG.batch_size, val_bs=CFG.batch_size, fold=None):\n",
    "    '''\n",
    "\n",
    "    Returns train_loader, val_loader\n",
    "\n",
    "    fold: will be used in cross validation, when I will implement it\n",
    "\n",
    "    '''\n",
    "    \n",
    "    train_loader = DataLoader(dataset=train_dataset, batch_size=train_bs, shuffle=True)\n",
    "\n",
    "    val_loader = DataLoader(dataset=val_dataset, batch_size=val_bs, shuffle=False)\n",
    "\n",
    "    return train_loader, val_loader"
   ]
  },
  {
   "cell_type": "code",
   "execution_count": 114,
   "metadata": {},
   "outputs": [],
   "source": [
    "train_loader, val_loader = create_dataloaders(train_data, val_data)"
   ]
  },
  {
   "cell_type": "code",
   "execution_count": 115,
   "metadata": {},
   "outputs": [
    {
     "data": {
      "text/plain": [
       "torch.Size([64, 1, 5, 5])"
      ]
     },
     "execution_count": 115,
     "metadata": {},
     "output_type": "execute_result"
    }
   ],
   "source": [
    "next(iter(train_loader))[0].size()  # [batch_size, Channels, Height, Width]"
   ]
  },
  {
   "cell_type": "markdown",
   "metadata": {},
   "source": [
    "---\n",
    "\n",
    "# Обучение:"
   ]
  },
  {
   "cell_type": "code",
   "execution_count": 116,
   "metadata": {},
   "outputs": [],
   "source": [
    "# from torch.utils.tensorboard import SummaryWriter"
   ]
  },
  {
   "cell_type": "markdown",
   "metadata": {},
   "source": [
    "## 1)Многомерный аутпут:"
   ]
  },
  {
   "cell_type": "code",
   "execution_count": 117,
   "metadata": {},
   "outputs": [],
   "source": [
    "import torch.nn.functional as F\n",
    "import torch.cuda.amp as amp"
   ]
  },
  {
   "cell_type": "markdown",
   "metadata": {},
   "source": [
    "Вообще постоянный множитель - это не особо важно, но просто при оценке качества модели возникнут определенные трудности"
   ]
  },
  {
   "cell_type": "code",
   "execution_count": 118,
   "metadata": {},
   "outputs": [],
   "source": [
    "class MultuOutputMSELoss(nn.MSELoss):\n",
    "    '''\n",
    "\n",
    "    Custom loss that calculates average over batch loss for multidim MSE - sum of MSE for components\n",
    "\n",
    "    Example:\n",
    "    |\n",
    "    |    Loss = MultuOutputMSELoss()\n",
    "    |\n",
    "    |    a = torch.ones((8, 3))      # it is batch of 8 vectors of size 3\n",
    "    |    b = torch.zeros((8, 3))\n",
    "    |\n",
    "    |    Loss(a, b, batch_size=8) -> 3\n",
    "\n",
    "    '''\n",
    "\n",
    "    def forward(self, input, target, batch_size=CFG.batch_size):\n",
    "        '''\n",
    "        оно при reduction='mean' делит на произведение всех размерностей\n",
    "        '''\n",
    "        # при очень большом размере батча последние батчи будут например размера 128 вместо 256, поэтому просто умножать на батч сайз неправильно, могут быть другого размера\n",
    "\n",
    "        return F.mse_loss(input, target, reduction='sum') / input.size(0)   # или эквивалентно делать reduction='mean' и умножать на input.size()[-1] - length of output"
   ]
  },
  {
   "cell_type": "code",
   "execution_count": 119,
   "metadata": {},
   "outputs": [],
   "source": [
    "class GaussianNLLLossWithReadyVar(nn.GaussianNLLLoss):\n",
    "    '''\n",
    "\n",
    "    Custom GaussianNLLLoss that does not require passing var into forward\n",
    "\n",
    "    The targets are treated as samples from Gaussian distributions, so var is calculated on full train data, assuming it was taken from the same distribution\n",
    "\n",
    "    '''\n",
    "    def __init__(self, full=False, eps=1e-06, reduction='sum'):\n",
    "        super().__init__(full=full, eps=eps, reduction=reduction)\n",
    "        self.__var_vector = torch.std(torch.stack([elem[1] for elem in train_data]), dim=0)\n",
    "        # self.__var = torch.ones(200, 10, requires_grad=True)\n",
    "        self.reduction = reduction\n",
    "\n",
    "    def forward(self, input, target):\n",
    "        # неважно, что оно может делать mean еще по размерностям, это всего лишь домножение на константу\n",
    "        var = torch.stack([self.__var_vector] * input.size(0)).to(CFG.device)\n",
    "\n",
    "        return F.gaussian_nll_loss(input=input, target=target, var=var, reduction=self.reduction) / input.size(0)"
   ]
  },
  {
   "cell_type": "code",
   "execution_count": 120,
   "metadata": {},
   "outputs": [],
   "source": [
    "class flattener(torch.nn.Module):\n",
    "    '''\n",
    "\n",
    "    Module that flattens the input\n",
    "\n",
    "    '''\n",
    "    def __init__(self):\n",
    "        super().__init__()    \n",
    "\n",
    "    def forward(self, x):\n",
    "        return x.view(x.size(0), -1)"
   ]
  },
  {
   "cell_type": "code",
   "execution_count": 121,
   "metadata": {},
   "outputs": [],
   "source": [
    "class SingleNet(nn.Module):\n",
    "    '''\n",
    "\n",
    "    Класс одиночной нейронной сети\n",
    "\n",
    "    '''\n",
    "    def __init__(self, output_size, convolution=None, activation=nn.ReLU(), flattened_size=CFG.K * CFG.K):\n",
    "        '''\n",
    "        \n",
    "        FC_type: тип полносвязных слоев: 'regular' / 'simple\n",
    "\n",
    "        convolution: сверточная часть сети\n",
    "\n",
    "        '''\n",
    "        super().__init__()\n",
    "        if convolution and flattened_size == CFG.K * CFG.K:\n",
    "            raise Exception('PASSED CONV LAYERS, BUT DID NOT PASS FLATTENED SIZE')\n",
    "\n",
    "        self.conv_layers = flattener()\n",
    "\n",
    "        if convolution:\n",
    "            self.conv_layers = convolution\n",
    "\n",
    "        # self.FC = nn.Sequential(\n",
    "        #     nn.Linear(flattened_size, 1024),\n",
    "        #     activation,\n",
    "        #     nn.BatchNorm1d(1024),\n",
    "\n",
    "        #     nn.Linear(1024, 1024),\n",
    "        #     activation,\n",
    "        #     nn.BatchNorm1d(1024),\n",
    "\n",
    "        #     nn.Linear(1024, 1024),\n",
    "        #     activation,\n",
    "        #     nn.BatchNorm1d(1024),\n",
    "\n",
    "        #     nn.Linear(1024, 1024),\n",
    "        #     activation,\n",
    "        #     nn.BatchNorm1d(1024),\n",
    "\n",
    "        #     nn.Linear(1024, 1024),\n",
    "        #     activation,\n",
    "        #     nn.BatchNorm1d(1024),\n",
    "\n",
    "        #     nn.Linear(1024, 512),\n",
    "        #     activation,\n",
    "        #     nn.BatchNorm1d(512),\n",
    "        #     nn.Linear(512, 256),\n",
    "\n",
    "        #     nn.Linear(256, 128),\n",
    "        #     activation,\n",
    "        #     nn.BatchNorm1d(128),\n",
    "        #     nn.Linear(128, output_size)\n",
    "        # )\n",
    "\n",
    "        self.FC = nn.Sequential(\n",
    "            nn.Linear(flattened_size, 1024),\n",
    "            activation,\n",
    "            nn.Dropout(0.3),\n",
    "            nn.BatchNorm1d(1024),\n",
    "\n",
    "            nn.Linear(1024, 512),\n",
    "            activation,\n",
    "            nn.Dropout(0.3),\n",
    "            nn.BatchNorm1d(512),\n",
    "            nn.Linear(512, 256),\n",
    "\n",
    "            nn.Linear(256, 128),\n",
    "            activation,\n",
    "            nn.Dropout(0.3),\n",
    "            nn.BatchNorm1d(128),\n",
    "            nn.Linear(128, output_size)\n",
    "        )\n",
    "\n",
    "        # self.FC = nn.Sequential(\n",
    "        #     nn.Linear(flattened_size, 128),\n",
    "        #     activation,\n",
    "        #     # nn.Dropout(0.3),\n",
    "        #     nn.BatchNorm1d(128),\n",
    "        #     nn.Linear(128, output_size),\n",
    "        # )\n",
    "\n",
    "        # self.FC = nn.Linear(flattened_size, output_size)\n",
    "\n",
    "    def forward(self, x):\n",
    "        # x - is batch of matrices KxK\n",
    "\n",
    "        # Здесь происходят какие-то там свертки, пуллинги и тп..\n",
    "\n",
    "        x = self.conv_layers(x)\n",
    "\n",
    "        x = self.FC(x)\n",
    "\n",
    "        return x"
   ]
  },
  {
   "cell_type": "markdown",
   "metadata": {},
   "source": [
    "В качестве метрики буду использовать сумму MSE по компонентам, лоссы можно разные пробовать"
   ]
  },
  {
   "cell_type": "code",
   "execution_count": 122,
   "metadata": {},
   "outputs": [],
   "source": [
    "def fit_epoch(model, train_loader, criterion, optimizer, scheduler):\n",
    "    '''\n",
    "\n",
    "    Функция обучения по всем батчам 1 раз (1 эпоха)\n",
    "\n",
    "    scaler: gradient scaler from torch.amp, попозже добавлю обучение с ним\n",
    "\n",
    "    В данной версии: (X, f_k_dim, A_pinv, F_3D)\n",
    "\n",
    "    '''\n",
    "    model.train()\n",
    "    scaler = amp.GradScaler()\n",
    "\n",
    "    running_loss = 0.0\n",
    "    running_MSE = 0\n",
    "    processed_data = 0\n",
    "\n",
    "    scheduler.step()\n",
    "\n",
    "    for inputs, labels, pinv_As, labels_3D in train_loader:\n",
    "        optimizer.zero_grad()\n",
    "\n",
    "        inputs = inputs.to(CFG.device)\n",
    "        labels = labels.to(CFG.device)\n",
    "        pinv_As = pinv_As.to(CFG.device).detach()   # здесь можно не делать detach и обучать матрицу A\n",
    "\n",
    "        with amp.autocast(enabled=True):\n",
    "            outputs = model(inputs)\n",
    "            loss = criterion(outputs, labels)\n",
    "        \n",
    "        outputs_3D = torch.bmm(pinv_As, torch.unsqueeze(outputs.to(torch.float), 2)).to(torch.device(\"cpu\"))    # используются для вычисления MSE метрики уже на 3D векторах силы\n",
    "        outputs_3D = torch.squeeze(outputs_3D, -1)\n",
    "\n",
    "        scaler.scale(loss).backward()\n",
    "        scaler.step(optimizer)\n",
    "\n",
    "        scaler.update() \n",
    "\n",
    "        running_loss += loss.item() * inputs.size(0)    # при очень большом размере батча последние два батча будут например размера 128 вместо 256, поэтому просто умножать на батч сайз неправильно, могут быть другого размера\n",
    "        running_MSE += F.mse_loss(input=outputs_3D, target=labels_3D, reduction='sum').item()\n",
    "        processed_data += inputs.size(0)\n",
    "\n",
    "    # print(outputs)\n",
    "    train_loss = running_loss / processed_data\n",
    "    train_MSE = running_MSE / processed_data\n",
    "    \n",
    "    return train_loss, train_MSE"
   ]
  },
  {
   "cell_type": "code",
   "execution_count": 123,
   "metadata": {},
   "outputs": [],
   "source": [
    "def eval_epoch(model, val_loader, criterion):\n",
    "    '''\n",
    "\n",
    "    Одна эпоха по val выборке\n",
    "\n",
    "    '''\n",
    "\n",
    "    model.eval()\n",
    "    \n",
    "    running_loss = 0.0\n",
    "    running_MSE = 0\n",
    "    processed_size = 0\n",
    "\n",
    "    for inputs, labels, pinv_As, labels_3D in val_loader:\n",
    "\n",
    "        inputs = inputs.to(CFG.device)\n",
    "        labels = labels.to(CFG.device)\n",
    "        pinv_As = pinv_As.to(CFG.device)\n",
    "\n",
    "        with torch.no_grad():\n",
    "            outputs = model(inputs)\n",
    "            loss = criterion(outputs, labels)\n",
    "            \n",
    "        outputs_3D = torch.bmm(pinv_As, torch.unsqueeze(outputs, 2)).to(torch.device(\"cpu\")) \n",
    "        outputs_3D = torch.squeeze(outputs_3D, -1)\n",
    "\n",
    "        running_loss += loss.item() * inputs.size(0)\n",
    "        running_MSE += F.mse_loss(input=outputs_3D, target=labels_3D, reduction='sum')\n",
    "        processed_size += inputs.size(0)\n",
    "\n",
    "    # print(f' outputs:\\n{outputs}, \\n labels: \\n {labels}')\n",
    "    \n",
    "    val_loss = running_loss / processed_size\n",
    "    val_MSE = running_MSE.double().item() / processed_size\n",
    "\n",
    "    return val_loss, val_MSE"
   ]
  },
  {
   "cell_type": "code",
   "execution_count": 124,
   "metadata": {},
   "outputs": [],
   "source": [
    "def train(train_loader, val_loader, model, optimizer, scheduler, epochs, scaler=None, criterion=MultuOutputMSELoss()):\n",
    "    '''\n",
    "\n",
    "    Basic option: calculation loss on K-dimensional outputs, but MSE metric on 3D outputs, after the matrix is applied\n",
    "\n",
    "    loss_on_k_projections: calculate loss'\n",
    "    \n",
    "    '''\n",
    "\n",
    "    history = []\n",
    "    log_template = \"\\nEpoch {ep:03d} train_loss: {t_loss:0.4f} val_loss {v_loss:0.4f} train_MSE {t_mse:0.4f} val_MSE {v_mse:0.4f}\"\n",
    "\n",
    "    with tqdm(desc=\"epoch\", total=epochs) as pbar_outer:\n",
    "\n",
    "        for epoch in range(epochs):\n",
    "            train_loss, train_MSE = fit_epoch(model, train_loader, criterion, optimizer, scheduler)\n",
    "\n",
    "            val_loss, val_MSE = eval_epoch(model, val_loader, criterion)\n",
    "            if epoch != 0:\n",
    "                if history[-1][-1] < val_MSE:\n",
    "                    torch.save(model.state_dict(), './model.pth')     # сохраняем модель напрямую в гугл диск \n",
    "            \n",
    "            history.append((train_loss, train_MSE, val_loss, val_MSE))\n",
    "            \n",
    "            pbar_outer.update(1)\n",
    "            tqdm.write(log_template.format(ep=epoch + 1, t_loss=train_loss, v_loss=val_loss, t_mse=train_MSE, v_mse=val_MSE))\n",
    "            \n",
    "    return history"
   ]
  },
  {
   "cell_type": "code",
   "execution_count": 125,
   "metadata": {},
   "outputs": [],
   "source": [
    "import torch.optim as optim\n",
    "from torch.optim import lr_scheduler\n",
    "from collections import defaultdict"
   ]
  },
  {
   "cell_type": "code",
   "execution_count": 126,
   "metadata": {},
   "outputs": [],
   "source": [
    "__conv_layers = nn.Sequential(\n",
    "            nn.Conv2d(in_channels=1, out_channels=3, kernel_size=3),\n",
    "            nn.ReLU(),\n",
    "            nn.MaxPool2d(kernel_size=2),\n",
    "            nn.BatchNorm2d(num_features=3),\n",
    "\n",
    "            # nn.Conv2d(in_channels=4, out_channels=8, kernel_size=3),\n",
    "            # activation,\n",
    "            # nn.MaxPool2d(kernel_size=3),\n",
    "            # nn.BatchNorm2d(num_features=8)\n",
    "\n",
    "            flattener()\n",
    ")\n",
    "\n",
    "# Код для проверки длины конкатенированного вектора на вход в FC:\n",
    "\n",
    "# t = next(iter(train_loader))\n",
    "# a = conv_layers(t[0])\n",
    "# a.size()\n",
    "# a.view(a.size(0), -1).size()"
   ]
  },
  {
   "cell_type": "code",
   "execution_count": 127,
   "metadata": {},
   "outputs": [],
   "source": [
    "model = SingleNet(\n",
    "    output_size=CFG.output_size,\n",
    "    # activation=nn.Tanh(),\n",
    "    convolution=None,\n",
    "    ).to(CFG.device)\n",
    "\n",
    "optimizer = optim.Adam(model.parameters(), lr=3e-3, betas=(0.9, 0.999), weight_decay=0.01)\n",
    "\n",
    "# scheduler.step нужно первый раз делать обязательно после optimizer.step, потому что иначе мы просто пропустим первый шаг scheduler\n",
    "exp_scheduler = lr_scheduler.StepLR(optimizer, step_size=10, gamma=0.1)"
   ]
  },
  {
   "cell_type": "code",
   "execution_count": 128,
   "metadata": {},
   "outputs": [
    {
     "data": {
      "text/plain": [
       "SingleNet(\n",
       "  (conv_layers): flattener()\n",
       "  (FC): Sequential(\n",
       "    (0): Linear(in_features=25, out_features=1024, bias=True)\n",
       "    (1): ReLU()\n",
       "    (2): Dropout(p=0.3, inplace=False)\n",
       "    (3): BatchNorm1d(1024, eps=1e-05, momentum=0.1, affine=True, track_running_stats=True)\n",
       "    (4): Linear(in_features=1024, out_features=512, bias=True)\n",
       "    (5): ReLU()\n",
       "    (6): Dropout(p=0.3, inplace=False)\n",
       "    (7): BatchNorm1d(512, eps=1e-05, momentum=0.1, affine=True, track_running_stats=True)\n",
       "    (8): Linear(in_features=512, out_features=256, bias=True)\n",
       "    (9): Linear(in_features=256, out_features=128, bias=True)\n",
       "    (10): ReLU()\n",
       "    (11): Dropout(p=0.3, inplace=False)\n",
       "    (12): BatchNorm1d(128, eps=1e-05, momentum=0.1, affine=True, track_running_stats=True)\n",
       "    (13): Linear(in_features=128, out_features=5, bias=True)\n",
       "  )\n",
       ")"
      ]
     },
     "execution_count": 128,
     "metadata": {},
     "output_type": "execute_result"
    }
   ],
   "source": [
    "model"
   ]
  },
  {
   "cell_type": "code",
   "execution_count": 129,
   "metadata": {},
   "outputs": [
    {
     "name": "stderr",
     "output_type": "stream",
     "text": [
      "epoch:   0%|          | 0/30 [00:00<?, ?it/s]/home/alphonse/anaconda3/lib/python3.6/site-packages/torch/optim/lr_scheduler.py:134: UserWarning: Detected call of `lr_scheduler.step()` before `optimizer.step()`. In PyTorch 1.1.0 and later, you should call them in the opposite order: `optimizer.step()` before `lr_scheduler.step()`.  Failure to do this will result in PyTorch skipping the first value of the learning rate schedule. See more details at https://pytorch.org/docs/stable/optim.html#how-to-adjust-learning-rate\n",
      "  \"https://pytorch.org/docs/stable/optim.html#how-to-adjust-learning-rate\", UserWarning)\n",
      "epoch:  13%|█▎        | 4/30 [00:00<00:01, 15.97it/s]"
     ]
    },
    {
     "name": "stdout",
     "output_type": "stream",
     "text": [
      "\n",
      "Epoch 001 train_loss: 5.8968 val_loss 3.0610 train_MSE 2.7792 val_MSE 1.2041\n",
      "\n",
      "Epoch 002 train_loss: 5.6889 val_loss 2.9081 train_MSE 2.7349 val_MSE 1.0988\n",
      "\n",
      "Epoch 003 train_loss: 5.3099 val_loss 3.0593 train_MSE 2.5510 val_MSE 1.1973\n",
      "\n",
      "Epoch 004 train_loss: 5.3049 val_loss 3.0065 train_MSE 2.5650 val_MSE 1.1651\n"
     ]
    },
    {
     "name": "stderr",
     "output_type": "stream",
     "text": [
      "epoch:  27%|██▋       | 8/30 [00:00<00:01, 17.06it/s]"
     ]
    },
    {
     "name": "stdout",
     "output_type": "stream",
     "text": [
      "\n",
      "Epoch 005 train_loss: 5.4230 val_loss 2.9623 train_MSE 2.6568 val_MSE 1.1377\n",
      "\n",
      "Epoch 006 train_loss: 5.3100 val_loss 2.9351 train_MSE 2.5988 val_MSE 1.1238\n",
      "\n",
      "Epoch 007 train_loss: 5.4386 val_loss 2.8517 train_MSE 2.6863 val_MSE 1.0685\n",
      "\n",
      "Epoch 008 train_loss: 5.2495 val_loss 2.8864 train_MSE 2.5741 val_MSE 1.0937\n"
     ]
    },
    {
     "name": "stderr",
     "output_type": "stream",
     "text": [
      "epoch:  40%|████      | 12/30 [00:00<00:01, 17.58it/s]"
     ]
    },
    {
     "name": "stdout",
     "output_type": "stream",
     "text": [
      "\n",
      "Epoch 009 train_loss: 5.2494 val_loss 2.9155 train_MSE 2.5771 val_MSE 1.1120\n",
      "\n",
      "Epoch 010 train_loss: 5.1947 val_loss 2.8850 train_MSE 2.5469 val_MSE 1.0923\n",
      "\n",
      "Epoch 011 train_loss: 5.2344 val_loss 2.8876 train_MSE 2.5741 val_MSE 1.0940\n",
      "\n",
      "Epoch 012 train_loss: 5.2170 val_loss 2.8781 train_MSE 2.5608 val_MSE 1.0879\n"
     ]
    },
    {
     "name": "stderr",
     "output_type": "stream",
     "text": [
      "epoch:  53%|█████▎    | 16/30 [00:00<00:00, 18.05it/s]"
     ]
    },
    {
     "name": "stdout",
     "output_type": "stream",
     "text": [
      "\n",
      "Epoch 013 train_loss: 5.2146 val_loss 2.8907 train_MSE 2.5597 val_MSE 1.0960\n",
      "\n",
      "Epoch 014 train_loss: 5.2678 val_loss 2.8838 train_MSE 2.5944 val_MSE 1.0916\n",
      "\n",
      "Epoch 015 train_loss: 5.2302 val_loss 2.8743 train_MSE 2.5716 val_MSE 1.0852\n",
      "\n",
      "Epoch 016 train_loss: 5.1872 val_loss 2.8743 train_MSE 2.5444 val_MSE 1.0854\n"
     ]
    },
    {
     "name": "stderr",
     "output_type": "stream",
     "text": [
      "epoch:  67%|██████▋   | 20/30 [00:01<00:00, 17.77it/s]"
     ]
    },
    {
     "name": "stdout",
     "output_type": "stream",
     "text": [
      "\n",
      "Epoch 017 train_loss: 5.2468 val_loss 2.8599 train_MSE 2.5819 val_MSE 1.0762\n",
      "\n",
      "Epoch 018 train_loss: 5.2430 val_loss 2.8607 train_MSE 2.5810 val_MSE 1.0767\n",
      "\n",
      "Epoch 019 train_loss: 5.2854 val_loss 2.8613 train_MSE 2.6077 val_MSE 1.0770\n",
      "\n",
      "Epoch 020 train_loss: 5.2239 val_loss 2.8781 train_MSE 2.5706 val_MSE 1.0878\n"
     ]
    },
    {
     "name": "stderr",
     "output_type": "stream",
     "text": [
      "epoch:  80%|████████  | 24/30 [00:01<00:00, 18.19it/s]"
     ]
    },
    {
     "name": "stdout",
     "output_type": "stream",
     "text": [
      "\n",
      "Epoch 021 train_loss: 5.1555 val_loss 2.8826 train_MSE 2.5238 val_MSE 1.0908\n",
      "\n",
      "Epoch 022 train_loss: 5.2216 val_loss 2.8931 train_MSE 2.5677 val_MSE 1.0975\n",
      "\n",
      "Epoch 023 train_loss: 5.2086 val_loss 2.9000 train_MSE 2.5595 val_MSE 1.1018\n",
      "\n",
      "Epoch 024 train_loss: 5.2559 val_loss 2.8959 train_MSE 2.5894 val_MSE 1.0992\n"
     ]
    },
    {
     "name": "stderr",
     "output_type": "stream",
     "text": [
      "epoch:  93%|█████████▎| 28/30 [00:01<00:00, 18.65it/s]"
     ]
    },
    {
     "name": "stdout",
     "output_type": "stream",
     "text": [
      "\n",
      "Epoch 025 train_loss: 5.1991 val_loss 2.9046 train_MSE 2.5527 val_MSE 1.1048\n",
      "\n",
      "Epoch 026 train_loss: 5.2175 val_loss 2.9065 train_MSE 2.5645 val_MSE 1.1059\n",
      "\n",
      "Epoch 027 train_loss: 5.1964 val_loss 2.9004 train_MSE 2.5507 val_MSE 1.1022\n",
      "\n",
      "Epoch 028 train_loss: 5.2135 val_loss 2.9089 train_MSE 2.5632 val_MSE 1.1074\n"
     ]
    },
    {
     "name": "stderr",
     "output_type": "stream",
     "text": [
      "epoch: 100%|██████████| 30/30 [00:01<00:00, 17.80it/s]"
     ]
    },
    {
     "name": "stdout",
     "output_type": "stream",
     "text": [
      "\n",
      "Epoch 029 train_loss: 5.2203 val_loss 2.9102 train_MSE 2.5689 val_MSE 1.1081\n",
      "\n",
      "Epoch 030 train_loss: 5.1641 val_loss 2.9106 train_MSE 2.5302 val_MSE 1.1084\n"
     ]
    },
    {
     "name": "stderr",
     "output_type": "stream",
     "text": [
      "\n"
     ]
    }
   ],
   "source": [
    "history = train(\n",
    "    train_loader=train_loader, val_loader=val_loader, model=model, optimizer=optimizer,\n",
    "    scheduler=exp_scheduler,\n",
    "    # criterion=nn.MSELoss(),\n",
    "    criterion = GaussianNLLLossWithReadyVar(),\n",
    "    epochs=30\n",
    ")"
   ]
  },
  {
   "cell_type": "code",
   "execution_count": 130,
   "metadata": {},
   "outputs": [],
   "source": [
    "\n",
    "def plot_history(history, figsize=(40, 15)):\n",
    "    '''\n",
    "\n",
    "    history: [(train_loss, train_MSE, val_loss, val_MSE), ...]\n",
    "\n",
    "    '''\n",
    "\n",
    "    # writer = SummaryWriter()\n",
    "    \n",
    "    figure = plt.figure(figsize=figsize)\n",
    "\n",
    "    train_loss = [tup[0] for tup in history]\n",
    "    train_MSE = [tup[1] for tup in history]\n",
    "    val_loss = [tup[2] for tup in history]\n",
    "    val_MSE = [tup[3] for tup in history]\n",
    "\n",
    "    plt.subplot(1, 2, 1)\n",
    "    plt.plot(range(1, len(history) + 1), train_loss, label='train_loss')\n",
    "    plt.plot(range(1, len(history) + 1), val_loss, label='val_loss')\n",
    "    \n",
    "    plt.title('Losses', fontsize=16)\n",
    "    plt.xlabel('epoch', fontsize=14)\n",
    "    plt.ylabel('loss', fontsize=14)     \n",
    "    plt.xticks(np.arange(1, len(history) + 1, 1))\n",
    "    # plt.yticks(np.arange(1, len(history) + 1, 1))\n",
    "    plt.legend(loc='best')\n",
    "    #\n",
    "    plt.subplot(1, 2, 2)\n",
    "\n",
    "    plt.plot(range(1, len(history) + 1), train_MSE, label='train_MSE')\n",
    "    plt.plot(range(1, len(history) + 1), val_MSE, label='val_MSE')\n",
    "    \n",
    "    plt.title('Metrics', fontsize=16)\n",
    "    plt.xlabel('epoch', fontsize=14)\n",
    "    plt.ylabel('loss', fontsize=14)     \n",
    "    plt.xticks(np.arange(1, len(history) + 1, 1))\n",
    "    # plt.yticks(np.arange(1, len(history) + 1, 1))\n",
    "    plt.legend(loc='best', fontsize=14)\n",
    "    \n",
    "    plt.show()"
   ]
  },
  {
   "cell_type": "code",
   "execution_count": 131,
   "metadata": {},
   "outputs": [
    {
     "data": {
      "image/png": "[encoded data removed]",
      "text/plain": [
       "<matplotlib.figure.Figure at 0x7f8dc5ed2b70>"
      ]
     },
     "metadata": {},
     "output_type": "display_data"
    }
   ],
   "source": [
    "plot_history(history=history)"
   ]
  },
  {
   "cell_type": "markdown",
   "metadata": {},
   "source": [
    "# 2) Output_size сеток с одномерным аутпутом (предполагаем независимость всех компонент силы)"
   ]
  },
  {
   "cell_type": "markdown",
   "metadata": {},
   "source": [
    "Просто обучаю набор сеток на задачу регрессии, в качестве метрики для каждой сетки буду использовать MSE, а итоговая метрика - сумма MSE для каждой сетки"
   ]
  },
  {
   "cell_type": "markdown",
   "metadata": {},
   "source": [
    "(Просто делаю массив из экземпляров сеток, optim-ов, loss-ов и потом циклом по ним делаю ровно тот же самый вызов history )"
   ]
  },
  {
   "cell_type": "code",
   "execution_count": 41,
   "metadata": {},
   "outputs": [],
   "source": [
    "# Всем сеткам делаю абсолютно одинаковые гиперпараметры\n",
    "\n",
    "models = [SingleNet(output_size=1) for _ in range(CFG.output_size)]\n",
    "\n",
    "lr = 4e-3\n",
    "betas=(0.9, 0.999)\n",
    "weight_decay=0.1\n",
    "\n",
    "optims = [optim.Adam(model.parameters(), lr=lr, betas=betas, weight_decay=weight_decay) for model in models]\n",
    "\n",
    "step_size = 5\n",
    "gamma = 0.1\n",
    "\n",
    "exp_schedulers = [lr_scheduler.StepLR(optimizer, step_size=5, gamma=0.1) for optimizer in optims]\n",
    "\n",
    "criterion = nn.MSELoss()"
   ]
  },
  {
   "cell_type": "markdown",
   "metadata": {},
   "source": [
    "Самое главное при обучении этих моделей - то что у model[ i ] - таргет - это число force[ i ]"
   ]
  },
  {
   "cell_type": "code",
   "execution_count": 42,
   "metadata": {},
   "outputs": [],
   "source": [
    "def train_models():\n",
    "    '''\n",
    "    \n",
    "    Возвращает словарь из history для всех моделей: {1: history, 2: history, ...}\n",
    "\n",
    "    '''\n",
    "\n",
    "    histories = defaultdict(list)\n",
    "\n",
    "    # Надо менять немного цикл обучения, чтобы таргетом для i сетки была i-ая компонента вектора силы\n",
    "\n",
    "    # for i in range(CFG.output_size):\n",
    "    #     histories[str(i)] = train(\n",
    "    #         train_loader=train_loader,\n",
    "    #         val_loader=val_loader,\n",
    "    #         model=model,\n",
    "    #         optimizer=optimizer,\n",
    "    #         scheduler=exp_scheduler,\n",
    "    #         criterion=nn.MSELoss(),\n",
    "    #         epochs=10\n",
    "    #     )"
   ]
  },
  {
   "cell_type": "markdown",
   "metadata": {},
   "source": [
    "# 3) GPR модель \n",
    "    - (потом можно сюда навалить и сетку в качестве ядра и вообще deep GP юзать, плюс еще feature extractor в виде сверток юзать сначала, если очень большая матрица, но сначала надо обычный сделать)\n",
    "\n",
    "## 3.1) Не стохастический подход"
   ]
  },
  {
   "cell_type": "markdown",
   "metadata": {},
   "source": [
    "https://docs.gpytorch.ai/en/stable/examples/01_Exact_GPs/Simple_GP_Regression.html - как обучать модели в gpytorch"
   ]
  },
  {
   "cell_type": "markdown",
   "metadata": {},
   "source": [
    "https://docs.gpytorch.ai/en/v1.3.1/examples/04_Variational_and_Approximate_GPs/SVGP_Regression_CUDA.html - как обучать GP по мини батчам, когда данных слишком много"
   ]
  },
  {
   "cell_type": "markdown",
   "metadata": {},
   "source": [
    "У авторов $C_{mn}$ - это матрица ковариации по всему датасету, а $d_{mn}$ - некоторое введенное расстояние между матрицами, чтобы мы могли использовать экспоненциальное ядро, короче нам надо какое-то ядро, которое две матрицы, а не два числа принимает"
   ]
  },
  {
   "cell_type": "markdown",
   "metadata": {},
   "source": [
    "- Весьма убедительно считать расстояние между матрицами просто как l2 метрику между точками в NxN мерном пространстве"
   ]
  },
  {
   "cell_type": "markdown",
   "metadata": {},
   "source": [
    "Короче надо GPR сделать, у которого точки - матрицы и прогнозируется векторная величина, то есть для матрицы $x_*$ из инпута мы должны получать: $\\mu_* = E[f(x_*)]$ - трехмерное мат ожидание для предсказания и $S$"
   ]
  },
  {
   "cell_type": "code",
   "execution_count": 43,
   "metadata": {},
   "outputs": [],
   "source": [
    "import gpytorch"
   ]
  },
  {
   "cell_type": "markdown",
   "metadata": {},
   "source": [
    "- В предположении что компоненты силы независимы, можно использовать Batch Independent Multioutput GP, предсказывая [fx, fy, fz]\n",
    "\n",
    "- Если предсказывать k проекций на все V_i, то компоненты уже зависимые и надо это учитывать и использовать другую модель: MultitaskGPModel"
   ]
  },
  {
   "cell_type": "markdown",
   "metadata": {},
   "source": [
    "лосс делаем -mll: минус логарифм правдоподобия: $-log[p(output Y | test X)]$"
   ]
  },
  {
   "cell_type": "code",
   "execution_count": 136,
   "metadata": {},
   "outputs": [],
   "source": [
    "# train_X = torch.stack([elem[0] for elem in train_data])\n",
    "# train_Y = torch.stack([elem[1] for elem in train_data])\n",
    "\n",
    "# val_X = torch.stack([elem[0] for elem in val_data])\n",
    "# val_Y = torch.stack([elem[1] for elem in val_data])\n",
    "\n",
    "fl = flattener()\n",
    "train_X = fl(torch.stack([elem[0] for elem in train_data]))\n",
    "train_Y = torch.stack([elem[1] for elem in train_data])\n",
    "\n",
    "val_X = fl(torch.stack([elem[0] for elem in val_data]))\n",
    "val_Y = torch.stack([elem[1] for elem in val_data])\n",
    "\n",
    "val_Y_3D = torch.stack([elem[3] for elem in val_data])\n",
    "val_Y_pinv_As = torch.stack([elem[2] for elem in val_data])"
   ]
  },
  {
   "cell_type": "markdown",
   "metadata": {},
   "source": [
    "**Про свертки и когда они ожидаемо будут и не будут работать:**\n",
    "\n",
    "    - если мы используем обычный GP, то мы обязаны каждый шаг обучаться на всем train_X - так алгоритм работает, поэтому и сверточная сеть так же должна будет обучаться, по-сути с батч_сайз = дата_сайз, но оно так вычислительно неподъемно или просто не успеет за такое маленькое количество шагов обучиться\n",
    "\n",
    "    - Поэтому стоит использовать алгоритм Stochastic Variational GP Regression, который подразумевает совместимость с torch.DataLoader, когда данных будет очень много, там используется стохастический алгоритм, позволяющий на батче обновлять параметры"
   ]
  },
  {
   "cell_type": "code",
   "execution_count": 45,
   "metadata": {},
   "outputs": [],
   "source": [
    "class IndependentOutputsMultitaskGPModel(gpytorch.models.ExactGP):\n",
    "    '''\n",
    "\n",
    "    Class for multi output GPregression with independent components of output,\n",
    "    formally we are training output_size GP models\n",
    "\n",
    "    feature_extractor: torch network that consists only of convolutions (fully convolutional net)\n",
    "\n",
    "    '''\n",
    "    def __init__(self, train_x, train_y, likelihood, output_size=CFG.K, feature_extractor=None):\n",
    "        super().__init__(train_x, train_y, likelihood)\n",
    "\n",
    "        self.output_size = output_size\n",
    "\n",
    "        self.mean_module = gpytorch.means.ConstantMean(batch_shape=torch.Size([output_size]))     # batch_shape позволяет нам для каждой модели отдельные параметры сделать\n",
    "        self.covar_module = gpytorch.kernels.ScaleKernel(\n",
    "            gpytorch.kernels.RBFKernel(batch_shape=torch.Size([output_size])),\n",
    "        )\n",
    "\n",
    "        self.feature_extractor = flattener()\n",
    "        if feature_extractor:\n",
    "            self.feature_extractor = feature_extractor\n",
    "\n",
    "        self.scale_to_bounds = gpytorch.utils.grid.ScaleToBounds(-1., 1.)\n",
    "\n",
    "    def forward(self, x):\n",
    "\n",
    "        convoluted_n_flattened_x = self.feature_extractor(x)   # flattening\n",
    "        convoluted_n_flattened_x = self.scale_to_bounds(convoluted_n_flattened_x)\n",
    "\n",
    "        mean_x = self.mean_module(convoluted_n_flattened_x)\n",
    "        covar_x = self.covar_module(convoluted_n_flattened_x)\n",
    "\n",
    "        # print(f'Сайз выпрямленного:  {convoluted_n_flattened_x.size()} \\n Сам выпрямленный: {convoluted_n_flattened_x}')\n",
    "\n",
    "        return gpytorch.distributions.MultitaskMultivariateNormal.from_batch_mvn(\n",
    "            gpytorch.distributions.MultivariateNormal(mean_x, covar_x)\n",
    "        )"
   ]
  },
  {
   "cell_type": "code",
   "execution_count": 46,
   "metadata": {},
   "outputs": [],
   "source": [
    "class MinusLogLikelihoodLoss:\n",
    "    '''\n",
    "\n",
    "    Object for computing NLLLoss\n",
    "\n",
    "    '''\n",
    "    def __init__(self, likelihood, model):\n",
    "        self.mll = gpytorch.mlls.ExactMarginalLogLikelihood(likelihood, model)\n",
    "\n",
    "    def __call__(self, model_output, true_target):\n",
    "        '''\n",
    "\n",
    "        model_output: what model(train_x) returns, i.e. distribution object, mll uses likelihood by itself\n",
    "\n",
    "        returns -mll(output, target)\n",
    "\n",
    "        '''\n",
    "        return -self.mll(model_output, true_target)"
   ]
  },
  {
   "cell_type": "code",
   "execution_count": 47,
   "metadata": {},
   "outputs": [],
   "source": [
    "class GPRMSELoss:\n",
    "    '''\n",
    "    \n",
    "    object for calculation of MSE loss\n",
    "\n",
    "    '''\n",
    "    def __init__(self, likelihood):\n",
    "        self.vanilla_MSE = MultuOutputMSELoss()\n",
    "        self.likelihood = likelihood    # самописанные объекты изменяемые, поэтому этот имеет тот же id, что и глобальный likelihood\n",
    "\n",
    "    def __call__(self, model_output, true_target):\n",
    "        '''\n",
    "\n",
    "        model_output: what model(train_x) returns, i.e. distribution object\n",
    "\n",
    "        '''\n",
    "        print(id(self.likelihood))\n",
    "        mean_of_output = self.likelihood(model_output).mean\n",
    "\n",
    "        return self.vanilla_MSE(mean_of_output, true_target)"
   ]
  },
  {
   "cell_type": "code",
   "execution_count": 48,
   "metadata": {},
   "outputs": [],
   "source": [
    "def GP_train(likelihood, model, optimizer, loss_obj, training_iterations: int, train_X, train_Y, print_step=1, scheduler=None):\n",
    "    '''\n",
    "\n",
    "    loss_obj should be an object of a class, which has __call__ method\n",
    "\n",
    "    to have a clear perspective: on a stochastic network training I used around 2500 iterations\n",
    "\n",
    "    returns history of MSE and loss\n",
    "\n",
    "    '''\n",
    "    model.train()\n",
    "    likelihood.train()\n",
    "\n",
    "    history = defaultdict(list)\n",
    "\n",
    "    # scaler = amp.GradScaler()\n",
    "    \n",
    "    # Здесь нам не надо running_loss и running_MSE, потому что подаем сразу весь датасета в типе non-stochastic GP\n",
    "\n",
    "    # Здесь реально обучаются параметры GPR, поскольку некоторая параметрическая часть у GPR все-таки присутствует\n",
    "    for i in range(training_iterations):\n",
    "        optimizer.zero_grad()\n",
    "\n",
    "        output = model(train_X)\n",
    "\n",
    "        loss = loss_obj(output, train_Y)\n",
    "        loss.backward()\n",
    "\n",
    "        predictions = likelihood(model(train_X))\n",
    "        mean = predictions.mean\n",
    "        lower, upper = predictions.confidence_region()\n",
    "\n",
    "        # train_MSE = F.mse_loss(input=mean, target=train_Y, reduction='mean').item()   оно неправильно вычисляется, потому что в режиме train, мы mean получаем не для распределения у предсказаний, а тот который выучиили по трейну,\n",
    "        # Короче говоря в режиме train мы не \\mu* для объектов при предсказания получаем, а \\mu, которое получаем из трейн датасета\n",
    "\n",
    "        if i % print_step == 0:\n",
    "            print(f'Iter: {i + 1}, train_MSE = TODO, train_loss = {loss}')\n",
    "\n",
    "        optimizer.step()\n",
    "\n",
    "        # history['MSE'].append(train_MSE)\n",
    "        history['loss'].append(loss.item())\n",
    "\n",
    "        if scheduler:\n",
    "            # Так как здесь обучение не по мини-батчам, то каждую итерацию обновление\n",
    "            scheduler.step()\n",
    "\n",
    "    return history"
   ]
  },
  {
   "cell_type": "markdown",
   "metadata": {},
   "source": [
    "Можно еще в процессе обучения параметров периодически смотреть на качество на валидационной выборке"
   ]
  },
  {
   "cell_type": "code",
   "execution_count": 146,
   "metadata": {},
   "outputs": [],
   "source": [
    "def GP_eval(likelihood, model, optimizer, loss_obj, val_X, val_Y, val_Y_pinv_As, val_Y_3D):\n",
    "    '''\n",
    "    \n",
    "    One go dataset evaluation function\n",
    "\n",
    "    '''\n",
    "    model.eval()\n",
    "    likelihood.eval()\n",
    "\n",
    "    with torch.no_grad():\n",
    "        output = model(val_X)\n",
    "        # loss = loss_obj(output, val_Y)\n",
    "\n",
    "    predictions = likelihood(model(val_X))\n",
    "\n",
    "    mean = predictions.mean\n",
    "    lower, upper = predictions.confidence_region()\n",
    "\n",
    "    mean_3D = torch.bmm(val_Y_pinv_As, torch.unsqueeze(mean.to(torch.float), 2)).to(torch.device(\"cpu\"))    # используются для вычисления MSE метрики уже на 3D векторах силы\n",
    "    mean_3D = torch.squeeze(mean_3D, -1)\n",
    "\n",
    "    val_MSE = F.mse_loss(input=mean, target=val_Y, reduction='sum').item() / mean.size(0)\n",
    "    val_MSE_for_3D = F.mse_loss(input=mean_3D, target=val_Y_3D, reduction='sum').item() / mean_3D.size(0)\n",
    "\n",
    "    print(f'val_MSE = {val_MSE}, val_MSE_for_3D = {val_MSE_for_3D}')\n",
    "\n",
    "    return mean, mean_3D"
   ]
  },
  {
   "cell_type": "code",
   "execution_count": 147,
   "metadata": {},
   "outputs": [],
   "source": [
    "class FeatureExtractor(nn.Module):\n",
    "    '''\n",
    "\n",
    "    Класс одиночной нейронной сети\n",
    "\n",
    "    '''\n",
    "    def __init__(self, extracted_size=CFG.K * CFG.K):\n",
    "        super().__init__()\n",
    "\n",
    "        # self.FC = nn.Sequential(\n",
    "        #     nn.Linear(CFG.K * CFG.K, 1024),\n",
    "        #     nn.ReLU(),\n",
    "        #     # nn.Dropout(0.3),\n",
    "        #     nn.BatchNorm1d(1024),\n",
    "\n",
    "        #     nn.Linear(1024, 512),\n",
    "        #     nn.ReLU(),\n",
    "        #     # nn.Dropout(0.3),\n",
    "        #     nn.BatchNorm1d(512),\n",
    "        #     nn.Linear(512, 256),\n",
    "\n",
    "        #     nn.Linear(256, 128),\n",
    "        #     nn.ReLU(),\n",
    "        #     # nn.Dropout(0.3),\n",
    "        #     nn.BatchNorm1d(128),\n",
    "        #     nn.Linear(128, extracted_size)\n",
    "        # )\n",
    "\n",
    "        self.FC = nn.Sequential(\n",
    "            nn.Linear(CFG.K * CFG.K, 128),\n",
    "            nn.ReLU(),\n",
    "            # nn.Dropout(0.3),\n",
    "            nn.BatchNorm1d(128),\n",
    "            nn.Linear(128, extracted_size),\n",
    "        )\n",
    "\n",
    "        # self.FC = nn.Linear(flattened_size, output_size)\n",
    "\n",
    "    def forward(self, x):\n",
    "\n",
    "        x = self.FC(x)\n",
    "\n",
    "        return x"
   ]
  },
  {
   "cell_type": "code",
   "execution_count": 142,
   "metadata": {},
   "outputs": [],
   "source": [
    "likelihood = gpytorch.likelihoods.MultitaskGaussianLikelihood(num_tasks=CFG.output_size)\n",
    "feat_extractor = FeatureExtractor(extracted_size=32)\n",
    "\n",
    "model = IndependentOutputsMultitaskGPModel(\n",
    "    train_X,\n",
    "    train_Y,\n",
    "    likelihood,\n",
    "    # feature_extractor=feat_extractor\n",
    "    )\n",
    "\n",
    "if likelihood.num_tasks != model.output_size:\n",
    "    raise Exception('Different output dimensions for model and likelihood')\n",
    "\n",
    "optimizer = torch.optim.Adam(model.parameters(), lr=0.1, weight_decay=0)\n",
    "\n",
    "NLL_loss = MinusLogLikelihoodLoss(likelihood=likelihood, model=model)\n",
    "MSE_loss = GPRMSELoss(likelihood=likelihood)\n",
    "\n",
    "exp_scheduler = lr_scheduler.StepLR(optimizer, step_size=8, gamma=0.1)"
   ]
  },
  {
   "cell_type": "markdown",
   "metadata": {},
   "source": [
    "**Одно и то же значение для mean выводится в состоянии model.train(), потому что мы выбрали ConstMean и это типо и есть наше среднее, которое мы вычисляем по трейновому датасету**"
   ]
  },
  {
   "cell_type": "code",
   "execution_count": 143,
   "metadata": {},
   "outputs": [
    {
     "name": "stdout",
     "output_type": "stream",
     "text": [
      "Iter: 1, train_MSE = TODO, train_loss = 1.592382550239563\n",
      "Iter: 6, train_MSE = TODO, train_loss = 1.358294129371643\n",
      "Iter: 11, train_MSE = TODO, train_loss = 1.0678733587265015\n",
      "Iter: 16, train_MSE = TODO, train_loss = 0.7598523497581482\n",
      "Iter: 21, train_MSE = TODO, train_loss = 0.5129071474075317\n",
      "Iter: 26, train_MSE = TODO, train_loss = 0.28225454688072205\n",
      "Iter: 31, train_MSE = TODO, train_loss = 0.049493495374917984\n"
     ]
    }
   ],
   "source": [
    "train_history = GP_train(\n",
    "    likelihood=likelihood,\n",
    "    model=model,\n",
    "    optimizer=optimizer,\n",
    "    scheduler=None,\n",
    "    \n",
    "    loss_obj=NLL_loss,\n",
    "\n",
    "    training_iterations=35,\n",
    "\n",
    "    train_X=train_X,\n",
    "    train_Y=train_Y,\n",
    "\n",
    "    print_step=5\n",
    ")"
   ]
  },
  {
   "cell_type": "markdown",
   "metadata": {},
   "source": [
    "одинаковые аутпуты в eval будут, если у нас очень резко сетка становится широкой из низкоразмерных данных, если мы используем feature_extractor, то есть та же проблема, что была с сетками просто"
   ]
  },
  {
   "cell_type": "code",
   "execution_count": 144,
   "metadata": {},
   "outputs": [
    {
     "name": "stdout",
     "output_type": "stream",
     "text": [
      "val_MSE = 0.00193373979488237, val_MSE_for_3D = 0.00019534723079706086\n"
     ]
    }
   ],
   "source": [
    "mean, mean_3D = GP_eval(\n",
    "\n",
    "    likelihood=likelihood,\n",
    "    model=model,\n",
    "\n",
    "    optimizer=optimizer,\n",
    "    loss_obj=NLL_loss,\n",
    "\n",
    "    val_X=val_X,\n",
    "    val_Y=val_Y,\n",
    "\n",
    "    val_Y_pinv_As=val_Y_pinv_As,\n",
    "    val_Y_3D=val_Y_3D\n",
    ")"
   ]
  },
  {
   "cell_type": "code",
   "execution_count": 63,
   "metadata": {},
   "outputs": [
    {
     "data": {
      "text/plain": [
       "tensor([ 0.1196, -0.1886,  0.4450])"
      ]
     },
     "execution_count": 63,
     "metadata": {},
     "output_type": "execute_result"
    }
   ],
   "source": [
    "val_Y_3D[0]"
   ]
  },
  {
   "cell_type": "markdown",
   "metadata": {},
   "source": [
    "## 3.2) Stochastic Variational GP Regression (обучение GPR по мини батчам):"
   ]
  },
  {
   "cell_type": "markdown",
   "metadata": {},
   "source": [
    "---"
   ]
  },
  {
   "cell_type": "markdown",
   "metadata": {},
   "source": [
    "# Пока мои выводы / результаты: "
   ]
  },
  {
   "cell_type": "markdown",
   "metadata": {},
   "source": [
    "- Про сетки:\n",
    "    - Поскольку в датасете огромное количество сил очень маленькие - модель не в состоянии научиться определять болшьие силы, надо какой-то кастомный лосс придумывать, учитывающий это\n",
    "\n",
    "    - Пока по какой-то причине сетка просто выдает одинаковый аутпут на весь батч на большом количестве частиц (и со свертками и без, и при большом и при маленьком K)\n",
    "\n",
    "    - Для 2 частиц с K = 2 на одной сетке получилось val_MSE = 0.75\n",
    "\n",
    "    - Для 50 частиц с K = 25 вообще ничего не вышло, с K = 5 пока тоже\n",
    "\n",
    "Поэтому я пока отложу идею с 3 сетками и попробую покрутить GPR"
   ]
  },
  {
   "cell_type": "markdown",
   "metadata": {},
   "source": [
    "- Про GP:\n",
    "    - на 50 частицах пока оно не учится...\n",
    "\n",
    "    - на 2 частицах результат получше, чем у сетки, но что-то мне подсказывает, что MSE довольно плохая метрика в нашей ситуации"
   ]
  },
  {
   "cell_type": "code",
   "execution_count": null,
   "metadata": {},
   "outputs": [],
   "source": [
    "def fit_epoch(model, train_loader, criterion, optimizer, scheduler, scaler=None):\n",
    "    '''\n",
    "\n",
    "    Функция обучения по всем батчам 1 раз (1 эпоха)\n",
    "\n",
    "    scaler: gradient scaler from torch.amp, попозже добавлю обучение с ним\n",
    "\n",
    "    '''\n",
    "    model.train()\n",
    "    scaler = amp.GradScaler()\n",
    "\n",
    "    running_loss = 0.0\n",
    "    running_MSE = 0\n",
    "    processed_data = 0\n",
    "  \n",
    "    for inputs, labels in train_loader:\n",
    "        optimizer.zero_grad()\n",
    "\n",
    "        inputs = inputs.to(CFG.device)\n",
    "        labels = labels.to(CFG.device)\n",
    "\n",
    "        with amp.autocast(enabled=True):\n",
    "            outputs = model(inputs)\n",
    "            loss = criterion(outputs, labels)\n",
    "\n",
    "        scaler.scale(loss).backward()\n",
    "        scaler.step(optimizer)\n",
    "\n",
    "        scaler.update()\n",
    "\n",
    "        running_loss += loss.item() * inputs.size(0)\n",
    "        running_MSE += F.mse_loss(input=outputs, target=labels, reduction='sum').item()\n",
    "        processed_data += inputs.size(0)\n",
    "\n",
    "    scheduler.step()\n",
    "              \n",
    "    train_loss = running_loss / processed_data\n",
    "    train_MSE = running_MSE / processed_data\n",
    "    \n",
    "    return train_loss, train_MSE"
   ]
  }
 ],
 "metadata": {
  "interpreter": {
   "hash": "d8b603c973ef7f83aae64b632e2e67529bc0c014d258c607b969039a8c89a028"
  },
  "kernelspec": {
   "display_name": "Python 3.6.2 ('base')",
   "language": "python",
   "name": "python3"
  },
  "language_info": {
   "codemirror_mode": {
    "name": "ipython",
    "version": 3
   },
   "file_extension": ".py",
   "mimetype": "text/x-python",
   "name": "python",
   "nbconvert_exporter": "python",
   "pygments_lexer": "ipython3",
   "version": "3.6.2"
  },
  "orig_nbformat": 4
 },
 "nbformat": 4,
 "nbformat_minor": 2
}
