{
 "cells": [
  {
   "cell_type": "code",
   "execution_count": 98,
   "metadata": {},
   "outputs": [],
   "source": [
    "import torch\n",
    "from sklearn.model_selection import train_test_split\n",
    "from torch.utils.data import DataLoader, TensorDataset\n",
    "import matplotlib.pyplot as plt\n",
    "import numpy as np\n",
    "import pandas as pd\n",
    "\n",
    "import torch.nn as nn\n",
    "import torch.nn.functional as F\n",
    "from tqdm import tqdm\n",
    "import torch.optim as optim\n",
    "from torch.optim import lr_scheduler\n",
    "\n",
    "from sklearn.gaussian_process import GaussianProcessRegressor\n",
    "from sklearn.gaussian_process.kernels import DotProduct, WhiteKernel, ConstantKernel, RBF\n",
    "from sklearn.metrics import mean_squared_error\n",
    "from sklearn.preprocessing import Normalizer\n",
    "\n",
    "from numpy.linalg import norm\n",
    "\n",
    "from utility_funcs import *\n",
    "\n",
    "import seaborn as sns\n",
    "sns.set_style(\"darkgrid\", {\"grid.color\": \".6\", \"grid.linestyle\": \":\"})"
   ]
  },
  {
   "cell_type": "markdown",
   "metadata": {},
   "source": [
    "- В склерне оптимальные параметры ядра ищутся не градиентным спуском, а в gpytorch градиентным спуском как внутри pytorch - в этом главное отличие "
   ]
  },
  {
   "cell_type": "markdown",
   "metadata": {},
   "source": [
    "- Лосс, который пишется у гпр - это -log likelyhood loss для параметров, которые мы обучаем\n",
    "\n",
    "- Мы добавляем какие-то параметры, чтобы не делать операции $O(N^3)$, а сделать несколько шагов оптимизации параметров вместе того, чтобы полностью точно считать обратную к K\n",
    "\n",
    "- в склерне дефолтный кернел - это конст кернел * RBF - короче там 2 параметра обучается"
   ]
  },
  {
   "cell_type": "code",
   "execution_count": 99,
   "metadata": {},
   "outputs": [
    {
     "data": {
      "text/plain": [
       "'movements'"
      ]
     },
     "execution_count": 99,
     "metadata": {},
     "output_type": "execute_result"
    }
   ],
   "source": [
    "MODE"
   ]
  },
  {
   "cell_type": "code",
   "execution_count": 100,
   "metadata": {},
   "outputs": [],
   "source": [
    "path = './dataset_objects/' + MODE + '/2_dataset_K_3.pt'        # ЗДЕСЬ БЫЛО МОДЕ ВМЕСТО movements"
   ]
  },
  {
   "cell_type": "code",
   "execution_count": 101,
   "metadata": {},
   "outputs": [],
   "source": [
    "class CFG:\n",
    "    '''\n",
    "\n",
    "    All hyperparameters are here\n",
    "\n",
    "    '''\n",
    "\n",
    "    N = int(path.split(\"/\")[-1].split('_')[0])     # число атомов\n",
    "    K = int(path.split(\"/\")[-1].split('_')[-1].split('.')[0])     # можно называть это разрешением...чем число больше, тем больше размеры матрицы для атомов, фактически это число элементов в наборах p и r_cut\n",
    "\n",
    "    L = 2 * N ** (1 / 3) # размер одной клетки при моделировании\n",
    "\n",
    "    r_cut = np.random.uniform(low=5, high=10, size=K).copy()\n",
    "    p = np.random.uniform(low=1, high=3, size=K).copy()\n",
    "    N_neig= N - 1 if N != 2 else 1\n",
    "\n",
    "    # train_bs = 8\n",
    "    # val_bs = 16\n",
    "    batch_size = 1024\n",
    "\n",
    "    device = torch.device(\"cuda:0\" if torch.cuda.is_available() else \"cpu\")\n",
    "\n",
    "    f_threshold = 5    # Если сила по какой-то координате превышает это значение, то строчка исключается, совсем маленьких по модулю сил быть не должно, если что при генерации просто r_cut поменьше надо делать\n",
    "    coord_threshold = L     # Если вдруг очень большие расстояния, то надо выкидывать\n",
    "    f_min_threshold = 0.05\n",
    "    #\n",
    "    output_size = K     # Размерность аутпута модели"
   ]
  },
  {
   "cell_type": "code",
   "execution_count": 102,
   "metadata": {},
   "outputs": [],
   "source": [
    "def make_predictions_and_check_quality(model, X_matrices=None, Y_target=None, figsize=(30, 20), fontsize=20, criterion=nn.MSELoss(), data=None, same_axis=False):\n",
    "    '''\n",
    "\n",
    "    Строит предсказанную и тагрет зависимости\n",
    "\n",
    "    Можно подавать либо отлельно X_matrices, Y_target либо подать датасет из тьюплов: (X, f_k_dim, f_3d, A_pinv)\n",
    "\n",
    "    Будет подаваться 3 итерируемых объекта: набор(батч или кусок датасета) из \"матриц\", предсказания, таргеты\n",
    "\n",
    "    Качество\n",
    "\n",
    "    '''\n",
    "\n",
    "    if data:\n",
    "        X_matrices, Y_target, *_ = list(map(lambda x: torch.stack(x), list(zip(*data))))\n",
    "\n",
    "        \n",
    "    Y_pred = model.predict(X_matrices)\n",
    "    names = ['predicted', 'target']\n",
    "    Ys = [Y_pred, Y_target]\n",
    "    metric = mean_squared_error(Y_pred, Y_target)\n",
    "\n",
    "    print(metric)\n",
    "\n",
    "    return Ys"
   ]
  },
  {
   "cell_type": "code",
   "execution_count": 103,
   "metadata": {},
   "outputs": [],
   "source": [
    "def formate_data_for_sklearn(data, size_cut=1):\n",
    "\n",
    "    X = [elem[0].detach().numpy() for elem in data[:len(data) * size_cut]]\n",
    "    Y = [elem[1].detach().numpy() for elem in data[:len(data) * size_cut]]\n",
    "\n",
    "    X = np.stack(X)\n",
    "    Y = np.stack(Y)\n",
    "    return X, Y"
   ]
  },
  {
   "cell_type": "code",
   "execution_count": 104,
   "metadata": {},
   "outputs": [
    {
     "data": {
      "text/plain": [
       "1**2 * RBF(length_scale=1)"
      ]
     },
     "execution_count": 104,
     "metadata": {},
     "output_type": "execute_result"
    }
   ],
   "source": [
    "my_kernel = ConstantKernel(1.0, constant_value_bounds=(1e-5, 1e5)) * RBF(1.0, length_scale_bounds=\"fixed\")  # пока фиксированные параметры\n",
    "\n",
    "# my_kernel = ConstantKernel(1.0, constant_value_bounds=(1e-5, 1e5)) * RBF(1., length_scale_bounds=(1e-5, 1e5))\n",
    "\n",
    "my_kernel"
   ]
  },
  {
   "cell_type": "code",
   "execution_count": 105,
   "metadata": {},
   "outputs": [],
   "source": [
    "data = torch.load(path)"
   ]
  },
  {
   "cell_type": "code",
   "execution_count": 106,
   "metadata": {},
   "outputs": [],
   "source": [
    "train_data, val_data, *_ = recieve_loaders(\n",
    "    path=path,\n",
    "    take_one_projection_for_data=0\n",
    ")       # in sklearn it is not learning in batches, so batch_size is not needed here"
   ]
  },
  {
   "cell_type": "code",
   "execution_count": 107,
   "metadata": {},
   "outputs": [],
   "source": [
    "train_X, train_Y = formate_data_for_sklearn(train_data)\n",
    "val_X, val_Y = formate_data_for_sklearn(val_data)"
   ]
  },
  {
   "cell_type": "code",
   "execution_count": 108,
   "metadata": {},
   "outputs": [],
   "source": [
    "# normer = Normalizer()\n",
    "# train_X = normer.fit_transform(train_X)\n",
    "# val_X = normer.transform(val_X)"
   ]
  },
  {
   "cell_type": "markdown",
   "metadata": {},
   "source": [
    "n_restarts_optimizer - если вдруг может быть несколько оптимумов чтобы несколько раз запустилось и попрбовало найти типо их несколько раз\n",
    "\n",
    "- Что вообще оптимизируется - поскольку единственная случайно выбранная нами здесь вещь - это функция ядра, то мы как раз и оптимизируем параметры внутри этой функции ядра так, чтобы\n",
    "мы получали ответы максимально близкие к таргетам. Она оптммизируется путем максимизации минус логарифма правдоподобия для данного параметра при условии данных"
   ]
  },
  {
   "cell_type": "code",
   "execution_count": 109,
   "metadata": {},
   "outputs": [],
   "source": [
    "gpr = GaussianProcessRegressor(\n",
    "    kernel=my_kernel,\n",
    "    random_state=0,\n",
    "    n_restarts_optimizer=1,\n",
    "    normalize_y=True\n",
    "    )\n",
    "\n",
    "gpr.fit(train_X, train_Y)\n",
    "\n",
    "Y_pred = gpr.predict(val_X, return_std=False)"
   ]
  },
  {
   "cell_type": "code",
   "execution_count": 110,
   "metadata": {},
   "outputs": [
    {
     "data": {
      "text/plain": [
       "9.433674442518463e-12"
      ]
     },
     "execution_count": 110,
     "metadata": {},
     "output_type": "execute_result"
    }
   ],
   "source": [
    "mean_squared_error(val_Y, Y_pred)"
   ]
  },
  {
   "cell_type": "code",
   "execution_count": 111,
   "metadata": {},
   "outputs": [
    {
     "data": {
      "text/plain": [
       "0.9994005651337905"
      ]
     },
     "execution_count": 111,
     "metadata": {},
     "output_type": "execute_result"
    }
   ],
   "source": [
    "gpr.score(val_X, val_Y)"
   ]
  },
  {
   "cell_type": "code",
   "execution_count": 112,
   "metadata": {},
   "outputs": [
    {
     "name": "stdout",
     "output_type": "stream",
     "text": [
      "9.433674442518463e-12\n"
     ]
    }
   ],
   "source": [
    "make_predictions_and_check_quality(model=gpr, data=val_data, same_axis=False)\n",
    "None"
   ]
  },
  {
   "cell_type": "code",
   "execution_count": 113,
   "metadata": {},
   "outputs": [
    {
     "data": {
      "text/plain": [
       "{'k1': 1**2,\n",
       " 'k2': RBF(length_scale=1),\n",
       " 'k1__constant_value': 1.0,\n",
       " 'k1__constant_value_bounds': (1e-05, 100000.0),\n",
       " 'k2__length_scale': 1.0,\n",
       " 'k2__length_scale_bounds': 'fixed'}"
      ]
     },
     "execution_count": 113,
     "metadata": {},
     "output_type": "execute_result"
    }
   ],
   "source": [
    "gpr.kernel.get_params()"
   ]
  },
  {
   "cell_type": "markdown",
   "metadata": {},
   "source": [
    "---\n",
    "Снизу попытки что-то визуализировать:"
   ]
  },
  {
   "cell_type": "code",
   "execution_count": 114,
   "metadata": {},
   "outputs": [],
   "source": [
    "x11_val = val_X[:, 0]\n",
    "x22_val = val_X[:, 4]\n",
    "x33_val = val_X[:, 8]"
   ]
  },
  {
   "cell_type": "code",
   "execution_count": 115,
   "metadata": {},
   "outputs": [],
   "source": [
    "Y_true = val_Y\n",
    "Y_pred = gpr.predict(val_X)"
   ]
  },
  {
   "cell_type": "code",
   "execution_count": 116,
   "metadata": {},
   "outputs": [
    {
     "data": {
      "image/png": "[encoded data removed]",
      "text/plain": [
       "<Figure size 1440x720 with 1 Axes>"
      ]
     },
     "metadata": {},
     "output_type": "display_data"
    }
   ],
   "source": [
    "plot_2d_result(\n",
    "    x11_val,\n",
    "    y_true=Y_true if len(train_data[0][1]) == 1 else [elem[0] for elem in Y_true],\n",
    "    y_pred=Y_pred if len(train_data[0][1]) == 1 else [elem[0] for elem in Y_pred],\n",
    "    figsize=(20, 10)\n",
    ")"
   ]
  },
  {
   "cell_type": "code",
   "execution_count": 117,
   "metadata": {},
   "outputs": [],
   "source": [
    "if len(train_data[0][1]) != 1:\n",
    "    plot_matrix(\n",
    "        X=[elem[:-3] for elem in val_X] if MODE == \"movements\" else val_X,\n",
    "        K=CFG.K,\n",
    "        Y_true=Y_true,\n",
    "        Y_pred=Y_pred,\n",
    "\n",
    "        figsize=(20, 20)\n",
    "    )"
   ]
  },
  {
   "cell_type": "markdown",
   "metadata": {},
   "source": [
    "---"
   ]
  },
  {
   "cell_type": "markdown",
   "metadata": {},
   "source": [
    "## Для реальных сил визуализация + сравнение с Верле:\n",
    "\n",
    "Чтобы отрисовать Верле на том же графике надо взять проекцию $vdt + (F / 2 )dt^2$ в проекции на V_i"
   ]
  },
  {
   "cell_type": "code",
   "execution_count": 118,
   "metadata": {},
   "outputs": [],
   "source": [
    "t = val_data[0]"
   ]
  },
  {
   "cell_type": "code",
   "execution_count": 119,
   "metadata": {},
   "outputs": [],
   "source": [
    "Y_true_3d = [elem[3] for elem in val_data]"
   ]
  },
  {
   "cell_type": "code",
   "execution_count": 120,
   "metadata": {},
   "outputs": [
    {
     "data": {
      "text/plain": [
       "[tensor([ 7.6100e-04, -1.6000e-04, -8.0000e-05]),\n",
       " tensor([-7.6000e-04,  1.6000e-04,  8.0000e-05]),\n",
       " tensor([ 4.1300e-04, -8.0000e-05, -4.0000e-05]),\n",
       " tensor([-3.7000e-04,  7.0000e-05,  3.0000e-05]),\n",
       " tensor([ 5.3600e-04, -1.1000e-04, -6.0000e-05]),\n",
       " tensor([ 5.1700e-04, -1.1000e-04, -5.0000e-05]),\n",
       " tensor([-7.2000e-04,  1.5000e-04,  7.0000e-05]),\n",
       " tensor([ 5.3900e-04, -1.1000e-04, -5.0000e-05]),\n",
       " tensor([-3.9000e-04,  8.0000e-05,  4.0000e-05]),\n",
       " tensor([ 6.1200e-04, -1.2000e-04, -6.0000e-05]),\n",
       " tensor([ 3.6800e-04, -8.0000e-05, -4.0000e-05]),\n",
       " tensor([-7.3000e-04,  1.5000e-04,  8.0000e-05]),\n",
       " tensor([ 4.5800e-04, -9.0000e-05, -4.0000e-05]),\n",
       " tensor([ 4.9100e-04, -1.0000e-04, -5.0000e-05]),\n",
       " tensor([ 6.2600e-04, -1.3000e-04, -6.0000e-05]),\n",
       " tensor([ 4.3000e-04, -9.0000e-05, -5.0000e-05]),\n",
       " tensor([-7.1000e-04,  1.4000e-04,  7.0000e-05]),\n",
       " tensor([-5.0000e-04,  1.1000e-04,  5.0000e-05]),\n",
       " tensor([-4.0000e-04,  8.0000e-05,  4.0000e-05]),\n",
       " tensor([-7.3000e-04,  1.5000e-04,  8.0000e-05]),\n",
       " tensor([ 5.0200e-04, -1.1000e-04, -5.0000e-05]),\n",
       " tensor([ 3.7900e-04, -7.0000e-05, -3.0000e-05]),\n",
       " tensor([-7.5000e-04,  1.5000e-04,  7.0000e-05]),\n",
       " tensor([-4.2000e-04,  9.0000e-05,  5.0000e-05]),\n",
       " tensor([ 3.5200e-04, -8.0000e-05, -4.0000e-05]),\n",
       " tensor([-7.5000e-04,  1.5000e-04,  8.0000e-05]),\n",
       " tensor([ 5.8500e-04, -1.2000e-04, -6.0000e-05]),\n",
       " tensor([-4.2000e-04,  8.0000e-05,  4.0000e-05]),\n",
       " tensor([-4.7000e-04,  1.0000e-04,  4.0000e-05]),\n",
       " tensor([ 5.6200e-04, -1.2000e-04, -5.0000e-05]),\n",
       " tensor([-7.6000e-04,  1.6000e-04,  8.0000e-05]),\n",
       " tensor([-7.2000e-04,  1.5000e-04,  7.0000e-05]),\n",
       " tensor([-5.5000e-04,  1.1000e-04,  6.0000e-05]),\n",
       " tensor([ 4.6000e-04, -1.0000e-04, -5.0000e-05]),\n",
       " tensor([-5.9000e-04,  1.2000e-04,  6.0000e-05]),\n",
       " tensor([ 5.8900e-04, -1.2000e-04, -6.0000e-05]),\n",
       " tensor([ 5.8200e-04, -1.2000e-04, -6.0000e-05]),\n",
       " tensor([-4.7000e-04,  1.0000e-04,  5.0000e-05]),\n",
       " tensor([ 6.8600e-04, -1.4000e-04, -7.0000e-05]),\n",
       " tensor([ 6.4700e-04, -1.4000e-04, -6.0000e-05]),\n",
       " tensor([-5.7000e-04,  1.2000e-04,  6.0000e-05]),\n",
       " tensor([ 4.5600e-04, -1.0000e-04, -5.0000e-05]),\n",
       " tensor([ 4.9900e-04, -1.0000e-04, -5.0000e-05]),\n",
       " tensor([ 3.9800e-04, -8.0000e-05, -4.0000e-05]),\n",
       " tensor([ 5.1300e-04, -1.0000e-04, -5.0000e-05]),\n",
       " tensor([-7.3000e-04,  1.6000e-04,  7.0000e-05]),\n",
       " tensor([ 6.6300e-04, -1.4000e-04, -7.0000e-05]),\n",
       " tensor([ 7.3200e-04, -1.5000e-04, -7.0000e-05]),\n",
       " tensor([ 3.9200e-04, -8.0000e-05, -4.0000e-05]),\n",
       " tensor([ 7.1600e-04, -1.5000e-04, -7.0000e-05]),\n",
       " tensor([ 4.3800e-04, -9.0000e-05, -5.0000e-05]),\n",
       " tensor([-5.4000e-04,  1.1000e-04,  6.0000e-05]),\n",
       " tensor([-6.4000e-04,  1.3000e-04,  6.0000e-05]),\n",
       " tensor([ 4.8700e-04, -1.0000e-04, -5.0000e-05]),\n",
       " tensor([-6.5000e-04,  1.4000e-04,  7.0000e-05]),\n",
       " tensor([ 4.2500e-04, -9.0000e-05, -5.0000e-05]),\n",
       " tensor([-5.4000e-04,  1.1000e-04,  6.0000e-05]),\n",
       " tensor([-6.0000e-04,  1.2000e-04,  6.0000e-05]),\n",
       " tensor([ 4.0700e-04, -9.0000e-05, -5.0000e-05]),\n",
       " tensor([ 6.7300e-04, -1.4000e-04, -7.0000e-05]),\n",
       " tensor([ 6.0800e-04, -1.2000e-04, -7.0000e-05]),\n",
       " tensor([ 7.3400e-04, -1.5000e-04, -7.0000e-05]),\n",
       " tensor([ 7.0800e-04, -1.5000e-04, -7.0000e-05]),\n",
       " tensor([ 5.0400e-04, -1.0000e-04, -5.0000e-05]),\n",
       " tensor([ 5.5400e-04, -1.2000e-04, -5.0000e-05]),\n",
       " tensor([ 4.0900e-04, -8.0000e-05, -4.0000e-05]),\n",
       " tensor([-4.9000e-04,  1.0000e-04,  5.0000e-05]),\n",
       " tensor([-6.7000e-04,  1.4000e-04,  7.0000e-05]),\n",
       " tensor([ 7.5800e-04, -1.5000e-04, -8.0000e-05]),\n",
       " tensor([ 4.9400e-04, -1.0000e-04, -5.0000e-05]),\n",
       " tensor([-6.7000e-04,  1.4000e-04,  7.0000e-05]),\n",
       " tensor([ 6.4500e-04, -1.3000e-04, -7.0000e-05]),\n",
       " tensor([ 3.6100e-04, -8.0000e-05, -4.0000e-05]),\n",
       " tensor([ 4.3600e-04, -9.0000e-05, -4.0000e-05]),\n",
       " tensor([-7.4000e-04,  1.6000e-04,  7.0000e-05]),\n",
       " tensor([-4.5000e-04,  1.0000e-04,  4.0000e-05]),\n",
       " tensor([-4.0000e-04,  8.0000e-05,  4.0000e-05]),\n",
       " tensor([-7.1000e-04,  1.5000e-04,  8.0000e-05]),\n",
       " tensor([ 7.2300e-04, -1.5000e-04, -7.0000e-05]),\n",
       " tensor([-5.2000e-04,  1.1000e-04,  6.0000e-05]),\n",
       " tensor([ 3.5700e-04, -8.0000e-05, -3.0000e-05]),\n",
       " tensor([ 3.8500e-04, -8.0000e-05, -4.0000e-05]),\n",
       " tensor([-7.3000e-04,  1.5000e-04,  7.0000e-05]),\n",
       " tensor([-4.4000e-04,  9.0000e-05,  5.0000e-05]),\n",
       " tensor([ 7.2600e-04, -1.5000e-04, -8.0000e-05]),\n",
       " tensor([ 4.7300e-04, -1.0000e-04, -5.0000e-05]),\n",
       " tensor([-4.4000e-04,  9.0000e-05,  5.0000e-05]),\n",
       " tensor([-6.8000e-04,  1.4000e-04,  7.0000e-05]),\n",
       " tensor([ 5.7100e-04, -1.2000e-04, -5.0000e-05]),\n",
       " tensor([ 5.3000e-04, -1.1000e-04, -5.0000e-05]),\n",
       " tensor([-4.1000e-04,  8.0000e-05,  4.0000e-05]),\n",
       " tensor([-6.3000e-04,  1.3000e-04,  7.0000e-05]),\n",
       " tensor([ 5.9300e-04, -1.2000e-04, -6.0000e-05]),\n",
       " tensor([-3.9000e-04,  8.0000e-05,  4.0000e-05]),\n",
       " tensor([-3.7000e-04,  8.0000e-05,  4.0000e-05]),\n",
       " tensor([-7.3000e-04,  1.5000e-04,  7.0000e-05]),\n",
       " tensor([-7.2000e-04,  1.5000e-04,  8.0000e-05]),\n",
       " tensor([-5.2000e-04,  1.0000e-04,  5.0000e-05]),\n",
       " tensor([-6.1000e-04,  1.3000e-04,  6.0000e-05]),\n",
       " tensor([ 4.9800e-04, -1.0000e-04, -5.0000e-05]),\n",
       " tensor([-4.4000e-04,  9.0000e-05,  4.0000e-05]),\n",
       " tensor([ 5.7500e-04, -1.2000e-04, -6.0000e-05]),\n",
       " tensor([ 3.8100e-04, -8.0000e-05, -4.0000e-05]),\n",
       " tensor([ 4.7800e-04, -1.0000e-04, -5.0000e-05]),\n",
       " tensor([ 6.7500e-04, -1.4000e-04, -7.0000e-05]),\n",
       " tensor([ 3.6500e-04, -8.0000e-05, -4.0000e-05]),\n",
       " tensor([ 3.8600e-04, -8.0000e-05, -4.0000e-05]),\n",
       " tensor([ 6.3800e-04, -1.3000e-04, -6.0000e-05]),\n",
       " tensor([-6.7000e-04,  1.4000e-04,  7.0000e-05]),\n",
       " tensor([-6.7000e-04,  1.3000e-04,  7.0000e-05]),\n",
       " tensor([ 6.2400e-04, -1.3000e-04, -7.0000e-05]),\n",
       " tensor([ 7.3600e-04, -1.5000e-04, -8.0000e-05]),\n",
       " tensor([-5.3000e-04,  1.2000e-04,  5.0000e-05]),\n",
       " tensor([-7.5000e-04,  1.6000e-04,  7.0000e-05]),\n",
       " tensor([-5.5000e-04,  1.2000e-04,  6.0000e-05]),\n",
       " tensor([ 4.6700e-04, -1.0000e-04, -5.0000e-05]),\n",
       " tensor([ 5.0600e-04, -1.1000e-04, -5.0000e-05]),\n",
       " tensor([-5.2000e-04,  1.1000e-04,  5.0000e-05]),\n",
       " tensor([-5.7000e-04,  1.2000e-04,  6.0000e-05]),\n",
       " tensor([-5.0000e-04,  1.1000e-04,  5.0000e-05]),\n",
       " tensor([ 6.8400e-04, -1.5000e-04, -7.0000e-05]),\n",
       " tensor([ 5.7200e-04, -1.1000e-04, -6.0000e-05]),\n",
       " tensor([ 3.8200e-04, -8.0000e-05, -4.0000e-05]),\n",
       " tensor([-4.6000e-04,  9.0000e-05,  5.0000e-05]),\n",
       " tensor([ 3.9500e-04, -8.0000e-05, -4.0000e-05]),\n",
       " tensor([-6.9000e-04,  1.5000e-04,  7.0000e-05]),\n",
       " tensor([-6.7000e-04,  1.4000e-04,  6.0000e-05]),\n",
       " tensor([-7.5000e-04,  1.6000e-04,  7.0000e-05]),\n",
       " tensor([-7.3000e-04,  1.5000e-04,  8.0000e-05]),\n",
       " tensor([-6.9000e-04,  1.5000e-04,  7.0000e-05]),\n",
       " tensor([-5.8000e-04,  1.2000e-04,  6.0000e-05]),\n",
       " tensor([ 6.5600e-04, -1.4000e-04, -7.0000e-05])]"
      ]
     },
     "execution_count": 120,
     "metadata": {},
     "output_type": "execute_result"
    }
   ],
   "source": [
    "Y_true_3d"
   ]
  },
  {
   "cell_type": "code",
   "execution_count": 121,
   "metadata": {},
   "outputs": [],
   "source": [
    "def s_by_verlet(X, dt):\n",
    "    '''\n",
    "    \n",
    "    '''"
   ]
  }
 ],
 "metadata": {
  "kernelspec": {
   "display_name": "Python 3.6.13 ('my_3_6_conda_env')",
   "language": "python",
   "name": "python3"
  },
  "language_info": {
   "codemirror_mode": {
    "name": "ipython",
    "version": 3
   },
   "file_extension": ".py",
   "mimetype": "text/x-python",
   "name": "python",
   "nbconvert_exporter": "python",
   "pygments_lexer": "ipython3",
   "version": "3.6.13"
  },
  "orig_nbformat": 4,
  "vscode": {
   "interpreter": {
    "hash": "6b5cc6bf18c7103cb99324f044582e9ca68eda52a25f7227b20ca62cd3e32898"
   }
  }
 },
 "nbformat": 4,
 "nbformat_minor": 2
}
