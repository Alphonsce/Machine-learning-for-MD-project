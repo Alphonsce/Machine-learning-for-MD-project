{
 "cells": [
  {
   "cell_type": "code",
   "execution_count": 58,
   "metadata": {},
   "outputs": [],
   "source": [
    "import torch\n",
    "from sklearn.model_selection import train_test_split\n",
    "from torch.utils.data import DataLoader, TensorDataset\n",
    "import matplotlib.pyplot as plt\n",
    "import numpy as np\n",
    "import pandas as pd\n",
    "\n",
    "import torch.nn as nn\n",
    "import torch.nn.functional as F\n",
    "from tqdm import tqdm\n",
    "import torch.optim as optim\n",
    "from torch.optim import lr_scheduler\n",
    "\n",
    "from sklearn.gaussian_process import GaussianProcessRegressor\n",
    "from sklearn.gaussian_process.kernels import DotProduct, WhiteKernel, ConstantKernel, RBF\n",
    "from sklearn.metrics import mean_squared_error\n",
    "from sklearn.preprocessing import Normalizer\n",
    "\n",
    "from numpy.linalg import norm\n",
    "\n",
    "from utility_funcs import *"
   ]
  },
  {
   "cell_type": "markdown",
   "metadata": {},
   "source": [
    "- В склерне оптимальные параметры ядра ищутся не градиентным спуском, а в gpytorch градиентным спуском как внутри pytorch - в этом главное отличие "
   ]
  },
  {
   "cell_type": "markdown",
   "metadata": {},
   "source": [
    "- Лосс, который пишется у гпр - это -log likelyhood loss для параметров, которые мы обучаем\n",
    "\n",
    "- Мы добавляем какие-то параметры, чтобы не делать операции $O(N^3)$, а сделать несколько шагов оптимизации параметров вместе того, чтобы полностью точно считать обратную к K\n",
    "\n",
    "- в склерне дефолтный кернел - это конст кернел * RBF - короче там 2 параметра обучается"
   ]
  },
  {
   "cell_type": "code",
   "execution_count": 59,
   "metadata": {},
   "outputs": [
    {
     "data": {
      "text/plain": [
       "'forces'"
      ]
     },
     "execution_count": 59,
     "metadata": {},
     "output_type": "execute_result"
    }
   ],
   "source": [
    "MODE"
   ]
  },
  {
   "cell_type": "code",
   "execution_count": 60,
   "metadata": {},
   "outputs": [],
   "source": [
    "path = './dataset_objects/' + MODE + '/4_dataset_K_3.pt'        # ЗДЕСЬ БЫЛО МОДЕ ВМЕСТО movements"
   ]
  },
  {
   "cell_type": "code",
   "execution_count": 61,
   "metadata": {},
   "outputs": [],
   "source": [
    "def make_predictions_and_check_quality(model, X_matrices=None, Y_target=None, figsize=(30, 20), fontsize=20, criterion=nn.MSELoss(), data=None, same_axis=False):\n",
    "    '''\n",
    "\n",
    "    Строит предсказанную и тагрет зависимости\n",
    "\n",
    "    Можно подавать либо отлельно X_matrices, Y_target либо подать датасет из тьюплов: (X, f_k_dim, f_3d, A_pinv)\n",
    "\n",
    "    Будет подаваться 3 итерируемых объекта: набор(батч или кусок датасета) из \"матриц\", предсказания, таргеты\n",
    "\n",
    "    Качество\n",
    "\n",
    "    '''\n",
    "\n",
    "    if data:\n",
    "        X_matrices, Y_target, *_ = list(map(lambda x: torch.stack(x), list(zip(*data))))\n",
    "\n",
    "        \n",
    "    Y_pred = model.predict(X_matrices)\n",
    "    names = ['predicted', 'target']\n",
    "    Ys = [Y_pred, Y_target]\n",
    "    metric = mean_squared_error(Y_pred, Y_target)\n",
    "\n",
    "    print(metric)\n",
    "\n",
    "    return Ys"
   ]
  },
  {
   "cell_type": "code",
   "execution_count": 62,
   "metadata": {},
   "outputs": [],
   "source": [
    "def formate_data_for_sklearn(data, size_cut=1):\n",
    "\n",
    "    X = [elem[0].detach().numpy() for elem in data[:len(data) * size_cut]]\n",
    "    Y = [elem[1].detach().numpy() for elem in data[:len(data) * size_cut]]\n",
    "\n",
    "    X = np.stack(X)\n",
    "    Y = np.stack(Y)\n",
    "    return X, Y"
   ]
  },
  {
   "cell_type": "code",
   "execution_count": 63,
   "metadata": {},
   "outputs": [
    {
     "data": {
      "text/plain": [
       "1**2 * RBF(length_scale=1)"
      ]
     },
     "execution_count": 63,
     "metadata": {},
     "output_type": "execute_result"
    }
   ],
   "source": [
    "my_kernel = ConstantKernel(1.0, constant_value_bounds=(1e-5, 1e5)) * RBF(1., length_scale_bounds=\"fixed\")  # пока фиксированные параметры\n",
    "my_kernel"
   ]
  },
  {
   "cell_type": "code",
   "execution_count": 64,
   "metadata": {},
   "outputs": [],
   "source": [
    "data = torch.load(path)\n",
    "\n",
    "train_data, val_data, *_ = recieve_loaders(path=path, take_one_projection_for_data=0)       # in sklearn it is not learning in batches, so batch_size is optional here\n",
    "\n",
    "train_X, train_Y = formate_data_for_sklearn(train_data)\n",
    "val_X, val_Y = formate_data_for_sklearn(val_data)"
   ]
  },
  {
   "cell_type": "code",
   "execution_count": 65,
   "metadata": {},
   "outputs": [],
   "source": [
    "# normer = Normalizer()\n",
    "# train_X = normer.fit_transform(train_X)\n",
    "# val_X = normer.transform(val_X)"
   ]
  },
  {
   "cell_type": "markdown",
   "metadata": {},
   "source": [
    "n_restarts_optimizer - если вдруг может быть несколько оптимумов чтобы несколько раз запустилось и попрбовало найти типо их несколько раз\n",
    "\n",
    "- Что вообще оптимизируется - поскольку единственная случайно выбранная нами здесь вещь - это функция ядра, то мы как раз и оптимизируем параметры внутри этой функции ядра так, чтобы\n",
    "мы получали ответы максимально близкие к таргетам. Она оптммизируется путем максимизации минус логарифма правдоподобия для данного параметра при условии данных"
   ]
  },
  {
   "cell_type": "code",
   "execution_count": 66,
   "metadata": {},
   "outputs": [],
   "source": [
    "gpr = GaussianProcessRegressor(kernel=my_kernel, random_state=0, n_restarts_optimizer=1, normalize_y=True)\n",
    "gpr.fit(train_X, train_Y)\n",
    "\n",
    "Y_pred = gpr.predict(val_X, return_std=False)"
   ]
  },
  {
   "cell_type": "code",
   "execution_count": 67,
   "metadata": {},
   "outputs": [
    {
     "data": {
      "text/plain": [
       "1.4056964846907776e-13"
      ]
     },
     "execution_count": 67,
     "metadata": {},
     "output_type": "execute_result"
    }
   ],
   "source": [
    "mean_squared_error(val_Y, Y_pred)"
   ]
  },
  {
   "cell_type": "code",
   "execution_count": 68,
   "metadata": {},
   "outputs": [
    {
     "data": {
      "text/plain": [
       "0.9999999999820157"
      ]
     },
     "execution_count": 68,
     "metadata": {},
     "output_type": "execute_result"
    }
   ],
   "source": [
    "gpr.score(val_X, val_Y)"
   ]
  },
  {
   "cell_type": "code",
   "execution_count": 69,
   "metadata": {},
   "outputs": [
    {
     "name": "stdout",
     "output_type": "stream",
     "text": [
      "1.4056964846907776e-13\n"
     ]
    }
   ],
   "source": [
    "make_predictions_and_check_quality(model=gpr, data=val_data, same_axis=False)\n",
    "None"
   ]
  },
  {
   "cell_type": "code",
   "execution_count": 70,
   "metadata": {},
   "outputs": [
    {
     "data": {
      "text/plain": [
       "{'k1': 1**2,\n",
       " 'k2': RBF(length_scale=1),\n",
       " 'k1__constant_value': 1.0,\n",
       " 'k1__constant_value_bounds': (1e-05, 100000.0),\n",
       " 'k2__length_scale': 1.0,\n",
       " 'k2__length_scale_bounds': 'fixed'}"
      ]
     },
     "execution_count": 70,
     "metadata": {},
     "output_type": "execute_result"
    }
   ],
   "source": [
    "gpr.kernel.get_params()"
   ]
  },
  {
   "cell_type": "markdown",
   "metadata": {},
   "source": [
    "---\n",
    "Снизу попытки что-то визуализировать:"
   ]
  },
  {
   "cell_type": "code",
   "execution_count": 71,
   "metadata": {},
   "outputs": [],
   "source": [
    "x11_val = val_X[:, 0]\n",
    "x22_val = val_X[:, 4]\n",
    "x33_val = val_X[:, 8]"
   ]
  },
  {
   "cell_type": "code",
   "execution_count": 72,
   "metadata": {},
   "outputs": [],
   "source": [
    "Y_true = val_Y\n",
    "Y_pred = gpr.predict(val_X)"
   ]
  },
  {
   "cell_type": "code",
   "execution_count": 73,
   "metadata": {},
   "outputs": [
    {
     "data": {
      "image/png": "[encoded data removed]",
      "text/plain": [
       "<Figure size 1440x720 with 1 Axes>"
      ]
     },
     "metadata": {
      "needs_background": "light"
     },
     "output_type": "display_data"
    }
   ],
   "source": [
    "plot_2d_result(x11_val, Y_true, Y_pred, figsize=(20, 10))"
   ]
  },
  {
   "cell_type": "code",
   "execution_count": 74,
   "metadata": {},
   "outputs": [
    {
     "data": {
      "text/plain": [
       "array([[0.2137904 , 0.        , 0.        ],\n",
       "       [0.        , 0.13921471, 0.        ],\n",
       "       [0.        , 0.        , 0.16563322]], dtype=float32)"
      ]
     },
     "execution_count": 74,
     "metadata": {},
     "output_type": "execute_result"
    }
   ],
   "source": [
    "train_X[0].reshape((3,3))"
   ]
  },
  {
   "cell_type": "markdown",
   "metadata": {},
   "source": [
    "- типо 4 полосочки потому что 4 частицы"
   ]
  },
  {
   "cell_type": "markdown",
   "metadata": {},
   "source": [
    "Умные слова что с экспонентой нельзя...."
   ]
  },
  {
   "cell_type": "markdown",
   "metadata": {},
   "source": [
    "Это типо не просто вектора V_i - это буквально силы..."
   ]
  },
  {
   "cell_type": "code",
   "execution_count": null,
   "metadata": {},
   "outputs": [],
   "source": [
    "data"
   ]
  }
 ],
 "metadata": {
  "kernelspec": {
   "display_name": "Python 3.6.13 ('my_3_6_conda_env')",
   "language": "python",
   "name": "python3"
  },
  "language_info": {
   "codemirror_mode": {
    "name": "ipython",
    "version": 3
   },
   "file_extension": ".py",
   "mimetype": "text/x-python",
   "name": "python",
   "nbconvert_exporter": "python",
   "pygments_lexer": "ipython3",
   "version": "3.6.13"
  },
  "orig_nbformat": 4,
  "vscode": {
   "interpreter": {
    "hash": "6b5cc6bf18c7103cb99324f044582e9ca68eda52a25f7227b20ca62cd3e32898"
   }
  }
 },
 "nbformat": 4,
 "nbformat_minor": 2
}
