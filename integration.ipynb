{
 "cells": [
  {
   "cell_type": "code",
   "execution_count": 1,
   "metadata": {},
   "outputs": [],
   "source": [
    "import torch\n",
    "import matplotlib.pyplot as plt\n",
    "import numpy as np\n",
    "import pandas as pd\n",
    "import csv\n",
    "\n",
    "from numba import njit\n",
    "from numpy.linalg import norm\n",
    "\n",
    "from tqdm import tqdm\n",
    "\n",
    "import torch.nn as nn\n",
    "import torch.nn.functional as F\n",
    "import torch.optim as optim\n",
    "from torch.utils.data import DataLoader, TensorDataset\n",
    "from torch.optim import lr_scheduler\n",
    "from torchmetrics import MeanAbsolutePercentageError\n",
    "\n",
    "import seaborn as sns\n",
    "sns.set_style(\"darkgrid\", {\"grid.color\": \".6\", \"grid.linestyle\": \":\"})\n",
    "\n",
    "from utility_funcs import *\n",
    "from LJ_modeling_realization.includes.constants import *\n",
    "\n",
    "import dill\n",
    "\n",
    "from sklearn.model_selection import train_test_split\n",
    "from sklearn.preprocessing import Normalizer\n",
    "from sklearn.gaussian_process import GaussianProcessRegressor\n",
    "from sklearn.gaussian_process.kernels import DotProduct, WhiteKernel, ConstantKernel, RBF\n",
    "from sklearn.metrics import mean_squared_error\n",
    "from sklearn.preprocessing import Normalizer"
   ]
  },
  {
   "cell_type": "code",
   "execution_count": 2,
   "metadata": {},
   "outputs": [],
   "source": [
    "model_type = \"network\""
   ]
  },
  {
   "cell_type": "code",
   "execution_count": 3,
   "metadata": {},
   "outputs": [],
   "source": [
    "N = CFG.N"
   ]
  },
  {
   "cell_type": "code",
   "execution_count": 4,
   "metadata": {},
   "outputs": [],
   "source": [
    "class SklearnModel:\n",
    "    def __init__(self, model):\n",
    "        '''\n",
    "        model - sklearn model\n",
    "        '''\n",
    "        self.model = model\n",
    "\n",
    "    def __call__(self, X):\n",
    "        return self.model.predict(X)"
   ]
  },
  {
   "cell_type": "code",
   "execution_count": 5,
   "metadata": {},
   "outputs": [],
   "source": [
    "model_file_path = f'./trained_models/{model_type}_{CFG.N}_movements_K{CFG.K}.pickle'\n",
    "model_vel_file_path = f'./trained_models/{model_type}_{CFG.N}_velocities_K{CFG.K}.pickle'\n",
    "\n",
    "# Сетка предсказания сжатые будет выдавать и их надо будет возвращать к обычному скейлу\n",
    "descaler_path = f'./trained_models/descaler_{CFG.N}_K{CFG.K}.pickle'\n",
    "descaler_vel_path = f'./trained_models/descaler_vel_{CFG.N}_K{CFG.K}.pickle'"
   ]
  },
  {
   "cell_type": "code",
   "execution_count": 6,
   "metadata": {},
   "outputs": [],
   "source": [
    "with open(model_file_path, 'rb') as handle:\n",
    "    model = dill.load(handle)\n",
    "\n",
    "with open(model_vel_file_path, 'rb') as handle:\n",
    "    model_vel = dill.load(handle)\n",
    "\n",
    "if model_type == \"gpr\":\n",
    "    descaler = Descaler(1, 0)\n",
    "    descaler_vel = Descaler(1, 0)\n",
    "    model = SklearnModel(model)\n",
    "    model_vel = SklearnModel(model_vel)\n",
    "else:\n",
    "    with open(descaler_path, 'rb') as handle:\n",
    "        descaler = dill.load(handle)\n",
    "    "
   ]
  },
  {
   "cell_type": "code",
   "execution_count": 7,
   "metadata": {},
   "outputs": [
    {
     "data": {
      "text/plain": [
       "2"
      ]
     },
     "execution_count": 7,
     "metadata": {},
     "output_type": "execute_result"
    }
   ],
   "source": [
    "CFG.N"
   ]
  },
  {
   "attachments": {},
   "cell_type": "markdown",
   "metadata": {},
   "source": [
    "---\n",
    "## Проверка ту ли я модель вообще загружаю:"
   ]
  },
  {
   "cell_type": "code",
   "execution_count": 8,
   "metadata": {},
   "outputs": [],
   "source": [
    "# data = torch.load(path)\n",
    "# data_vel = torch.load(path_vel)\n",
    "\n",
    "# X = data[0, :]"
   ]
  },
  {
   "attachments": {},
   "cell_type": "markdown",
   "metadata": {},
   "source": [
    "---"
   ]
  },
  {
   "cell_type": "code",
   "execution_count": 9,
   "metadata": {},
   "outputs": [],
   "source": [
    "def csv_row_to_state(coords_path, vels_path, row_number=0):\n",
    "    '''\n",
    "    This function will be mostly used to start integration and create header for csv to write into\n",
    "    '''\n",
    "\n",
    "    row_coords = np.array(pd.read_csv(\n",
    "        coords_path\n",
    "    ).iloc[row_number, :][1:]).reshape(CFG.N, 3)\n",
    "\n",
    "    row_vels = np.array(pd.read_csv(\n",
    "        vels_path\n",
    "    ).iloc[0, :][1:]).reshape(CFG.N, 3)\n",
    "    \n",
    "    state = {i: [row_coords[i], row_vels[i]] for i in range(CFG.N)}\n",
    "\n",
    "\n",
    "    return state"
   ]
  },
  {
   "cell_type": "code",
   "execution_count": 10,
   "metadata": {},
   "outputs": [],
   "source": [
    "state = csv_row_to_state(\n",
    "    f'./coords_and_movements/coords{CFG.N}.csv',\n",
    "    f'./coords_and_movements/velocities{CFG.N}.csv',\n",
    "\n",
    "    row_number=-1   # НАЧИНАЕМ ПРЕДСКАЗЫВАТЬ С КОНЦА ИЗВЕСТНОЙ ТРАЕКТОРИИ\n",
    ")"
   ]
  },
  {
   "cell_type": "code",
   "execution_count": 11,
   "metadata": {},
   "outputs": [
    {
     "data": {
      "text/plain": [
       "{0: [array([2.41407317, 0.0494733 , 0.0239288 ]),\n",
       "  array([-0.11917474, -0.00968789, -0.00702183])],\n",
       " 1: [array([1.36231321, 2.4838163 , 2.48180073]),\n",
       "  array([0.11917474, 0.00968789, 0.00702183])]}"
      ]
     },
     "execution_count": 11,
     "metadata": {},
     "output_type": "execute_result"
    }
   ],
   "source": [
    "state"
   ]
  },
  {
   "cell_type": "code",
   "execution_count": 12,
   "metadata": {},
   "outputs": [],
   "source": [
    "def _get_relative_positions(state, atom_number):\n",
    "    '''\n",
    "    This function processes one row of csv into something that we can work with\n",
    "\n",
    "    Returns np.array matrix that consists of relative positions vectors for passed atom_number to every other atom\n",
    "    and then we can chose only closest N_neighbours in the next functions\n",
    "    \n",
    "    row: df.iloc[row] - typeof(row): pd.Series\n",
    "    \n",
    "    returns: Rel_matrix, f_vec\n",
    "    '''\n",
    "\n",
    "    other_atom_numbers = [i for i in range(CFG.N) if i != atom_number]\n",
    "    Rel_matrix = np.zeros([CFG.N - 1, 3])\n",
    "\n",
    "    for i, other_numb in enumerate(other_atom_numbers):\n",
    "        Rel_matrix[i] = state[atom_number][0] - state[other_numb][0]\n",
    "\n",
    "    # print('rel_dists: ', Rel_matrix)\n",
    "\n",
    "    return np.array(Rel_matrix)\n",
    "\n",
    "def create_V_i(i, normalized_m, norms, r_cut=CFG.r_cut, p=CFG.p):\n",
    "    '''\n",
    "    normalized_m: matrix of relative distances, where rows - normalized vectors\n",
    "    i: i-th component of r_cut and p, i in range 1..K (or in 0..K-1 in code)\n",
    "    '''\n",
    "    transf_vecs = make_matrix_transformed(normalized_m, norms[:, np.newaxis], r_cut[i], p[i])\n",
    "\n",
    "    return np.sum(transf_vecs, axis=0)\n",
    "\n",
    "# @njit(parallel=True)\n",
    "def create_V(normalized_m, norms, K=CFG.K):\n",
    "    '''\n",
    "    creates V\n",
    "    '''\n",
    "    V = []\n",
    "    for i in range(K):\n",
    "        V.append(\n",
    "            create_V_i(i, normalized_m, norms)\n",
    "        )\n",
    "\n",
    "    return np.stack(V)"
   ]
  },
  {
   "cell_type": "code",
   "execution_count": 13,
   "metadata": {},
   "outputs": [],
   "source": [
    "# @njit(\n",
    "#     parallel=True,\n",
    "#     fastmath=True\n",
    "#     )\n",
    "def _calculate_matrix_for_atom(relative_distances, r_cut=CFG.r_cut, p=CFG.p, N_neig=CFG.N_neig, K=CFG.K, use_orthogonal=False, use_A_t=True):\n",
    "    '''\n",
    "\n",
    "    relative_distances: np.array matrix of relative distance vectors\n",
    "\n",
    "    '''\n",
    "    \n",
    "    # Only closest N_neig are counting:\n",
    "    indexlist = np.argsort(norm(relative_distances, axis=1))\n",
    "\n",
    "    relative_distances = relative_distances[indexlist[len(relative_distances) - N_neig:]]\n",
    "\n",
    "    norms = norm(relative_distances, axis=-1)\n",
    "\n",
    "    normalized_rel_distances = relative_distances / norms[:, np.newaxis]\n",
    "\n",
    "    V = create_V(normalized_rel_distances, norms)\n",
    "\n",
    "    if use_orthogonal and CFG.K == 3:\n",
    "        diagonal_V_matr = [[0] * CFG.K for i in range(K)]\n",
    "        for i in range(K):\n",
    "            diagonal_V_matr[i][i] = V[i][i]\n",
    "        V = np.array(\n",
    "            diagonal_V_matr\n",
    "        )\n",
    "\n",
    "    A = V / norm(V, axis=-1)[:, np.newaxis]\n",
    "\n",
    "    if use_A_t:\n",
    "        X = V @ A.T\n",
    "    else:\n",
    "        X = V\n",
    "\n",
    "    return X, A\n",
    "\n",
    "def get_matrix_for_atom(state, atom_number, N_neig=CFG.N_neig, use_orthogonal=True, use_A_t=True):\n",
    "    '''\n",
    "\n",
    "    This function will create X matrix for passed atom with\n",
    "    arrays of r_cut and p of length k\n",
    "\n",
    "    It is a wrapper for _get_relative_positions and _calculate_matrix_for_atom, so I can speed up matrix calculations\n",
    "    with numba for _calculate_matrix_for_atom\n",
    "\n",
    "    atom_number: a number of atom that we are passing\n",
    "    row: one row from df_with_coords, i.e. df.iloc[index_of_row]\n",
    "\n",
    "    '''\n",
    "    # @njit\n",
    "    def get_pinv(A):\n",
    "        return np.linalg.pinv(A)\n",
    "\n",
    "    # creating row of relative coordinates for concrete atom:\n",
    "    relative_distances = _get_relative_positions(state=state, atom_number=atom_number)\n",
    "    X, A = _calculate_matrix_for_atom(relative_distances=relative_distances, N_neig=N_neig, use_orthogonal=use_orthogonal, use_A_t=use_A_t)\n",
    "\n",
    "    flat_X = np.concatenate([X.flatten(), state[atom_number][1]])\n",
    "\n",
    "    # print(\n",
    "    #     state\n",
    "    # )\n",
    "    \n",
    "    return flat_X, get_pinv(A)\n",
    "\n",
    "# %timeit get_matrix_for_atom(row=df.iloc[0], atom_number=1)"
   ]
  },
  {
   "cell_type": "code",
   "execution_count": 14,
   "metadata": {},
   "outputs": [],
   "source": [
    "csv_naming_coords = []\n",
    "for i in range(CFG.N):\n",
    "    csv_naming_coords.extend([str(i) + \"x\", str(i) + \"y\", str(i) + \"z\"])\n",
    "result_coords_csv = \"./integration_res/result_coords.csv\"\n",
    "\n",
    "csv_naming_vels = []\n",
    "for i in range(CFG.N):\n",
    "    csv_naming_vels.extend([str(i) + \"vx\", str(i) + \"vy\", str(i) + \"vz\"])\n",
    "result_vels_csv = \"./integration_res/result_vels.csv\"\n",
    "\n",
    "\n",
    "def fill_csv(state, path, mode=\"coords\"):\n",
    "    '''\n",
    "    fills csv after current step\n",
    "    '''\n",
    "    s = ''\n",
    "    if mode == \"coords\":\n",
    "        idx = 0\n",
    "    else:\n",
    "        idx = 1\n",
    "    with open(path, \"a\") as f:\n",
    "        for atom_numb in range(CFG.N):\n",
    "            s += ',' + \",\".join(list(state[atom_numb][idx].astype(str)))\n",
    "        f.write(s[1:] + '\\n')\n",
    "\n",
    "def fill_xyz(state, path):\n",
    "    '''\n",
    "    fills xyz file after current step\n",
    "    '''\n",
    "    pass"
   ]
  },
  {
   "cell_type": "code",
   "execution_count": 15,
   "metadata": {},
   "outputs": [],
   "source": [
    "def make_prediction(X, pinv_A, model):\n",
    "    return np.array(pinv_A @ descaler(model(X.reshape(1, -1))).squeeze())"
   ]
  },
  {
   "cell_type": "code",
   "execution_count": 16,
   "metadata": {},
   "outputs": [],
   "source": [
    "def make_predictions(state, model=model):\n",
    "    '''\n",
    "    predicting on multiple rows is faster\n",
    "    '''\n",
    "    Xs = []\n",
    "    pinv_As = []\n",
    "    for atom_num in range(CFG.N):\n",
    "        X, pinv_A = get_matrix_for_atom(state=state, atom_number=atom_num)\n",
    "        # print(atom_num, X)\n",
    "        Xs.append(X)\n",
    "        pinv_As.append(pinv_A)\n",
    "    Xs = np.array(Xs, dtype=np.float) if model_type != \"network\" else torch.tensor(np.array(Xs), dtype=torch.float)\n",
    "\n",
    "    pinv_As = np.array(pinv_As)\n",
    "    preds = descaler(model(Xs))\n",
    "\n",
    "    # print(preds)\n",
    "\n",
    "    return [pinv_As[i] @ preds[i] for i in range(CFG.N)]\n",
    "\n",
    "# make_predictions(state, model=model)\n",
    "\n",
    "# make_predictions(state, model=model_vel)"
   ]
  },
  {
   "cell_type": "code",
   "execution_count": 17,
   "metadata": {},
   "outputs": [],
   "source": [
    "def make_step(state):\n",
    "    dses = make_predictions(state, model)\n",
    "    dvs = make_predictions(state, model_vel)\n",
    "    for atom_num in range(CFG.N):\n",
    "        state[atom_num][0] += dses[atom_num]\n",
    "        state[atom_num][1] += dvs[atom_num]\n",
    "    \n",
    "    return state"
   ]
  },
  {
   "cell_type": "code",
   "execution_count": 18,
   "metadata": {},
   "outputs": [],
   "source": [
    "def integration_cycle(state, number_of_steps, xyz_path=None):\n",
    "    '''\n",
    "    state: starting state\n",
    "    '''\n",
    "    # print(state)\n",
    "    for step in tqdm(range(number_of_steps)):\n",
    "        fill_csv(state, result_coords_csv)\n",
    "        fill_csv(state, result_vels_csv, mode=\"vels\")\n",
    "\n",
    "        fill_xyz(state, xyz_path)\n",
    "        state = make_step(state)\n",
    "\n",
    "        fill_csv(state, result_coords_csv)\n",
    "        fill_xyz(state, xyz_path)\n",
    "\n",
    "    return state"
   ]
  },
  {
   "cell_type": "code",
   "execution_count": 19,
   "metadata": {},
   "outputs": [],
   "source": [
    "with open(result_coords_csv, \"w\") as f:\n",
    "    f.truncate(0)\n",
    "    csv.DictWriter(f, fieldnames=csv_naming_coords).writeheader()\n",
    "\n",
    "with open(result_vels_csv, \"w\") as f:\n",
    "    f.truncate(0)\n",
    "    csv.DictWriter(f, fieldnames=csv_naming_coords).writeheader()"
   ]
  },
  {
   "cell_type": "code",
   "execution_count": 20,
   "metadata": {},
   "outputs": [
    {
     "name": "stderr",
     "output_type": "stream",
     "text": [
      "100%|██████████| 100/100 [00:00<00:00, 472.47it/s]\n"
     ]
    }
   ],
   "source": [
    "integration_cycle(state=state, number_of_steps=100)\n",
    "None"
   ]
  },
  {
   "attachments": {},
   "cell_type": "markdown",
   "metadata": {},
   "source": [
    "---\n",
    "# Исследование интегрирования:"
   ]
  },
  {
   "cell_type": "code",
   "execution_count": 21,
   "metadata": {},
   "outputs": [],
   "source": [
    "@njit()\n",
    "def pot_energy(r1, r2):\n",
    "    # Snaps particle back to the unfolded coordinate\n",
    "    r1 = r1 % L\n",
    "    r2 = r2 % L\n",
    "    r = r1 - r2\n",
    "    for i in range(3):\n",
    "        if np.abs(r[i]) > L / 2:   # Если расстояние между двумя частицами больше L/2, то мы точно найдем в соседних клетках ближе\n",
    "            r[i] = r[i] - L * np.sign(r[i])\n",
    "\n",
    "    d = norm(r)\n",
    "    return -4 * (pow(d, -6) - pow(d, -12))\n",
    "\n",
    "def plot_energy(N=N, path_coords=f\"./integration_res/result_coords.csv\", path_vels=f\"./integration_res/result_vels.csv\"):\n",
    "    E = []\n",
    "    try:\n",
    "        coords = pd.read_csv(path_coords).drop(columns=[\"t\"])\n",
    "        vels = pd.read_csv(path_vels).drop(columns=[\"t\"])\n",
    "    except:\n",
    "        coords = pd.read_csv(path_coords)\n",
    "        vels = pd.read_csv(path_vels)\n",
    "    \n",
    "    for row_n in tqdm(range(len(vels))):  # TODO: ЗДЕСЬ СТОИТ vels ПОТОМУ ЧТО У МЕНЯ ПОКА БАГА И В КООРДС НА ОДНУ СТРОЧКУ БОЛЬШЕ ПОЧЕМУ-ТО...\n",
    "        V = 0.\n",
    "        T = 0\n",
    "        for i in range(N):\n",
    "            r_i = np.array(coords.iloc[row_n, (3 * i):(3 * i) + 3])\n",
    "            for j in range(i + 1, N):\n",
    "                r_j = np.array(coords.iloc[row_n, (3 * j):(3 * j) + 3])\n",
    "                # print(f'i: {r_i}, j: {r_j}, i: {i}, j: {j}')\n",
    "                V += pot_energy(r_i, r_j)\n",
    "        \n",
    "\n",
    "        T = ((vels.iloc[row_n]) ** 2).sum() / 2\n",
    "        E.append(T + V)\n",
    "\n",
    "        print(\n",
    "            f'{row_n:.4E}: K = {T:.4E}, V = {V:.4E}, E = {(T + V):.4E}'\n",
    "        )\n",
    "\n",
    "    plt.figure(figsize=(10, 10))\n",
    "    plt.plot(\n",
    "        [i for i in range(len(E))], E\n",
    "    )\n",
    "\n",
    "    E = np.array(E)\n",
    "    avg_E = E.mean()\n",
    "\n",
    "    # print(E)\n",
    "\n",
    "    plt.ylim([0.95 * avg_E, 1.05 * avg_E])\n",
    "\n",
    "    plt.plot([i for i in range(len(E))], [1.01 * avg_E for _ in E], color=\"grey\")\n",
    "    plt.plot([i for i in range(len(E))], [0.99 * avg_E for _ in E], color=\"grey\")\n",
    "    # plt.xlabel()"
   ]
  },
  {
   "cell_type": "code",
   "execution_count": 22,
   "metadata": {},
   "outputs": [
    {
     "name": "stderr",
     "output_type": "stream",
     "text": [
      "100%|██████████| 100/100 [00:00<00:00, 154.70it/s]"
     ]
    },
    {
     "name": "stdout",
     "output_type": "stream",
     "text": [
      "0.0000E+00: K = 1.4346E-02, V = -8.1189E-01, E = -7.9755E-01\n",
      "1.0000E+00: K = 1.4349E-02, V = -8.1182E-01, E = -7.9747E-01\n",
      "2.0000E+00: K = 1.4352E-02, V = -8.1182E-01, E = -7.9747E-01\n",
      "3.0000E+00: K = 1.4356E-02, V = -8.1175E-01, E = -7.9740E-01\n",
      "4.0000E+00: K = 1.4359E-02, V = -8.1175E-01, E = -7.9739E-01\n",
      "5.0000E+00: K = 1.4362E-02, V = -8.1169E-01, E = -7.9732E-01\n",
      "6.0000E+00: K = 1.4366E-02, V = -8.1169E-01, E = -7.9732E-01\n",
      "7.0000E+00: K = 1.4369E-02, V = -8.1162E-01, E = -7.9725E-01\n",
      "8.0000E+00: K = 1.4373E-02, V = -8.1162E-01, E = -7.9724E-01\n",
      "9.0000E+00: K = 1.4376E-02, V = -8.1155E-01, E = -7.9717E-01\n",
      "1.0000E+01: K = 1.4379E-02, V = -8.1155E-01, E = -7.9717E-01\n",
      "1.1000E+01: K = 1.4383E-02, V = -8.1148E-01, E = -7.9710E-01\n",
      "1.2000E+01: K = 1.4386E-02, V = -8.1148E-01, E = -7.9709E-01\n",
      "1.3000E+01: K = 1.4390E-02, V = -8.1141E-01, E = -7.9702E-01\n",
      "1.4000E+01: K = 1.4393E-02, V = -8.1141E-01, E = -7.9702E-01\n",
      "1.5000E+01: K = 1.4397E-02, V = -8.1134E-01, E = -7.9695E-01\n",
      "1.6000E+01: K = 1.4400E-02, V = -8.1134E-01, E = -7.9694E-01\n",
      "1.7000E+01: K = 1.4404E-02, V = -8.1128E-01, E = -7.9687E-01\n",
      "1.8000E+01: K = 1.4407E-02, V = -8.1128E-01, E = -7.9687E-01\n",
      "1.9000E+01: K = 1.4411E-02, V = -8.1121E-01, E = -7.9680E-01\n",
      "2.0000E+01: K = 1.4414E-02, V = -8.1121E-01, E = -7.9679E-01\n",
      "2.1000E+01: K = 1.4418E-02, V = -8.1114E-01, E = -7.9672E-01\n",
      "2.2000E+01: K = 1.4421E-02, V = -8.1114E-01, E = -7.9672E-01\n",
      "2.3000E+01: K = 1.4425E-02, V = -8.1107E-01, E = -7.9665E-01\n",
      "2.4000E+01: K = 1.4428E-02, V = -8.1107E-01, E = -7.9664E-01\n",
      "2.5000E+01: K = 1.4432E-02, V = -8.1100E-01, E = -7.9657E-01\n",
      "2.6000E+01: K = 1.4436E-02, V = -8.1100E-01, E = -7.9657E-01\n",
      "2.7000E+01: K = 1.4439E-02, V = -8.1094E-01, E = -7.9650E-01\n",
      "2.8000E+01: K = 1.4443E-02, V = -8.1094E-01, E = -7.9649E-01\n",
      "2.9000E+01: K = 1.4446E-02, V = -8.1087E-01, E = -7.9642E-01\n",
      "3.0000E+01: K = 1.4450E-02, V = -8.1087E-01, E = -7.9642E-01\n",
      "3.1000E+01: K = 1.4454E-02, V = -8.1080E-01, E = -7.9635E-01\n",
      "3.2000E+01: K = 1.4457E-02, V = -8.1080E-01, E = -7.9634E-01\n",
      "3.3000E+01: K = 1.4461E-02, V = -8.1073E-01, E = -7.9627E-01\n",
      "3.4000E+01: K = 1.4465E-02, V = -8.1073E-01, E = -7.9627E-01\n",
      "3.5000E+01: K = 1.4468E-02, V = -8.1066E-01, E = -7.9620E-01\n",
      "3.6000E+01: K = 1.4472E-02, V = -8.1066E-01, E = -7.9619E-01\n",
      "3.7000E+01: K = 1.4476E-02, V = -8.1060E-01, E = -7.9612E-01\n",
      "3.8000E+01: K = 1.4479E-02, V = -8.1060E-01, E = -7.9612E-01\n",
      "3.9000E+01: K = 1.4483E-02, V = -8.1053E-01, E = -7.9605E-01\n",
      "4.0000E+01: K = 1.4487E-02, V = -8.1053E-01, E = -7.9604E-01\n",
      "4.1000E+01: K = 1.4491E-02, V = -8.1046E-01, E = -7.9597E-01\n",
      "4.2000E+01: K = 1.4494E-02, V = -8.1046E-01, E = -7.9597E-01\n",
      "4.3000E+01: K = 1.4498E-02, V = -8.1039E-01, E = -7.9590E-01\n",
      "4.4000E+01: K = 1.4502E-02, V = -8.1039E-01, E = -7.9589E-01\n",
      "4.5000E+01: K = 1.4506E-02, V = -8.1033E-01, E = -7.9582E-01\n",
      "4.6000E+01: K = 1.4510E-02, V = -8.1033E-01, E = -7.9582E-01\n",
      "4.7000E+01: K = 1.4513E-02, V = -8.1026E-01, E = -7.9574E-01\n",
      "4.8000E+01: K = 1.4517E-02, V = -8.1026E-01, E = -7.9574E-01\n",
      "4.9000E+01: K = 1.4521E-02, V = -8.1019E-01, E = -7.9567E-01\n",
      "5.0000E+01: K = 1.4525E-02, V = -8.1019E-01, E = -7.9567E-01\n",
      "5.1000E+01: K = 1.4529E-02, V = -8.1012E-01, E = -7.9559E-01\n",
      "5.2000E+01: K = 1.4533E-02, V = -8.1012E-01, E = -7.9559E-01\n",
      "5.3000E+01: K = 1.4537E-02, V = -8.1006E-01, E = -7.9552E-01\n",
      "5.4000E+01: K = 1.4540E-02, V = -8.1006E-01, E = -7.9552E-01\n",
      "5.5000E+01: K = 1.4544E-02, V = -8.0999E-01, E = -7.9544E-01\n",
      "5.6000E+01: K = 1.4548E-02, V = -8.0999E-01, E = -7.9544E-01\n",
      "5.7000E+01: K = 1.4552E-02, V = -8.0992E-01, E = -7.9537E-01\n",
      "5.8000E+01: K = 1.4556E-02, V = -8.0992E-01, E = -7.9536E-01\n",
      "5.9000E+01: K = 1.4560E-02, V = -8.0985E-01, E = -7.9529E-01\n",
      "6.0000E+01: K = 1.4564E-02, V = -8.0985E-01, E = -7.9529E-01\n",
      "6.1000E+01: K = 1.4568E-02, V = -8.0979E-01, E = -7.9522E-01\n",
      "6.2000E+01: K = 1.4572E-02, V = -8.0979E-01, E = -7.9521E-01\n",
      "6.3000E+01: K = 1.4576E-02, V = -8.0972E-01, E = -7.9514E-01\n",
      "6.4000E+01: K = 1.4580E-02, V = -8.0972E-01, E = -7.9514E-01\n",
      "6.5000E+01: K = 1.4584E-02, V = -8.0965E-01, E = -7.9507E-01\n",
      "6.6000E+01: K = 1.4588E-02, V = -8.0965E-01, E = -7.9506E-01\n",
      "6.7000E+01: K = 1.4592E-02, V = -8.0958E-01, E = -7.9499E-01\n",
      "6.8000E+01: K = 1.4596E-02, V = -8.0958E-01, E = -7.9499E-01\n",
      "6.9000E+01: K = 1.4600E-02, V = -8.0952E-01, E = -7.9492E-01\n",
      "7.0000E+01: K = 1.4604E-02, V = -8.0952E-01, E = -7.9491E-01\n",
      "7.1000E+01: K = 1.4608E-02, V = -8.0945E-01, E = -7.9484E-01\n",
      "7.2000E+01: K = 1.4612E-02, V = -8.0945E-01, E = -7.9484E-01\n",
      "7.3000E+01: K = 1.4617E-02, V = -8.0938E-01, E = -7.9477E-01\n",
      "7.4000E+01: K = 1.4621E-02, V = -8.0938E-01, E = -7.9476E-01\n",
      "7.5000E+01: K = 1.4625E-02, V = -8.0932E-01, E = -7.9469E-01\n",
      "7.6000E+01: K = 1.4629E-02, V = -8.0932E-01, E = -7.9469E-01\n",
      "7.7000E+01: K = 1.4633E-02, V = -8.0925E-01, E = -7.9462E-01\n",
      "7.8000E+01: K = 1.4637E-02, V = -8.0925E-01, E = -7.9461E-01\n",
      "7.9000E+01: K = 1.4641E-02, V = -8.0918E-01, E = -7.9454E-01\n",
      "8.0000E+01: K = 1.4646E-02, V = -8.0918E-01, E = -7.9454E-01\n",
      "8.1000E+01: K = 1.4650E-02, V = -8.0912E-01, E = -7.9447E-01\n",
      "8.2000E+01: K = 1.4654E-02, V = -8.0912E-01, E = -7.9446E-01\n",
      "8.3000E+01: K = 1.4658E-02, V = -8.0905E-01, E = -7.9439E-01\n",
      "8.4000E+01: K = 1.4662E-02, V = -8.0905E-01, E = -7.9439E-01\n",
      "8.5000E+01: K = 1.4667E-02, V = -8.0898E-01, E = -7.9432E-01\n",
      "8.6000E+01: K = 1.4671E-02, V = -8.0898E-01, E = -7.9431E-01\n",
      "8.7000E+01: K = 1.4675E-02, V = -8.0892E-01, E = -7.9424E-01\n",
      "8.8000E+01: K = 1.4679E-02, V = -8.0892E-01, E = -7.9424E-01\n",
      "8.9000E+01: K = 1.4684E-02, V = -8.0885E-01, E = -7.9416E-01\n",
      "9.0000E+01: K = 1.4688E-02, V = -8.0885E-01, E = -7.9416E-01\n",
      "9.1000E+01: K = 1.4692E-02, V = -8.0878E-01, E = -7.9409E-01\n",
      "9.2000E+01: K = 1.4697E-02, V = -8.0878E-01, E = -7.9409E-01\n",
      "9.3000E+01: K = 1.4701E-02, V = -8.0871E-01, E = -7.9401E-01\n",
      "9.4000E+01: K = 1.4705E-02, V = -8.0871E-01, E = -7.9401E-01\n",
      "9.5000E+01: K = 1.4710E-02, V = -8.0865E-01, E = -7.9394E-01\n",
      "9.6000E+01: K = 1.4714E-02, V = -8.0865E-01, E = -7.9393E-01\n",
      "9.7000E+01: K = 1.4718E-02, V = -8.0858E-01, E = -7.9386E-01\n",
      "9.8000E+01: K = 1.4723E-02, V = -8.0858E-01, E = -7.9386E-01\n",
      "9.9000E+01: K = 1.4727E-02, V = -8.0852E-01, E = -7.9379E-01\n"
     ]
    },
    {
     "name": "stderr",
     "output_type": "stream",
     "text": [
      "\n"
     ]
    },
    {
     "data": {
      "image/png": "[encoded data removed]",
      "text/plain": [
       "<Figure size 720x720 with 1 Axes>"
      ]
     },
     "metadata": {},
     "output_type": "display_data"
    }
   ],
   "source": [
    "plot_energy()"
   ]
  },
  {
   "cell_type": "code",
   "execution_count": 23,
   "metadata": {},
   "outputs": [],
   "source": [
    "def plot_error():\n",
    "    '''\n",
    "    Строит зависимость ошибки от шага интегрирования\n",
    "    '''\n",
    "    pass"
   ]
  },
  {
   "cell_type": "code",
   "execution_count": 24,
   "metadata": {},
   "outputs": [],
   "source": [
    "def plot_trajectory():\n",
    "    '''\n",
    "    Строим x(step), y(step), z(step), сравниваем с трушной, сравниваем с Верле\n",
    "    '''\n",
    "    pass"
   ]
  },
  {
   "attachments": {},
   "cell_type": "markdown",
   "metadata": {},
   "source": [
    "**Короче пока что была трабла с граничными условиями: но пока частиц мало можно генерить траектории без граничных условий и на них потестить**"
   ]
  },
  {
   "attachments": {},
   "cell_type": "markdown",
   "metadata": {},
   "source": [
    "- Потом надо попробовать добавить учет граничных условий при вычислении матрицы для атома: для данного атома, если другой смещен далеко - учитываем это только для этого атома"
   ]
  }
 ],
 "metadata": {
  "kernelspec": {
   "display_name": "my_3_6_conda_env",
   "language": "python",
   "name": "python3"
  },
  "language_info": {
   "codemirror_mode": {
    "name": "ipython",
    "version": 3
   },
   "file_extension": ".py",
   "mimetype": "text/x-python",
   "name": "python",
   "nbconvert_exporter": "python",
   "pygments_lexer": "ipython3",
   "version": "3.6.13"
  },
  "orig_nbformat": 4,
  "vscode": {
   "interpreter": {
    "hash": "6b5cc6bf18c7103cb99324f044582e9ca68eda52a25f7227b20ca62cd3e32898"
   }
  }
 },
 "nbformat": 4,
 "nbformat_minor": 2
}
