{
 "cells": [
  {
   "cell_type": "code",
   "execution_count": 1,
   "metadata": {},
   "outputs": [],
   "source": [
    "import torch\n",
    "import matplotlib.pyplot as plt\n",
    "import numpy as np\n",
    "import pandas as pd\n",
    "import csv\n",
    "\n",
    "from numba import njit\n",
    "from numpy.linalg import norm\n",
    "\n",
    "from tqdm import tqdm\n",
    "\n",
    "import torch.nn as nn\n",
    "import torch.nn.functional as F\n",
    "import torch.optim as optim\n",
    "from torch.utils.data import DataLoader, TensorDataset\n",
    "from torch.optim import lr_scheduler\n",
    "from torchmetrics import MeanAbsolutePercentageError\n",
    "\n",
    "import seaborn as sns\n",
    "sns.set_style(\"darkgrid\", {\"grid.color\": \".6\", \"grid.linestyle\": \":\"})\n",
    "\n",
    "from utility_funcs import *\n",
    "from LJ_modeling_realization.includes.constants import *\n",
    "\n",
    "import dill\n",
    "\n",
    "from sklearn.model_selection import train_test_split\n",
    "from sklearn.preprocessing import Normalizer\n",
    "from sklearn.gaussian_process import GaussianProcessRegressor\n",
    "from sklearn.gaussian_process.kernels import DotProduct, WhiteKernel, ConstantKernel, RBF\n",
    "from sklearn.metrics import mean_squared_error\n",
    "from sklearn.preprocessing import Normalizer"
   ]
  },
  {
   "cell_type": "code",
   "execution_count": 2,
   "metadata": {},
   "outputs": [],
   "source": [
    "model_type = \"network\""
   ]
  },
  {
   "cell_type": "code",
   "execution_count": 3,
   "metadata": {},
   "outputs": [],
   "source": [
    "N = CFG.N"
   ]
  },
  {
   "cell_type": "code",
   "execution_count": 4,
   "metadata": {},
   "outputs": [],
   "source": [
    "class SklearnModel:\n",
    "    def __init__(self, model):\n",
    "        '''\n",
    "        model - sklearn model\n",
    "        '''\n",
    "        self.model = model\n",
    "\n",
    "    def __call__(self, X):\n",
    "        return self.model.predict(X)"
   ]
  },
  {
   "cell_type": "code",
   "execution_count": 5,
   "metadata": {},
   "outputs": [],
   "source": [
    "model_file_path = f'./trained_models/{model_type}_{CFG.N}_movements_K{CFG.K}.pickle'\n",
    "model_vel_file_path = f'./trained_models/{model_type}_{CFG.N}_velocities_K{CFG.K}.pickle'\n",
    "\n",
    "# Сетка предсказания сжатые будет выдавать и их надо будет возвращать к обычному скейлу\n",
    "descaler_path = f'./trained_models/descaler_{CFG.N}_K{CFG.K}.pickle'\n",
    "descaler_vel_path = f'./trained_models/descaler_vel_{CFG.N}_K{CFG.K}.pickle'"
   ]
  },
  {
   "cell_type": "code",
   "execution_count": 6,
   "metadata": {},
   "outputs": [],
   "source": [
    "with open(model_file_path, 'rb') as handle:\n",
    "    model = dill.load(handle)\n",
    "\n",
    "with open(model_vel_file_path, 'rb') as handle:\n",
    "    model_vel = dill.load(handle)\n",
    "\n",
    "if model_type == \"gpr\":\n",
    "    descaler = Descaler(1, 0)\n",
    "    descaler_vel = Descaler(1, 0)\n",
    "    model = SklearnModel(model)\n",
    "    model_vel = SklearnModel(model_vel)\n",
    "else:\n",
    "    with open(descaler_path, 'rb') as handle:\n",
    "        descaler = dill.load(handle)\n",
    "    "
   ]
  },
  {
   "cell_type": "code",
   "execution_count": 7,
   "metadata": {},
   "outputs": [
    {
     "data": {
      "text/plain": [
       "2"
      ]
     },
     "execution_count": 7,
     "metadata": {},
     "output_type": "execute_result"
    }
   ],
   "source": [
    "CFG.N"
   ]
  },
  {
   "attachments": {},
   "cell_type": "markdown",
   "metadata": {},
   "source": [
    "---\n",
    "## Проверка ту ли я модель вообще загружаю:"
   ]
  },
  {
   "cell_type": "code",
   "execution_count": 8,
   "metadata": {},
   "outputs": [],
   "source": [
    "# data = torch.load(path)\n",
    "# data_vel = torch.load(path_vel)\n",
    "\n",
    "# X = data[0, :]"
   ]
  },
  {
   "attachments": {},
   "cell_type": "markdown",
   "metadata": {},
   "source": [
    "---"
   ]
  },
  {
   "cell_type": "code",
   "execution_count": 9,
   "metadata": {},
   "outputs": [],
   "source": [
    "def csv_row_to_state(coords_path, vels_path, row_number=0):\n",
    "    '''\n",
    "    This function will be mostly used to start integration and create header for csv to write into\n",
    "    '''\n",
    "\n",
    "    row_coords = np.array(pd.read_csv(\n",
    "        coords_path\n",
    "    ).iloc[row_number, :][1:]).reshape(CFG.N, 3)\n",
    "\n",
    "    row_vels = np.array(pd.read_csv(\n",
    "        vels_path\n",
    "    ).iloc[0, :][1:]).reshape(CFG.N, 3)\n",
    "    \n",
    "    state = {i: [row_coords[i], row_vels[i]] for i in range(CFG.N)}\n",
    "\n",
    "\n",
    "    return state"
   ]
  },
  {
   "cell_type": "code",
   "execution_count": 10,
   "metadata": {},
   "outputs": [],
   "source": [
    "state = csv_row_to_state(\n",
    "    f'./coords_and_movements/coords{CFG.N}.csv',\n",
    "    f'./coords_and_movements/velocities{CFG.N}.csv',\n",
    "\n",
    "    row_number=-1   # НАЧИНАЕМ ПРЕДСКАЗЫВАТЬ С КОНЦА ИЗВЕСТНОЙ ТРАЕКТОРИИ\n",
    ")"
   ]
  },
  {
   "cell_type": "code",
   "execution_count": 11,
   "metadata": {},
   "outputs": [
    {
     "data": {
      "text/plain": [
       "{0: [array([2.43623462, 0.05127484, 0.02523457]),\n",
       "  array([-0.03000258, -0.00243895, -0.00176777])],\n",
       " 1: [array([1.34015176, 2.48201477, 2.48049496]),\n",
       "  array([0.03000258, 0.00243895, 0.00176777])]}"
      ]
     },
     "execution_count": 11,
     "metadata": {},
     "output_type": "execute_result"
    }
   ],
   "source": [
    "state"
   ]
  },
  {
   "cell_type": "code",
   "execution_count": 12,
   "metadata": {},
   "outputs": [],
   "source": [
    "def _get_relative_positions(state, atom_number):\n",
    "    '''\n",
    "    This function processes one row of csv into something that we can work with\n",
    "\n",
    "    Returns np.array matrix that consists of relative positions vectors for passed atom_number to every other atom\n",
    "    and then we can chose only closest N_neighbours in the next functions\n",
    "    \n",
    "    row: df.iloc[row] - typeof(row): pd.Series\n",
    "    \n",
    "    returns: Rel_matrix, f_vec\n",
    "    '''\n",
    "\n",
    "    other_atom_numbers = [i for i in range(CFG.N) if i != atom_number]\n",
    "    Rel_matrix = np.zeros([CFG.N - 1, 3])\n",
    "\n",
    "    for i, other_numb in enumerate(other_atom_numbers):\n",
    "        Rel_matrix[i] = state[atom_number][0] - state[other_numb][0]\n",
    "\n",
    "    # print('rel_dists: ', Rel_matrix)\n",
    "\n",
    "    return np.array(Rel_matrix)\n",
    "\n",
    "def create_V_i(i, normalized_m, norms, r_cut=CFG.r_cut, p=CFG.p):\n",
    "    '''\n",
    "    normalized_m: matrix of relative distances, where rows - normalized vectors\n",
    "    i: i-th component of r_cut and p, i in range 1..K (or in 0..K-1 in code)\n",
    "    '''\n",
    "    transf_vecs = make_matrix_transformed(normalized_m, norms[:, np.newaxis], r_cut[i], p[i])\n",
    "\n",
    "    return np.sum(transf_vecs, axis=0)\n",
    "\n",
    "# @njit(parallel=True)\n",
    "def create_V(normalized_m, norms, K=CFG.K):\n",
    "    '''\n",
    "    creates V\n",
    "    '''\n",
    "    V = []\n",
    "    for i in range(K):\n",
    "        V.append(\n",
    "            create_V_i(i, normalized_m, norms)\n",
    "        )\n",
    "\n",
    "    return np.stack(V)"
   ]
  },
  {
   "cell_type": "code",
   "execution_count": 13,
   "metadata": {},
   "outputs": [],
   "source": [
    "# @njit(\n",
    "#     parallel=True,\n",
    "#     fastmath=True\n",
    "#     )\n",
    "def _calculate_matrix_for_atom(relative_distances, r_cut=CFG.r_cut, p=CFG.p, N_neig=CFG.N_neig, K=CFG.K, use_orthogonal=False, use_A_t=True):\n",
    "    '''\n",
    "\n",
    "    relative_distances: np.array matrix of relative distance vectors\n",
    "\n",
    "    '''\n",
    "    \n",
    "    # Only closest N_neig are counting:\n",
    "    indexlist = np.argsort(norm(relative_distances, axis=1))\n",
    "\n",
    "    relative_distances = relative_distances[indexlist[len(relative_distances) - N_neig:]]\n",
    "\n",
    "    norms = norm(relative_distances, axis=-1)\n",
    "\n",
    "    normalized_rel_distances = relative_distances / norms[:, np.newaxis]\n",
    "\n",
    "    V = create_V(normalized_rel_distances, norms)\n",
    "\n",
    "    if use_orthogonal and CFG.K == 3:\n",
    "        diagonal_V_matr = [[0] * CFG.K for i in range(K)]\n",
    "        for i in range(K):\n",
    "            diagonal_V_matr[i][i] = V[i][i]\n",
    "        V = np.array(\n",
    "            diagonal_V_matr\n",
    "        )\n",
    "\n",
    "    A = V / norm(V, axis=-1)[:, np.newaxis]\n",
    "\n",
    "    if use_A_t:\n",
    "        X = V @ A.T\n",
    "    else:\n",
    "        X = V\n",
    "\n",
    "    return X, A\n",
    "\n",
    "def get_matrix_for_atom(state, atom_number, N_neig=CFG.N_neig, use_orthogonal=True, use_A_t=True):\n",
    "    '''\n",
    "\n",
    "    This function will create X matrix for passed atom with\n",
    "    arrays of r_cut and p of length k\n",
    "\n",
    "    It is a wrapper for _get_relative_positions and _calculate_matrix_for_atom, so I can speed up matrix calculations\n",
    "    with numba for _calculate_matrix_for_atom\n",
    "\n",
    "    atom_number: a number of atom that we are passing\n",
    "    row: one row from df_with_coords, i.e. df.iloc[index_of_row]\n",
    "\n",
    "    '''\n",
    "    # @njit\n",
    "    def get_pinv(A):\n",
    "        return np.linalg.pinv(A)\n",
    "\n",
    "    # creating row of relative coordinates for concrete atom:\n",
    "    relative_distances = _get_relative_positions(state=state, atom_number=atom_number)\n",
    "    X, A = _calculate_matrix_for_atom(relative_distances=relative_distances, N_neig=N_neig, use_orthogonal=use_orthogonal, use_A_t=use_A_t)\n",
    "\n",
    "    flat_X = np.concatenate([X.flatten(), state[atom_number][1]])\n",
    "\n",
    "    # print(\n",
    "    #     state\n",
    "    # )\n",
    "    \n",
    "    return flat_X, get_pinv(A)\n",
    "\n",
    "# %timeit get_matrix_for_atom(row=df.iloc[0], atom_number=1)"
   ]
  },
  {
   "cell_type": "code",
   "execution_count": 14,
   "metadata": {},
   "outputs": [],
   "source": [
    "csv_naming_coords = []\n",
    "for i in range(CFG.N):\n",
    "    csv_naming_coords.extend([str(i) + \"x\", str(i) + \"y\", str(i) + \"z\"])\n",
    "result_coords_csv = \"./integration_res/result_coords.csv\"\n",
    "\n",
    "csv_naming_vels = []\n",
    "for i in range(CFG.N):\n",
    "    csv_naming_vels.extend([str(i) + \"vx\", str(i) + \"vy\", str(i) + \"vz\"])\n",
    "result_vels_csv = \"./integration_res/result_vels.csv\"\n",
    "\n",
    "\n",
    "def fill_csv(state, path, mode=\"coords\"):\n",
    "    '''\n",
    "    fills csv after current step\n",
    "    '''\n",
    "    s = ''\n",
    "    if mode == \"coords\":\n",
    "        idx = 0\n",
    "    else:\n",
    "        idx = 1\n",
    "    with open(path, \"a\") as f:\n",
    "        for atom_numb in range(CFG.N):\n",
    "            s += ',' + \",\".join(list(state[atom_numb][idx].astype(str)))\n",
    "        f.write(s[1:] + '\\n')\n",
    "\n",
    "def fill_xyz(state, path):\n",
    "    '''\n",
    "    fills xyz file after current step\n",
    "    '''\n",
    "    pass"
   ]
  },
  {
   "cell_type": "code",
   "execution_count": 15,
   "metadata": {},
   "outputs": [],
   "source": [
    "def make_prediction(X, pinv_A, model):\n",
    "    return np.array(pinv_A @ descaler(model(X.reshape(1, -1))).squeeze())"
   ]
  },
  {
   "cell_type": "code",
   "execution_count": 16,
   "metadata": {},
   "outputs": [],
   "source": [
    "def make_predictions(state, model=model):\n",
    "    '''\n",
    "    predicting on multiple rows is faster\n",
    "    '''\n",
    "    Xs = []\n",
    "    pinv_As = []\n",
    "    for atom_num in range(CFG.N):\n",
    "        X, pinv_A = get_matrix_for_atom(state=state, atom_number=atom_num)\n",
    "        # print(atom_num, X)\n",
    "        Xs.append(X)\n",
    "        pinv_As.append(pinv_A)\n",
    "    Xs = np.array(Xs, dtype=np.float) if model_type != \"network\" else torch.tensor(Xs, dtype=torch.float)\n",
    "\n",
    "    pinv_As = np.array(pinv_As)\n",
    "    preds = descaler(model(Xs))\n",
    "\n",
    "    # print(preds)\n",
    "\n",
    "    return [pinv_As[i] @ preds[i] for i in range(CFG.N)]\n",
    "\n",
    "# make_predictions(state, model=model)\n",
    "\n",
    "# make_predictions(state, model=model_vel)"
   ]
  },
  {
   "cell_type": "code",
   "execution_count": 17,
   "metadata": {},
   "outputs": [],
   "source": [
    "def make_step(state):\n",
    "    dses = make_predictions(state, model)\n",
    "    dvs = make_predictions(state, model_vel)\n",
    "    for atom_num in range(CFG.N):\n",
    "        state[atom_num][0] += dses[atom_num]\n",
    "        state[atom_num][1] += dvs[atom_num]\n",
    "    \n",
    "    return state"
   ]
  },
  {
   "cell_type": "code",
   "execution_count": 18,
   "metadata": {},
   "outputs": [],
   "source": [
    "def integration_cycle(state, number_of_steps, xyz_path=None):\n",
    "    '''\n",
    "    state: starting state\n",
    "    '''\n",
    "    # print(state)\n",
    "    for step in tqdm(range(number_of_steps)):\n",
    "        fill_csv(state, result_coords_csv)\n",
    "        fill_csv(state, result_vels_csv, mode=\"vels\")\n",
    "\n",
    "        fill_xyz(state, xyz_path)\n",
    "        state = make_step(state)\n",
    "\n",
    "        fill_csv(state, result_coords_csv)\n",
    "        fill_xyz(state, xyz_path)\n",
    "\n",
    "    return state"
   ]
  },
  {
   "cell_type": "code",
   "execution_count": 19,
   "metadata": {},
   "outputs": [],
   "source": [
    "with open(result_coords_csv, \"w\") as f:\n",
    "    f.truncate(0)\n",
    "    csv.DictWriter(f, fieldnames=csv_naming_coords).writeheader()\n",
    "\n",
    "with open(result_vels_csv, \"w\") as f:\n",
    "    f.truncate(0)\n",
    "    csv.DictWriter(f, fieldnames=csv_naming_coords).writeheader()"
   ]
  },
  {
   "cell_type": "code",
   "execution_count": 20,
   "metadata": {},
   "outputs": [
    {
     "name": "stderr",
     "output_type": "stream",
     "text": [
      "  0%|          | 0/100 [00:00<?, ?it/s]/Users/avarlamov/opt/anaconda3/envs/my_3_6_conda_env/lib/python3.6/site-packages/ipykernel_launcher.py:12: UserWarning: Creating a tensor from a list of numpy.ndarrays is extremely slow. Please consider converting the list to a single numpy.ndarray with numpy.array() before converting to a tensor. (Triggered internally at  ../torch/csrc/utils/tensor_new.cpp:201.)\n",
      "  if sys.path[0] == '':\n",
      "100%|██████████| 100/100 [00:00<00:00, 548.94it/s]\n"
     ]
    }
   ],
   "source": [
    "integration_cycle(state=state, number_of_steps=5000)\n",
    "None"
   ]
  },
  {
   "attachments": {},
   "cell_type": "markdown",
   "metadata": {},
   "source": [
    "---\n",
    "# Исследование интегрирования:"
   ]
  },
  {
   "cell_type": "code",
   "execution_count": 21,
   "metadata": {},
   "outputs": [],
   "source": [
    "@njit()\n",
    "def pot_energy(r1, r2):\n",
    "    # Snaps particle back to the unfolded coordinate\n",
    "    r1 = r1 % L\n",
    "    r2 = r2 % L\n",
    "    r = r1 - r2\n",
    "    for i in range(3):\n",
    "        if np.abs(r[i]) > L / 2:   # Если расстояние между двумя частицами больше L/2, то мы точно найдем в соседних клетках ближе\n",
    "            r[i] = r[i] - L * np.sign(r[i])\n",
    "\n",
    "    d = norm(r)\n",
    "    return -4 * (pow(d, -6) - pow(d, -12))\n",
    "\n",
    "def plot_energy(N=N, path_coords=f\"./integration_res/result_coords.csv\", path_vels=f\"./integration_res/result_vels.csv\"):\n",
    "    E = []\n",
    "    try:\n",
    "        coords = pd.read_csv(path_coords).drop(columns=[\"t\"])\n",
    "        vels = pd.read_csv(path_vels).drop(columns=[\"t\"])\n",
    "    except:\n",
    "        coords = pd.read_csv(path_coords)\n",
    "        vels = pd.read_csv(path_vels)\n",
    "    \n",
    "    for row_n in tqdm(range(len(vels))):  # TODO: ЗДЕСЬ СТОИТ vels ПОТОМУ ЧТО У МЕНЯ ПОКА БАГА И В КООРДС НА ОДНУ СТРОЧКУ БОЛЬШЕ ПОЧЕМУ-ТО...\n",
    "        V = 0.\n",
    "        T = 0\n",
    "        for i in range(N):\n",
    "            r_i = np.array(coords.iloc[row_n, (3 * i):(3 * i) + 3])\n",
    "            for j in range(i + 1, N):\n",
    "                r_j = np.array(coords.iloc[row_n, (3 * j):(3 * j) + 3])\n",
    "                # print(f'i: {r_i}, j: {r_j}, i: {i}, j: {j}')\n",
    "                V += pot_energy(r_i, r_j)\n",
    "        \n",
    "\n",
    "        T = ((vels.iloc[row_n]) ** 2).sum() / 2\n",
    "        E.append(T + V)\n",
    "\n",
    "        print(\n",
    "            f'{row_n}: K = {T}, V = {V}, E = {T + V}'\n",
    "        )\n",
    "\n",
    "    plt.figure(figsize=(10, 10))\n",
    "    plt.plot(\n",
    "        [i for i in range(len(E))], E\n",
    "    )\n",
    "\n",
    "    E = np.array(E)\n",
    "    avg_E = E.mean()\n",
    "\n",
    "    # print(E)\n",
    "\n",
    "    plt.ylim([0.95 * avg_E, 1.05 * avg_E])\n",
    "\n",
    "    plt.plot([i for i in range(len(E))], [1.01 * avg_E for _ in E], color=\"grey\")\n",
    "    plt.plot([i for i in range(len(E))], [0.99 * avg_E for _ in E], color=\"grey\")\n",
    "    # plt.xlabel()"
   ]
  },
  {
   "cell_type": "code",
   "execution_count": 22,
   "metadata": {},
   "outputs": [
    {
     "name": "stderr",
     "output_type": "stream",
     "text": [
      "100%|██████████| 100/100 [00:00<00:00, 180.12it/s]"
     ]
    },
    {
     "name": "stdout",
     "output_type": "stream",
     "text": [
      "0: K = 0.0009092283123030567, V = -0.9857945775154504, E = -0.9848853492031473\n",
      "1: K = 0.0009111499467534572, V = -0.9858210598469335, E = -0.98490990990018\n",
      "2: K = 0.0009130735404837299, V = -0.9858210598469335, E = -0.9849079863064497\n",
      "3: K = 0.0009149990940773505, V = -0.9858475138069156, E = -0.9849325147128383\n",
      "4: K = 0.0009169266069127452, V = -0.9858475138069156, E = -0.9849305872000028\n",
      "5: K = 0.0009188560790129463, V = -0.9858739393996694, E = -0.9849550833206564\n",
      "6: K = 0.0009207875097963426, V = -0.9858739393996694, E = -0.9849531518898731\n",
      "7: K = 0.0009227208996558437, V = -0.9859003363956105, E = -0.9849776154959546\n",
      "8: K = 0.0009246562471027603, V = -0.9859003363956105, E = -0.9849756801485077\n",
      "9: K = 0.0009265935537175812, V = -0.9859267048417413, E = -0.9850001112880237\n",
      "10: K = 0.0009285328182609626, V = -0.9859267048417413, E = -0.9849981720234803\n",
      "11: K = 0.0009304740411089265, V = -0.985953044813169, E = -0.9850225707720601\n",
      "12: K = 0.0009324172213637088, V = -0.985953044813169, E = -0.9850206275918053\n",
      "13: K = 0.0009343623589910728, V = -0.9859793562722174, E = -0.9850449939132264\n",
      "14: K = 0.000936309453688484, V = -0.9859793562722174, E = -0.985043046818529\n",
      "15: K = 0.0009382585054527919, V = -0.9860056392297585, E = -0.9850673807243057\n",
      "16: K = 0.0009402095138862772, V = -0.9860056392297585, E = -0.9850654297158722\n",
      "17: K = 0.0009421624784924249, V = -0.9860318936905053, E = -0.9850897312120128\n",
      "18: K = 0.0009441173996845958, V = -0.9860318936905053, E = -0.9850877762908207\n",
      "19: K = 0.0009460742769057656, V = -0.9860581196941005, E = -0.9851120454171948\n",
      "20: K = 0.0009480331100435127, V = -0.9860581196941005, E = -0.985110086584057\n",
      "21: K = 0.0009499938991394931, V = -0.9860843172027047, E = -0.9851343233035652\n",
      "22: K = 0.0009519566432913847, V = -0.9860843172027047, E = -0.9851323605594133\n",
      "23: K = 0.000953921342380522, V = -0.9861104862559855, E = -0.985156564913605\n",
      "24: K = 0.000955887997364505, V = -0.9861104862559855, E = -0.9851545982586211\n",
      "25: K = 0.000957856605439315, V = -0.9861366269146479, E = -0.9851787703092085\n",
      "26: K = 0.000959827168967298, V = -0.9861366269146479, E = -0.9851767997456806\n",
      "27: K = 0.0009617996866932391, V = -0.986162739126814, E = -0.9852009394401208\n",
      "28: K = 0.0009637741587356918, V = -0.986162739126814, E = -0.9851989649680782\n",
      "29: K = 0.0009657505845322826, V = -0.9861888228899078, E = -0.9852230723053755\n",
      "30: K = 0.0009677289640489062, V = -0.9861888228899078, E = -0.9852210939258589\n",
      "31: K = 0.0009697092965992349, V = -0.9862148782507889, E = -0.9852451689541897\n",
      "32: K = 0.0009716915827690169, V = -0.9862148782507889, E = -0.9852431866680199\n",
      "33: K = 0.0009736758211796396, V = -0.9862409052484344, E = -0.9852672294272548\n",
      "34: K = 0.0009756620122216494, V = -0.9862409052484344, E = -0.9852652432362128\n",
      "35: K = 0.0009776501566814305, V = -0.98626690384511, E = -0.9852892536884286\n",
      "36: K = 0.000979640253059626, V = -0.98626690384511, E = -0.9852872635920503\n",
      "37: K = 0.0009816323012862202, V = -0.9862928740594938, E = -0.9853112417582076\n",
      "38: K = 0.000983626301826067, V = -0.9862928740594938, E = -0.9853092477576678\n",
      "39: K = 0.0009856222538870824, V = -0.9863188158964729, E = -0.9853331936425858\n",
      "40: K = 0.0009876201567803318, V = -0.9863188158964729, E = -0.9853311957396925\n",
      "41: K = 0.0009896200084747065, V = -0.9863447294088856, E = -0.9853551094004109\n",
      "42: K = 0.0009916218068476538, V = -0.9863447294088856, E = -0.985353107602038\n",
      "43: K = 0.0009936255527776912, V = -0.9863706145733968, E = -0.9853769890206191\n",
      "44: K = 0.000995631245808596, V = -0.9863706145733968, E = -0.9853749833275882\n",
      "45: K = 0.0009976388860593953, V = -0.9863964714153082, E = -0.9853988325292488\n",
      "46: K = 0.0009996484726699246, V = -0.9863964714153082, E = -0.9853968229426382\n",
      "47: K = 0.0010016600059927511, V = -0.9864222999392529, E = -0.9854206399332601\n",
      "48: K = 0.001003673485513801, V = -0.9864222999392529, E = -0.9854186264537391\n",
      "49: K = 0.0010056889108101675, V = -0.9864481001424918, E = -0.9854424112316816\n",
      "50: K = 0.0010077062820349385, V = -0.9864481001424918, E = -0.9854403938604569\n",
      "51: K = 0.0010097255984948836, V = -0.9864738720437038, E = -0.985464146445209\n",
      "52: K = 0.001011746860501384, V = -0.9864738720437038, E = -0.9854621251832024\n",
      "53: K = 0.0010137700677750805, V = -0.9864996156610373, E = -0.9854858455932622\n",
      "54: K = 0.001015795219926947, V = -0.9864996156610373, E = -0.9854838204411104\n",
      "55: K = 0.0010178223167679713, V = -0.9865253310334152, E = -0.9855075087166473\n",
      "56: K = 0.0010198513577138097, V = -0.9865253310334152, E = -0.9855054796757015\n",
      "57: K = 0.0010218823436361777, V = -0.9865510181447465, E = -0.9855291358011103\n",
      "58: K = 0.0010239152704908923, V = -0.9865510181447465, E = -0.9855271028742557\n",
      "59: K = 0.0010259501367522292, V = -0.9865766770267472, E = -0.985550726889995\n",
      "60: K = 0.001027986943120914, V = -0.9865766770267472, E = -0.9855486900836263\n",
      "61: K = 0.0010300256897905068, V = -0.9866023076429626, E = -0.9855722819531721\n",
      "62: K = 0.0010320663757281126, V = -0.9866023076429626, E = -0.9855702412672346\n",
      "63: K = 0.0010341090011562004, V = -0.9866279100326956, E = -0.9855938010315394\n",
      "64: K = 0.001036153565726112, V = -0.9866279100326956, E = -0.9855917564669695\n",
      "65: K = 0.001038200069076906, V = -0.9866534842064807, E = -0.9856152841374037\n",
      "66: K = 0.001040248511070906, V = -0.9866534842064807, E = -0.9856132356954098\n",
      "67: K = 0.0010422988907218583, V = -0.9866790301486541, E = -0.9856367312579323\n",
      "68: K = 0.0010443512084150574, V = -0.9866790301486541, E = -0.985634678940239\n",
      "69: K = 0.0010464054641457002, V = -0.9867045478912946, E = -0.9856581424271489\n",
      "70: K = 0.0010484616573595352, V = -0.9867045478912946, E = -0.9856560862339351\n",
      "71: K = 0.001050519787808095, V = -0.9867300374527408, E = -0.9856795176649327\n",
      "72: K = 0.0010525798557307362, V = -0.9867300374527408, E = -0.9856774575970101\n",
      "73: K = 0.0010546418602004862, V = -0.9867554988645799, E = -0.9857008570043795\n",
      "74: K = 0.0010567058022584654, V = -0.9867554988645799, E = -0.9856987930623214\n",
      "75: K = 0.001058771680052112, V = -0.9867809320836052, E = -0.9857221604035531\n",
      "76: K = 0.001060839493828684, V = -0.9867809320836052, E = -0.9857200925897764\n",
      "77: K = 0.0010629092436685794, V = -0.9868063371758653, E = -0.9857434279321967\n",
      "78: K = 0.0010649809294849754, V = -0.9868063371758653, E = -0.9857413562463804\n",
      "79: K = 0.0010670545501811257, V = -0.9868317141252576, E = -0.9857646595750765\n",
      "80: K = 0.0010691301058106408, V = -0.9868317141252576, E = -0.9857625840194469\n",
      "81: K = 0.0010712075966493849, V = -0.9868570629433593, E = -0.9857858553467099\n",
      "82: K = 0.0010732870224839377, V = -0.9868570629433593, E = -0.9857837759208753\n",
      "83: K = 0.0010753683822732714, V = -0.986882383654826, E = -0.9858070152725527\n",
      "84: K = 0.0010774516768238516, V = -0.986882383654826, E = -0.9858049319780021\n",
      "85: K = 0.0010795369050830561, V = -0.9869076762985165, E = -0.9858281393934334\n",
      "86: K = 0.0010816240658988803, V = -0.9869076762985165, E = -0.9858260522326177\n",
      "87: K = 0.0010837131599952935, V = -0.9869329408310554, E = -0.9858492276710601\n",
      "88: K = 0.001085804187441008, V = -0.9869329408310554, E = -0.9858471366436145\n",
      "89: K = 0.0010878971486343017, V = -0.9869581771678924, E = -0.985870280019258\n",
      "90: K = 0.001089992045173956, V = -0.9869581771678924, E = -0.9858681851227185\n",
      "91: K = 0.0010920888786258515, V = -0.9869833852854442, E = -0.9858912964068183\n",
      "92: K = 0.0010941876465513612, V = -0.9869833852854442, E = -0.9858891976388928\n",
      "93: K = 0.001096288350011569, V = -0.9870085652498553, E = -0.9859122768998437\n",
      "94: K = 0.0010983909885363783, V = -0.9870085652498553, E = -0.9859101742613189\n",
      "95: K = 0.0011004955629162134, V = -0.9870337170255916, E = -0.9859332214626754\n",
      "96: K = 0.0011026020718162355, V = -0.9870337170255916, E = -0.9859311149537754\n",
      "97: K = 0.0011047105155215743, V = -0.9870588406172551, E = -0.9859541301017336\n",
      "98: K = 0.0011068208939346976, V = -0.9870588406172551, E = -0.9859520197233205\n",
      "99: K = 0.0011089332055110252, V = -0.9870839360235015, E = -0.9859750028179906\n"
     ]
    },
    {
     "name": "stderr",
     "output_type": "stream",
     "text": [
      "\n"
     ]
    },
    {
     "data": {
      "image/png": "[encoded data removed]",
      "text/plain": [
       "<Figure size 720x720 with 1 Axes>"
      ]
     },
     "metadata": {},
     "output_type": "display_data"
    }
   ],
   "source": [
    "plot_energy()"
   ]
  },
  {
   "cell_type": "code",
   "execution_count": 23,
   "metadata": {},
   "outputs": [],
   "source": [
    "def plot_error():\n",
    "    '''\n",
    "    Строит зависимость ошибки от шага интегрирования\n",
    "    '''\n",
    "    pass"
   ]
  },
  {
   "cell_type": "code",
   "execution_count": 24,
   "metadata": {},
   "outputs": [],
   "source": [
    "def plot_trajectory():\n",
    "    '''\n",
    "    Строим x(step), y(step), z(step), сравниваем с трушной, сравниваем с Верле\n",
    "    '''\n",
    "    pass"
   ]
  },
  {
   "attachments": {},
   "cell_type": "markdown",
   "metadata": {},
   "source": [
    "**Короче пока что была трабла с граничными условиями: но пока частиц мало можно генерить траектории без граничных условий и на них потестить**"
   ]
  },
  {
   "attachments": {},
   "cell_type": "markdown",
   "metadata": {},
   "source": [
    "- Потом надо попробовать добавить учет граничных условий при вычислении матрицы для атома: для данного атома, если другой смещен далеко - учитываем это только для этого атома"
   ]
  }
 ],
 "metadata": {
  "kernelspec": {
   "display_name": "my_3_6_conda_env",
   "language": "python",
   "name": "python3"
  },
  "language_info": {
   "codemirror_mode": {
    "name": "ipython",
    "version": 3
   },
   "file_extension": ".py",
   "mimetype": "text/x-python",
   "name": "python",
   "nbconvert_exporter": "python",
   "pygments_lexer": "ipython3",
   "version": "3.6.13"
  },
  "orig_nbformat": 4,
  "vscode": {
   "interpreter": {
    "hash": "6b5cc6bf18c7103cb99324f044582e9ca68eda52a25f7227b20ca62cd3e32898"
   }
  }
 },
 "nbformat": 4,
 "nbformat_minor": 2
}
