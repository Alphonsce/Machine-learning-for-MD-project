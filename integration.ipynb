{
 "cells": [
  {
   "cell_type": "code",
   "execution_count": 1,
   "metadata": {},
   "outputs": [],
   "source": [
    "import torch\n",
    "import matplotlib.pyplot as plt\n",
    "import numpy as np\n",
    "import pandas as pd\n",
    "import csv\n",
    "\n",
    "from numba import njit\n",
    "from numpy.linalg import norm\n",
    "\n",
    "from tqdm import tqdm\n",
    "\n",
    "import torch.nn as nn\n",
    "import torch.nn.functional as F\n",
    "import torch.optim as optim\n",
    "from torch.utils.data import DataLoader, TensorDataset\n",
    "from torch.optim import lr_scheduler\n",
    "from torchmetrics import MeanAbsolutePercentageError\n",
    "\n",
    "import seaborn as sns\n",
    "sns.set_style(\"darkgrid\", {\"grid.color\": \".6\", \"grid.linestyle\": \":\"})\n",
    "\n",
    "from utility_funcs import *\n",
    "from LJ_modeling_realization.includes.constants import *\n",
    "\n",
    "import dill\n",
    "\n",
    "from sklearn.model_selection import train_test_split\n",
    "from sklearn.preprocessing import Normalizer\n",
    "from sklearn.gaussian_process import GaussianProcessRegressor\n",
    "from sklearn.gaussian_process.kernels import DotProduct, WhiteKernel, ConstantKernel, RBF\n",
    "from sklearn.metrics import mean_squared_error\n",
    "from sklearn.preprocessing import Normalizer"
   ]
  },
  {
   "cell_type": "code",
   "execution_count": 2,
   "metadata": {},
   "outputs": [],
   "source": [
    "model_type = \"gpr\""
   ]
  },
  {
   "cell_type": "code",
   "execution_count": 3,
   "metadata": {},
   "outputs": [],
   "source": [
    "N = CFG.N"
   ]
  },
  {
   "cell_type": "code",
   "execution_count": 4,
   "metadata": {},
   "outputs": [],
   "source": [
    "class SklearnModel:\n",
    "    def __init__(self, model):\n",
    "        '''\n",
    "        model - sklearn model\n",
    "        '''\n",
    "        self.model = model\n",
    "\n",
    "    def __call__(self, X):\n",
    "        return self.model.predict(X)"
   ]
  },
  {
   "cell_type": "code",
   "execution_count": 5,
   "metadata": {},
   "outputs": [],
   "source": [
    "model_file_path = f'./trained_models/{model_type}_{CFG.N}_movements_K{CFG.K}.pickle'\n",
    "model_vel_file_path = f'./trained_models/{model_type}_{CFG.N}_velocities_K{CFG.K}.pickle'\n",
    "\n",
    "# Сетка предсказания сжатые будет выдавать и их надо будет возвращать к обычному скейлу\n",
    "descaler_path = f'./trained_models/descaler_{CFG.N}_K{CFG.K}.pickle'\n",
    "descaler_vel_path = f'./trained_models/descaler_vel_{CFG.N}_K{CFG.K}.pickle'"
   ]
  },
  {
   "cell_type": "code",
   "execution_count": 6,
   "metadata": {},
   "outputs": [],
   "source": [
    "with open(model_file_path, 'rb') as handle:\n",
    "    model = dill.load(handle)\n",
    "\n",
    "with open(model_vel_file_path, 'rb') as handle:\n",
    "    model_vel = dill.load(handle)\n",
    "\n",
    "if model_type == \"gpr\":\n",
    "    descaler = Descaler(1, 0)\n",
    "    descaler_vel = Descaler(1, 0)\n",
    "    model = SklearnModel(model)\n",
    "    model_vel = SklearnModel(model_vel)\n",
    "else:\n",
    "    with open(descaler_path, 'rb') as handle:\n",
    "        descaler = dill.load(handle)\n",
    "    "
   ]
  },
  {
   "cell_type": "code",
   "execution_count": 7,
   "metadata": {},
   "outputs": [
    {
     "data": {
      "text/plain": [
       "2"
      ]
     },
     "execution_count": 7,
     "metadata": {},
     "output_type": "execute_result"
    }
   ],
   "source": [
    "CFG.N"
   ]
  },
  {
   "attachments": {},
   "cell_type": "markdown",
   "metadata": {},
   "source": [
    "---\n",
    "## Проверка ту ли я модель вообще загружаю:"
   ]
  },
  {
   "cell_type": "code",
   "execution_count": 8,
   "metadata": {},
   "outputs": [],
   "source": [
    "# data = torch.load(path)\n",
    "# data_vel = torch.load(path_vel)\n",
    "\n",
    "# X = data[0, :]"
   ]
  },
  {
   "attachments": {},
   "cell_type": "markdown",
   "metadata": {},
   "source": [
    "---"
   ]
  },
  {
   "cell_type": "code",
   "execution_count": 9,
   "metadata": {},
   "outputs": [],
   "source": [
    "def csv_row_to_state(coords_path, vels_path, row_number=0):\n",
    "    '''\n",
    "    This function will be mostly used to start integration and create header for csv to write into\n",
    "    '''\n",
    "\n",
    "    row_coords = np.array(pd.read_csv(\n",
    "        coords_path\n",
    "    ).iloc[row_number, :][1:]).reshape(CFG.N, 3)\n",
    "\n",
    "    row_vels = np.array(pd.read_csv(\n",
    "        vels_path\n",
    "    ).iloc[0, :][1:]).reshape(CFG.N, 3)\n",
    "    \n",
    "    state = {i: [row_coords[i], row_vels[i]] for i in range(CFG.N)}\n",
    "\n",
    "\n",
    "    return state"
   ]
  },
  {
   "cell_type": "code",
   "execution_count": 10,
   "metadata": {},
   "outputs": [],
   "source": [
    "state = csv_row_to_state(\n",
    "    f'./coords_and_movements/coords{CFG.N}.csv',\n",
    "    f'./coords_and_movements/velocities{CFG.N}.csv',\n",
    "\n",
    "    row_number=-1   # НАЧИНАЕМ ПРЕДСКАЗЫВАТЬ С КОНЦА ИЗВЕСТНОЙ ТРАЕКТОРИИ\n",
    ")"
   ]
  },
  {
   "cell_type": "code",
   "execution_count": 11,
   "metadata": {},
   "outputs": [
    {
     "data": {
      "text/plain": [
       "{0: [array([2.43623462, 0.05127484, 0.02523457]),\n",
       "  array([-0.03000258, -0.00243895, -0.00176777])],\n",
       " 1: [array([1.34015176, 2.48201477, 2.48049496]),\n",
       "  array([0.03000258, 0.00243895, 0.00176777])]}"
      ]
     },
     "execution_count": 11,
     "metadata": {},
     "output_type": "execute_result"
    }
   ],
   "source": [
    "state"
   ]
  },
  {
   "cell_type": "code",
   "execution_count": 12,
   "metadata": {},
   "outputs": [],
   "source": [
    "def _get_relative_positions(state, atom_number):\n",
    "    '''\n",
    "    This function processes one row of csv into something that we can work with\n",
    "\n",
    "    Returns np.array matrix that consists of relative positions vectors for passed atom_number to every other atom\n",
    "    and then we can chose only closest N_neighbours in the next functions\n",
    "    \n",
    "    row: df.iloc[row] - typeof(row): pd.Series\n",
    "    \n",
    "    returns: Rel_matrix, f_vec\n",
    "    '''\n",
    "\n",
    "    other_atom_numbers = [i for i in range(CFG.N) if i != atom_number]\n",
    "    Rel_matrix = np.zeros([CFG.N - 1, 3])\n",
    "\n",
    "    for i, other_numb in enumerate(other_atom_numbers):\n",
    "        Rel_matrix[i] = state[atom_number][0] - state[other_numb][0]\n",
    "\n",
    "    # print('rel_dists: ', Rel_matrix)\n",
    "\n",
    "    return np.array(Rel_matrix)\n",
    "\n",
    "def create_V_i(i, normalized_m, norms, r_cut=CFG.r_cut, p=CFG.p):\n",
    "    '''\n",
    "    normalized_m: matrix of relative distances, where rows - normalized vectors\n",
    "    i: i-th component of r_cut and p, i in range 1..K (or in 0..K-1 in code)\n",
    "    '''\n",
    "    transf_vecs = make_matrix_transformed(normalized_m, norms[:, np.newaxis], r_cut[i], p[i])\n",
    "\n",
    "    return np.sum(transf_vecs, axis=0)\n",
    "\n",
    "# @njit(parallel=True)\n",
    "def create_V(normalized_m, norms, K=CFG.K):\n",
    "    '''\n",
    "    creates V\n",
    "    '''\n",
    "    V = []\n",
    "    for i in range(K):\n",
    "        V.append(\n",
    "            create_V_i(i, normalized_m, norms)\n",
    "        )\n",
    "\n",
    "    return np.stack(V)"
   ]
  },
  {
   "cell_type": "code",
   "execution_count": 13,
   "metadata": {},
   "outputs": [],
   "source": [
    "# @njit(\n",
    "#     parallel=True,\n",
    "#     fastmath=True\n",
    "#     )\n",
    "def _calculate_matrix_for_atom(relative_distances, r_cut=CFG.r_cut, p=CFG.p, N_neig=CFG.N_neig, K=CFG.K, use_orthogonal=False, use_A_t=True):\n",
    "    '''\n",
    "\n",
    "    relative_distances: np.array matrix of relative distance vectors\n",
    "\n",
    "    '''\n",
    "    \n",
    "    # Only closest N_neig are counting:\n",
    "    indexlist = np.argsort(norm(relative_distances, axis=1))\n",
    "\n",
    "    relative_distances = relative_distances[indexlist[len(relative_distances) - N_neig:]]\n",
    "\n",
    "    norms = norm(relative_distances, axis=-1)\n",
    "\n",
    "    normalized_rel_distances = relative_distances / norms[:, np.newaxis]\n",
    "\n",
    "    V = create_V(normalized_rel_distances, norms)\n",
    "\n",
    "    if use_orthogonal and CFG.K == 3:\n",
    "        diagonal_V_matr = [[0] * CFG.K for i in range(K)]\n",
    "        for i in range(K):\n",
    "            diagonal_V_matr[i][i] = V[i][i]\n",
    "        V = np.array(\n",
    "            diagonal_V_matr\n",
    "        )\n",
    "\n",
    "    A = V / norm(V, axis=-1)[:, np.newaxis]\n",
    "\n",
    "    if use_A_t:\n",
    "        X = V @ A.T\n",
    "    else:\n",
    "        X = V\n",
    "\n",
    "    return X, A\n",
    "\n",
    "def get_matrix_for_atom(state, atom_number, N_neig=CFG.N_neig, use_orthogonal=True, use_A_t=True):\n",
    "    '''\n",
    "\n",
    "    This function will create X matrix for passed atom with\n",
    "    arrays of r_cut and p of length k\n",
    "\n",
    "    It is a wrapper for _get_relative_positions and _calculate_matrix_for_atom, so I can speed up matrix calculations\n",
    "    with numba for _calculate_matrix_for_atom\n",
    "\n",
    "    atom_number: a number of atom that we are passing\n",
    "    row: one row from df_with_coords, i.e. df.iloc[index_of_row]\n",
    "\n",
    "    '''\n",
    "    # @njit\n",
    "    def get_pinv(A):\n",
    "        return np.linalg.pinv(A)\n",
    "\n",
    "    # creating row of relative coordinates for concrete atom:\n",
    "    relative_distances = _get_relative_positions(state=state, atom_number=atom_number)\n",
    "    X, A = _calculate_matrix_for_atom(relative_distances=relative_distances, N_neig=N_neig, use_orthogonal=use_orthogonal, use_A_t=use_A_t)\n",
    "\n",
    "    flat_X = np.concatenate([X.flatten(), state[atom_number][1]])\n",
    "\n",
    "    # print(\n",
    "    #     state\n",
    "    # )\n",
    "    \n",
    "    return flat_X, get_pinv(A)\n",
    "\n",
    "# %timeit get_matrix_for_atom(row=df.iloc[0], atom_number=1)"
   ]
  },
  {
   "cell_type": "code",
   "execution_count": 14,
   "metadata": {},
   "outputs": [],
   "source": [
    "csv_naming_coords = []\n",
    "for i in range(CFG.N):\n",
    "    csv_naming_coords.extend([str(i) + \"x\", str(i) + \"y\", str(i) + \"z\"])\n",
    "result_coords_csv = \"./integration_res/result_coords.csv\"\n",
    "\n",
    "csv_naming_vels = []\n",
    "for i in range(CFG.N):\n",
    "    csv_naming_vels.extend([str(i) + \"vx\", str(i) + \"vy\", str(i) + \"vz\"])\n",
    "result_vels_csv = \"./integration_res/result_vels.csv\"\n",
    "\n",
    "\n",
    "def fill_csv(state, path, mode=\"coords\"):\n",
    "    '''\n",
    "    fills csv after current step\n",
    "    '''\n",
    "    s = ''\n",
    "    if mode == \"coords\":\n",
    "        idx = 0\n",
    "    else:\n",
    "        idx = 1\n",
    "    with open(path, \"a\") as f:\n",
    "        for atom_numb in range(CFG.N):\n",
    "            s += ',' + \",\".join(list(state[atom_numb][idx].astype(str)))\n",
    "        f.write(s[1:] + '\\n')\n",
    "\n",
    "def fill_xyz(state, path):\n",
    "    '''\n",
    "    fills xyz file after current step\n",
    "    '''\n",
    "    pass"
   ]
  },
  {
   "cell_type": "code",
   "execution_count": 15,
   "metadata": {},
   "outputs": [],
   "source": [
    "def make_prediction(X, pinv_A, model):\n",
    "    return np.array(pinv_A @ descaler(model(X.reshape(1, -1))).squeeze())"
   ]
  },
  {
   "cell_type": "code",
   "execution_count": 16,
   "metadata": {},
   "outputs": [],
   "source": [
    "def make_predictions(state, model=model):\n",
    "    '''\n",
    "    predicting on multiple rows is faster\n",
    "    '''\n",
    "    Xs = []\n",
    "    pinv_As = []\n",
    "    for atom_num in range(CFG.N):\n",
    "        X, pinv_A = get_matrix_for_atom(state=state, atom_number=atom_num)\n",
    "        # print(atom_num, X)\n",
    "        Xs.append(X)\n",
    "        pinv_As.append(pinv_A)\n",
    "    Xs = np.array(Xs, dtype=np.float) if model_type != \"network\" else torch.tensor(Xs, dtype=float)\n",
    "    # print(Xs)\n",
    "    pinv_As = np.array(pinv_As)\n",
    "    preds = descaler(model(Xs))\n",
    "\n",
    "    # print(preds)\n",
    "\n",
    "    return [pinv_As[i] @ preds[i] for i in range(CFG.N)]\n",
    "\n",
    "# make_predictions(state, model=model)\n",
    "\n",
    "# make_predictions(state, model=model_vel)"
   ]
  },
  {
   "cell_type": "code",
   "execution_count": 17,
   "metadata": {},
   "outputs": [
    {
     "data": {
      "text/plain": [
       "[array([2.29682799e-06, 1.86650796e-07, 1.35279665e-07]),\n",
       " array([3.62286024e-06, 2.94575746e-07, 2.13518223e-07])]"
      ]
     },
     "execution_count": 17,
     "metadata": {},
     "output_type": "execute_result"
    }
   ],
   "source": [
    "make_predictions(state, model=model)"
   ]
  },
  {
   "cell_type": "code",
   "execution_count": 18,
   "metadata": {},
   "outputs": [],
   "source": [
    "def make_step(state):\n",
    "    dses = make_predictions(state, model)\n",
    "    dvs = make_predictions(state, model_vel)\n",
    "    for atom_num in range(CFG.N):\n",
    "        state[atom_num][0] += dses[atom_num]\n",
    "        state[atom_num][1] += dvs[atom_num]\n",
    "    \n",
    "    return state"
   ]
  },
  {
   "cell_type": "code",
   "execution_count": 19,
   "metadata": {},
   "outputs": [],
   "source": [
    "def integration_cycle(state, number_of_steps, xyz_path=None):\n",
    "    '''\n",
    "    state: starting state\n",
    "    '''\n",
    "    # print(state)\n",
    "    for step in tqdm(range(number_of_steps)):\n",
    "        print(state)\n",
    "        fill_csv(state, result_coords_csv)\n",
    "        fill_csv(state, result_vels_csv, mode=\"vels\")\n",
    "\n",
    "        fill_xyz(state, xyz_path)\n",
    "        state = make_step(state)\n",
    "\n",
    "        fill_csv(state, result_coords_csv)\n",
    "        fill_xyz(state, xyz_path)\n",
    "\n",
    "    return state"
   ]
  },
  {
   "cell_type": "code",
   "execution_count": 20,
   "metadata": {},
   "outputs": [],
   "source": [
    "with open(result_coords_csv, \"w\") as f:\n",
    "    f.truncate(0)\n",
    "    csv.DictWriter(f, fieldnames=csv_naming_coords).writeheader()\n",
    "\n",
    "with open(result_vels_csv, \"w\") as f:\n",
    "    f.truncate(0)\n",
    "    csv.DictWriter(f, fieldnames=csv_naming_coords).writeheader()"
   ]
  },
  {
   "cell_type": "code",
   "execution_count": 21,
   "metadata": {},
   "outputs": [
    {
     "name": "stderr",
     "output_type": "stream",
     "text": [
      "100%|██████████| 10/10 [00:00<00:00, 346.81it/s]"
     ]
    },
    {
     "name": "stdout",
     "output_type": "stream",
     "text": [
      "{0: [array([2.43623462, 0.05127484, 0.02523457]), array([-0.03000258, -0.00243895, -0.00176777])], 1: [array([1.34015176, 2.48201477, 2.48049496]), array([0.03000258, 0.00243895, 0.00176777])]}\n",
      "{0: [array([2.43623692, 0.05127503, 0.0252347 ]), array([-0.02951233, -0.0023991 , -0.00173888])], 1: [array([1.34015539, 2.48201506, 2.48049518]), array([0.0294856 , 0.00239693, 0.00173731])]}\n",
      "{0: [array([2.43623917, 0.05127521, 0.02523483]), array([-0.0290218 , -0.00235923, -0.00170998])], 1: [array([1.34015896, 2.48201535, 2.48049539]), array([0.02896878, 0.00235492, 0.00170685])]}\n",
      "{0: [array([2.43624137, 0.05127539, 0.02523496]), array([-0.02853099, -0.00231933, -0.00168106])], 1: [array([1.34016248, 2.48201564, 2.48049559]), array([0.02845213, 0.00231292, 0.00167641])]}\n",
      "{0: [array([2.43624352, 0.05127556, 0.02523509]), array([-0.0280399 , -0.00227941, -0.00165212])], 1: [array([1.34016595, 2.48201592, 2.4804958 ]), array([0.02793563, 0.00227093, 0.00164598])]}\n",
      "{0: [array([2.43624562, 0.05127573, 0.02523522]), array([-0.02754852, -0.00223946, -0.00162317])], 1: [array([1.34016937, 2.4820162 , 2.480496  ]), array([0.0274193 , 0.00222896, 0.00161556])]}\n",
      "{0: [array([2.43624768, 0.0512759 , 0.02523534]), array([-0.02705687, -0.00219949, -0.0015942 ])], 1: [array([1.34017274, 2.48201647, 2.4804962 ]), array([0.02690313, 0.002187  , 0.00158515])]}\n",
      "{0: [array([2.43624968, 0.05127606, 0.02523545]), array([-0.02656493, -0.0021595 , -0.00156522])], 1: [array([1.34017605, 2.48201674, 2.48049639]), array([0.02638713, 0.00214505, 0.00155474])]}\n",
      "{0: [array([2.43625164, 0.05127622, 0.02523557]), array([-0.02607272, -0.00211949, -0.00153622])], 1: [array([1.34017932, 2.48201701, 2.48049659]), array([0.02587129, 0.00210312, 0.00152435])]}\n",
      "{0: [array([2.43625355, 0.05127638, 0.02523568]), array([-0.02558023, -0.00207946, -0.0015072 ])], 1: [array([1.34018254, 2.48201727, 2.48049678]), array([0.02535563, 0.0020612 , 0.00149397])]}\n"
     ]
    },
    {
     "name": "stderr",
     "output_type": "stream",
     "text": [
      "\n"
     ]
    }
   ],
   "source": [
    "integration_cycle(state=state, number_of_steps=100)\n",
    "None"
   ]
  },
  {
   "attachments": {},
   "cell_type": "markdown",
   "metadata": {},
   "source": [
    "---\n",
    "# Исследование интегрирования:"
   ]
  },
  {
   "cell_type": "code",
   "execution_count": 22,
   "metadata": {},
   "outputs": [],
   "source": [
    "@njit()\n",
    "def pot_energy(r1, r2):\n",
    "    # Snaps particle back to the unfolded coordinate\n",
    "    r1 = r1 % L\n",
    "    r2 = r2 % L\n",
    "    r = r1 - r2\n",
    "    for i in range(3):\n",
    "        if np.abs(r[i]) > L / 2:   # Если расстояние между двумя частицами больше L/2, то мы точно найдем в соседних клетках ближе\n",
    "            r[i] = r[i] - L * np.sign(r[i])\n",
    "\n",
    "    d = norm(r)\n",
    "    return -4 * (pow(d, -6) - pow(d, -12))\n",
    "\n",
    "def plot_energy(N=N, path_coords=f\"./integration_res/result_coords.csv\", path_vels=f\"./integration_res/result_vels.csv\"):\n",
    "    E = []\n",
    "    try:\n",
    "        coords = pd.read_csv(path_coords).drop(columns=[\"t\"])\n",
    "        vels = pd.read_csv(path_vels).drop(columns=[\"t\"])\n",
    "    except:\n",
    "        coords = pd.read_csv(path_coords)\n",
    "        vels = pd.read_csv(path_vels)\n",
    "    \n",
    "    for row_n in tqdm(range(len(vels))):  # TODO: ЗДЕСЬ СТОИТ vels ПОТОМУ ЧТО У МЕНЯ ПОКА БАГА И В КООРДС НА ОДНУ СТРОЧКУ БОЛЬШЕ ПОЧЕМУ-ТО...\n",
    "        V = 0.\n",
    "        T = 0\n",
    "        for i in range(N):\n",
    "            r_i = np.array(coords.iloc[row_n, (3 * i):(3 * i) + 3])\n",
    "            for j in range(i + 1, N):\n",
    "                r_j = np.array(coords.iloc[row_n, (3 * j):(3 * j) + 3])\n",
    "                # print(f'i: {r_i}, j: {r_j}, i: {i}, j: {j}')\n",
    "                V += pot_energy(r_i, r_j)\n",
    "        \n",
    "\n",
    "        T = ((vels.iloc[row_n]) ** 2).sum() / 2\n",
    "        E.append(T + V)\n",
    "\n",
    "        print(\n",
    "            f'{row_n}: K = {T}, V = {V}, E = {T + V}'\n",
    "        )\n",
    "\n",
    "    plt.figure(figsize=(10, 10))\n",
    "    plt.plot(\n",
    "        [i for i in range(len(E))], E\n",
    "    )\n",
    "\n",
    "    avg_E = np.array(E).mean()\n",
    "\n",
    "    # print(E)\n",
    "\n",
    "    plt.ylim([0.95 * avg_E, 1.05 * avg_E])\n",
    "    # plt.xlabel()"
   ]
  },
  {
   "cell_type": "code",
   "execution_count": 23,
   "metadata": {},
   "outputs": [
    {
     "name": "stderr",
     "output_type": "stream",
     "text": [
      "100%|██████████| 10/10 [00:00<00:00, 19.07it/s]"
     ]
    },
    {
     "name": "stdout",
     "output_type": "stream",
     "text": [
      "0: K = 0.0009092283123030567, V = -0.9857945775154504, E = -0.9848853492031473\n",
      "1: K = 0.0008789607295871744, V = -0.985792640898997, E = -0.9849136801694098\n",
      "2: K = 0.0008492022449534143, V = -0.985792640898997, E = -0.9849434386540435\n",
      "3: K = 0.0008199530827641635, V = -0.9857907079071448, E = -0.9849707548243807\n",
      "4: K = 0.000791213463908486, V = -0.9857907079071448, E = -0.9849994944432363\n",
      "5: K = 0.0007629836056843946, V = -0.9857887784782005, E = -0.9850257948725161\n",
      "6: K = 0.0007352637220446396, V = -0.9857887784782005, E = -0.9850535147561558\n",
      "7: K = 0.0007080540233611581, V = -0.985786852550449, E = -0.9850787985270878\n",
      "8: K = 0.0006813547165467715, V = -0.985786852550449, E = -0.9851054978339022\n",
      "9: K = 0.0006551660050079754, V = -0.9857849300620825, E = -0.9851297640570745\n"
     ]
    },
    {
     "name": "stderr",
     "output_type": "stream",
     "text": [
      "\n"
     ]
    },
    {
     "data": {
      "image/png": "[encoded data removed]",
      "text/plain": [
       "<Figure size 720x720 with 1 Axes>"
      ]
     },
     "metadata": {},
     "output_type": "display_data"
    }
   ],
   "source": [
    "plot_energy()"
   ]
  },
  {
   "cell_type": "code",
   "execution_count": 24,
   "metadata": {},
   "outputs": [],
   "source": [
    "def plot_error():\n",
    "    '''\n",
    "    Строит зависимость ошибки от шага интегрирования\n",
    "    '''\n",
    "    pass"
   ]
  },
  {
   "cell_type": "code",
   "execution_count": 25,
   "metadata": {},
   "outputs": [],
   "source": [
    "def plot_trajectory():\n",
    "    '''\n",
    "    Строим x(step), y(step), z(step), сравниваем с трушной, сравниваем с Верле\n",
    "    '''\n",
    "    pass"
   ]
  },
  {
   "attachments": {},
   "cell_type": "markdown",
   "metadata": {},
   "source": [
    "**Короче пока что была трабла с граничными условиями: но пока частиц мало можно генерить траектории без граничных условий и на них потестить**"
   ]
  },
  {
   "attachments": {},
   "cell_type": "markdown",
   "metadata": {},
   "source": [
    "- Потом надо попробовать добавить учет граничных условий при вычислении матрицы для атома: для данного атома, если другой смещен далеко - учитываем это только для этого атома"
   ]
  }
 ],
 "metadata": {
  "kernelspec": {
   "display_name": "my_3_6_conda_env",
   "language": "python",
   "name": "python3"
  },
  "language_info": {
   "codemirror_mode": {
    "name": "ipython",
    "version": 3
   },
   "file_extension": ".py",
   "mimetype": "text/x-python",
   "name": "python",
   "nbconvert_exporter": "python",
   "pygments_lexer": "ipython3",
   "version": "3.6.13"
  },
  "orig_nbformat": 4,
  "vscode": {
   "interpreter": {
    "hash": "6b5cc6bf18c7103cb99324f044582e9ca68eda52a25f7227b20ca62cd3e32898"
   }
  }
 },
 "nbformat": 4,
 "nbformat_minor": 2
}
